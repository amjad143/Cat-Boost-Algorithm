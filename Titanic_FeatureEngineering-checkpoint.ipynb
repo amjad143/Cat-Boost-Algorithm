{
 "cells": [
  {
   "cell_type": "code",
   "execution_count": 1,
   "id": "245e4ba3",
   "metadata": {},
   "outputs": [],
   "source": [
    "import numpy as np \n",
    "import pandas as pd\n",
    "import seaborn as sns\n",
    "import matplotlib.pyplot as plt"
   ]
  },
  {
   "cell_type": "code",
   "execution_count": 2,
   "id": "7c1a5fd2",
   "metadata": {},
   "outputs": [],
   "source": [
    "data = pd.read_csv('train.csv')"
   ]
  },
  {
   "cell_type": "code",
   "execution_count": 3,
   "id": "121494c9",
   "metadata": {},
   "outputs": [
    {
     "data": {
      "text/plain": [
       "(891, 12)"
      ]
     },
     "execution_count": 3,
     "metadata": {},
     "output_type": "execute_result"
    }
   ],
   "source": [
    "data.shape"
   ]
  },
  {
   "cell_type": "code",
   "execution_count": 4,
   "id": "276b2d35",
   "metadata": {},
   "outputs": [
    {
     "data": {
      "text/html": [
       "<div>\n",
       "<style scoped>\n",
       "    .dataframe tbody tr th:only-of-type {\n",
       "        vertical-align: middle;\n",
       "    }\n",
       "\n",
       "    .dataframe tbody tr th {\n",
       "        vertical-align: top;\n",
       "    }\n",
       "\n",
       "    .dataframe thead th {\n",
       "        text-align: right;\n",
       "    }\n",
       "</style>\n",
       "<table border=\"1\" class=\"dataframe\">\n",
       "  <thead>\n",
       "    <tr style=\"text-align: right;\">\n",
       "      <th></th>\n",
       "      <th>PassengerId</th>\n",
       "      <th>Survived</th>\n",
       "      <th>Pclass</th>\n",
       "      <th>Name</th>\n",
       "      <th>Sex</th>\n",
       "      <th>Age</th>\n",
       "      <th>SibSp</th>\n",
       "      <th>Parch</th>\n",
       "      <th>Ticket</th>\n",
       "      <th>Fare</th>\n",
       "      <th>Cabin</th>\n",
       "      <th>Embarked</th>\n",
       "    </tr>\n",
       "  </thead>\n",
       "  <tbody>\n",
       "    <tr>\n",
       "      <th>0</th>\n",
       "      <td>1</td>\n",
       "      <td>0</td>\n",
       "      <td>3</td>\n",
       "      <td>Braund, Mr. Owen Harris</td>\n",
       "      <td>male</td>\n",
       "      <td>22.0</td>\n",
       "      <td>1</td>\n",
       "      <td>0</td>\n",
       "      <td>A/5 21171</td>\n",
       "      <td>7.2500</td>\n",
       "      <td>NaN</td>\n",
       "      <td>S</td>\n",
       "    </tr>\n",
       "    <tr>\n",
       "      <th>1</th>\n",
       "      <td>2</td>\n",
       "      <td>1</td>\n",
       "      <td>1</td>\n",
       "      <td>Cumings, Mrs. John Bradley (Florence Briggs Th...</td>\n",
       "      <td>female</td>\n",
       "      <td>38.0</td>\n",
       "      <td>1</td>\n",
       "      <td>0</td>\n",
       "      <td>PC 17599</td>\n",
       "      <td>71.2833</td>\n",
       "      <td>C85</td>\n",
       "      <td>C</td>\n",
       "    </tr>\n",
       "    <tr>\n",
       "      <th>2</th>\n",
       "      <td>3</td>\n",
       "      <td>1</td>\n",
       "      <td>3</td>\n",
       "      <td>Heikkinen, Miss. Laina</td>\n",
       "      <td>female</td>\n",
       "      <td>26.0</td>\n",
       "      <td>0</td>\n",
       "      <td>0</td>\n",
       "      <td>STON/O2. 3101282</td>\n",
       "      <td>7.9250</td>\n",
       "      <td>NaN</td>\n",
       "      <td>S</td>\n",
       "    </tr>\n",
       "    <tr>\n",
       "      <th>3</th>\n",
       "      <td>4</td>\n",
       "      <td>1</td>\n",
       "      <td>1</td>\n",
       "      <td>Futrelle, Mrs. Jacques Heath (Lily May Peel)</td>\n",
       "      <td>female</td>\n",
       "      <td>35.0</td>\n",
       "      <td>1</td>\n",
       "      <td>0</td>\n",
       "      <td>113803</td>\n",
       "      <td>53.1000</td>\n",
       "      <td>C123</td>\n",
       "      <td>S</td>\n",
       "    </tr>\n",
       "    <tr>\n",
       "      <th>4</th>\n",
       "      <td>5</td>\n",
       "      <td>0</td>\n",
       "      <td>3</td>\n",
       "      <td>Allen, Mr. William Henry</td>\n",
       "      <td>male</td>\n",
       "      <td>35.0</td>\n",
       "      <td>0</td>\n",
       "      <td>0</td>\n",
       "      <td>373450</td>\n",
       "      <td>8.0500</td>\n",
       "      <td>NaN</td>\n",
       "      <td>S</td>\n",
       "    </tr>\n",
       "  </tbody>\n",
       "</table>\n",
       "</div>"
      ],
      "text/plain": [
       "   PassengerId  Survived  Pclass  \\\n",
       "0            1         0       3   \n",
       "1            2         1       1   \n",
       "2            3         1       3   \n",
       "3            4         1       1   \n",
       "4            5         0       3   \n",
       "\n",
       "                                                Name     Sex   Age  SibSp  \\\n",
       "0                            Braund, Mr. Owen Harris    male  22.0      1   \n",
       "1  Cumings, Mrs. John Bradley (Florence Briggs Th...  female  38.0      1   \n",
       "2                             Heikkinen, Miss. Laina  female  26.0      0   \n",
       "3       Futrelle, Mrs. Jacques Heath (Lily May Peel)  female  35.0      1   \n",
       "4                           Allen, Mr. William Henry    male  35.0      0   \n",
       "\n",
       "   Parch            Ticket     Fare Cabin Embarked  \n",
       "0      0         A/5 21171   7.2500   NaN        S  \n",
       "1      0          PC 17599  71.2833   C85        C  \n",
       "2      0  STON/O2. 3101282   7.9250   NaN        S  \n",
       "3      0            113803  53.1000  C123        S  \n",
       "4      0            373450   8.0500   NaN        S  "
      ]
     },
     "execution_count": 4,
     "metadata": {},
     "output_type": "execute_result"
    }
   ],
   "source": [
    "data.head()"
   ]
  },
  {
   "cell_type": "markdown",
   "id": "736c5b4c",
   "metadata": {},
   "source": [
    "# Feature Engineering"
   ]
  },
  {
   "cell_type": "code",
   "execution_count": 5,
   "id": "91971bdf",
   "metadata": {},
   "outputs": [
    {
     "name": "stdout",
     "output_type": "stream",
     "text": [
      "<class 'pandas.core.frame.DataFrame'>\n",
      "RangeIndex: 891 entries, 0 to 890\n",
      "Data columns (total 12 columns):\n",
      " #   Column       Non-Null Count  Dtype  \n",
      "---  ------       --------------  -----  \n",
      " 0   PassengerId  891 non-null    int64  \n",
      " 1   Survived     891 non-null    int64  \n",
      " 2   Pclass       891 non-null    int64  \n",
      " 3   Name         891 non-null    object \n",
      " 4   Sex          891 non-null    object \n",
      " 5   Age          714 non-null    float64\n",
      " 6   SibSp        891 non-null    int64  \n",
      " 7   Parch        891 non-null    int64  \n",
      " 8   Ticket       891 non-null    object \n",
      " 9   Fare         891 non-null    float64\n",
      " 10  Cabin        204 non-null    object \n",
      " 11  Embarked     889 non-null    object \n",
      "dtypes: float64(2), int64(5), object(5)\n",
      "memory usage: 83.7+ KB\n"
     ]
    }
   ],
   "source": [
    "data.info()"
   ]
  },
  {
   "cell_type": "code",
   "execution_count": 6,
   "id": "64a498f4",
   "metadata": {},
   "outputs": [
    {
     "data": {
      "text/plain": [
       "PassengerId      int64\n",
       "Survived         int64\n",
       "Pclass           int64\n",
       "Name            object\n",
       "Sex             object\n",
       "Age            float64\n",
       "SibSp            int64\n",
       "Parch            int64\n",
       "Ticket          object\n",
       "Fare           float64\n",
       "Cabin           object\n",
       "Embarked        object\n",
       "dtype: object"
      ]
     },
     "execution_count": 6,
     "metadata": {},
     "output_type": "execute_result"
    }
   ],
   "source": [
    "data.dtypes"
   ]
  },
  {
   "cell_type": "code",
   "execution_count": 7,
   "id": "ac8a7b38",
   "metadata": {},
   "outputs": [
    {
     "data": {
      "text/plain": [
       "PassengerId      0\n",
       "Survived         0\n",
       "Pclass           0\n",
       "Name             0\n",
       "Sex              0\n",
       "Age            177\n",
       "SibSp            0\n",
       "Parch            0\n",
       "Ticket           0\n",
       "Fare             0\n",
       "Cabin          687\n",
       "Embarked         2\n",
       "dtype: int64"
      ]
     },
     "execution_count": 7,
     "metadata": {},
     "output_type": "execute_result"
    }
   ],
   "source": [
    "#Checking missing values\n",
    "data.isnull().sum()"
   ]
  },
  {
   "cell_type": "code",
   "execution_count": 8,
   "id": "c92460fe",
   "metadata": {},
   "outputs": [],
   "source": [
    "# Lets impute Missing values\n",
    "data['Age'] = data['Age'].fillna(data['Age'].mean())\n",
    "data['Cabin'] = data['Cabin'].fillna(data['Cabin'].mode()[0])\n",
    "data['Embarked'] = data['Embarked'].fillna(data['Embarked'].mode()[0])"
   ]
  },
  {
   "cell_type": "markdown",
   "id": "61cd92e4",
   "metadata": {},
   "source": [
    "* Lets check the Missing values Presnt in the data set are not"
   ]
  },
  {
   "cell_type": "code",
   "execution_count": 9,
   "id": "101b5058",
   "metadata": {},
   "outputs": [
    {
     "data": {
      "text/plain": [
       "0"
      ]
     },
     "execution_count": 9,
     "metadata": {},
     "output_type": "execute_result"
    }
   ],
   "source": [
    "data.isnull().sum().sum()"
   ]
  },
  {
   "cell_type": "markdown",
   "id": "2c60d599",
   "metadata": {},
   "source": [
    "# In this data set 'Age' and 'Fare' both columns are Float we need to analysise"
   ]
  },
  {
   "cell_type": "code",
   "execution_count": 10,
   "id": "4f7179bb",
   "metadata": {},
   "outputs": [
    {
     "name": "stderr",
     "output_type": "stream",
     "text": [
      "C:\\Users\\user\\anaconda3\\lib\\site-packages\\seaborn\\distributions.py:2557: FutureWarning: `distplot` is a deprecated function and will be removed in a future version. Please adapt your code to use either `displot` (a figure-level function with similar flexibility) or `histplot` (an axes-level function for histograms).\n",
      "  warnings.warn(msg, FutureWarning)\n",
      "C:\\Users\\user\\anaconda3\\lib\\site-packages\\seaborn\\distributions.py:2557: FutureWarning: `distplot` is a deprecated function and will be removed in a future version. Please adapt your code to use either `displot` (a figure-level function with similar flexibility) or `histplot` (an axes-level function for histograms).\n",
      "  warnings.warn(msg, FutureWarning)\n"
     ]
    },
    {
     "data": {
      "image/png": "[encoded data removed]",
      "text/plain": [
       "<Figure size 720x216 with 2 Axes>"
      ]
     },
     "metadata": {},
     "output_type": "display_data"
    }
   ],
   "source": [
    "plt.rcParams['figure.figsize'] = (10,3)\n",
    "plt.style.use('fivethirtyeight')\n",
    "\n",
    "plt.subplot(1,2,1)\n",
    "sns.distplot(data['Fare'])\n",
    "\n",
    "\n",
    "plt.subplot(1,2,2)\n",
    "sns.distplot(data['Age'])\n",
    "plt.show()\n"
   ]
  },
  {
   "cell_type": "markdown",
   "id": "985a751e",
   "metadata": {},
   "source": [
    "* Form the above data set is some what Normalised, so we analised Fare columns"
   ]
  },
  {
   "cell_type": "code",
   "execution_count": 11,
   "id": "8591417b",
   "metadata": {},
   "outputs": [
    {
     "data": {
      "text/plain": [
       "0"
      ]
     },
     "execution_count": 11,
     "metadata": {},
     "output_type": "execute_result"
    }
   ],
   "source": [
    "data['Fare'].isnull().sum()"
   ]
  },
  {
   "cell_type": "code",
   "execution_count": 12,
   "id": "cb452d4f",
   "metadata": {},
   "outputs": [
    {
     "data": {
      "text/plain": [
       "Float64Index([   8.05,    13.0,  7.8958,    7.75,    26.0,    10.5,   7.925,\n",
       "                7.775,     0.0,   26.55,\n",
       "              ...\n",
       "               4.0125,  7.8875,    32.5,  6.4375,     8.3, 50.4958, 13.8583,\n",
       "               8.4583,   7.725,  7.5208],\n",
       "             dtype='float64', length=248)"
      ]
     },
     "execution_count": 12,
     "metadata": {},
     "output_type": "execute_result"
    }
   ],
   "source": [
    "data['Fare'].value_counts().keys()"
   ]
  },
  {
   "cell_type": "code",
   "execution_count": 13,
   "id": "adcfb185",
   "metadata": {},
   "outputs": [
    {
     "data": {
      "text/plain": [
       "Cheap        838\n",
       "Expensive     53\n",
       "Name: Fare, dtype: int64"
      ]
     },
     "execution_count": 13,
     "metadata": {},
     "output_type": "execute_result"
    }
   ],
   "source": [
    "# Lets bin the Fare columns\n",
    "#Lets create a function\n",
    "def fare_cat(x):\n",
    "    if x<100:\n",
    "        return \"Cheap\"\n",
    "    else:\n",
    "        return \"Expensive\"\n",
    "    \n",
    "#Lets apply this function\n",
    "data['Fare'] = data['Fare'].apply(fare_cat)\n",
    "\n",
    "#Lets check the value counts\n",
    "data['Fare'].value_counts()"
   ]
  },
  {
   "cell_type": "code",
   "execution_count": 14,
   "id": "2f6d711f",
   "metadata": {},
   "outputs": [
    {
     "data": {
      "text/plain": [
       "0"
      ]
     },
     "execution_count": 14,
     "metadata": {},
     "output_type": "execute_result"
    }
   ],
   "source": [
    "data['Age'].isnull().sum()"
   ]
  },
  {
   "cell_type": "code",
   "execution_count": 15,
   "id": "7864d390",
   "metadata": {},
   "outputs": [
    {
     "data": {
      "text/plain": [
       "Float64Index([29.69911764705882,              24.0,              22.0,\n",
       "                           18.0,              30.0,              28.0,\n",
       "                           19.0,              21.0,              25.0,\n",
       "                           36.0,              29.0,              35.0,\n",
       "                           32.0,              27.0,              26.0,\n",
       "                           16.0,              31.0,              20.0,\n",
       "                           33.0,              34.0,              23.0,\n",
       "                           39.0,              17.0,              40.0,\n",
       "                           42.0,              45.0,              38.0,\n",
       "                           50.0,               4.0,               2.0,\n",
       "                           44.0,              48.0,              47.0,\n",
       "                           54.0,               9.0,              51.0,\n",
       "                            1.0,              14.0,              49.0,\n",
       "                           37.0,               3.0,              52.0,\n",
       "                           41.0,              15.0,              58.0,\n",
       "                           43.0,              62.0,              56.0,\n",
       "                           60.0,               5.0,               8.0,\n",
       "                           11.0,              61.0,               6.0,\n",
       "                            7.0,              46.0,              65.0,\n",
       "                           10.0,              57.0,              70.0,\n",
       "                           0.83,              0.75,              30.5,\n",
       "                           40.5,              55.0,              32.5,\n",
       "                           64.0,              45.5,              59.0,\n",
       "                           28.5,              71.0,              63.0,\n",
       "                           13.0,              14.5,              20.5,\n",
       "                           74.0,              0.42,              12.0,\n",
       "                           66.0,              34.5,              23.5,\n",
       "                           80.0,              0.67,              36.5,\n",
       "                           53.0,              55.5,              0.92,\n",
       "                           24.5,              70.5],\n",
       "             dtype='float64')"
      ]
     },
     "execution_count": 15,
     "metadata": {},
     "output_type": "execute_result"
    }
   ],
   "source": [
    "data['Age'].value_counts().keys()"
   ]
  },
  {
   "cell_type": "code",
   "execution_count": 16,
   "id": "3254a31e",
   "metadata": {},
   "outputs": [
    {
     "data": {
      "text/plain": [
       "Adults       517\n",
       "Old          217\n",
       "Kids          68\n",
       "Grown Ups     45\n",
       "Name: Age, dtype: int64"
      ]
     },
     "execution_count": 16,
     "metadata": {},
     "output_type": "execute_result"
    }
   ],
   "source": [
    "# Lets Create Bins for Age also\n",
    "\n",
    "def age_cat(x):\n",
    "    if x < 12:\n",
    "        return 'Kids'\n",
    "    elif x >=12 and x<18:\n",
    "        return 'Grown Ups'\n",
    "    elif x >18 and x < 35:\n",
    "        return 'Adults'\n",
    "    elif x > 35:\n",
    "        return 'Old'\n",
    "    \n",
    "# Lets apply this function\n",
    "data['Age'] = data['Age'].apply(age_cat)\n",
    "\n",
    "# Lets check the values\n",
    "data['Age'].value_counts()"
   ]
  },
  {
   "cell_type": "markdown",
   "id": "3787d172",
   "metadata": {},
   "source": [
    "* Caliculating the Family Size"
   ]
  },
  {
   "cell_type": "markdown",
   "id": "a573f0b8",
   "metadata": {},
   "source": [
    "## Family size = SibSp and parch and self"
   ]
  },
  {
   "cell_type": "code",
   "execution_count": 17,
   "id": "771c8c0b",
   "metadata": {},
   "outputs": [
    {
     "data": {
      "text/plain": [
       "1     537\n",
       "2     161\n",
       "3     102\n",
       "4      29\n",
       "6      22\n",
       "5      15\n",
       "7      12\n",
       "11      7\n",
       "8       6\n",
       "Name: FamilySize, dtype: int64"
      ]
     },
     "execution_count": 17,
     "metadata": {},
     "output_type": "execute_result"
    }
   ],
   "source": [
    "data['FamilySize'] = data['SibSp'] + data['Parch'] + 1\n",
    "\n",
    "#Let us check this distribution\n",
    "data['FamilySize'].value_counts()"
   ]
  },
  {
   "cell_type": "code",
   "execution_count": 18,
   "id": "00fcc246",
   "metadata": {},
   "outputs": [
    {
     "data": {
      "text/plain": [
       "Alone           537\n",
       "Small Family    292\n",
       "Large Family     62\n",
       "Name: FamilySize, dtype: int64"
      ]
     },
     "execution_count": 18,
     "metadata": {},
     "output_type": "execute_result"
    }
   ],
   "source": [
    "# Lets Bin the Family size also\n",
    "def fam_cat(x):\n",
    "    if x == 1:\n",
    "        return 'Alone'\n",
    "    elif x > 1 and x<= 4:\n",
    "        return 'Small Family'\n",
    "    else:\n",
    "        return 'Large Family'\n",
    "\n",
    "#lets apply the function\n",
    "data['FamilySize'] = data['FamilySize'].apply(fam_cat)\n",
    "\n",
    "#Lets check the values\n",
    "data['FamilySize'].value_counts()      "
   ]
  },
  {
   "cell_type": "markdown",
   "id": "13acc3ef",
   "metadata": {},
   "source": [
    "* Extract the information from the \"Name\" column"
   ]
  },
  {
   "cell_type": "code",
   "execution_count": 19,
   "id": "734968d9",
   "metadata": {},
   "outputs": [
    {
     "data": {
      "text/plain": [
       "Index(['Gaskell, Mr. Alfred', 'Pain, Dr. Alfred',\n",
       "       'Cavendish, Mr. Tyrell William',\n",
       "       'Hippach, Mrs. Louis Albert (Ida Sophia Fischer)', 'Elias, Mr. Tannous',\n",
       "       'Healy, Miss. Hanora \"Nora\"', 'Nysten, Miss. Anna Sofia',\n",
       "       'van Melkebeke, Mr. Philemon', 'Wick, Miss. Mary Natalie',\n",
       "       'Goodwin, Miss. Lillian Amy',\n",
       "       ...\n",
       "       'Mellinger, Miss. Madeleine Violet', 'Fischer, Mr. Eberhard Thelander',\n",
       "       'Minahan, Dr. William Edward', 'McCoy, Miss. Agnes',\n",
       "       'Barah, Mr. Hanna Assi', 'Van Impe, Miss. Catharina',\n",
       "       'Weisz, Mrs. Leopold (Mathilde Francoise Pede)',\n",
       "       'Van der hoef, Mr. Wyckoff',\n",
       "       'Johnson, Mrs. Oscar W (Elisabeth Vilhelmina Berg)',\n",
       "       'Eitemiller, Mr. George Floyd'],\n",
       "      dtype='object', length=891)"
      ]
     },
     "execution_count": 19,
     "metadata": {},
     "output_type": "execute_result"
    }
   ],
   "source": [
    "data['Name'].value_counts().keys()"
   ]
  },
  {
   "cell_type": "code",
   "execution_count": 20,
   "id": "0920ad50",
   "metadata": {},
   "outputs": [
    {
     "data": {
      "text/plain": [
       " Mr              517\n",
       " Miss            182\n",
       " Mrs             125\n",
       " Master           40\n",
       " Dr                7\n",
       " Rev               6\n",
       " Mlle              2\n",
       " Major             2\n",
       " Col               2\n",
       " Ms                1\n",
       " the Countess      1\n",
       " Mme               1\n",
       " Lady              1\n",
       " Capt              1\n",
       " Don               1\n",
       " Sir               1\n",
       " Jonkheer          1\n",
       "Name: Title, dtype: int64"
      ]
     },
     "execution_count": 20,
     "metadata": {},
     "output_type": "execute_result"
    }
   ],
   "source": [
    "data['Title'] = data['Name'].str.split(',',expand=True)[1].str.split('.',expand=True)[0]\n",
    "data['Title'] = data['Title'].replace(['Miss','Mrs','Ms','Mlle','Lady','Mme','the Countess','Dona','Mlle'],'Miss/Mrs/Ms')\n",
    "data['Title'] = data['Title'].replace(['Dr','Col','Major','Johnkheer','Capt','Sir','Don','Rev'],'Dr/Miltary/Nobel/Clergy')\n",
    "\n",
    "#Lets check the values again\n",
    "data['Title'].value_counts()"
   ]
  },
  {
   "cell_type": "code",
   "execution_count": null,
   "id": "8ff1cae9",
   "metadata": {},
   "outputs": [],
   "source": []
  }
 ],
 "metadata": {
  "kernelspec": {
   "display_name": "Python 3",
   "language": "python",
   "name": "python3"
  },
  "language_info": {
   "codemirror_mode": {
    "name": "ipython",
    "version": 3
   },
   "file_extension": ".py",
   "mimetype": "text/x-python",
   "name": "python",
   "nbconvert_exporter": "python",
   "pygments_lexer": "ipython3",
   "version": "3.8.8"
  }
 },
 "nbformat": 4,
 "nbformat_minor": 5
}
