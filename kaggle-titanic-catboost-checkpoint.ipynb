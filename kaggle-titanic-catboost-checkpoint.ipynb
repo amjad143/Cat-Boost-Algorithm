{
 "cells": [
  {
   "cell_type": "code",
   "execution_count": 1,
   "metadata": {},
   "outputs": [
    {
     "name": "stdout",
     "output_type": "stream",
     "text": [
      "Requirement already satisfied: missingno in c:\\users\\user\\anaconda3\\lib\\site-packages (0.5.0)\n",
      "Requirement already satisfied: matplotlib in c:\\users\\user\\anaconda3\\lib\\site-packages (from missingno) (3.3.4)\n",
      "Requirement already satisfied: scipy in c:\\users\\user\\anaconda3\\lib\\site-packages (from missingno) (1.6.2)\n",
      "Requirement already satisfied: seaborn in c:\\users\\user\\anaconda3\\lib\\site-packages (from missingno) (0.11.1)\n",
      "Requirement already satisfied: numpy in c:\\users\\user\\anaconda3\\lib\\site-packages (from missingno) (1.20.1)\n",
      "Requirement already satisfied: kiwisolver>=1.0.1 in c:\\users\\user\\anaconda3\\lib\\site-packages (from matplotlib->missingno) (1.3.1)\n",
      "Requirement already satisfied: cycler>=0.10 in c:\\users\\user\\anaconda3\\lib\\site-packages (from matplotlib->missingno) (0.10.0)\n",
      "Requirement already satisfied: pyparsing!=2.0.4,!=2.1.2,!=2.1.6,>=2.0.3 in c:\\users\\user\\anaconda3\\lib\\site-packages (from matplotlib->missingno) (2.4.7)\n",
      "Requirement already satisfied: python-dateutil>=2.1 in c:\\users\\user\\anaconda3\\lib\\site-packages (from matplotlib->missingno) (2.8.1)\n",
      "Requirement already satisfied: pillow>=6.2.0 in c:\\users\\user\\anaconda3\\lib\\site-packages (from matplotlib->missingno) (8.2.0)\n",
      "Requirement already satisfied: pandas>=0.23 in c:\\users\\user\\anaconda3\\lib\\site-packages (from seaborn->missingno) (1.2.4)\n",
      "Requirement already satisfied: six in c:\\users\\user\\anaconda3\\lib\\site-packages (from cycler>=0.10->matplotlib->missingno) (1.15.0)\n",
      "Requirement already satisfied: pytz>=2017.3 in c:\\users\\user\\anaconda3\\lib\\site-packages (from pandas>=0.23->seaborn->missingno) (2021.1)\n"
     ]
    }
   ],
   "source": [
    "!pip install missingno"
   ]
  },
  {
   "cell_type": "code",
   "execution_count": 2,
   "metadata": {},
   "outputs": [
    {
     "name": "stdout",
     "output_type": "stream",
     "text": [
      "Requirement already satisfied: catboost in c:\\users\\user\\anaconda3\\lib\\site-packages (0.26.1)\n",
      "Requirement already satisfied: pandas>=0.24.0 in c:\\users\\user\\anaconda3\\lib\\site-packages (from catboost) (1.2.4)\n",
      "Requirement already satisfied: scipy in c:\\users\\user\\anaconda3\\lib\\site-packages (from catboost) (1.6.2)\n",
      "Requirement already satisfied: six in c:\\users\\user\\anaconda3\\lib\\site-packages (from catboost) (1.15.0)\n",
      "Requirement already satisfied: graphviz in c:\\users\\user\\anaconda3\\lib\\site-packages (from catboost) (0.17)\n",
      "Requirement already satisfied: matplotlib in c:\\users\\user\\anaconda3\\lib\\site-packages (from catboost) (3.3.4)\n",
      "Requirement already satisfied: plotly in c:\\users\\user\\anaconda3\\lib\\site-packages (from catboost) (5.3.1)\n",
      "Requirement already satisfied: numpy>=1.16.0 in c:\\users\\user\\anaconda3\\lib\\site-packages (from catboost) (1.20.1)\n",
      "Requirement already satisfied: pytz>=2017.3 in c:\\users\\user\\anaconda3\\lib\\site-packages (from pandas>=0.24.0->catboost) (2021.1)\n",
      "Requirement already satisfied: python-dateutil>=2.7.3 in c:\\users\\user\\anaconda3\\lib\\site-packages (from pandas>=0.24.0->catboost) (2.8.1)\n",
      "Requirement already satisfied: kiwisolver>=1.0.1 in c:\\users\\user\\anaconda3\\lib\\site-packages (from matplotlib->catboost) (1.3.1)\n",
      "Requirement already satisfied: pyparsing!=2.0.4,!=2.1.2,!=2.1.6,>=2.0.3 in c:\\users\\user\\anaconda3\\lib\\site-packages (from matplotlib->catboost) (2.4.7)\n",
      "Requirement already satisfied: cycler>=0.10 in c:\\users\\user\\anaconda3\\lib\\site-packages (from matplotlib->catboost) (0.10.0)\n",
      "Requirement already satisfied: pillow>=6.2.0 in c:\\users\\user\\anaconda3\\lib\\site-packages (from matplotlib->catboost) (8.2.0)\n",
      "Requirement already satisfied: tenacity>=6.2.0 in c:\\users\\user\\anaconda3\\lib\\site-packages (from plotly->catboost) (8.0.1)\n"
     ]
    }
   ],
   "source": [
    "!pip install catboost"
   ]
  },
  {
   "cell_type": "code",
   "execution_count": 3,
   "metadata": {},
   "outputs": [],
   "source": [
    "# Import Dependencies\n",
    "%matplotlib inline\n",
    "\n",
    "# Start Python Imports\n",
    "import math, time, random, datetime\n",
    "\n",
    "# Data Manipulation\n",
    "import numpy as np\n",
    "import pandas as pd\n",
    "\n",
    "# Visualization \n",
    "import matplotlib.pyplot as plt\n",
    "import missingno\n",
    "import seaborn as sns\n",
    "plt.style.use('seaborn-whitegrid')\n",
    "\n",
    "# Preprocessing\n",
    "from sklearn.preprocessing import OneHotEncoder, LabelEncoder, label_binarize\n",
    "\n",
    "# Machine learning\n",
    "import catboost\n",
    "from sklearn.model_selection import train_test_split\n",
    "from sklearn import model_selection, tree, preprocessing, metrics, linear_model\n",
    "from sklearn.svm import LinearSVC\n",
    "from sklearn.ensemble import GradientBoostingClassifier\n",
    "from sklearn.neighbors import KNeighborsClassifier\n",
    "from sklearn.naive_bayes import GaussianNB\n",
    "from sklearn.linear_model import LinearRegression, LogisticRegression, SGDClassifier\n",
    "from sklearn.tree import DecisionTreeClassifier\n",
    "from catboost import CatBoostClassifier, Pool, cv\n",
    "\n",
    "# Let's be rebels and ignore warnings for now\n",
    "import warnings\n",
    "warnings.filterwarnings('ignore')"
   ]
  },
  {
   "cell_type": "code",
   "execution_count": 4,
   "metadata": {},
   "outputs": [],
   "source": [
    "# Import train & test data \n",
    "train = pd.read_csv('train.csv')\n",
    "test = pd.read_csv('test.csv')\n",
    "gender_submission = pd.read_csv('gender_submission.csv') \n",
    "# example of what a submission should look like"
   ]
  },
  {
   "cell_type": "code",
   "execution_count": 5,
   "metadata": {},
   "outputs": [
    {
     "data": {
      "text/html": [
       "<div>\n",
       "<style scoped>\n",
       "    .dataframe tbody tr th:only-of-type {\n",
       "        vertical-align: middle;\n",
       "    }\n",
       "\n",
       "    .dataframe tbody tr th {\n",
       "        vertical-align: top;\n",
       "    }\n",
       "\n",
       "    .dataframe thead th {\n",
       "        text-align: right;\n",
       "    }\n",
       "</style>\n",
       "<table border=\"1\" class=\"dataframe\">\n",
       "  <thead>\n",
       "    <tr style=\"text-align: right;\">\n",
       "      <th></th>\n",
       "      <th>PassengerId</th>\n",
       "      <th>Survived</th>\n",
       "      <th>Pclass</th>\n",
       "      <th>Name</th>\n",
       "      <th>Sex</th>\n",
       "      <th>Age</th>\n",
       "      <th>SibSp</th>\n",
       "      <th>Parch</th>\n",
       "      <th>Ticket</th>\n",
       "      <th>Fare</th>\n",
       "      <th>Cabin</th>\n",
       "      <th>Embarked</th>\n",
       "    </tr>\n",
       "  </thead>\n",
       "  <tbody>\n",
       "    <tr>\n",
       "      <th>0</th>\n",
       "      <td>1</td>\n",
       "      <td>0</td>\n",
       "      <td>3</td>\n",
       "      <td>Braund, Mr. Owen Harris</td>\n",
       "      <td>male</td>\n",
       "      <td>22.0</td>\n",
       "      <td>1</td>\n",
       "      <td>0</td>\n",
       "      <td>A/5 21171</td>\n",
       "      <td>7.2500</td>\n",
       "      <td>NaN</td>\n",
       "      <td>S</td>\n",
       "    </tr>\n",
       "    <tr>\n",
       "      <th>1</th>\n",
       "      <td>2</td>\n",
       "      <td>1</td>\n",
       "      <td>1</td>\n",
       "      <td>Cumings, Mrs. John Bradley (Florence Briggs Th...</td>\n",
       "      <td>female</td>\n",
       "      <td>38.0</td>\n",
       "      <td>1</td>\n",
       "      <td>0</td>\n",
       "      <td>PC 17599</td>\n",
       "      <td>71.2833</td>\n",
       "      <td>C85</td>\n",
       "      <td>C</td>\n",
       "    </tr>\n",
       "    <tr>\n",
       "      <th>2</th>\n",
       "      <td>3</td>\n",
       "      <td>1</td>\n",
       "      <td>3</td>\n",
       "      <td>Heikkinen, Miss. Laina</td>\n",
       "      <td>female</td>\n",
       "      <td>26.0</td>\n",
       "      <td>0</td>\n",
       "      <td>0</td>\n",
       "      <td>STON/O2. 3101282</td>\n",
       "      <td>7.9250</td>\n",
       "      <td>NaN</td>\n",
       "      <td>S</td>\n",
       "    </tr>\n",
       "    <tr>\n",
       "      <th>3</th>\n",
       "      <td>4</td>\n",
       "      <td>1</td>\n",
       "      <td>1</td>\n",
       "      <td>Futrelle, Mrs. Jacques Heath (Lily May Peel)</td>\n",
       "      <td>female</td>\n",
       "      <td>35.0</td>\n",
       "      <td>1</td>\n",
       "      <td>0</td>\n",
       "      <td>113803</td>\n",
       "      <td>53.1000</td>\n",
       "      <td>C123</td>\n",
       "      <td>S</td>\n",
       "    </tr>\n",
       "    <tr>\n",
       "      <th>4</th>\n",
       "      <td>5</td>\n",
       "      <td>0</td>\n",
       "      <td>3</td>\n",
       "      <td>Allen, Mr. William Henry</td>\n",
       "      <td>male</td>\n",
       "      <td>35.0</td>\n",
       "      <td>0</td>\n",
       "      <td>0</td>\n",
       "      <td>373450</td>\n",
       "      <td>8.0500</td>\n",
       "      <td>NaN</td>\n",
       "      <td>S</td>\n",
       "    </tr>\n",
       "  </tbody>\n",
       "</table>\n",
       "</div>"
      ],
      "text/plain": [
       "   PassengerId  Survived  Pclass  \\\n",
       "0            1         0       3   \n",
       "1            2         1       1   \n",
       "2            3         1       3   \n",
       "3            4         1       1   \n",
       "4            5         0       3   \n",
       "\n",
       "                                                Name     Sex   Age  SibSp  \\\n",
       "0                            Braund, Mr. Owen Harris    male  22.0      1   \n",
       "1  Cumings, Mrs. John Bradley (Florence Briggs Th...  female  38.0      1   \n",
       "2                             Heikkinen, Miss. Laina  female  26.0      0   \n",
       "3       Futrelle, Mrs. Jacques Heath (Lily May Peel)  female  35.0      1   \n",
       "4                           Allen, Mr. William Henry    male  35.0      0   \n",
       "\n",
       "   Parch            Ticket     Fare Cabin Embarked  \n",
       "0      0         A/5 21171   7.2500   NaN        S  \n",
       "1      0          PC 17599  71.2833   C85        C  \n",
       "2      0  STON/O2. 3101282   7.9250   NaN        S  \n",
       "3      0            113803  53.1000  C123        S  \n",
       "4      0            373450   8.0500   NaN        S  "
      ]
     },
     "execution_count": 5,
     "metadata": {},
     "output_type": "execute_result"
    }
   ],
   "source": [
    "# View the training data\n",
    "train.head()"
   ]
  },
  {
   "cell_type": "code",
   "execution_count": 6,
   "metadata": {},
   "outputs": [
    {
     "data": {
      "text/plain": [
       "891"
      ]
     },
     "execution_count": 6,
     "metadata": {},
     "output_type": "execute_result"
    }
   ],
   "source": [
    "len(train)"
   ]
  },
  {
   "cell_type": "code",
   "execution_count": 7,
   "metadata": {},
   "outputs": [
    {
     "data": {
      "text/plain": [
       "418"
      ]
     },
     "execution_count": 7,
     "metadata": {},
     "output_type": "execute_result"
    }
   ],
   "source": [
    "# View the test data\n",
    "test.head()\n",
    "len(test)"
   ]
  },
  {
   "cell_type": "code",
   "execution_count": 8,
   "metadata": {},
   "outputs": [
    {
     "data": {
      "text/html": [
       "<div>\n",
       "<style scoped>\n",
       "    .dataframe tbody tr th:only-of-type {\n",
       "        vertical-align: middle;\n",
       "    }\n",
       "\n",
       "    .dataframe tbody tr th {\n",
       "        vertical-align: top;\n",
       "    }\n",
       "\n",
       "    .dataframe thead th {\n",
       "        text-align: right;\n",
       "    }\n",
       "</style>\n",
       "<table border=\"1\" class=\"dataframe\">\n",
       "  <thead>\n",
       "    <tr style=\"text-align: right;\">\n",
       "      <th></th>\n",
       "      <th>PassengerId</th>\n",
       "      <th>Survived</th>\n",
       "    </tr>\n",
       "  </thead>\n",
       "  <tbody>\n",
       "    <tr>\n",
       "      <th>0</th>\n",
       "      <td>892</td>\n",
       "      <td>0</td>\n",
       "    </tr>\n",
       "    <tr>\n",
       "      <th>1</th>\n",
       "      <td>893</td>\n",
       "      <td>1</td>\n",
       "    </tr>\n",
       "    <tr>\n",
       "      <th>2</th>\n",
       "      <td>894</td>\n",
       "      <td>0</td>\n",
       "    </tr>\n",
       "    <tr>\n",
       "      <th>3</th>\n",
       "      <td>895</td>\n",
       "      <td>0</td>\n",
       "    </tr>\n",
       "    <tr>\n",
       "      <th>4</th>\n",
       "      <td>896</td>\n",
       "      <td>1</td>\n",
       "    </tr>\n",
       "  </tbody>\n",
       "</table>\n",
       "</div>"
      ],
      "text/plain": [
       "   PassengerId  Survived\n",
       "0          892         0\n",
       "1          893         1\n",
       "2          894         0\n",
       "3          895         0\n",
       "4          896         1"
      ]
     },
     "execution_count": 8,
     "metadata": {},
     "output_type": "execute_result"
    }
   ],
   "source": [
    "# Example submisison dataframe\n",
    "gender_submission.head()"
   ]
  },
  {
   "cell_type": "markdown",
   "metadata": {},
   "source": [
    "## Data Descriptions\n",
    "\n",
    "**Survival:** 0 = No, 1 = Yes\n",
    "\n",
    "**pclass (Ticket class):** 1 = 1st, 2 = 2nd, 3 = 3rd\n",
    "\n",
    "**sex:** Sex\n",
    "\n",
    "**Age:** Age in years\n",
    "\n",
    "**sibsp:** number of siblings/spouses aboard the Titanic\n",
    "\n",
    "**parch:** number of parents/children aboard the Titanic\n",
    "\n",
    "**ticket:** Ticket number\n",
    "\n",
    "**fare:** Passenger fare\n",
    "\n",
    "**cabin:** Cabin number\n",
    "\n",
    "**embarked:** Port of Embarkation, C = Cherbourg, Q = Queenstown, S = Southampton"
   ]
  },
  {
   "cell_type": "code",
   "execution_count": 9,
   "metadata": {},
   "outputs": [
    {
     "data": {
      "text/html": [
       "<div>\n",
       "<style scoped>\n",
       "    .dataframe tbody tr th:only-of-type {\n",
       "        vertical-align: middle;\n",
       "    }\n",
       "\n",
       "    .dataframe tbody tr th {\n",
       "        vertical-align: top;\n",
       "    }\n",
       "\n",
       "    .dataframe thead th {\n",
       "        text-align: right;\n",
       "    }\n",
       "</style>\n",
       "<table border=\"1\" class=\"dataframe\">\n",
       "  <thead>\n",
       "    <tr style=\"text-align: right;\">\n",
       "      <th></th>\n",
       "      <th>PassengerId</th>\n",
       "      <th>Survived</th>\n",
       "      <th>Pclass</th>\n",
       "      <th>Age</th>\n",
       "      <th>SibSp</th>\n",
       "      <th>Parch</th>\n",
       "      <th>Fare</th>\n",
       "    </tr>\n",
       "  </thead>\n",
       "  <tbody>\n",
       "    <tr>\n",
       "      <th>count</th>\n",
       "      <td>891.000000</td>\n",
       "      <td>891.000000</td>\n",
       "      <td>891.000000</td>\n",
       "      <td>714.000000</td>\n",
       "      <td>891.000000</td>\n",
       "      <td>891.000000</td>\n",
       "      <td>891.000000</td>\n",
       "    </tr>\n",
       "    <tr>\n",
       "      <th>mean</th>\n",
       "      <td>446.000000</td>\n",
       "      <td>0.383838</td>\n",
       "      <td>2.308642</td>\n",
       "      <td>29.699118</td>\n",
       "      <td>0.523008</td>\n",
       "      <td>0.381594</td>\n",
       "      <td>32.204208</td>\n",
       "    </tr>\n",
       "    <tr>\n",
       "      <th>std</th>\n",
       "      <td>257.353842</td>\n",
       "      <td>0.486592</td>\n",
       "      <td>0.836071</td>\n",
       "      <td>14.526497</td>\n",
       "      <td>1.102743</td>\n",
       "      <td>0.806057</td>\n",
       "      <td>49.693429</td>\n",
       "    </tr>\n",
       "    <tr>\n",
       "      <th>min</th>\n",
       "      <td>1.000000</td>\n",
       "      <td>0.000000</td>\n",
       "      <td>1.000000</td>\n",
       "      <td>0.420000</td>\n",
       "      <td>0.000000</td>\n",
       "      <td>0.000000</td>\n",
       "      <td>0.000000</td>\n",
       "    </tr>\n",
       "    <tr>\n",
       "      <th>25%</th>\n",
       "      <td>223.500000</td>\n",
       "      <td>0.000000</td>\n",
       "      <td>2.000000</td>\n",
       "      <td>20.125000</td>\n",
       "      <td>0.000000</td>\n",
       "      <td>0.000000</td>\n",
       "      <td>7.910400</td>\n",
       "    </tr>\n",
       "    <tr>\n",
       "      <th>50%</th>\n",
       "      <td>446.000000</td>\n",
       "      <td>0.000000</td>\n",
       "      <td>3.000000</td>\n",
       "      <td>28.000000</td>\n",
       "      <td>0.000000</td>\n",
       "      <td>0.000000</td>\n",
       "      <td>14.454200</td>\n",
       "    </tr>\n",
       "    <tr>\n",
       "      <th>75%</th>\n",
       "      <td>668.500000</td>\n",
       "      <td>1.000000</td>\n",
       "      <td>3.000000</td>\n",
       "      <td>38.000000</td>\n",
       "      <td>1.000000</td>\n",
       "      <td>0.000000</td>\n",
       "      <td>31.000000</td>\n",
       "    </tr>\n",
       "    <tr>\n",
       "      <th>max</th>\n",
       "      <td>891.000000</td>\n",
       "      <td>1.000000</td>\n",
       "      <td>3.000000</td>\n",
       "      <td>80.000000</td>\n",
       "      <td>8.000000</td>\n",
       "      <td>6.000000</td>\n",
       "      <td>512.329200</td>\n",
       "    </tr>\n",
       "  </tbody>\n",
       "</table>\n",
       "</div>"
      ],
      "text/plain": [
       "       PassengerId    Survived      Pclass         Age       SibSp  \\\n",
       "count   891.000000  891.000000  891.000000  714.000000  891.000000   \n",
       "mean    446.000000    0.383838    2.308642   29.699118    0.523008   \n",
       "std     257.353842    0.486592    0.836071   14.526497    1.102743   \n",
       "min       1.000000    0.000000    1.000000    0.420000    0.000000   \n",
       "25%     223.500000    0.000000    2.000000   20.125000    0.000000   \n",
       "50%     446.000000    0.000000    3.000000   28.000000    0.000000   \n",
       "75%     668.500000    1.000000    3.000000   38.000000    1.000000   \n",
       "max     891.000000    1.000000    3.000000   80.000000    8.000000   \n",
       "\n",
       "            Parch        Fare  \n",
       "count  891.000000  891.000000  \n",
       "mean     0.381594   32.204208  \n",
       "std      0.806057   49.693429  \n",
       "min      0.000000    0.000000  \n",
       "25%      0.000000    7.910400  \n",
       "50%      0.000000   14.454200  \n",
       "75%      0.000000   31.000000  \n",
       "max      6.000000  512.329200  "
      ]
     },
     "execution_count": 9,
     "metadata": {},
     "output_type": "execute_result"
    }
   ],
   "source": [
    "train.describe()"
   ]
  },
  {
   "cell_type": "markdown",
   "metadata": {},
   "source": [
    "## What missing values are there?"
   ]
  },
  {
   "cell_type": "code",
   "execution_count": 10,
   "metadata": {},
   "outputs": [
    {
     "data": {
      "text/plain": [
       "<AxesSubplot:>"
      ]
     },
     "execution_count": 10,
     "metadata": {},
     "output_type": "execute_result"
    },
    {
     "data": {
      "image/png": "[encoded data removed]",
      "text/plain": [
       "<Figure size 2160x720 with 2 Axes>"
      ]
     },
     "metadata": {},
     "output_type": "display_data"
    }
   ],
   "source": [
    "# Plot graphic of missing values\n",
    "missingno.matrix(train, figsize = (30,10))"
   ]
  },
  {
   "cell_type": "markdown",
   "metadata": {},
   "source": [
    "Ok we can clearly see some missing values here. Especially in the cabin column.\n",
    "\n",
    "It's important to visualise missing values early so you know where the major holes are in your dataset.\n",
    "\n",
    "Knowing this informaiton will help with your EDA and figuring out what kind of data cleaning and preprocessing is needed."
   ]
  },
  {
   "cell_type": "code",
   "execution_count": 11,
   "metadata": {},
   "outputs": [
    {
     "data": {
      "text/plain": [
       "891"
      ]
     },
     "execution_count": 11,
     "metadata": {},
     "output_type": "execute_result"
    }
   ],
   "source": [
    "len(train)"
   ]
  },
  {
   "cell_type": "code",
   "execution_count": 12,
   "metadata": {},
   "outputs": [
    {
     "data": {
      "text/plain": [
       "Index(['PassengerId', 'Survived', 'Pclass', 'Name', 'Sex', 'Age', 'SibSp',\n",
       "       'Parch', 'Ticket', 'Fare', 'Cabin', 'Embarked'],\n",
       "      dtype='object')"
      ]
     },
     "execution_count": 12,
     "metadata": {},
     "output_type": "execute_result"
    }
   ],
   "source": [
    "train.columns"
   ]
  },
  {
   "cell_type": "code",
   "execution_count": 13,
   "metadata": {},
   "outputs": [
    {
     "name": "stdout",
     "output_type": "stream",
     "text": [
      "Displaying a no of missing values or NAN valus by each row\n"
     ]
    },
    {
     "data": {
      "text/plain": [
       "{'PassengerId': 0,\n",
       " 'Survived': 0,\n",
       " 'Pclass': 0,\n",
       " 'Name': 0,\n",
       " 'Sex': 0,\n",
       " 'Age': 177,\n",
       " 'SibSp': 0,\n",
       " 'Parch': 0,\n",
       " 'Ticket': 0,\n",
       " 'Fare': 0,\n",
       " 'Cabin': 687,\n",
       " 'Embarked': 2}"
      ]
     },
     "execution_count": 13,
     "metadata": {},
     "output_type": "execute_result"
    }
   ],
   "source": [
    "# Creating a function to identify how many missing values in each column\n",
    "def find_missing_values(df,columns):\n",
    "    missing_vals = {}\n",
    "    print(\"Displaying a no of missing values or NAN valus by each row\")\n",
    "    df_length = len(df)\n",
    "    for column in columns:\n",
    "        total_column_values = df[column].value_counts().sum()\n",
    "        missing_vals[column] = df_length - total_column_values\n",
    "    return missing_vals\n",
    "    \n",
    "missing_values = find_missing_values(train,columns= train.columns)\n",
    "missing_values  "
   ]
  },
  {
   "cell_type": "code",
   "execution_count": 14,
   "metadata": {},
   "outputs": [
    {
     "data": {
      "text/plain": [
       "PassengerId      0\n",
       "Survived         0\n",
       "Pclass           0\n",
       "Name             0\n",
       "Sex              0\n",
       "Age            177\n",
       "SibSp            0\n",
       "Parch            0\n",
       "Ticket           0\n",
       "Fare             0\n",
       "Cabin          687\n",
       "Embarked         2\n",
       "dtype: int64"
      ]
     },
     "execution_count": 14,
     "metadata": {},
     "output_type": "execute_result"
    }
   ],
   "source": [
    "# Alternatively, you can see the number of missing values like this\n",
    "train.isnull().sum()"
   ]
  },
  {
   "cell_type": "markdown",
   "metadata": {},
   "source": [
    "## To perform our data analysis, let's create two new dataframes\n",
    "\n",
    "We'll create one for exploring discretised continuous variables (continuous variables which have been sorted into some kind of category) and another for exploring continuous variables."
   ]
  },
  {
   "cell_type": "code",
   "execution_count": 15,
   "metadata": {},
   "outputs": [],
   "source": [
    "df_bin = pd.DataFrame() # for discretised continuous variables\n",
    "df_con = pd.DataFrame() # for continuous variables"
   ]
  },
  {
   "cell_type": "markdown",
   "metadata": {},
   "source": [
    "## What datatypes are in the dataframe?\n",
    "\n",
    "As a general rule of thumb, features with a datatype of object could be considered categorical features. And those which are floats or ints (numbers) could be considered numerical features.\n",
    "\n",
    "However, as we dig deeper, we might find features which are numerical may actually be categorical.\n",
    "\n",
    "The goal for the next few steps is to figure out how best to process the data so our machine learning model can learn from it.\n",
    "\n",
    "Ideally, all the features will be encoded into a numerical value of some kind. "
   ]
  },
  {
   "cell_type": "code",
   "execution_count": 16,
   "metadata": {},
   "outputs": [
    {
     "data": {
      "text/plain": [
       "PassengerId      int64\n",
       "Survived         int64\n",
       "Pclass           int64\n",
       "Name            object\n",
       "Sex             object\n",
       "Age            float64\n",
       "SibSp            int64\n",
       "Parch            int64\n",
       "Ticket          object\n",
       "Fare           float64\n",
       "Cabin           object\n",
       "Embarked        object\n",
       "dtype: object"
      ]
     },
     "execution_count": 16,
     "metadata": {},
     "output_type": "execute_result"
    }
   ],
   "source": [
    "# Different data types in the dataset\n",
    "train.dtypes"
   ]
  },
  {
   "cell_type": "markdown",
   "metadata": {},
   "source": [
    "## Let's explore each of these features individually\n",
    "We'll go through each column iteratively and see which ones to use in our first models.\n",
    "Some may need more preprocessing than others to get ready."
   ]
  },
  {
   "cell_type": "code",
   "execution_count": 17,
   "metadata": {},
   "outputs": [
    {
     "data": {
      "text/html": [
       "<div>\n",
       "<style scoped>\n",
       "    .dataframe tbody tr th:only-of-type {\n",
       "        vertical-align: middle;\n",
       "    }\n",
       "\n",
       "    .dataframe tbody tr th {\n",
       "        vertical-align: top;\n",
       "    }\n",
       "\n",
       "    .dataframe thead th {\n",
       "        text-align: right;\n",
       "    }\n",
       "</style>\n",
       "<table border=\"1\" class=\"dataframe\">\n",
       "  <thead>\n",
       "    <tr style=\"text-align: right;\">\n",
       "      <th></th>\n",
       "      <th>PassengerId</th>\n",
       "      <th>Survived</th>\n",
       "      <th>Pclass</th>\n",
       "      <th>Name</th>\n",
       "      <th>Sex</th>\n",
       "      <th>Age</th>\n",
       "      <th>SibSp</th>\n",
       "      <th>Parch</th>\n",
       "      <th>Ticket</th>\n",
       "      <th>Fare</th>\n",
       "      <th>Cabin</th>\n",
       "      <th>Embarked</th>\n",
       "    </tr>\n",
       "  </thead>\n",
       "  <tbody>\n",
       "    <tr>\n",
       "      <th>0</th>\n",
       "      <td>1</td>\n",
       "      <td>0</td>\n",
       "      <td>3</td>\n",
       "      <td>Braund, Mr. Owen Harris</td>\n",
       "      <td>male</td>\n",
       "      <td>22.0</td>\n",
       "      <td>1</td>\n",
       "      <td>0</td>\n",
       "      <td>A/5 21171</td>\n",
       "      <td>7.2500</td>\n",
       "      <td>NaN</td>\n",
       "      <td>S</td>\n",
       "    </tr>\n",
       "    <tr>\n",
       "      <th>1</th>\n",
       "      <td>2</td>\n",
       "      <td>1</td>\n",
       "      <td>1</td>\n",
       "      <td>Cumings, Mrs. John Bradley (Florence Briggs Th...</td>\n",
       "      <td>female</td>\n",
       "      <td>38.0</td>\n",
       "      <td>1</td>\n",
       "      <td>0</td>\n",
       "      <td>PC 17599</td>\n",
       "      <td>71.2833</td>\n",
       "      <td>C85</td>\n",
       "      <td>C</td>\n",
       "    </tr>\n",
       "    <tr>\n",
       "      <th>2</th>\n",
       "      <td>3</td>\n",
       "      <td>1</td>\n",
       "      <td>3</td>\n",
       "      <td>Heikkinen, Miss. Laina</td>\n",
       "      <td>female</td>\n",
       "      <td>26.0</td>\n",
       "      <td>0</td>\n",
       "      <td>0</td>\n",
       "      <td>STON/O2. 3101282</td>\n",
       "      <td>7.9250</td>\n",
       "      <td>NaN</td>\n",
       "      <td>S</td>\n",
       "    </tr>\n",
       "    <tr>\n",
       "      <th>3</th>\n",
       "      <td>4</td>\n",
       "      <td>1</td>\n",
       "      <td>1</td>\n",
       "      <td>Futrelle, Mrs. Jacques Heath (Lily May Peel)</td>\n",
       "      <td>female</td>\n",
       "      <td>35.0</td>\n",
       "      <td>1</td>\n",
       "      <td>0</td>\n",
       "      <td>113803</td>\n",
       "      <td>53.1000</td>\n",
       "      <td>C123</td>\n",
       "      <td>S</td>\n",
       "    </tr>\n",
       "    <tr>\n",
       "      <th>4</th>\n",
       "      <td>5</td>\n",
       "      <td>0</td>\n",
       "      <td>3</td>\n",
       "      <td>Allen, Mr. William Henry</td>\n",
       "      <td>male</td>\n",
       "      <td>35.0</td>\n",
       "      <td>0</td>\n",
       "      <td>0</td>\n",
       "      <td>373450</td>\n",
       "      <td>8.0500</td>\n",
       "      <td>NaN</td>\n",
       "      <td>S</td>\n",
       "    </tr>\n",
       "  </tbody>\n",
       "</table>\n",
       "</div>"
      ],
      "text/plain": [
       "   PassengerId  Survived  Pclass  \\\n",
       "0            1         0       3   \n",
       "1            2         1       1   \n",
       "2            3         1       3   \n",
       "3            4         1       1   \n",
       "4            5         0       3   \n",
       "\n",
       "                                                Name     Sex   Age  SibSp  \\\n",
       "0                            Braund, Mr. Owen Harris    male  22.0      1   \n",
       "1  Cumings, Mrs. John Bradley (Florence Briggs Th...  female  38.0      1   \n",
       "2                             Heikkinen, Miss. Laina  female  26.0      0   \n",
       "3       Futrelle, Mrs. Jacques Heath (Lily May Peel)  female  35.0      1   \n",
       "4                           Allen, Mr. William Henry    male  35.0      0   \n",
       "\n",
       "   Parch            Ticket     Fare Cabin Embarked  \n",
       "0      0         A/5 21171   7.2500   NaN        S  \n",
       "1      0          PC 17599  71.2833   C85        C  \n",
       "2      0  STON/O2. 3101282   7.9250   NaN        S  \n",
       "3      0            113803  53.1000  C123        S  \n",
       "4      0            373450   8.0500   NaN        S  "
      ]
     },
     "execution_count": 17,
     "metadata": {},
     "output_type": "execute_result"
    }
   ],
   "source": [
    "train.head()"
   ]
  },
  {
   "cell_type": "markdown",
   "metadata": {},
   "source": [
    "### Target Feature: Survived\n",
    "\n",
    "Description: Whether the passenger survived or not.\n",
    "    \n",
    "Key: 0 = did not survive, 1 = survived\n",
    "    \n",
    "This is the variable we want our machine learning model to predict based off all the others."
   ]
  },
  {
   "cell_type": "code",
   "execution_count": 18,
   "metadata": {},
   "outputs": [
    {
     "data": {
      "text/plain": [
       "0    549\n",
       "1    342\n",
       "Name: Survived, dtype: int64"
      ]
     },
     "execution_count": 18,
     "metadata": {},
     "output_type": "execute_result"
    }
   ],
   "source": [
    "train['Survived'].value_counts()"
   ]
  },
  {
   "cell_type": "code",
   "execution_count": 19,
   "metadata": {},
   "outputs": [
    {
     "name": "stdout",
     "output_type": "stream",
     "text": [
      "0    549\n",
      "1    342\n",
      "Name: Survived, dtype: int64\n"
     ]
    },
    {
     "data": {
      "image/png": "[encoded data removed]",
      "text/plain": [
       "<Figure size 1440x72 with 1 Axes>"
      ]
     },
     "metadata": {},
     "output_type": "display_data"
    }
   ],
   "source": [
    "# How many people survived?\n",
    "fig = plt.figure(figsize=(20,1))\n",
    "sns.countplot(y='Survived', data=train);\n",
    "print(train.Survived.value_counts())"
   ]
  },
  {
   "cell_type": "code",
   "execution_count": 20,
   "metadata": {},
   "outputs": [
    {
     "data": {
      "text/plain": [
       "Int64Index([0, 1], dtype='int64')"
      ]
     },
     "execution_count": 20,
     "metadata": {},
     "output_type": "execute_result"
    }
   ],
   "source": [
    "train['Survived'].value_counts().keys()"
   ]
  },
  {
   "cell_type": "code",
   "execution_count": 21,
   "metadata": {},
   "outputs": [],
   "source": [
    "# Let's add this to our subset dataframes\n",
    "df_bin['Survived'] = train['Survived']\n",
    "df_con['Survived'] = train['Survived']"
   ]
  },
  {
   "cell_type": "code",
   "execution_count": 22,
   "metadata": {},
   "outputs": [
    {
     "data": {
      "text/html": [
       "<div>\n",
       "<style scoped>\n",
       "    .dataframe tbody tr th:only-of-type {\n",
       "        vertical-align: middle;\n",
       "    }\n",
       "\n",
       "    .dataframe tbody tr th {\n",
       "        vertical-align: top;\n",
       "    }\n",
       "\n",
       "    .dataframe thead th {\n",
       "        text-align: right;\n",
       "    }\n",
       "</style>\n",
       "<table border=\"1\" class=\"dataframe\">\n",
       "  <thead>\n",
       "    <tr style=\"text-align: right;\">\n",
       "      <th></th>\n",
       "      <th>Survived</th>\n",
       "    </tr>\n",
       "  </thead>\n",
       "  <tbody>\n",
       "    <tr>\n",
       "      <th>0</th>\n",
       "      <td>0</td>\n",
       "    </tr>\n",
       "    <tr>\n",
       "      <th>1</th>\n",
       "      <td>1</td>\n",
       "    </tr>\n",
       "    <tr>\n",
       "      <th>2</th>\n",
       "      <td>1</td>\n",
       "    </tr>\n",
       "    <tr>\n",
       "      <th>3</th>\n",
       "      <td>1</td>\n",
       "    </tr>\n",
       "    <tr>\n",
       "      <th>4</th>\n",
       "      <td>0</td>\n",
       "    </tr>\n",
       "  </tbody>\n",
       "</table>\n",
       "</div>"
      ],
      "text/plain": [
       "   Survived\n",
       "0         0\n",
       "1         1\n",
       "2         1\n",
       "3         1\n",
       "4         0"
      ]
     },
     "execution_count": 22,
     "metadata": {},
     "output_type": "execute_result"
    }
   ],
   "source": [
    "df_bin.head()"
   ]
  },
  {
   "cell_type": "code",
   "execution_count": 23,
   "metadata": {},
   "outputs": [
    {
     "data": {
      "text/plain": [
       "(891, 1)"
      ]
     },
     "execution_count": 23,
     "metadata": {},
     "output_type": "execute_result"
    }
   ],
   "source": [
    "df_bin.shape"
   ]
  },
  {
   "cell_type": "code",
   "execution_count": 24,
   "metadata": {},
   "outputs": [
    {
     "data": {
      "text/plain": [
       "(891, 1)"
      ]
     },
     "execution_count": 24,
     "metadata": {},
     "output_type": "execute_result"
    }
   ],
   "source": [
    "df_con.shape"
   ]
  },
  {
   "cell_type": "code",
   "execution_count": 25,
   "metadata": {},
   "outputs": [
    {
     "data": {
      "text/html": [
       "<div>\n",
       "<style scoped>\n",
       "    .dataframe tbody tr th:only-of-type {\n",
       "        vertical-align: middle;\n",
       "    }\n",
       "\n",
       "    .dataframe tbody tr th {\n",
       "        vertical-align: top;\n",
       "    }\n",
       "\n",
       "    .dataframe thead th {\n",
       "        text-align: right;\n",
       "    }\n",
       "</style>\n",
       "<table border=\"1\" class=\"dataframe\">\n",
       "  <thead>\n",
       "    <tr style=\"text-align: right;\">\n",
       "      <th></th>\n",
       "      <th>Survived</th>\n",
       "    </tr>\n",
       "  </thead>\n",
       "  <tbody>\n",
       "    <tr>\n",
       "      <th>0</th>\n",
       "      <td>0</td>\n",
       "    </tr>\n",
       "    <tr>\n",
       "      <th>1</th>\n",
       "      <td>1</td>\n",
       "    </tr>\n",
       "    <tr>\n",
       "      <th>2</th>\n",
       "      <td>1</td>\n",
       "    </tr>\n",
       "    <tr>\n",
       "      <th>3</th>\n",
       "      <td>1</td>\n",
       "    </tr>\n",
       "    <tr>\n",
       "      <th>4</th>\n",
       "      <td>0</td>\n",
       "    </tr>\n",
       "  </tbody>\n",
       "</table>\n",
       "</div>"
      ],
      "text/plain": [
       "   Survived\n",
       "0         0\n",
       "1         1\n",
       "2         1\n",
       "3         1\n",
       "4         0"
      ]
     },
     "execution_count": 25,
     "metadata": {},
     "output_type": "execute_result"
    }
   ],
   "source": [
    "df_con.head()"
   ]
  },
  {
   "cell_type": "markdown",
   "metadata": {},
   "source": [
    "### Feature: Pclass\n",
    "\n",
    "Description: The ticket class of the passenger.\n",
    "    \n",
    "Key: 1 = 1st, 2 = 2nd, 3 = 3rd"
   ]
  },
  {
   "cell_type": "markdown",
   "metadata": {},
   "source": [
    "#### Let's plot the distribution\n",
    "We will look at the distribution of each feature first if we can to understand what kind of spread there is across the dataset.\n",
    "\n",
    "For example, if there are values which are completely outside of the distribution, we may not want to include them in our model."
   ]
  },
  {
   "cell_type": "code",
   "execution_count": 26,
   "metadata": {},
   "outputs": [
    {
     "data": {
      "text/plain": [
       "<AxesSubplot:xlabel='Pclass', ylabel='Density'>"
      ]
     },
     "execution_count": 26,
     "metadata": {},
     "output_type": "execute_result"
    },
    {
     "data": {
      "image/png": "[encoded data removed]",
      "text/plain": [
       "<Figure size 432x288 with 1 Axes>"
      ]
     },
     "metadata": {},
     "output_type": "display_data"
    }
   ],
   "source": [
    "sns.distplot(train.Pclass)"
   ]
  },
  {
   "cell_type": "markdown",
   "metadata": {},
   "source": [
    "We can see with this feature, the values are numerical (1, 2 and 3) but they are categories.\n",
    "\n",
    "How do we know this? Because a passenger in Class 3 doesn't necessarily equal a passenger in Class 2 + a passenger in Class 1."
   ]
  },
  {
   "cell_type": "code",
   "execution_count": 27,
   "metadata": {},
   "outputs": [
    {
     "data": {
      "text/plain": [
       "3    491\n",
       "1    216\n",
       "2    184\n",
       "Name: Pclass, dtype: int64"
      ]
     },
     "execution_count": 27,
     "metadata": {},
     "output_type": "execute_result"
    }
   ],
   "source": [
    "train['Pclass'].value_counts()"
   ]
  },
  {
   "cell_type": "code",
   "execution_count": 28,
   "metadata": {},
   "outputs": [
    {
     "data": {
      "text/plain": [
       "Int64Index([3, 1, 2], dtype='int64')"
      ]
     },
     "execution_count": 28,
     "metadata": {},
     "output_type": "execute_result"
    }
   ],
   "source": [
    "train['Pclass'].value_counts().keys()"
   ]
  },
  {
   "cell_type": "code",
   "execution_count": 29,
   "metadata": {},
   "outputs": [
    {
     "data": {
      "text/plain": [
       "0"
      ]
     },
     "execution_count": 29,
     "metadata": {},
     "output_type": "execute_result"
    }
   ],
   "source": [
    "# How many missing variables does Pclass have?\n",
    "train.Pclass.isnull().sum()"
   ]
  },
  {
   "cell_type": "markdown",
   "metadata": {},
   "source": [
    "Since there are no missing values in Pclass, let's add it to our sub dataframes."
   ]
  },
  {
   "cell_type": "code",
   "execution_count": 30,
   "metadata": {},
   "outputs": [],
   "source": [
    "df_bin['Pclass'] = train['Pclass']\n",
    "df_con['Pclass'] = train['Pclass']"
   ]
  },
  {
   "cell_type": "code",
   "execution_count": 31,
   "metadata": {},
   "outputs": [
    {
     "data": {
      "text/plain": [
       "0    3\n",
       "1    1\n",
       "2    3\n",
       "3    1\n",
       "4    3\n",
       "Name: Pclass, dtype: int64"
      ]
     },
     "execution_count": 31,
     "metadata": {},
     "output_type": "execute_result"
    }
   ],
   "source": [
    "df_bin['Pclass'].head()"
   ]
  },
  {
   "cell_type": "code",
   "execution_count": 32,
   "metadata": {},
   "outputs": [
    {
     "data": {
      "text/plain": [
       "0    3\n",
       "1    1\n",
       "2    3\n",
       "3    1\n",
       "4    3\n",
       "Name: Pclass, dtype: int64"
      ]
     },
     "execution_count": 32,
     "metadata": {},
     "output_type": "execute_result"
    }
   ],
   "source": [
    "df_con['Pclass'].head()"
   ]
  },
  {
   "cell_type": "markdown",
   "metadata": {},
   "source": [
    "### Feature: Name\n",
    "    \n",
    "Description: The name of the passenger."
   ]
  },
  {
   "cell_type": "code",
   "execution_count": 33,
   "metadata": {},
   "outputs": [
    {
     "data": {
      "text/plain": [
       "Asim, Mr. Adola                                                      1\n",
       "Andersson, Mrs. Anders Johan (Alfrida Konstantia Brogren)            1\n",
       "Carter, Mrs. Ernest Courtenay (Lilian Hughes)                        1\n",
       "Moran, Miss. Bertha                                                  1\n",
       "Colley, Mr. Edward Pomeroy                                           1\n",
       "                                                                    ..\n",
       "Flynn, Mr. James                                                     1\n",
       "McEvoy, Mr. Michael                                                  1\n",
       "Beane, Mr. Edward                                                    1\n",
       "Duff Gordon, Lady. (Lucille Christiana Sutherland) (\"Mrs Morgan\")    1\n",
       "Backstrom, Mrs. Karl Alfred (Maria Mathilda Gustafsson)              1\n",
       "Name: Name, Length: 891, dtype: int64"
      ]
     },
     "execution_count": 33,
     "metadata": {},
     "output_type": "execute_result"
    }
   ],
   "source": [
    "# How many different names are there?\n",
    "train.Name.value_counts()"
   ]
  },
  {
   "cell_type": "markdown",
   "metadata": {},
   "source": [
    "Every row has a unique name. This is equivalent to the passenger ID. But name could be used differently.\n",
    "\n",
    "Can you think of ways you could reduce the number of different names? Or create new features out of the names?\n",
    "\n",
    "**Note:** Because of so many different names and to keep this EDA fast, we won't move forward using the name variable."
   ]
  },
  {
   "cell_type": "markdown",
   "metadata": {},
   "source": [
    "### Feature: Sex\n",
    "\n",
    "Description: The sex of the passenger (male or female)."
   ]
  },
  {
   "cell_type": "code",
   "execution_count": 34,
   "metadata": {},
   "outputs": [
    {
     "data": {
      "image/png": "[encoded data removed]",
      "text/plain": [
       "<Figure size 720x216 with 1 Axes>"
      ]
     },
     "metadata": {},
     "output_type": "display_data"
    }
   ],
   "source": [
    "# Let's view the distribution of Sex\n",
    "plt.figure(figsize=(10, 3))\n",
    "sns.countplot(y=\"Sex\", data=train);"
   ]
  },
  {
   "cell_type": "code",
   "execution_count": 35,
   "metadata": {},
   "outputs": [
    {
     "data": {
      "text/plain": [
       "male      577\n",
       "female    314\n",
       "Name: Sex, dtype: int64"
      ]
     },
     "execution_count": 35,
     "metadata": {},
     "output_type": "execute_result"
    }
   ],
   "source": [
    "train['Sex'].value_counts()"
   ]
  },
  {
   "cell_type": "code",
   "execution_count": 36,
   "metadata": {},
   "outputs": [
    {
     "data": {
      "text/plain": [
       "Index(['male', 'female'], dtype='object')"
      ]
     },
     "execution_count": 36,
     "metadata": {},
     "output_type": "execute_result"
    }
   ],
   "source": [
    "train['Sex'].value_counts().keys()"
   ]
  },
  {
   "cell_type": "code",
   "execution_count": 37,
   "metadata": {},
   "outputs": [
    {
     "data": {
      "text/plain": [
       "0"
      ]
     },
     "execution_count": 37,
     "metadata": {},
     "output_type": "execute_result"
    }
   ],
   "source": [
    "# Are there any missing values in the Sex column?\n",
    "train.Sex.isnull().sum()"
   ]
  },
  {
   "cell_type": "markdown",
   "metadata": {},
   "source": [
    "Since this is already binary variable (male or female), let's add it straight to our subset dataframes."
   ]
  },
  {
   "cell_type": "code",
   "execution_count": 38,
   "metadata": {},
   "outputs": [
    {
     "data": {
      "text/plain": [
       "0      male\n",
       "1    female\n",
       "2    female\n",
       "3    female\n",
       "4      male\n",
       "Name: Sex, dtype: object"
      ]
     },
     "execution_count": 38,
     "metadata": {},
     "output_type": "execute_result"
    }
   ],
   "source": [
    "train.Sex.head()"
   ]
  },
  {
   "cell_type": "code",
   "execution_count": 39,
   "metadata": {},
   "outputs": [],
   "source": [
    "# add Sex to the subset dataframes\n",
    "df_bin['Sex'] = train['Sex']\n",
    "df_bin['Sex'] = np.where(df_bin['Sex'] == 'female', 1, 0) # change sex to 0 for male and 1 for female\n",
    "\n",
    "df_con['Sex'] = train['Sex']"
   ]
  },
  {
   "cell_type": "code",
   "execution_count": 40,
   "metadata": {},
   "outputs": [
    {
     "data": {
      "text/html": [
       "<div>\n",
       "<style scoped>\n",
       "    .dataframe tbody tr th:only-of-type {\n",
       "        vertical-align: middle;\n",
       "    }\n",
       "\n",
       "    .dataframe tbody tr th {\n",
       "        vertical-align: top;\n",
       "    }\n",
       "\n",
       "    .dataframe thead th {\n",
       "        text-align: right;\n",
       "    }\n",
       "</style>\n",
       "<table border=\"1\" class=\"dataframe\">\n",
       "  <thead>\n",
       "    <tr style=\"text-align: right;\">\n",
       "      <th></th>\n",
       "      <th>Survived</th>\n",
       "      <th>Pclass</th>\n",
       "      <th>Sex</th>\n",
       "    </tr>\n",
       "  </thead>\n",
       "  <tbody>\n",
       "    <tr>\n",
       "      <th>0</th>\n",
       "      <td>0</td>\n",
       "      <td>3</td>\n",
       "      <td>0</td>\n",
       "    </tr>\n",
       "    <tr>\n",
       "      <th>1</th>\n",
       "      <td>1</td>\n",
       "      <td>1</td>\n",
       "      <td>1</td>\n",
       "    </tr>\n",
       "    <tr>\n",
       "      <th>2</th>\n",
       "      <td>1</td>\n",
       "      <td>3</td>\n",
       "      <td>1</td>\n",
       "    </tr>\n",
       "    <tr>\n",
       "      <th>3</th>\n",
       "      <td>1</td>\n",
       "      <td>1</td>\n",
       "      <td>1</td>\n",
       "    </tr>\n",
       "    <tr>\n",
       "      <th>4</th>\n",
       "      <td>0</td>\n",
       "      <td>3</td>\n",
       "      <td>0</td>\n",
       "    </tr>\n",
       "  </tbody>\n",
       "</table>\n",
       "</div>"
      ],
      "text/plain": [
       "   Survived  Pclass  Sex\n",
       "0         0       3    0\n",
       "1         1       1    1\n",
       "2         1       3    1\n",
       "3         1       1    1\n",
       "4         0       3    0"
      ]
     },
     "execution_count": 40,
     "metadata": {},
     "output_type": "execute_result"
    }
   ],
   "source": [
    "df_bin.head()"
   ]
  },
  {
   "cell_type": "code",
   "execution_count": 41,
   "metadata": {},
   "outputs": [
    {
     "data": {
      "image/png": "[encoded data removed]",
      "text/plain": [
       "<Figure size 720x720 with 1 Axes>"
      ]
     },
     "metadata": {},
     "output_type": "display_data"
    }
   ],
   "source": [
    "# How does the Sex variable look compared to Survival?\n",
    "# We can see this because they're both binarys.\n",
    "fig = plt.figure(figsize=(10, 10))\n",
    "sns.distplot(df_bin.loc[df_bin['Survived'] == 1]['Sex'], kde_kws={'label': 'Survived'});\n",
    "sns.distplot(df_bin.loc[df_bin['Survived'] == 0]['Sex'], kde_kws={'label': 'Did not survive'});"
   ]
  },
  {
   "cell_type": "markdown",
   "metadata": {},
   "source": [
    "Not many people survived. But of those who did, more were female."
   ]
  },
  {
   "cell_type": "markdown",
   "metadata": {},
   "source": [
    "### Feature: Age\n",
    "\n",
    "Description: The age of the passenger."
   ]
  },
  {
   "cell_type": "code",
   "execution_count": 42,
   "metadata": {},
   "outputs": [
    {
     "data": {
      "text/plain": [
       "24.00    30\n",
       "22.00    27\n",
       "18.00    26\n",
       "28.00    25\n",
       "19.00    25\n",
       "         ..\n",
       "55.50     1\n",
       "74.00     1\n",
       "0.92      1\n",
       "70.50     1\n",
       "12.00     1\n",
       "Name: Age, Length: 88, dtype: int64"
      ]
     },
     "execution_count": 42,
     "metadata": {},
     "output_type": "execute_result"
    }
   ],
   "source": [
    "train['Age'].value_counts()"
   ]
  },
  {
   "cell_type": "code",
   "execution_count": 43,
   "metadata": {},
   "outputs": [
    {
     "data": {
      "text/plain": [
       "Float64Index([24.0, 22.0, 18.0, 28.0, 19.0, 30.0, 21.0, 25.0, 36.0, 29.0, 35.0,\n",
       "              32.0, 27.0, 26.0, 16.0, 31.0, 33.0, 34.0, 23.0, 20.0, 39.0, 42.0,\n",
       "              40.0, 17.0, 45.0, 38.0,  4.0,  2.0, 50.0, 47.0, 48.0, 44.0,  9.0,\n",
       "              54.0, 51.0,  1.0, 14.0,  3.0, 41.0, 37.0, 52.0, 49.0, 15.0, 43.0,\n",
       "              58.0,  8.0, 60.0, 11.0, 56.0,  5.0, 62.0, 65.0,  7.0, 61.0, 46.0,\n",
       "               6.0, 40.5, 10.0, 0.75, 30.5, 64.0, 32.5, 0.83, 59.0, 70.0, 63.0,\n",
       "              28.5, 71.0, 13.0, 57.0, 55.0, 45.5, 24.5, 66.0, 20.5, 0.67, 80.0,\n",
       "              14.5, 34.5, 23.5, 53.0, 36.5, 0.42, 55.5, 74.0, 0.92, 70.5,\n",
       "              12.0],\n",
       "             dtype='float64')"
      ]
     },
     "execution_count": 43,
     "metadata": {},
     "output_type": "execute_result"
    }
   ],
   "source": [
    "train['Age'].value_counts().keys()"
   ]
  },
  {
   "cell_type": "code",
   "execution_count": 44,
   "metadata": {},
   "outputs": [
    {
     "data": {
      "text/plain": [
       "(891,)"
      ]
     },
     "execution_count": 44,
     "metadata": {},
     "output_type": "execute_result"
    }
   ],
   "source": [
    "train['Age'].shape"
   ]
  },
  {
   "cell_type": "code",
   "execution_count": 45,
   "metadata": {},
   "outputs": [
    {
     "data": {
      "text/plain": [
       "177"
      ]
     },
     "execution_count": 45,
     "metadata": {},
     "output_type": "execute_result"
    }
   ],
   "source": [
    "# How many missing values does age have?\n",
    "train.Age.isnull().sum()"
   ]
  },
  {
   "cell_type": "code",
   "execution_count": 46,
   "metadata": {},
   "outputs": [],
   "source": [
    "#train = train['Age'].dropna()"
   ]
  },
  {
   "cell_type": "code",
   "execution_count": 47,
   "metadata": {},
   "outputs": [],
   "source": [
    "#train.groupby(['Sex']).Age.mean()"
   ]
  },
  {
   "cell_type": "code",
   "execution_count": 48,
   "metadata": {},
   "outputs": [],
   "source": [
    "#train.groupby(['Sex']).Age.agg(['mean','min','max'])"
   ]
  },
  {
   "cell_type": "code",
   "execution_count": 49,
   "metadata": {},
   "outputs": [],
   "source": [
    "#train.Age.rolling(window=5,min_periods=1).agg(['sum','min'])"
   ]
  },
  {
   "cell_type": "markdown",
   "metadata": {},
   "source": [
    "# Out of a total 891 rows, that's almost one quarter of the dataset.\n",
    "\n",
    "What would you do with these missing values?\n",
    "\n",
    "Could replace them with the average age? What's the pro's and con's of doing this?\n",
    "\n",
    "Or would you get rid of them completely?\n",
    "\n",
    "We won't answer these questions in our initial EDA but this is something we would definitely revisit at a later date.\n"
   ]
  },
  {
   "cell_type": "code",
   "execution_count": 50,
   "metadata": {},
   "outputs": [],
   "source": [
    "# Once the Age values have been fixed up, we can add them to our sub dataframes.\n",
    "df_bin['Age'] = pd.cut(train['Age'], 10) # bucketed/binned into different categories\n",
    "df_con['Age'] = train['Age'] # non-bucketed"
   ]
  },
  {
   "cell_type": "markdown",
   "metadata": {},
   "source": [
    "**Challenge:** How would you fill the missing variables in the `Age` column?"
   ]
  },
  {
   "cell_type": "markdown",
   "metadata": {},
   "source": [
    "#### Function to create count and distribution visualisations"
   ]
  },
  {
   "cell_type": "code",
   "execution_count": 51,
   "metadata": {},
   "outputs": [],
   "source": [
    " def plot_count_dist(data, bin_df, label_column, target_column, figsize=(20, 5), use_bin_df=False):\n",
    "        if use_bin_df:\n",
    "            fig = plt.figure(figsize=figsize)\n",
    "            plt.subplot(1, 2, 1)\n",
    "            sns.countplot(y=target_column, data=bin_df);\n",
    "            plt.subplot(1, 2, 2)\n",
    "            sns.distplot(data.loc[data[label_column] == 1][target_column], \n",
    "                     kde_kws={\"label\": \"Survived\"});\n",
    "            sns.distplot(data.loc[data[label_column] == 0][target_column], \n",
    "                     kde_kws={\"label\": \"Did not survive\"});\n",
    "        else:\n",
    "            fig = plt.figure(figsize=figsize)\n",
    "            plt.subplot(1, 2, 1)\n",
    "            sns.countplot(y=target_column, data=data);\n",
    "            plt.subplot(1, 2, 2)\n",
    "            sns.distplot(data.loc[data[label_column] == 1][target_column], \n",
    "                     kde_kws={\"label\": \"Survived\"});\n",
    "            sns.distplot(data.loc[data[label_column] == 0][target_column], \n",
    "                     kde_kws={\"label\": \"Did not survive\"});"
   ]
  },
  {
   "cell_type": "markdown",
   "metadata": {},
   "source": [
    "### Feature: SibSp\n",
    "\n",
    "Description: The number of siblings/spouses the passenger has aboard the Titanic."
   ]
  },
  {
   "cell_type": "code",
   "execution_count": 52,
   "metadata": {},
   "outputs": [
    {
     "data": {
      "text/plain": [
       "0"
      ]
     },
     "execution_count": 52,
     "metadata": {},
     "output_type": "execute_result"
    }
   ],
   "source": [
    "# How many missing values does SibSp have?\n",
    "train.SibSp.isnull().sum()"
   ]
  },
  {
   "cell_type": "code",
   "execution_count": 53,
   "metadata": {
    "scrolled": false
   },
   "outputs": [
    {
     "data": {
      "text/plain": [
       "0    608\n",
       "1    209\n",
       "2     28\n",
       "4     18\n",
       "3     16\n",
       "8      7\n",
       "5      5\n",
       "Name: SibSp, dtype: int64"
      ]
     },
     "execution_count": 53,
     "metadata": {},
     "output_type": "execute_result"
    }
   ],
   "source": [
    "# What values are there?\n",
    "train.SibSp.value_counts()"
   ]
  },
  {
   "cell_type": "markdown",
   "metadata": {},
   "source": [
    "Let's add SibSp to our subset dataframes and view the distributions."
   ]
  },
  {
   "cell_type": "code",
   "execution_count": 54,
   "metadata": {},
   "outputs": [],
   "source": [
    "# Add SibSp to subset dataframes\n",
    "df_bin['SibSp'] = train['SibSp']\n",
    "df_con['SibSp'] = train['SibSp']"
   ]
  },
  {
   "cell_type": "code",
   "execution_count": 55,
   "metadata": {},
   "outputs": [
    {
     "data": {
      "image/png": "[encoded data removed]",
      "text/plain": [
       "<Figure size 1440x720 with 2 Axes>"
      ]
     },
     "metadata": {},
     "output_type": "display_data"
    }
   ],
   "source": [
    "# Visualise the counts of SibSp and the distribution of the values\n",
    "# against Survived\n",
    "plot_count_dist(train, \n",
    "                bin_df=df_bin, \n",
    "                label_column='Survived', \n",
    "                target_column='SibSp', \n",
    "                figsize=(20, 10))"
   ]
  },
  {
   "cell_type": "markdown",
   "metadata": {},
   "source": [
    "What does the graph on the right tell us?"
   ]
  },
  {
   "cell_type": "markdown",
   "metadata": {},
   "source": [
    "### Feature: Parch\n",
    "\n",
    "Description: The number of parents/children the passenger has aboard the Titanic."
   ]
  },
  {
   "cell_type": "markdown",
   "metadata": {},
   "source": [
    "Since this feature is similar to SibSp, we'll do a similar analysis."
   ]
  },
  {
   "cell_type": "code",
   "execution_count": 56,
   "metadata": {},
   "outputs": [
    {
     "data": {
      "text/plain": [
       "0"
      ]
     },
     "execution_count": 56,
     "metadata": {},
     "output_type": "execute_result"
    }
   ],
   "source": [
    "# How many missing values does Parch have?\n",
    "train.Parch.isnull().sum()"
   ]
  },
  {
   "cell_type": "code",
   "execution_count": 57,
   "metadata": {},
   "outputs": [
    {
     "data": {
      "text/plain": [
       "0    678\n",
       "1    118\n",
       "2     80\n",
       "3      5\n",
       "5      5\n",
       "4      4\n",
       "6      1\n",
       "Name: Parch, dtype: int64"
      ]
     },
     "execution_count": 57,
     "metadata": {},
     "output_type": "execute_result"
    }
   ],
   "source": [
    "# What values are there?\n",
    "train.Parch.value_counts()"
   ]
  },
  {
   "cell_type": "code",
   "execution_count": 58,
   "metadata": {},
   "outputs": [],
   "source": [
    "# Add Parch to subset dataframes\n",
    "df_bin['Parch'] = train['Parch']\n",
    "df_con['Parch'] = train['Parch']"
   ]
  },
  {
   "cell_type": "code",
   "execution_count": 59,
   "metadata": {},
   "outputs": [
    {
     "data": {
      "image/png": "[encoded data removed]",
      "text/plain": [
       "<Figure size 1440x720 with 2 Axes>"
      ]
     },
     "metadata": {},
     "output_type": "display_data"
    }
   ],
   "source": [
    "# Visualise the counts of Parch and the distribution of the values\n",
    "# against Survived\n",
    "plot_count_dist(train, \n",
    "                bin_df=df_bin,\n",
    "                label_column='Survived', \n",
    "                target_column='Parch', \n",
    "                figsize=(20, 10))"
   ]
  },
  {
   "cell_type": "markdown",
   "metadata": {},
   "source": [
    "What does the graph on the right tell us about `Parch`?"
   ]
  },
  {
   "cell_type": "code",
   "execution_count": 60,
   "metadata": {},
   "outputs": [
    {
     "data": {
      "text/html": [
       "<div>\n",
       "<style scoped>\n",
       "    .dataframe tbody tr th:only-of-type {\n",
       "        vertical-align: middle;\n",
       "    }\n",
       "\n",
       "    .dataframe tbody tr th {\n",
       "        vertical-align: top;\n",
       "    }\n",
       "\n",
       "    .dataframe thead th {\n",
       "        text-align: right;\n",
       "    }\n",
       "</style>\n",
       "<table border=\"1\" class=\"dataframe\">\n",
       "  <thead>\n",
       "    <tr style=\"text-align: right;\">\n",
       "      <th></th>\n",
       "      <th>PassengerId</th>\n",
       "      <th>Survived</th>\n",
       "      <th>Pclass</th>\n",
       "      <th>Name</th>\n",
       "      <th>Sex</th>\n",
       "      <th>Age</th>\n",
       "      <th>SibSp</th>\n",
       "      <th>Parch</th>\n",
       "      <th>Ticket</th>\n",
       "      <th>Fare</th>\n",
       "      <th>Cabin</th>\n",
       "      <th>Embarked</th>\n",
       "    </tr>\n",
       "  </thead>\n",
       "  <tbody>\n",
       "    <tr>\n",
       "      <th>0</th>\n",
       "      <td>1</td>\n",
       "      <td>0</td>\n",
       "      <td>3</td>\n",
       "      <td>Braund, Mr. Owen Harris</td>\n",
       "      <td>male</td>\n",
       "      <td>22.0</td>\n",
       "      <td>1</td>\n",
       "      <td>0</td>\n",
       "      <td>A/5 21171</td>\n",
       "      <td>7.2500</td>\n",
       "      <td>NaN</td>\n",
       "      <td>S</td>\n",
       "    </tr>\n",
       "    <tr>\n",
       "      <th>1</th>\n",
       "      <td>2</td>\n",
       "      <td>1</td>\n",
       "      <td>1</td>\n",
       "      <td>Cumings, Mrs. John Bradley (Florence Briggs Th...</td>\n",
       "      <td>female</td>\n",
       "      <td>38.0</td>\n",
       "      <td>1</td>\n",
       "      <td>0</td>\n",
       "      <td>PC 17599</td>\n",
       "      <td>71.2833</td>\n",
       "      <td>C85</td>\n",
       "      <td>C</td>\n",
       "    </tr>\n",
       "    <tr>\n",
       "      <th>2</th>\n",
       "      <td>3</td>\n",
       "      <td>1</td>\n",
       "      <td>3</td>\n",
       "      <td>Heikkinen, Miss. Laina</td>\n",
       "      <td>female</td>\n",
       "      <td>26.0</td>\n",
       "      <td>0</td>\n",
       "      <td>0</td>\n",
       "      <td>STON/O2. 3101282</td>\n",
       "      <td>7.9250</td>\n",
       "      <td>NaN</td>\n",
       "      <td>S</td>\n",
       "    </tr>\n",
       "    <tr>\n",
       "      <th>3</th>\n",
       "      <td>4</td>\n",
       "      <td>1</td>\n",
       "      <td>1</td>\n",
       "      <td>Futrelle, Mrs. Jacques Heath (Lily May Peel)</td>\n",
       "      <td>female</td>\n",
       "      <td>35.0</td>\n",
       "      <td>1</td>\n",
       "      <td>0</td>\n",
       "      <td>113803</td>\n",
       "      <td>53.1000</td>\n",
       "      <td>C123</td>\n",
       "      <td>S</td>\n",
       "    </tr>\n",
       "    <tr>\n",
       "      <th>4</th>\n",
       "      <td>5</td>\n",
       "      <td>0</td>\n",
       "      <td>3</td>\n",
       "      <td>Allen, Mr. William Henry</td>\n",
       "      <td>male</td>\n",
       "      <td>35.0</td>\n",
       "      <td>0</td>\n",
       "      <td>0</td>\n",
       "      <td>373450</td>\n",
       "      <td>8.0500</td>\n",
       "      <td>NaN</td>\n",
       "      <td>S</td>\n",
       "    </tr>\n",
       "  </tbody>\n",
       "</table>\n",
       "</div>"
      ],
      "text/plain": [
       "   PassengerId  Survived  Pclass  \\\n",
       "0            1         0       3   \n",
       "1            2         1       1   \n",
       "2            3         1       3   \n",
       "3            4         1       1   \n",
       "4            5         0       3   \n",
       "\n",
       "                                                Name     Sex   Age  SibSp  \\\n",
       "0                            Braund, Mr. Owen Harris    male  22.0      1   \n",
       "1  Cumings, Mrs. John Bradley (Florence Briggs Th...  female  38.0      1   \n",
       "2                             Heikkinen, Miss. Laina  female  26.0      0   \n",
       "3       Futrelle, Mrs. Jacques Heath (Lily May Peel)  female  35.0      1   \n",
       "4                           Allen, Mr. William Henry    male  35.0      0   \n",
       "\n",
       "   Parch            Ticket     Fare Cabin Embarked  \n",
       "0      0         A/5 21171   7.2500   NaN        S  \n",
       "1      0          PC 17599  71.2833   C85        C  \n",
       "2      0  STON/O2. 3101282   7.9250   NaN        S  \n",
       "3      0            113803  53.1000  C123        S  \n",
       "4      0            373450   8.0500   NaN        S  "
      ]
     },
     "execution_count": 60,
     "metadata": {},
     "output_type": "execute_result"
    }
   ],
   "source": [
    "train.head()"
   ]
  },
  {
   "cell_type": "code",
   "execution_count": 61,
   "metadata": {},
   "outputs": [
    {
     "data": {
      "text/html": [
       "<div>\n",
       "<style scoped>\n",
       "    .dataframe tbody tr th:only-of-type {\n",
       "        vertical-align: middle;\n",
       "    }\n",
       "\n",
       "    .dataframe tbody tr th {\n",
       "        vertical-align: top;\n",
       "    }\n",
       "\n",
       "    .dataframe thead th {\n",
       "        text-align: right;\n",
       "    }\n",
       "</style>\n",
       "<table border=\"1\" class=\"dataframe\">\n",
       "  <thead>\n",
       "    <tr style=\"text-align: right;\">\n",
       "      <th></th>\n",
       "      <th>Survived</th>\n",
       "      <th>Pclass</th>\n",
       "      <th>Sex</th>\n",
       "      <th>Age</th>\n",
       "      <th>SibSp</th>\n",
       "      <th>Parch</th>\n",
       "    </tr>\n",
       "  </thead>\n",
       "  <tbody>\n",
       "    <tr>\n",
       "      <th>0</th>\n",
       "      <td>0</td>\n",
       "      <td>3</td>\n",
       "      <td>male</td>\n",
       "      <td>22.0</td>\n",
       "      <td>1</td>\n",
       "      <td>0</td>\n",
       "    </tr>\n",
       "    <tr>\n",
       "      <th>1</th>\n",
       "      <td>1</td>\n",
       "      <td>1</td>\n",
       "      <td>female</td>\n",
       "      <td>38.0</td>\n",
       "      <td>1</td>\n",
       "      <td>0</td>\n",
       "    </tr>\n",
       "    <tr>\n",
       "      <th>2</th>\n",
       "      <td>1</td>\n",
       "      <td>3</td>\n",
       "      <td>female</td>\n",
       "      <td>26.0</td>\n",
       "      <td>0</td>\n",
       "      <td>0</td>\n",
       "    </tr>\n",
       "    <tr>\n",
       "      <th>3</th>\n",
       "      <td>1</td>\n",
       "      <td>1</td>\n",
       "      <td>female</td>\n",
       "      <td>35.0</td>\n",
       "      <td>1</td>\n",
       "      <td>0</td>\n",
       "    </tr>\n",
       "    <tr>\n",
       "      <th>4</th>\n",
       "      <td>0</td>\n",
       "      <td>3</td>\n",
       "      <td>male</td>\n",
       "      <td>35.0</td>\n",
       "      <td>0</td>\n",
       "      <td>0</td>\n",
       "    </tr>\n",
       "  </tbody>\n",
       "</table>\n",
       "</div>"
      ],
      "text/plain": [
       "   Survived  Pclass     Sex   Age  SibSp  Parch\n",
       "0         0       3    male  22.0      1      0\n",
       "1         1       1  female  38.0      1      0\n",
       "2         1       3  female  26.0      0      0\n",
       "3         1       1  female  35.0      1      0\n",
       "4         0       3    male  35.0      0      0"
      ]
     },
     "execution_count": 61,
     "metadata": {},
     "output_type": "execute_result"
    }
   ],
   "source": [
    "df_con.head()"
   ]
  },
  {
   "cell_type": "markdown",
   "metadata": {},
   "source": [
    "### Feature: Ticket\n",
    "\n",
    "Description: The ticket number of the boarding passenger."
   ]
  },
  {
   "cell_type": "code",
   "execution_count": 62,
   "metadata": {},
   "outputs": [
    {
     "data": {
      "text/plain": [
       "0"
      ]
     },
     "execution_count": 62,
     "metadata": {},
     "output_type": "execute_result"
    }
   ],
   "source": [
    "# How many missing values does Ticket have?\n",
    "train.Ticket.isnull().sum()"
   ]
  },
  {
   "cell_type": "code",
   "execution_count": 63,
   "metadata": {},
   "outputs": [
    {
     "data": {
      "image/png": "[encoded data removed]",
      "text/plain": [
       "<Figure size 432x288 with 1 Axes>"
      ]
     },
     "metadata": {},
     "output_type": "display_data"
    }
   ],
   "source": [
    "# How many kinds of ticket are there?\n",
    "sns.countplot(y=\"Ticket\", data=train);"
   ]
  },
  {
   "cell_type": "markdown",
   "metadata": {},
   "source": [
    "That doesn't look too good, what about another way of looking at it?"
   ]
  },
  {
   "cell_type": "code",
   "execution_count": 64,
   "metadata": {},
   "outputs": [
    {
     "data": {
      "text/plain": [
       "1601         7\n",
       "347082       7\n",
       "CA. 2343     7\n",
       "347088       6\n",
       "CA 2144      6\n",
       "            ..\n",
       "347063       1\n",
       "C.A. 5547    1\n",
       "345572       1\n",
       "350407       1\n",
       "365226       1\n",
       "Name: Ticket, Length: 681, dtype: int64"
      ]
     },
     "execution_count": 64,
     "metadata": {},
     "output_type": "execute_result"
    }
   ],
   "source": [
    "# How many kinds of ticket are there?\n",
    "train.Ticket.value_counts()"
   ]
  },
  {
   "cell_type": "code",
   "execution_count": 65,
   "metadata": {},
   "outputs": [
    {
     "name": "stdout",
     "output_type": "stream",
     "text": [
      "There are 681 unique Ticket values.\n"
     ]
    }
   ],
   "source": [
    "# How many unique kinds of Ticket are there?\n",
    "print(\"There are {} unique Ticket values.\".format(len(train.Ticket.unique())))"
   ]
  },
  {
   "cell_type": "markdown",
   "metadata": {},
   "source": [
    "681 unique values is too many for now. So we won't use `Ticket` in our subset dataframes.\n",
    "\n",
    "There may be some way to reduce this down. \n",
    "\n",
    "**Challenge:** How could you reduce the Ticket feature? Is it even possible?\n",
    "\n",
    "*Hint:* It may be similar to what you could do with Name."
   ]
  },
  {
   "cell_type": "markdown",
   "metadata": {},
   "source": [
    "### Feature: Fare\n",
    "\n",
    "Description: How much the ticket cost."
   ]
  },
  {
   "cell_type": "code",
   "execution_count": 66,
   "metadata": {},
   "outputs": [
    {
     "data": {
      "text/plain": [
       "0"
      ]
     },
     "execution_count": 66,
     "metadata": {},
     "output_type": "execute_result"
    }
   ],
   "source": [
    "# How many missing values does Fare have?\n",
    "train.Fare.isnull().sum()"
   ]
  },
  {
   "cell_type": "code",
   "execution_count": 67,
   "metadata": {},
   "outputs": [
    {
     "data": {
      "image/png": "[encoded data removed]",
      "text/plain": [
       "<Figure size 432x288 with 1 Axes>"
      ]
     },
     "metadata": {},
     "output_type": "display_data"
    }
   ],
   "source": [
    "# How many different values of Fare are there?\n",
    "sns.countplot(y=\"Fare\", data=train);"
   ]
  },
  {
   "cell_type": "code",
   "execution_count": 68,
   "metadata": {},
   "outputs": [
    {
     "data": {
      "text/plain": [
       "dtype('float64')"
      ]
     },
     "execution_count": 68,
     "metadata": {},
     "output_type": "execute_result"
    }
   ],
   "source": [
    "# What kind of variable is Fare?\n",
    "train.Fare.dtype"
   ]
  },
  {
   "cell_type": "code",
   "execution_count": 69,
   "metadata": {},
   "outputs": [
    {
     "name": "stdout",
     "output_type": "stream",
     "text": [
      "There are 248 unique Fare values.\n"
     ]
    }
   ],
   "source": [
    "# How many unique kinds of Fare are there?\n",
    "print(\"There are {} unique Fare values.\".format(len(train.Fare.unique())))"
   ]
  },
  {
   "cell_type": "markdown",
   "metadata": {},
   "source": [
    "Because Fare is a float (number) let's add it as it is to our continuous sub dataframe but to add it to our categorical sub dataframe, we'll cut it into bins."
   ]
  },
  {
   "cell_type": "code",
   "execution_count": 70,
   "metadata": {},
   "outputs": [],
   "source": [
    "# Add Fare to sub dataframes\n",
    "df_con['Fare'] = train['Fare'] \n",
    "df_bin['Fare'] = pd.cut(train['Fare'], bins=5) # discretised "
   ]
  },
  {
   "cell_type": "code",
   "execution_count": 71,
   "metadata": {},
   "outputs": [
    {
     "data": {
      "text/plain": [
       "(-0.512, 102.466]     838\n",
       "(102.466, 204.932]     33\n",
       "(204.932, 307.398]     17\n",
       "(409.863, 512.329]      3\n",
       "(307.398, 409.863]      0\n",
       "Name: Fare, dtype: int64"
      ]
     },
     "execution_count": 71,
     "metadata": {},
     "output_type": "execute_result"
    }
   ],
   "source": [
    "# What do our Fare bins look like?\n",
    "df_bin.Fare.value_counts()"
   ]
  },
  {
   "cell_type": "code",
   "execution_count": 72,
   "metadata": {},
   "outputs": [
    {
     "data": {
      "image/png": "[encoded data removed]",
      "text/plain": [
       "<Figure size 1440x720 with 2 Axes>"
      ]
     },
     "metadata": {},
     "output_type": "display_data"
    }
   ],
   "source": [
    "# Visualise the Fare bin counts as well as the Fare distribution versus Survived.\n",
    "plot_count_dist(data=train,\n",
    "                bin_df=df_bin,\n",
    "                label_column='Survived', \n",
    "                target_column='Fare', \n",
    "                figsize=(20,10), \n",
    "                use_bin_df=True)"
   ]
  },
  {
   "cell_type": "markdown",
   "metadata": {},
   "source": [
    "**Challenge:** How would you change the Fare bins?"
   ]
  },
  {
   "cell_type": "markdown",
   "metadata": {},
   "source": [
    "### Feature: Cabin\n",
    "\n",
    "Description: The cabin number where the passenger was staying.    "
   ]
  },
  {
   "cell_type": "code",
   "execution_count": 73,
   "metadata": {},
   "outputs": [
    {
     "data": {
      "text/plain": [
       "687"
      ]
     },
     "execution_count": 73,
     "metadata": {},
     "output_type": "execute_result"
    }
   ],
   "source": [
    "# How many missing values does Cabin have?\n",
    "train.Cabin.isnull().sum()"
   ]
  },
  {
   "cell_type": "code",
   "execution_count": 74,
   "metadata": {},
   "outputs": [
    {
     "data": {
      "text/html": [
       "<div>\n",
       "<style scoped>\n",
       "    .dataframe tbody tr th:only-of-type {\n",
       "        vertical-align: middle;\n",
       "    }\n",
       "\n",
       "    .dataframe tbody tr th {\n",
       "        vertical-align: top;\n",
       "    }\n",
       "\n",
       "    .dataframe thead th {\n",
       "        text-align: right;\n",
       "    }\n",
       "</style>\n",
       "<table border=\"1\" class=\"dataframe\">\n",
       "  <thead>\n",
       "    <tr style=\"text-align: right;\">\n",
       "      <th></th>\n",
       "      <th>PassengerId</th>\n",
       "      <th>Survived</th>\n",
       "      <th>Pclass</th>\n",
       "      <th>Name</th>\n",
       "      <th>Sex</th>\n",
       "      <th>Age</th>\n",
       "      <th>SibSp</th>\n",
       "      <th>Parch</th>\n",
       "      <th>Ticket</th>\n",
       "      <th>Fare</th>\n",
       "      <th>Cabin</th>\n",
       "      <th>Embarked</th>\n",
       "    </tr>\n",
       "  </thead>\n",
       "  <tbody>\n",
       "    <tr>\n",
       "      <th>0</th>\n",
       "      <td>1</td>\n",
       "      <td>0</td>\n",
       "      <td>3</td>\n",
       "      <td>Braund, Mr. Owen Harris</td>\n",
       "      <td>male</td>\n",
       "      <td>22.0</td>\n",
       "      <td>1</td>\n",
       "      <td>0</td>\n",
       "      <td>A/5 21171</td>\n",
       "      <td>7.2500</td>\n",
       "      <td>NaN</td>\n",
       "      <td>S</td>\n",
       "    </tr>\n",
       "    <tr>\n",
       "      <th>1</th>\n",
       "      <td>2</td>\n",
       "      <td>1</td>\n",
       "      <td>1</td>\n",
       "      <td>Cumings, Mrs. John Bradley (Florence Briggs Th...</td>\n",
       "      <td>female</td>\n",
       "      <td>38.0</td>\n",
       "      <td>1</td>\n",
       "      <td>0</td>\n",
       "      <td>PC 17599</td>\n",
       "      <td>71.2833</td>\n",
       "      <td>C85</td>\n",
       "      <td>C</td>\n",
       "    </tr>\n",
       "    <tr>\n",
       "      <th>2</th>\n",
       "      <td>3</td>\n",
       "      <td>1</td>\n",
       "      <td>3</td>\n",
       "      <td>Heikkinen, Miss. Laina</td>\n",
       "      <td>female</td>\n",
       "      <td>26.0</td>\n",
       "      <td>0</td>\n",
       "      <td>0</td>\n",
       "      <td>STON/O2. 3101282</td>\n",
       "      <td>7.9250</td>\n",
       "      <td>NaN</td>\n",
       "      <td>S</td>\n",
       "    </tr>\n",
       "    <tr>\n",
       "      <th>3</th>\n",
       "      <td>4</td>\n",
       "      <td>1</td>\n",
       "      <td>1</td>\n",
       "      <td>Futrelle, Mrs. Jacques Heath (Lily May Peel)</td>\n",
       "      <td>female</td>\n",
       "      <td>35.0</td>\n",
       "      <td>1</td>\n",
       "      <td>0</td>\n",
       "      <td>113803</td>\n",
       "      <td>53.1000</td>\n",
       "      <td>C123</td>\n",
       "      <td>S</td>\n",
       "    </tr>\n",
       "    <tr>\n",
       "      <th>4</th>\n",
       "      <td>5</td>\n",
       "      <td>0</td>\n",
       "      <td>3</td>\n",
       "      <td>Allen, Mr. William Henry</td>\n",
       "      <td>male</td>\n",
       "      <td>35.0</td>\n",
       "      <td>0</td>\n",
       "      <td>0</td>\n",
       "      <td>373450</td>\n",
       "      <td>8.0500</td>\n",
       "      <td>NaN</td>\n",
       "      <td>S</td>\n",
       "    </tr>\n",
       "  </tbody>\n",
       "</table>\n",
       "</div>"
      ],
      "text/plain": [
       "   PassengerId  Survived  Pclass  \\\n",
       "0            1         0       3   \n",
       "1            2         1       1   \n",
       "2            3         1       3   \n",
       "3            4         1       1   \n",
       "4            5         0       3   \n",
       "\n",
       "                                                Name     Sex   Age  SibSp  \\\n",
       "0                            Braund, Mr. Owen Harris    male  22.0      1   \n",
       "1  Cumings, Mrs. John Bradley (Florence Briggs Th...  female  38.0      1   \n",
       "2                             Heikkinen, Miss. Laina  female  26.0      0   \n",
       "3       Futrelle, Mrs. Jacques Heath (Lily May Peel)  female  35.0      1   \n",
       "4                           Allen, Mr. William Henry    male  35.0      0   \n",
       "\n",
       "   Parch            Ticket     Fare Cabin Embarked  \n",
       "0      0         A/5 21171   7.2500   NaN        S  \n",
       "1      0          PC 17599  71.2833   C85        C  \n",
       "2      0  STON/O2. 3101282   7.9250   NaN        S  \n",
       "3      0            113803  53.1000  C123        S  \n",
       "4      0            373450   8.0500   NaN        S  "
      ]
     },
     "execution_count": 74,
     "metadata": {},
     "output_type": "execute_result"
    }
   ],
   "source": [
    "train.head()"
   ]
  },
  {
   "cell_type": "code",
   "execution_count": 75,
   "metadata": {},
   "outputs": [
    {
     "data": {
      "text/plain": [
       "C23 C25 C27    4\n",
       "G6             4\n",
       "B96 B98        4\n",
       "C22 C26        3\n",
       "E101           3\n",
       "              ..\n",
       "D9             1\n",
       "E50            1\n",
       "E17            1\n",
       "C85            1\n",
       "D15            1\n",
       "Name: Cabin, Length: 147, dtype: int64"
      ]
     },
     "execution_count": 75,
     "metadata": {},
     "output_type": "execute_result"
    }
   ],
   "source": [
    "# What do the Cabin values look like?\n",
    "train.Cabin.value_counts()"
   ]
  },
  {
   "cell_type": "markdown",
   "metadata": {},
   "source": [
    "Since there are too many missing values, we won't use Cabin for our initial models and won't add it to our sub dataframes.\n",
    "\n",
    "But how could you modify cabin to be more usable?\n",
    "\n",
    "What could you do about the missing values?"
   ]
  },
  {
   "cell_type": "markdown",
   "metadata": {},
   "source": [
    "### Feature: Embarked\n",
    "\n",
    "Description: The port where the passenger boarded the Titanic.\n",
    "    \n",
    "Key: C = Cherbourg, Q = Queenstown, S = Southampton"
   ]
  },
  {
   "cell_type": "code",
   "execution_count": 76,
   "metadata": {},
   "outputs": [
    {
     "data": {
      "text/plain": [
       "2"
      ]
     },
     "execution_count": 76,
     "metadata": {},
     "output_type": "execute_result"
    }
   ],
   "source": [
    "# How many missing values does Embarked have?\n",
    "train.Embarked.isnull().sum()"
   ]
  },
  {
   "cell_type": "code",
   "execution_count": 77,
   "metadata": {
    "scrolled": true
   },
   "outputs": [
    {
     "data": {
      "text/plain": [
       "S    644\n",
       "C    168\n",
       "Q     77\n",
       "Name: Embarked, dtype: int64"
      ]
     },
     "execution_count": 77,
     "metadata": {},
     "output_type": "execute_result"
    }
   ],
   "source": [
    "# What kind of values are in Embarked?\n",
    "train.Embarked.value_counts()"
   ]
  },
  {
   "cell_type": "markdown",
   "metadata": {},
   "source": [
    "Embarked is a categorical variable because there are 3 categories which a passenger could have boarded on."
   ]
  },
  {
   "cell_type": "code",
   "execution_count": 78,
   "metadata": {},
   "outputs": [
    {
     "data": {
      "image/png": "[encoded data removed]",
      "text/plain": [
       "<Figure size 432x288 with 1 Axes>"
      ]
     },
     "metadata": {},
     "output_type": "display_data"
    }
   ],
   "source": [
    "# What do the counts look like?\n",
    "sns.countplot(y='Embarked', data=train);"
   ]
  },
  {
   "cell_type": "markdown",
   "metadata": {},
   "source": [
    "#### How can we deal with the 2 missing values of Embarked?"
   ]
  },
  {
   "cell_type": "markdown",
   "metadata": {},
   "source": [
    "One option is to drop the two rows which don't have an Embarked value.\n",
    "\n",
    "Another option would be to randomly assign a value of C, Q or S to each row.\n",
    "\n",
    "What are the pros and cons of each?\n",
    "\n",
    "For now, we will remove those rows."
   ]
  },
  {
   "cell_type": "code",
   "execution_count": 79,
   "metadata": {},
   "outputs": [],
   "source": [
    "# Add Embarked to sub dataframes\n",
    "df_bin['Embarked'] = train['Embarked']\n",
    "df_con['Embarked'] = train['Embarked']"
   ]
  },
  {
   "cell_type": "code",
   "execution_count": 80,
   "metadata": {},
   "outputs": [
    {
     "name": "stdout",
     "output_type": "stream",
     "text": [
      "891\n",
      "889\n"
     ]
    }
   ],
   "source": [
    "# Remove Embarked rows which are missing values\n",
    "print(len(df_con))\n",
    "df_con = df_con.dropna(subset=['Embarked'])\n",
    "df_bin = df_bin.dropna(subset=['Embarked'])\n",
    "print(len(df_con))"
   ]
  },
  {
   "cell_type": "markdown",
   "metadata": {},
   "source": [
    "We've removed the two rows with missing values for Embarked, now we can add Embarked to our sub dataframes."
   ]
  },
  {
   "cell_type": "markdown",
   "metadata": {},
   "source": [
    "## Feature Encoding\n",
    "Now we have our two sub dataframes ready. We can encode the features so they're ready to be used with our machine learning models.\n",
    "\n",
    "We will encode our binned dataframe (`df_bin`) with one-hot encoding and our continuous dataframe (`df_con`) with the label encoding function from `sklearn`."
   ]
  },
  {
   "cell_type": "code",
   "execution_count": 81,
   "metadata": {},
   "outputs": [
    {
     "data": {
      "text/html": [
       "<div>\n",
       "<style scoped>\n",
       "    .dataframe tbody tr th:only-of-type {\n",
       "        vertical-align: middle;\n",
       "    }\n",
       "\n",
       "    .dataframe tbody tr th {\n",
       "        vertical-align: top;\n",
       "    }\n",
       "\n",
       "    .dataframe thead th {\n",
       "        text-align: right;\n",
       "    }\n",
       "</style>\n",
       "<table border=\"1\" class=\"dataframe\">\n",
       "  <thead>\n",
       "    <tr style=\"text-align: right;\">\n",
       "      <th></th>\n",
       "      <th>Survived</th>\n",
       "      <th>Pclass</th>\n",
       "      <th>Sex</th>\n",
       "      <th>Age</th>\n",
       "      <th>SibSp</th>\n",
       "      <th>Parch</th>\n",
       "      <th>Fare</th>\n",
       "      <th>Embarked</th>\n",
       "    </tr>\n",
       "  </thead>\n",
       "  <tbody>\n",
       "    <tr>\n",
       "      <th>0</th>\n",
       "      <td>0</td>\n",
       "      <td>3</td>\n",
       "      <td>0</td>\n",
       "      <td>(16.336, 24.294]</td>\n",
       "      <td>1</td>\n",
       "      <td>0</td>\n",
       "      <td>(-0.512, 102.466]</td>\n",
       "      <td>S</td>\n",
       "    </tr>\n",
       "    <tr>\n",
       "      <th>1</th>\n",
       "      <td>1</td>\n",
       "      <td>1</td>\n",
       "      <td>1</td>\n",
       "      <td>(32.252, 40.21]</td>\n",
       "      <td>1</td>\n",
       "      <td>0</td>\n",
       "      <td>(-0.512, 102.466]</td>\n",
       "      <td>C</td>\n",
       "    </tr>\n",
       "    <tr>\n",
       "      <th>2</th>\n",
       "      <td>1</td>\n",
       "      <td>3</td>\n",
       "      <td>1</td>\n",
       "      <td>(24.294, 32.252]</td>\n",
       "      <td>0</td>\n",
       "      <td>0</td>\n",
       "      <td>(-0.512, 102.466]</td>\n",
       "      <td>S</td>\n",
       "    </tr>\n",
       "    <tr>\n",
       "      <th>3</th>\n",
       "      <td>1</td>\n",
       "      <td>1</td>\n",
       "      <td>1</td>\n",
       "      <td>(32.252, 40.21]</td>\n",
       "      <td>1</td>\n",
       "      <td>0</td>\n",
       "      <td>(-0.512, 102.466]</td>\n",
       "      <td>S</td>\n",
       "    </tr>\n",
       "    <tr>\n",
       "      <th>4</th>\n",
       "      <td>0</td>\n",
       "      <td>3</td>\n",
       "      <td>0</td>\n",
       "      <td>(32.252, 40.21]</td>\n",
       "      <td>0</td>\n",
       "      <td>0</td>\n",
       "      <td>(-0.512, 102.466]</td>\n",
       "      <td>S</td>\n",
       "    </tr>\n",
       "  </tbody>\n",
       "</table>\n",
       "</div>"
      ],
      "text/plain": [
       "   Survived  Pclass  Sex               Age  SibSp  Parch               Fare  \\\n",
       "0         0       3    0  (16.336, 24.294]      1      0  (-0.512, 102.466]   \n",
       "1         1       1    1   (32.252, 40.21]      1      0  (-0.512, 102.466]   \n",
       "2         1       3    1  (24.294, 32.252]      0      0  (-0.512, 102.466]   \n",
       "3         1       1    1   (32.252, 40.21]      1      0  (-0.512, 102.466]   \n",
       "4         0       3    0   (32.252, 40.21]      0      0  (-0.512, 102.466]   \n",
       "\n",
       "  Embarked  \n",
       "0        S  \n",
       "1        C  \n",
       "2        S  \n",
       "3        S  \n",
       "4        S  "
      ]
     },
     "execution_count": 81,
     "metadata": {},
     "output_type": "execute_result"
    }
   ],
   "source": [
    "df_bin.head()"
   ]
  },
  {
   "cell_type": "code",
   "execution_count": 82,
   "metadata": {},
   "outputs": [
    {
     "data": {
      "text/html": [
       "<div>\n",
       "<style scoped>\n",
       "    .dataframe tbody tr th:only-of-type {\n",
       "        vertical-align: middle;\n",
       "    }\n",
       "\n",
       "    .dataframe tbody tr th {\n",
       "        vertical-align: top;\n",
       "    }\n",
       "\n",
       "    .dataframe thead th {\n",
       "        text-align: right;\n",
       "    }\n",
       "</style>\n",
       "<table border=\"1\" class=\"dataframe\">\n",
       "  <thead>\n",
       "    <tr style=\"text-align: right;\">\n",
       "      <th></th>\n",
       "      <th>Survived</th>\n",
       "      <th>Pclass_1</th>\n",
       "      <th>Pclass_2</th>\n",
       "      <th>Pclass_3</th>\n",
       "      <th>Sex_0</th>\n",
       "      <th>Sex_1</th>\n",
       "      <th>Age_(0.34, 8.378]</th>\n",
       "      <th>Age_(8.378, 16.336]</th>\n",
       "      <th>Age_(16.336, 24.294]</th>\n",
       "      <th>Age_(24.294, 32.252]</th>\n",
       "      <th>...</th>\n",
       "      <th>Parch_5</th>\n",
       "      <th>Parch_6</th>\n",
       "      <th>Fare_(-0.512, 102.466]</th>\n",
       "      <th>Fare_(102.466, 204.932]</th>\n",
       "      <th>Fare_(204.932, 307.398]</th>\n",
       "      <th>Fare_(307.398, 409.863]</th>\n",
       "      <th>Fare_(409.863, 512.329]</th>\n",
       "      <th>Embarked_C</th>\n",
       "      <th>Embarked_Q</th>\n",
       "      <th>Embarked_S</th>\n",
       "    </tr>\n",
       "  </thead>\n",
       "  <tbody>\n",
       "    <tr>\n",
       "      <th>0</th>\n",
       "      <td>0</td>\n",
       "      <td>0</td>\n",
       "      <td>0</td>\n",
       "      <td>1</td>\n",
       "      <td>1</td>\n",
       "      <td>0</td>\n",
       "      <td>0</td>\n",
       "      <td>0</td>\n",
       "      <td>1</td>\n",
       "      <td>0</td>\n",
       "      <td>...</td>\n",
       "      <td>0</td>\n",
       "      <td>0</td>\n",
       "      <td>1</td>\n",
       "      <td>0</td>\n",
       "      <td>0</td>\n",
       "      <td>0</td>\n",
       "      <td>0</td>\n",
       "      <td>0</td>\n",
       "      <td>0</td>\n",
       "      <td>1</td>\n",
       "    </tr>\n",
       "    <tr>\n",
       "      <th>1</th>\n",
       "      <td>1</td>\n",
       "      <td>1</td>\n",
       "      <td>0</td>\n",
       "      <td>0</td>\n",
       "      <td>0</td>\n",
       "      <td>1</td>\n",
       "      <td>0</td>\n",
       "      <td>0</td>\n",
       "      <td>0</td>\n",
       "      <td>0</td>\n",
       "      <td>...</td>\n",
       "      <td>0</td>\n",
       "      <td>0</td>\n",
       "      <td>1</td>\n",
       "      <td>0</td>\n",
       "      <td>0</td>\n",
       "      <td>0</td>\n",
       "      <td>0</td>\n",
       "      <td>1</td>\n",
       "      <td>0</td>\n",
       "      <td>0</td>\n",
       "    </tr>\n",
       "    <tr>\n",
       "      <th>2</th>\n",
       "      <td>1</td>\n",
       "      <td>0</td>\n",
       "      <td>0</td>\n",
       "      <td>1</td>\n",
       "      <td>0</td>\n",
       "      <td>1</td>\n",
       "      <td>0</td>\n",
       "      <td>0</td>\n",
       "      <td>0</td>\n",
       "      <td>1</td>\n",
       "      <td>...</td>\n",
       "      <td>0</td>\n",
       "      <td>0</td>\n",
       "      <td>1</td>\n",
       "      <td>0</td>\n",
       "      <td>0</td>\n",
       "      <td>0</td>\n",
       "      <td>0</td>\n",
       "      <td>0</td>\n",
       "      <td>0</td>\n",
       "      <td>1</td>\n",
       "    </tr>\n",
       "    <tr>\n",
       "      <th>3</th>\n",
       "      <td>1</td>\n",
       "      <td>1</td>\n",
       "      <td>0</td>\n",
       "      <td>0</td>\n",
       "      <td>0</td>\n",
       "      <td>1</td>\n",
       "      <td>0</td>\n",
       "      <td>0</td>\n",
       "      <td>0</td>\n",
       "      <td>0</td>\n",
       "      <td>...</td>\n",
       "      <td>0</td>\n",
       "      <td>0</td>\n",
       "      <td>1</td>\n",
       "      <td>0</td>\n",
       "      <td>0</td>\n",
       "      <td>0</td>\n",
       "      <td>0</td>\n",
       "      <td>0</td>\n",
       "      <td>0</td>\n",
       "      <td>1</td>\n",
       "    </tr>\n",
       "    <tr>\n",
       "      <th>4</th>\n",
       "      <td>0</td>\n",
       "      <td>0</td>\n",
       "      <td>0</td>\n",
       "      <td>1</td>\n",
       "      <td>1</td>\n",
       "      <td>0</td>\n",
       "      <td>0</td>\n",
       "      <td>0</td>\n",
       "      <td>0</td>\n",
       "      <td>0</td>\n",
       "      <td>...</td>\n",
       "      <td>0</td>\n",
       "      <td>0</td>\n",
       "      <td>1</td>\n",
       "      <td>0</td>\n",
       "      <td>0</td>\n",
       "      <td>0</td>\n",
       "      <td>0</td>\n",
       "      <td>0</td>\n",
       "      <td>0</td>\n",
       "      <td>1</td>\n",
       "    </tr>\n",
       "  </tbody>\n",
       "</table>\n",
       "<p>5 rows × 38 columns</p>\n",
       "</div>"
      ],
      "text/plain": [
       "   Survived  Pclass_1  Pclass_2  Pclass_3  Sex_0  Sex_1  Age_(0.34, 8.378]  \\\n",
       "0         0         0         0         1      1      0                  0   \n",
       "1         1         1         0         0      0      1                  0   \n",
       "2         1         0         0         1      0      1                  0   \n",
       "3         1         1         0         0      0      1                  0   \n",
       "4         0         0         0         1      1      0                  0   \n",
       "\n",
       "   Age_(8.378, 16.336]  Age_(16.336, 24.294]  Age_(24.294, 32.252]  ...  \\\n",
       "0                    0                     1                     0  ...   \n",
       "1                    0                     0                     0  ...   \n",
       "2                    0                     0                     1  ...   \n",
       "3                    0                     0                     0  ...   \n",
       "4                    0                     0                     0  ...   \n",
       "\n",
       "   Parch_5  Parch_6  Fare_(-0.512, 102.466]  Fare_(102.466, 204.932]  \\\n",
       "0        0        0                       1                        0   \n",
       "1        0        0                       1                        0   \n",
       "2        0        0                       1                        0   \n",
       "3        0        0                       1                        0   \n",
       "4        0        0                       1                        0   \n",
       "\n",
       "   Fare_(204.932, 307.398]  Fare_(307.398, 409.863]  Fare_(409.863, 512.329]  \\\n",
       "0                        0                        0                        0   \n",
       "1                        0                        0                        0   \n",
       "2                        0                        0                        0   \n",
       "3                        0                        0                        0   \n",
       "4                        0                        0                        0   \n",
       "\n",
       "   Embarked_C  Embarked_Q  Embarked_S  \n",
       "0           0           0           1  \n",
       "1           1           0           0  \n",
       "2           0           0           1  \n",
       "3           0           0           1  \n",
       "4           0           0           1  \n",
       "\n",
       "[5 rows x 38 columns]"
      ]
     },
     "execution_count": 82,
     "metadata": {},
     "output_type": "execute_result"
    }
   ],
   "source": [
    "# One-hot encode binned variables\n",
    "one_hot_cols = df_bin.columns.tolist()\n",
    "one_hot_cols.remove('Survived')\n",
    "df_bin_enc = pd.get_dummies(df_bin, columns=one_hot_cols)\n",
    "\n",
    "df_bin_enc.head()"
   ]
  },
  {
   "cell_type": "code",
   "execution_count": 83,
   "metadata": {},
   "outputs": [
    {
     "data": {
      "text/html": [
       "<div>\n",
       "<style scoped>\n",
       "    .dataframe tbody tr th:only-of-type {\n",
       "        vertical-align: middle;\n",
       "    }\n",
       "\n",
       "    .dataframe tbody tr th {\n",
       "        vertical-align: top;\n",
       "    }\n",
       "\n",
       "    .dataframe thead th {\n",
       "        text-align: right;\n",
       "    }\n",
       "</style>\n",
       "<table border=\"1\" class=\"dataframe\">\n",
       "  <thead>\n",
       "    <tr style=\"text-align: right;\">\n",
       "      <th></th>\n",
       "      <th>Survived</th>\n",
       "      <th>Pclass</th>\n",
       "      <th>Sex</th>\n",
       "      <th>Age</th>\n",
       "      <th>SibSp</th>\n",
       "      <th>Parch</th>\n",
       "      <th>Fare</th>\n",
       "      <th>Embarked</th>\n",
       "    </tr>\n",
       "  </thead>\n",
       "  <tbody>\n",
       "    <tr>\n",
       "      <th>0</th>\n",
       "      <td>0</td>\n",
       "      <td>3</td>\n",
       "      <td>male</td>\n",
       "      <td>22.0</td>\n",
       "      <td>1</td>\n",
       "      <td>0</td>\n",
       "      <td>7.2500</td>\n",
       "      <td>S</td>\n",
       "    </tr>\n",
       "    <tr>\n",
       "      <th>1</th>\n",
       "      <td>1</td>\n",
       "      <td>1</td>\n",
       "      <td>female</td>\n",
       "      <td>38.0</td>\n",
       "      <td>1</td>\n",
       "      <td>0</td>\n",
       "      <td>71.2833</td>\n",
       "      <td>C</td>\n",
       "    </tr>\n",
       "    <tr>\n",
       "      <th>2</th>\n",
       "      <td>1</td>\n",
       "      <td>3</td>\n",
       "      <td>female</td>\n",
       "      <td>26.0</td>\n",
       "      <td>0</td>\n",
       "      <td>0</td>\n",
       "      <td>7.9250</td>\n",
       "      <td>S</td>\n",
       "    </tr>\n",
       "    <tr>\n",
       "      <th>3</th>\n",
       "      <td>1</td>\n",
       "      <td>1</td>\n",
       "      <td>female</td>\n",
       "      <td>35.0</td>\n",
       "      <td>1</td>\n",
       "      <td>0</td>\n",
       "      <td>53.1000</td>\n",
       "      <td>S</td>\n",
       "    </tr>\n",
       "    <tr>\n",
       "      <th>4</th>\n",
       "      <td>0</td>\n",
       "      <td>3</td>\n",
       "      <td>male</td>\n",
       "      <td>35.0</td>\n",
       "      <td>0</td>\n",
       "      <td>0</td>\n",
       "      <td>8.0500</td>\n",
       "      <td>S</td>\n",
       "    </tr>\n",
       "    <tr>\n",
       "      <th>5</th>\n",
       "      <td>0</td>\n",
       "      <td>3</td>\n",
       "      <td>male</td>\n",
       "      <td>NaN</td>\n",
       "      <td>0</td>\n",
       "      <td>0</td>\n",
       "      <td>8.4583</td>\n",
       "      <td>Q</td>\n",
       "    </tr>\n",
       "    <tr>\n",
       "      <th>6</th>\n",
       "      <td>0</td>\n",
       "      <td>1</td>\n",
       "      <td>male</td>\n",
       "      <td>54.0</td>\n",
       "      <td>0</td>\n",
       "      <td>0</td>\n",
       "      <td>51.8625</td>\n",
       "      <td>S</td>\n",
       "    </tr>\n",
       "    <tr>\n",
       "      <th>7</th>\n",
       "      <td>0</td>\n",
       "      <td>3</td>\n",
       "      <td>male</td>\n",
       "      <td>2.0</td>\n",
       "      <td>3</td>\n",
       "      <td>1</td>\n",
       "      <td>21.0750</td>\n",
       "      <td>S</td>\n",
       "    </tr>\n",
       "    <tr>\n",
       "      <th>8</th>\n",
       "      <td>1</td>\n",
       "      <td>3</td>\n",
       "      <td>female</td>\n",
       "      <td>27.0</td>\n",
       "      <td>0</td>\n",
       "      <td>2</td>\n",
       "      <td>11.1333</td>\n",
       "      <td>S</td>\n",
       "    </tr>\n",
       "    <tr>\n",
       "      <th>9</th>\n",
       "      <td>1</td>\n",
       "      <td>2</td>\n",
       "      <td>female</td>\n",
       "      <td>14.0</td>\n",
       "      <td>1</td>\n",
       "      <td>0</td>\n",
       "      <td>30.0708</td>\n",
       "      <td>C</td>\n",
       "    </tr>\n",
       "  </tbody>\n",
       "</table>\n",
       "</div>"
      ],
      "text/plain": [
       "   Survived  Pclass     Sex   Age  SibSp  Parch     Fare Embarked\n",
       "0         0       3    male  22.0      1      0   7.2500        S\n",
       "1         1       1  female  38.0      1      0  71.2833        C\n",
       "2         1       3  female  26.0      0      0   7.9250        S\n",
       "3         1       1  female  35.0      1      0  53.1000        S\n",
       "4         0       3    male  35.0      0      0   8.0500        S\n",
       "5         0       3    male   NaN      0      0   8.4583        Q\n",
       "6         0       1    male  54.0      0      0  51.8625        S\n",
       "7         0       3    male   2.0      3      1  21.0750        S\n",
       "8         1       3  female  27.0      0      2  11.1333        S\n",
       "9         1       2  female  14.0      1      0  30.0708        C"
      ]
     },
     "execution_count": 83,
     "metadata": {},
     "output_type": "execute_result"
    }
   ],
   "source": [
    "df_con.head(10)"
   ]
  },
  {
   "cell_type": "markdown",
   "metadata": {},
   "source": [
    "**Update:** The original version of this notebook used the `LabelEncoder()` function for encoding `df_con_enc`. However, as Tomáš pointed out, OneHotEncoder is better to use.\n",
    "    \n",
    "Check this article for more details: https://medium.com/@contactsunny/label-encoder-vs-one-hot-encoder-in-machine-learning-3fc273365621"
   ]
  },
  {
   "cell_type": "code",
   "execution_count": 84,
   "metadata": {},
   "outputs": [],
   "source": [
    "# One hot encode the categorical columns\n",
    "df_embarked_one_hot = pd.get_dummies(df_con['Embarked'], \n",
    "                                     prefix='embarked')\n",
    "\n",
    "df_sex_one_hot = pd.get_dummies(df_con['Sex'], \n",
    "                                prefix='sex')\n",
    "\n",
    "df_plcass_one_hot = pd.get_dummies(df_con['Pclass'], \n",
    "                                   prefix='pclass')"
   ]
  },
  {
   "cell_type": "code",
   "execution_count": 85,
   "metadata": {},
   "outputs": [],
   "source": [
    "# Combine the one hot encoded columns with df_con_enc\n",
    "df_con_enc = pd.concat([df_con, \n",
    "                        df_embarked_one_hot, \n",
    "                        df_sex_one_hot, \n",
    "                        df_plcass_one_hot], axis=1)\n",
    "\n",
    "# Drop the original categorical columns (because now they've been one hot encoded)\n",
    "df_con_enc = df_con_enc.drop(['Pclass', 'Sex', 'Embarked'], axis=1)"
   ]
  },
  {
   "cell_type": "code",
   "execution_count": 86,
   "metadata": {},
   "outputs": [
    {
     "data": {
      "text/html": [
       "<div>\n",
       "<style scoped>\n",
       "    .dataframe tbody tr th:only-of-type {\n",
       "        vertical-align: middle;\n",
       "    }\n",
       "\n",
       "    .dataframe tbody tr th {\n",
       "        vertical-align: top;\n",
       "    }\n",
       "\n",
       "    .dataframe thead th {\n",
       "        text-align: right;\n",
       "    }\n",
       "</style>\n",
       "<table border=\"1\" class=\"dataframe\">\n",
       "  <thead>\n",
       "    <tr style=\"text-align: right;\">\n",
       "      <th></th>\n",
       "      <th>Survived</th>\n",
       "      <th>Pclass</th>\n",
       "      <th>Sex</th>\n",
       "      <th>Age</th>\n",
       "      <th>SibSp</th>\n",
       "      <th>Parch</th>\n",
       "      <th>Fare</th>\n",
       "      <th>Embarked</th>\n",
       "    </tr>\n",
       "  </thead>\n",
       "  <tbody>\n",
       "    <tr>\n",
       "      <th>0</th>\n",
       "      <td>0</td>\n",
       "      <td>2</td>\n",
       "      <td>1</td>\n",
       "      <td>28</td>\n",
       "      <td>1</td>\n",
       "      <td>0</td>\n",
       "      <td>18</td>\n",
       "      <td>2</td>\n",
       "    </tr>\n",
       "    <tr>\n",
       "      <th>1</th>\n",
       "      <td>1</td>\n",
       "      <td>0</td>\n",
       "      <td>0</td>\n",
       "      <td>51</td>\n",
       "      <td>1</td>\n",
       "      <td>0</td>\n",
       "      <td>207</td>\n",
       "      <td>0</td>\n",
       "    </tr>\n",
       "    <tr>\n",
       "      <th>2</th>\n",
       "      <td>1</td>\n",
       "      <td>2</td>\n",
       "      <td>0</td>\n",
       "      <td>34</td>\n",
       "      <td>0</td>\n",
       "      <td>0</td>\n",
       "      <td>41</td>\n",
       "      <td>2</td>\n",
       "    </tr>\n",
       "    <tr>\n",
       "      <th>3</th>\n",
       "      <td>1</td>\n",
       "      <td>0</td>\n",
       "      <td>0</td>\n",
       "      <td>47</td>\n",
       "      <td>1</td>\n",
       "      <td>0</td>\n",
       "      <td>189</td>\n",
       "      <td>2</td>\n",
       "    </tr>\n",
       "    <tr>\n",
       "      <th>4</th>\n",
       "      <td>0</td>\n",
       "      <td>2</td>\n",
       "      <td>1</td>\n",
       "      <td>47</td>\n",
       "      <td>0</td>\n",
       "      <td>0</td>\n",
       "      <td>43</td>\n",
       "      <td>2</td>\n",
       "    </tr>\n",
       "    <tr>\n",
       "      <th>5</th>\n",
       "      <td>0</td>\n",
       "      <td>2</td>\n",
       "      <td>1</td>\n",
       "      <td>88</td>\n",
       "      <td>0</td>\n",
       "      <td>0</td>\n",
       "      <td>51</td>\n",
       "      <td>1</td>\n",
       "    </tr>\n",
       "    <tr>\n",
       "      <th>6</th>\n",
       "      <td>0</td>\n",
       "      <td>0</td>\n",
       "      <td>1</td>\n",
       "      <td>69</td>\n",
       "      <td>0</td>\n",
       "      <td>0</td>\n",
       "      <td>186</td>\n",
       "      <td>2</td>\n",
       "    </tr>\n",
       "    <tr>\n",
       "      <th>7</th>\n",
       "      <td>0</td>\n",
       "      <td>2</td>\n",
       "      <td>1</td>\n",
       "      <td>6</td>\n",
       "      <td>3</td>\n",
       "      <td>1</td>\n",
       "      <td>124</td>\n",
       "      <td>2</td>\n",
       "    </tr>\n",
       "    <tr>\n",
       "      <th>8</th>\n",
       "      <td>1</td>\n",
       "      <td>2</td>\n",
       "      <td>0</td>\n",
       "      <td>35</td>\n",
       "      <td>0</td>\n",
       "      <td>2</td>\n",
       "      <td>74</td>\n",
       "      <td>2</td>\n",
       "    </tr>\n",
       "    <tr>\n",
       "      <th>9</th>\n",
       "      <td>1</td>\n",
       "      <td>1</td>\n",
       "      <td>0</td>\n",
       "      <td>18</td>\n",
       "      <td>1</td>\n",
       "      <td>0</td>\n",
       "      <td>154</td>\n",
       "      <td>0</td>\n",
       "    </tr>\n",
       "    <tr>\n",
       "      <th>10</th>\n",
       "      <td>1</td>\n",
       "      <td>2</td>\n",
       "      <td>0</td>\n",
       "      <td>8</td>\n",
       "      <td>1</td>\n",
       "      <td>1</td>\n",
       "      <td>110</td>\n",
       "      <td>2</td>\n",
       "    </tr>\n",
       "    <tr>\n",
       "      <th>11</th>\n",
       "      <td>1</td>\n",
       "      <td>0</td>\n",
       "      <td>0</td>\n",
       "      <td>74</td>\n",
       "      <td>0</td>\n",
       "      <td>0</td>\n",
       "      <td>143</td>\n",
       "      <td>2</td>\n",
       "    </tr>\n",
       "    <tr>\n",
       "      <th>12</th>\n",
       "      <td>0</td>\n",
       "      <td>2</td>\n",
       "      <td>1</td>\n",
       "      <td>25</td>\n",
       "      <td>0</td>\n",
       "      <td>0</td>\n",
       "      <td>43</td>\n",
       "      <td>2</td>\n",
       "    </tr>\n",
       "    <tr>\n",
       "      <th>13</th>\n",
       "      <td>0</td>\n",
       "      <td>2</td>\n",
       "      <td>1</td>\n",
       "      <td>52</td>\n",
       "      <td>1</td>\n",
       "      <td>5</td>\n",
       "      <td>158</td>\n",
       "      <td>2</td>\n",
       "    </tr>\n",
       "    <tr>\n",
       "      <th>14</th>\n",
       "      <td>0</td>\n",
       "      <td>2</td>\n",
       "      <td>0</td>\n",
       "      <td>18</td>\n",
       "      <td>0</td>\n",
       "      <td>0</td>\n",
       "      <td>36</td>\n",
       "      <td>2</td>\n",
       "    </tr>\n",
       "    <tr>\n",
       "      <th>15</th>\n",
       "      <td>1</td>\n",
       "      <td>1</td>\n",
       "      <td>0</td>\n",
       "      <td>70</td>\n",
       "      <td>0</td>\n",
       "      <td>0</td>\n",
       "      <td>108</td>\n",
       "      <td>2</td>\n",
       "    </tr>\n",
       "    <tr>\n",
       "      <th>16</th>\n",
       "      <td>0</td>\n",
       "      <td>2</td>\n",
       "      <td>1</td>\n",
       "      <td>6</td>\n",
       "      <td>4</td>\n",
       "      <td>1</td>\n",
       "      <td>151</td>\n",
       "      <td>1</td>\n",
       "    </tr>\n",
       "    <tr>\n",
       "      <th>17</th>\n",
       "      <td>1</td>\n",
       "      <td>1</td>\n",
       "      <td>1</td>\n",
       "      <td>88</td>\n",
       "      <td>0</td>\n",
       "      <td>0</td>\n",
       "      <td>85</td>\n",
       "      <td>2</td>\n",
       "    </tr>\n",
       "    <tr>\n",
       "      <th>18</th>\n",
       "      <td>0</td>\n",
       "      <td>2</td>\n",
       "      <td>0</td>\n",
       "      <td>41</td>\n",
       "      <td>1</td>\n",
       "      <td>0</td>\n",
       "      <td>113</td>\n",
       "      <td>2</td>\n",
       "    </tr>\n",
       "    <tr>\n",
       "      <th>19</th>\n",
       "      <td>1</td>\n",
       "      <td>2</td>\n",
       "      <td>0</td>\n",
       "      <td>88</td>\n",
       "      <td>0</td>\n",
       "      <td>0</td>\n",
       "      <td>16</td>\n",
       "      <td>0</td>\n",
       "    </tr>\n",
       "  </tbody>\n",
       "</table>\n",
       "</div>"
      ],
      "text/plain": [
       "    Survived  Pclass  Sex  Age  SibSp  Parch  Fare  Embarked\n",
       "0          0       2    1   28      1      0    18         2\n",
       "1          1       0    0   51      1      0   207         0\n",
       "2          1       2    0   34      0      0    41         2\n",
       "3          1       0    0   47      1      0   189         2\n",
       "4          0       2    1   47      0      0    43         2\n",
       "5          0       2    1   88      0      0    51         1\n",
       "6          0       0    1   69      0      0   186         2\n",
       "7          0       2    1    6      3      1   124         2\n",
       "8          1       2    0   35      0      2    74         2\n",
       "9          1       1    0   18      1      0   154         0\n",
       "10         1       2    0    8      1      1   110         2\n",
       "11         1       0    0   74      0      0   143         2\n",
       "12         0       2    1   25      0      0    43         2\n",
       "13         0       2    1   52      1      5   158         2\n",
       "14         0       2    0   18      0      0    36         2\n",
       "15         1       1    0   70      0      0   108         2\n",
       "16         0       2    1    6      4      1   151         1\n",
       "17         1       1    1   88      0      0    85         2\n",
       "18         0       2    0   41      1      0   113         2\n",
       "19         1       2    0   88      0      0    16         0"
      ]
     },
     "execution_count": 86,
     "metadata": {},
     "output_type": "execute_result"
    }
   ],
   "source": [
    "# Let's look at df_con_enc\n",
    "df_con_enc = df_con.apply(LabelEncoder().fit_transform)\n",
    "df_con_enc.head(20)"
   ]
  },
  {
   "cell_type": "markdown",
   "metadata": {},
   "source": [
    "## Start Building Machine Learning Models\n",
    "Now our data has been manipulating and converted to numbers, we can run a series of different machine learning algorithms over it to find which yield the best results."
   ]
  },
  {
   "cell_type": "markdown",
   "metadata": {},
   "source": [
    "### Let's seperate the data"
   ]
  },
  {
   "cell_type": "code",
   "execution_count": 87,
   "metadata": {},
   "outputs": [],
   "source": [
    "# Seclect the dataframe we want to use first for predictions\n",
    "selected_df = df_con_enc"
   ]
  },
  {
   "cell_type": "code",
   "execution_count": 88,
   "metadata": {},
   "outputs": [
    {
     "data": {
      "text/html": [
       "<div>\n",
       "<style scoped>\n",
       "    .dataframe tbody tr th:only-of-type {\n",
       "        vertical-align: middle;\n",
       "    }\n",
       "\n",
       "    .dataframe tbody tr th {\n",
       "        vertical-align: top;\n",
       "    }\n",
       "\n",
       "    .dataframe thead th {\n",
       "        text-align: right;\n",
       "    }\n",
       "</style>\n",
       "<table border=\"1\" class=\"dataframe\">\n",
       "  <thead>\n",
       "    <tr style=\"text-align: right;\">\n",
       "      <th></th>\n",
       "      <th>Survived</th>\n",
       "      <th>Pclass</th>\n",
       "      <th>Sex</th>\n",
       "      <th>Age</th>\n",
       "      <th>SibSp</th>\n",
       "      <th>Parch</th>\n",
       "      <th>Fare</th>\n",
       "      <th>Embarked</th>\n",
       "    </tr>\n",
       "  </thead>\n",
       "  <tbody>\n",
       "    <tr>\n",
       "      <th>0</th>\n",
       "      <td>0</td>\n",
       "      <td>2</td>\n",
       "      <td>1</td>\n",
       "      <td>28</td>\n",
       "      <td>1</td>\n",
       "      <td>0</td>\n",
       "      <td>18</td>\n",
       "      <td>2</td>\n",
       "    </tr>\n",
       "    <tr>\n",
       "      <th>1</th>\n",
       "      <td>1</td>\n",
       "      <td>0</td>\n",
       "      <td>0</td>\n",
       "      <td>51</td>\n",
       "      <td>1</td>\n",
       "      <td>0</td>\n",
       "      <td>207</td>\n",
       "      <td>0</td>\n",
       "    </tr>\n",
       "    <tr>\n",
       "      <th>2</th>\n",
       "      <td>1</td>\n",
       "      <td>2</td>\n",
       "      <td>0</td>\n",
       "      <td>34</td>\n",
       "      <td>0</td>\n",
       "      <td>0</td>\n",
       "      <td>41</td>\n",
       "      <td>2</td>\n",
       "    </tr>\n",
       "    <tr>\n",
       "      <th>3</th>\n",
       "      <td>1</td>\n",
       "      <td>0</td>\n",
       "      <td>0</td>\n",
       "      <td>47</td>\n",
       "      <td>1</td>\n",
       "      <td>0</td>\n",
       "      <td>189</td>\n",
       "      <td>2</td>\n",
       "    </tr>\n",
       "    <tr>\n",
       "      <th>4</th>\n",
       "      <td>0</td>\n",
       "      <td>2</td>\n",
       "      <td>1</td>\n",
       "      <td>47</td>\n",
       "      <td>0</td>\n",
       "      <td>0</td>\n",
       "      <td>43</td>\n",
       "      <td>2</td>\n",
       "    </tr>\n",
       "  </tbody>\n",
       "</table>\n",
       "</div>"
      ],
      "text/plain": [
       "   Survived  Pclass  Sex  Age  SibSp  Parch  Fare  Embarked\n",
       "0         0       2    1   28      1      0    18         2\n",
       "1         1       0    0   51      1      0   207         0\n",
       "2         1       2    0   34      0      0    41         2\n",
       "3         1       0    0   47      1      0   189         2\n",
       "4         0       2    1   47      0      0    43         2"
      ]
     },
     "execution_count": 88,
     "metadata": {},
     "output_type": "execute_result"
    }
   ],
   "source": [
    "selected_df.head()"
   ]
  },
  {
   "cell_type": "code",
   "execution_count": 89,
   "metadata": {},
   "outputs": [],
   "source": [
    "# Split the dataframe into data and labels\n",
    "X_train = selected_df.drop('Survived', axis=1) # data\n",
    "y_train = selected_df.Survived # labels"
   ]
  },
  {
   "cell_type": "code",
   "execution_count": 90,
   "metadata": {},
   "outputs": [
    {
     "data": {
      "text/plain": [
       "(889, 7)"
      ]
     },
     "execution_count": 90,
     "metadata": {},
     "output_type": "execute_result"
    }
   ],
   "source": [
    "# Shape of the data (without labels)\n",
    "X_train.shape"
   ]
  },
  {
   "cell_type": "code",
   "execution_count": 91,
   "metadata": {},
   "outputs": [
    {
     "data": {
      "text/html": [
       "<div>\n",
       "<style scoped>\n",
       "    .dataframe tbody tr th:only-of-type {\n",
       "        vertical-align: middle;\n",
       "    }\n",
       "\n",
       "    .dataframe tbody tr th {\n",
       "        vertical-align: top;\n",
       "    }\n",
       "\n",
       "    .dataframe thead th {\n",
       "        text-align: right;\n",
       "    }\n",
       "</style>\n",
       "<table border=\"1\" class=\"dataframe\">\n",
       "  <thead>\n",
       "    <tr style=\"text-align: right;\">\n",
       "      <th></th>\n",
       "      <th>Pclass</th>\n",
       "      <th>Sex</th>\n",
       "      <th>Age</th>\n",
       "      <th>SibSp</th>\n",
       "      <th>Parch</th>\n",
       "      <th>Fare</th>\n",
       "      <th>Embarked</th>\n",
       "    </tr>\n",
       "  </thead>\n",
       "  <tbody>\n",
       "    <tr>\n",
       "      <th>0</th>\n",
       "      <td>2</td>\n",
       "      <td>1</td>\n",
       "      <td>28</td>\n",
       "      <td>1</td>\n",
       "      <td>0</td>\n",
       "      <td>18</td>\n",
       "      <td>2</td>\n",
       "    </tr>\n",
       "    <tr>\n",
       "      <th>1</th>\n",
       "      <td>0</td>\n",
       "      <td>0</td>\n",
       "      <td>51</td>\n",
       "      <td>1</td>\n",
       "      <td>0</td>\n",
       "      <td>207</td>\n",
       "      <td>0</td>\n",
       "    </tr>\n",
       "    <tr>\n",
       "      <th>2</th>\n",
       "      <td>2</td>\n",
       "      <td>0</td>\n",
       "      <td>34</td>\n",
       "      <td>0</td>\n",
       "      <td>0</td>\n",
       "      <td>41</td>\n",
       "      <td>2</td>\n",
       "    </tr>\n",
       "    <tr>\n",
       "      <th>3</th>\n",
       "      <td>0</td>\n",
       "      <td>0</td>\n",
       "      <td>47</td>\n",
       "      <td>1</td>\n",
       "      <td>0</td>\n",
       "      <td>189</td>\n",
       "      <td>2</td>\n",
       "    </tr>\n",
       "    <tr>\n",
       "      <th>4</th>\n",
       "      <td>2</td>\n",
       "      <td>1</td>\n",
       "      <td>47</td>\n",
       "      <td>0</td>\n",
       "      <td>0</td>\n",
       "      <td>43</td>\n",
       "      <td>2</td>\n",
       "    </tr>\n",
       "  </tbody>\n",
       "</table>\n",
       "</div>"
      ],
      "text/plain": [
       "   Pclass  Sex  Age  SibSp  Parch  Fare  Embarked\n",
       "0       2    1   28      1      0    18         2\n",
       "1       0    0   51      1      0   207         0\n",
       "2       2    0   34      0      0    41         2\n",
       "3       0    0   47      1      0   189         2\n",
       "4       2    1   47      0      0    43         2"
      ]
     },
     "execution_count": 91,
     "metadata": {},
     "output_type": "execute_result"
    }
   ],
   "source": [
    "X_train.head()"
   ]
  },
  {
   "cell_type": "code",
   "execution_count": 92,
   "metadata": {},
   "outputs": [
    {
     "data": {
      "text/plain": [
       "(889,)"
      ]
     },
     "execution_count": 92,
     "metadata": {},
     "output_type": "execute_result"
    }
   ],
   "source": [
    "# Shape of the labels\n",
    "y_train.shape"
   ]
  },
  {
   "cell_type": "markdown",
   "metadata": {},
   "source": [
    "### Define a function to fit machine learning algorithms\n",
    "Since many of the algorithms we will use are from the sklearn library, they all take similar (practically the same) inputs and produce similar outputs.\n",
    "\n",
    "To prevent writing code multiple times, we will functionise fitting the model and returning the accuracy scores."
   ]
  },
  {
   "cell_type": "code",
   "execution_count": 93,
   "metadata": {},
   "outputs": [],
   "source": [
    "# Function that runs the requested algorithm and returns the accuracy metrics\n",
    "def fit_ml_algo(algo, X_train, y_train, cv):\n",
    "    \n",
    "    # One Pass\n",
    "    model = algo.fit(X_train, y_train)\n",
    "    acc = round(model.score(X_train, y_train) * 100, 2)\n",
    "    \n",
    "    # Cross Validation \n",
    "    train_pred = model_selection.cross_val_predict(algo, \n",
    "                                                  X_train, \n",
    "                                                  y_train, \n",
    "                                                  cv=cv, \n",
    "                                                  n_jobs = -1)\n",
    "    # Cross-validation accuracy metric\n",
    "    acc_cv = round(metrics.accuracy_score(y_train, train_pred) * 100, 2)\n",
    "    \n",
    "    return train_pred, acc, acc_cv"
   ]
  },
  {
   "cell_type": "markdown",
   "metadata": {},
   "source": [
    "### Logistic Regression"
   ]
  },
  {
   "cell_type": "code",
   "execution_count": 94,
   "metadata": {},
   "outputs": [
    {
     "name": "stdout",
     "output_type": "stream",
     "text": [
      "Accuracy: 79.98\n",
      "Accuracy CV 10-Fold: 79.19\n",
      "Running Time: 0:00:03.858835\n"
     ]
    }
   ],
   "source": [
    "# Logistic Regression\n",
    "start_time = time.time()\n",
    "train_pred_log, acc_log, acc_cv_log = fit_ml_algo(LogisticRegression(), \n",
    "                                                               X_train, \n",
    "                                                               y_train, \n",
    "                                                                    10)\n",
    "log_time = (time.time() - start_time)\n",
    "print(\"Accuracy: %s\" % acc_log)\n",
    "print(\"Accuracy CV 10-Fold: %s\" % acc_cv_log)\n",
    "print(\"Running Time: %s\" % datetime.timedelta(seconds=log_time))"
   ]
  },
  {
   "cell_type": "markdown",
   "metadata": {},
   "source": [
    "### K-Nearest Neighbours"
   ]
  },
  {
   "cell_type": "code",
   "execution_count": 95,
   "metadata": {},
   "outputs": [
    {
     "name": "stdout",
     "output_type": "stream",
     "text": [
      "Accuracy: 78.63\n",
      "Accuracy CV 10-Fold: 69.63\n",
      "Running Time: 0:00:00.177298\n"
     ]
    }
   ],
   "source": [
    "# k-Nearest Neighbours\n",
    "start_time = time.time()\n",
    "train_pred_knn, acc_knn, acc_cv_knn = fit_ml_algo(KNeighborsClassifier(), \n",
    "                                                  X_train, \n",
    "                                                  y_train, \n",
    "                                                  10)\n",
    "knn_time = (time.time() - start_time)\n",
    "print(\"Accuracy: %s\" % acc_knn)\n",
    "print(\"Accuracy CV 10-Fold: %s\" % acc_cv_knn)\n",
    "print(\"Running Time: %s\" % datetime.timedelta(seconds=knn_time))"
   ]
  },
  {
   "cell_type": "markdown",
   "metadata": {},
   "source": [
    "### Gaussian Naive Bayes"
   ]
  },
  {
   "cell_type": "code",
   "execution_count": 96,
   "metadata": {},
   "outputs": [
    {
     "name": "stdout",
     "output_type": "stream",
     "text": [
      "Accuracy: 77.28\n",
      "Accuracy CV 10-Fold: 76.72\n",
      "Running Time: 0:00:00.062831\n"
     ]
    }
   ],
   "source": [
    "# Gaussian Naive Bayes\n",
    "start_time = time.time()\n",
    "train_pred_gaussian, acc_gaussian, acc_cv_gaussian = fit_ml_algo(GaussianNB(), \n",
    "                                                                      X_train, \n",
    "                                                                      y_train, \n",
    "                                                                           10)\n",
    "gaussian_time = (time.time() - start_time)\n",
    "print(\"Accuracy: %s\" % acc_gaussian)\n",
    "print(\"Accuracy CV 10-Fold: %s\" % acc_cv_gaussian)\n",
    "print(\"Running Time: %s\" % datetime.timedelta(seconds=gaussian_time))"
   ]
  },
  {
   "cell_type": "markdown",
   "metadata": {},
   "source": [
    "### Linear Support Vector Machines (SVC)"
   ]
  },
  {
   "cell_type": "code",
   "execution_count": 97,
   "metadata": {},
   "outputs": [
    {
     "name": "stdout",
     "output_type": "stream",
     "text": [
      "Accuracy: 75.48\n",
      "Accuracy CV 10-Fold: 68.62\n",
      "Running Time: 0:00:00.317706\n"
     ]
    }
   ],
   "source": [
    "# Linear SVC\n",
    "start_time = time.time()\n",
    "train_pred_svc, acc_linear_svc, acc_cv_linear_svc = fit_ml_algo(LinearSVC(),\n",
    "                                                                X_train, \n",
    "                                                                y_train, \n",
    "                                                                10)\n",
    "linear_svc_time = (time.time() - start_time)\n",
    "print(\"Accuracy: %s\" % acc_linear_svc)\n",
    "print(\"Accuracy CV 10-Fold: %s\" % acc_cv_linear_svc)\n",
    "print(\"Running Time: %s\" % datetime.timedelta(seconds=linear_svc_time))"
   ]
  },
  {
   "cell_type": "markdown",
   "metadata": {},
   "source": [
    "### Stochastic Gradient Descent"
   ]
  },
  {
   "cell_type": "code",
   "execution_count": 98,
   "metadata": {},
   "outputs": [
    {
     "name": "stdout",
     "output_type": "stream",
     "text": [
      "Accuracy: 66.7\n",
      "Accuracy CV 10-Fold: 68.28\n",
      "Running Time: 0:00:00.135221\n"
     ]
    }
   ],
   "source": [
    "# Stochastic Gradient Descent\n",
    "start_time = time.time()\n",
    "train_pred_sgd, acc_sgd, acc_cv_sgd = fit_ml_algo(SGDClassifier(), \n",
    "                                                  X_train, \n",
    "                                                  y_train,\n",
    "                                                  10)\n",
    "sgd_time = (time.time() - start_time)\n",
    "print(\"Accuracy: %s\" % acc_sgd)\n",
    "print(\"Accuracy CV 10-Fold: %s\" % acc_cv_sgd)\n",
    "print(\"Running Time: %s\" % datetime.timedelta(seconds=sgd_time))"
   ]
  },
  {
   "cell_type": "markdown",
   "metadata": {},
   "source": [
    "### Decision Tree Classifier"
   ]
  },
  {
   "cell_type": "code",
   "execution_count": 99,
   "metadata": {},
   "outputs": [
    {
     "name": "stdout",
     "output_type": "stream",
     "text": [
      "Accuracy: 98.2\n",
      "Accuracy CV 10-Fold: 77.62\n",
      "Running Time: 0:00:00.093749\n"
     ]
    }
   ],
   "source": [
    "# Decision Tree Classifier\n",
    "start_time = time.time()\n",
    "train_pred_dt, acc_dt, acc_cv_dt = fit_ml_algo(DecisionTreeClassifier(), \n",
    "                                                                X_train, \n",
    "                                                                y_train,\n",
    "                                                                10)\n",
    "dt_time = (time.time() - start_time)\n",
    "print(\"Accuracy: %s\" % acc_dt)\n",
    "print(\"Accuracy CV 10-Fold: %s\" % acc_cv_dt)\n",
    "print(\"Running Time: %s\" % datetime.timedelta(seconds=dt_time))"
   ]
  },
  {
   "cell_type": "markdown",
   "metadata": {},
   "source": [
    "### Gradient Boost Trees"
   ]
  },
  {
   "cell_type": "code",
   "execution_count": 100,
   "metadata": {},
   "outputs": [
    {
     "name": "stdout",
     "output_type": "stream",
     "text": [
      "Accuracy: 89.54\n",
      "Accuracy CV 10-Fold: 83.01\n",
      "Running Time: 0:00:00.733464\n"
     ]
    }
   ],
   "source": [
    "# Gradient Boosting Trees\n",
    "start_time = time.time()\n",
    "train_pred_gbt, acc_gbt, acc_cv_gbt = fit_ml_algo(GradientBoostingClassifier(), \n",
    "                                                                       X_train, \n",
    "                                                                       y_train,\n",
    "                                                                       10)\n",
    "gbt_time = (time.time() - start_time)\n",
    "print(\"Accuracy: %s\" % acc_gbt)\n",
    "print(\"Accuracy CV 10-Fold: %s\" % acc_cv_gbt)\n",
    "print(\"Running Time: %s\" % datetime.timedelta(seconds=gbt_time))"
   ]
  },
  {
   "cell_type": "markdown",
   "metadata": {},
   "source": [
    "### CatBoost Algorithm\n",
    "CatBoost is a state-of-the-art open-source gradient boosting on decision trees library.\n",
    "\n",
    "It's simple and easy to use. And is now regularly one of my go-to algorithms for any kind of machine learning task.\n",
    "\n",
    "For more on CatBoost and the methods it uses to deal with categorical variables, check out the [CatBoost docs](https://catboost.ai/)."
   ]
  },
  {
   "cell_type": "code",
   "execution_count": 101,
   "metadata": {},
   "outputs": [
    {
     "data": {
      "text/html": [
       "<div>\n",
       "<style scoped>\n",
       "    .dataframe tbody tr th:only-of-type {\n",
       "        vertical-align: middle;\n",
       "    }\n",
       "\n",
       "    .dataframe tbody tr th {\n",
       "        vertical-align: top;\n",
       "    }\n",
       "\n",
       "    .dataframe thead th {\n",
       "        text-align: right;\n",
       "    }\n",
       "</style>\n",
       "<table border=\"1\" class=\"dataframe\">\n",
       "  <thead>\n",
       "    <tr style=\"text-align: right;\">\n",
       "      <th></th>\n",
       "      <th>Pclass</th>\n",
       "      <th>Sex</th>\n",
       "      <th>Age</th>\n",
       "      <th>SibSp</th>\n",
       "      <th>Parch</th>\n",
       "      <th>Fare</th>\n",
       "      <th>Embarked</th>\n",
       "    </tr>\n",
       "  </thead>\n",
       "  <tbody>\n",
       "    <tr>\n",
       "      <th>0</th>\n",
       "      <td>2</td>\n",
       "      <td>1</td>\n",
       "      <td>28</td>\n",
       "      <td>1</td>\n",
       "      <td>0</td>\n",
       "      <td>18</td>\n",
       "      <td>2</td>\n",
       "    </tr>\n",
       "    <tr>\n",
       "      <th>1</th>\n",
       "      <td>0</td>\n",
       "      <td>0</td>\n",
       "      <td>51</td>\n",
       "      <td>1</td>\n",
       "      <td>0</td>\n",
       "      <td>207</td>\n",
       "      <td>0</td>\n",
       "    </tr>\n",
       "    <tr>\n",
       "      <th>2</th>\n",
       "      <td>2</td>\n",
       "      <td>0</td>\n",
       "      <td>34</td>\n",
       "      <td>0</td>\n",
       "      <td>0</td>\n",
       "      <td>41</td>\n",
       "      <td>2</td>\n",
       "    </tr>\n",
       "    <tr>\n",
       "      <th>3</th>\n",
       "      <td>0</td>\n",
       "      <td>0</td>\n",
       "      <td>47</td>\n",
       "      <td>1</td>\n",
       "      <td>0</td>\n",
       "      <td>189</td>\n",
       "      <td>2</td>\n",
       "    </tr>\n",
       "    <tr>\n",
       "      <th>4</th>\n",
       "      <td>2</td>\n",
       "      <td>1</td>\n",
       "      <td>47</td>\n",
       "      <td>0</td>\n",
       "      <td>0</td>\n",
       "      <td>43</td>\n",
       "      <td>2</td>\n",
       "    </tr>\n",
       "  </tbody>\n",
       "</table>\n",
       "</div>"
      ],
      "text/plain": [
       "   Pclass  Sex  Age  SibSp  Parch  Fare  Embarked\n",
       "0       2    1   28      1      0    18         2\n",
       "1       0    0   51      1      0   207         0\n",
       "2       2    0   34      0      0    41         2\n",
       "3       0    0   47      1      0   189         2\n",
       "4       2    1   47      0      0    43         2"
      ]
     },
     "execution_count": 101,
     "metadata": {},
     "output_type": "execute_result"
    }
   ],
   "source": [
    "# View the data for the CatBoost model\n",
    "X_train.head()"
   ]
  },
  {
   "cell_type": "code",
   "execution_count": 102,
   "metadata": {},
   "outputs": [
    {
     "data": {
      "text/plain": [
       "0    0\n",
       "1    1\n",
       "2    1\n",
       "3    1\n",
       "4    0\n",
       "Name: Survived, dtype: int64"
      ]
     },
     "execution_count": 102,
     "metadata": {},
     "output_type": "execute_result"
    }
   ],
   "source": [
    "# View the labels for the CatBoost model\n",
    "y_train.head()"
   ]
  },
  {
   "cell_type": "code",
   "execution_count": 103,
   "metadata": {},
   "outputs": [
    {
     "data": {
      "text/plain": [
       "array([0, 1, 2, 3, 4, 5, 6], dtype=int64)"
      ]
     },
     "execution_count": 103,
     "metadata": {},
     "output_type": "execute_result"
    }
   ],
   "source": [
    "# Define the categorical features for the CatBoost model\n",
    "cat_features = np.where(X_train.dtypes != np.float)[0]\n",
    "cat_features"
   ]
  },
  {
   "cell_type": "markdown",
   "metadata": {},
   "source": [
    "This means Catboost has picked up that all variables except `Fare` can be treated as categorical."
   ]
  },
  {
   "cell_type": "code",
   "execution_count": 104,
   "metadata": {},
   "outputs": [],
   "source": [
    "# Use the CatBoost Pool() function to pool together the training data and categorical feature labels\n",
    "train_pool = Pool(X_train, \n",
    "                  y_train,\n",
    "                  cat_features)"
   ]
  },
  {
   "cell_type": "code",
   "execution_count": 105,
   "metadata": {},
   "outputs": [
    {
     "data": {
      "text/plain": [
       "0    0\n",
       "1    1\n",
       "2    1\n",
       "3    1\n",
       "4    0\n",
       "Name: Survived, dtype: int64"
      ]
     },
     "execution_count": 105,
     "metadata": {},
     "output_type": "execute_result"
    }
   ],
   "source": [
    "y_train.head()"
   ]
  },
  {
   "cell_type": "code",
   "execution_count": 107,
   "metadata": {},
   "outputs": [
    {
     "data": {
      "application/vnd.jupyter.widget-view+json": {
       "model_id": "cb8921c2368a48a9a27bc22b88a13aa6",
       "version_major": 2,
       "version_minor": 0
      },
      "text/plain": [
       "MetricVisualizer(layout=Layout(align_self='stretch', height='500px'))"
      ]
     },
     "metadata": {},
     "output_type": "display_data"
    },
    {
     "name": "stdout",
     "output_type": "stream",
     "text": [
      "Learning rate set to 0.009797\n",
      "0:\tlearn: 0.6873775\ttotal: 18.2ms\tremaining: 18.2s\n",
      "1:\tlearn: 0.6819329\ttotal: 38ms\tremaining: 19s\n",
      "2:\tlearn: 0.6768154\ttotal: 51.6ms\tremaining: 17.1s\n",
      "3:\tlearn: 0.6714559\ttotal: 76.9ms\tremaining: 19.1s\n",
      "4:\tlearn: 0.6663391\ttotal: 95ms\tremaining: 18.9s\n",
      "5:\tlearn: 0.6608615\ttotal: 123ms\tremaining: 20.4s\n",
      "6:\tlearn: 0.6557134\ttotal: 146ms\tremaining: 20.7s\n",
      "7:\tlearn: 0.6505673\ttotal: 167ms\tremaining: 20.7s\n",
      "8:\tlearn: 0.6460145\ttotal: 184ms\tremaining: 20.3s\n",
      "9:\tlearn: 0.6414120\ttotal: 205ms\tremaining: 20.3s\n",
      "10:\tlearn: 0.6370123\ttotal: 229ms\tremaining: 20.6s\n",
      "11:\tlearn: 0.6323069\ttotal: 253ms\tremaining: 20.8s\n",
      "12:\tlearn: 0.6273831\ttotal: 272ms\tremaining: 20.6s\n",
      "13:\tlearn: 0.6246657\ttotal: 281ms\tremaining: 19.8s\n",
      "14:\tlearn: 0.6203743\ttotal: 299ms\tremaining: 19.6s\n",
      "15:\tlearn: 0.6163063\ttotal: 318ms\tremaining: 19.5s\n",
      "16:\tlearn: 0.6125971\ttotal: 337ms\tremaining: 19.5s\n",
      "17:\tlearn: 0.6085960\ttotal: 358ms\tremaining: 19.5s\n",
      "18:\tlearn: 0.6048136\ttotal: 378ms\tremaining: 19.5s\n",
      "19:\tlearn: 0.6015030\ttotal: 387ms\tremaining: 19s\n",
      "20:\tlearn: 0.5977672\ttotal: 407ms\tremaining: 19s\n",
      "21:\tlearn: 0.5939860\ttotal: 426ms\tremaining: 18.9s\n",
      "22:\tlearn: 0.5902439\ttotal: 445ms\tremaining: 18.9s\n",
      "23:\tlearn: 0.5866012\ttotal: 465ms\tremaining: 18.9s\n",
      "24:\tlearn: 0.5834190\ttotal: 477ms\tremaining: 18.6s\n",
      "25:\tlearn: 0.5804878\ttotal: 492ms\tremaining: 18.4s\n",
      "26:\tlearn: 0.5774509\ttotal: 511ms\tremaining: 18.4s\n",
      "27:\tlearn: 0.5747694\ttotal: 537ms\tremaining: 18.6s\n",
      "28:\tlearn: 0.5715294\ttotal: 561ms\tremaining: 18.8s\n",
      "29:\tlearn: 0.5686821\ttotal: 585ms\tremaining: 18.9s\n",
      "30:\tlearn: 0.5655161\ttotal: 608ms\tremaining: 19s\n",
      "31:\tlearn: 0.5623083\ttotal: 633ms\tremaining: 19.2s\n",
      "32:\tlearn: 0.5591926\ttotal: 658ms\tremaining: 19.3s\n",
      "33:\tlearn: 0.5565378\ttotal: 681ms\tremaining: 19.4s\n",
      "34:\tlearn: 0.5535716\ttotal: 709ms\tremaining: 19.5s\n",
      "35:\tlearn: 0.5511750\ttotal: 729ms\tremaining: 19.5s\n",
      "36:\tlearn: 0.5485307\ttotal: 752ms\tremaining: 19.6s\n",
      "37:\tlearn: 0.5452532\ttotal: 774ms\tremaining: 19.6s\n",
      "38:\tlearn: 0.5426850\ttotal: 797ms\tremaining: 19.6s\n",
      "39:\tlearn: 0.5400425\ttotal: 825ms\tremaining: 19.8s\n",
      "40:\tlearn: 0.5379304\ttotal: 850ms\tremaining: 19.9s\n",
      "41:\tlearn: 0.5355290\ttotal: 869ms\tremaining: 19.8s\n",
      "42:\tlearn: 0.5336403\ttotal: 879ms\tremaining: 19.6s\n",
      "43:\tlearn: 0.5316223\ttotal: 890ms\tremaining: 19.3s\n",
      "44:\tlearn: 0.5296992\ttotal: 910ms\tremaining: 19.3s\n",
      "45:\tlearn: 0.5275049\ttotal: 928ms\tremaining: 19.2s\n",
      "46:\tlearn: 0.5249201\ttotal: 951ms\tremaining: 19.3s\n",
      "47:\tlearn: 0.5236610\ttotal: 962ms\tremaining: 19.1s\n",
      "48:\tlearn: 0.5215017\ttotal: 981ms\tremaining: 19s\n",
      "49:\tlearn: 0.5194521\ttotal: 1s\tremaining: 19s\n",
      "50:\tlearn: 0.5178048\ttotal: 1.01s\tremaining: 18.9s\n",
      "51:\tlearn: 0.5160100\ttotal: 1.04s\tremaining: 18.9s\n",
      "52:\tlearn: 0.5139670\ttotal: 1.06s\tremaining: 18.9s\n",
      "53:\tlearn: 0.5119823\ttotal: 1.07s\tremaining: 18.8s\n",
      "54:\tlearn: 0.5099768\ttotal: 1.09s\tremaining: 18.8s\n",
      "55:\tlearn: 0.5082907\ttotal: 1.11s\tremaining: 18.7s\n",
      "56:\tlearn: 0.5073276\ttotal: 1.12s\tremaining: 18.5s\n",
      "57:\tlearn: 0.5050958\ttotal: 1.13s\tremaining: 18.4s\n",
      "58:\tlearn: 0.5034798\ttotal: 1.16s\tremaining: 18.5s\n",
      "59:\tlearn: 0.5020559\ttotal: 1.18s\tremaining: 18.4s\n",
      "60:\tlearn: 0.5011799\ttotal: 1.18s\tremaining: 18.2s\n",
      "61:\tlearn: 0.4995828\ttotal: 1.2s\tremaining: 18.2s\n",
      "62:\tlearn: 0.4980945\ttotal: 1.22s\tremaining: 18.2s\n",
      "63:\tlearn: 0.4964691\ttotal: 1.24s\tremaining: 18.2s\n",
      "64:\tlearn: 0.4956702\ttotal: 1.25s\tremaining: 18s\n",
      "65:\tlearn: 0.4938614\ttotal: 1.27s\tremaining: 18s\n",
      "66:\tlearn: 0.4922260\ttotal: 1.29s\tremaining: 17.9s\n",
      "67:\tlearn: 0.4908095\ttotal: 1.31s\tremaining: 17.9s\n",
      "68:\tlearn: 0.4894905\ttotal: 1.33s\tremaining: 17.9s\n",
      "69:\tlearn: 0.4877050\ttotal: 1.35s\tremaining: 17.9s\n",
      "70:\tlearn: 0.4864949\ttotal: 1.36s\tremaining: 17.9s\n",
      "71:\tlearn: 0.4849901\ttotal: 1.39s\tremaining: 17.9s\n",
      "72:\tlearn: 0.4837623\ttotal: 1.41s\tremaining: 17.9s\n",
      "73:\tlearn: 0.4824907\ttotal: 1.43s\tremaining: 17.9s\n",
      "74:\tlearn: 0.4811734\ttotal: 1.45s\tremaining: 17.9s\n",
      "75:\tlearn: 0.4798942\ttotal: 1.47s\tremaining: 17.9s\n",
      "76:\tlearn: 0.4784706\ttotal: 1.5s\tremaining: 17.9s\n",
      "77:\tlearn: 0.4778868\ttotal: 1.5s\tremaining: 17.8s\n",
      "78:\tlearn: 0.4767673\ttotal: 1.52s\tremaining: 17.7s\n",
      "79:\tlearn: 0.4757653\ttotal: 1.55s\tremaining: 17.8s\n",
      "80:\tlearn: 0.4746173\ttotal: 1.57s\tremaining: 17.8s\n",
      "81:\tlearn: 0.4737430\ttotal: 1.59s\tremaining: 17.9s\n",
      "82:\tlearn: 0.4725802\ttotal: 1.61s\tremaining: 17.9s\n",
      "83:\tlearn: 0.4714587\ttotal: 1.64s\tremaining: 17.8s\n",
      "84:\tlearn: 0.4701920\ttotal: 1.66s\tremaining: 17.8s\n",
      "85:\tlearn: 0.4687741\ttotal: 1.67s\tremaining: 17.8s\n",
      "86:\tlearn: 0.4675540\ttotal: 1.69s\tremaining: 17.8s\n",
      "87:\tlearn: 0.4663727\ttotal: 1.71s\tremaining: 17.8s\n",
      "88:\tlearn: 0.4656342\ttotal: 1.73s\tremaining: 17.8s\n",
      "89:\tlearn: 0.4645239\ttotal: 1.75s\tremaining: 17.7s\n",
      "90:\tlearn: 0.4638276\ttotal: 1.76s\tremaining: 17.6s\n",
      "91:\tlearn: 0.4633491\ttotal: 1.78s\tremaining: 17.6s\n",
      "92:\tlearn: 0.4620224\ttotal: 1.8s\tremaining: 17.6s\n",
      "93:\tlearn: 0.4616224\ttotal: 1.81s\tremaining: 17.5s\n",
      "94:\tlearn: 0.4606901\ttotal: 1.83s\tremaining: 17.4s\n",
      "95:\tlearn: 0.4593952\ttotal: 1.85s\tremaining: 17.4s\n",
      "96:\tlearn: 0.4593020\ttotal: 1.85s\tremaining: 17.3s\n",
      "97:\tlearn: 0.4583851\ttotal: 1.87s\tremaining: 17.2s\n",
      "98:\tlearn: 0.4575186\ttotal: 1.89s\tremaining: 17.2s\n",
      "99:\tlearn: 0.4565497\ttotal: 1.91s\tremaining: 17.2s\n",
      "100:\tlearn: 0.4559949\ttotal: 1.93s\tremaining: 17.2s\n",
      "101:\tlearn: 0.4554465\ttotal: 1.94s\tremaining: 17.1s\n",
      "102:\tlearn: 0.4542874\ttotal: 1.96s\tremaining: 17s\n",
      "103:\tlearn: 0.4531949\ttotal: 1.98s\tremaining: 17s\n",
      "104:\tlearn: 0.4524662\ttotal: 2s\tremaining: 17s\n",
      "105:\tlearn: 0.4516622\ttotal: 2.02s\tremaining: 17s\n",
      "106:\tlearn: 0.4509100\ttotal: 2.04s\tremaining: 17s\n",
      "107:\tlearn: 0.4498019\ttotal: 2.06s\tremaining: 17s\n",
      "108:\tlearn: 0.4487074\ttotal: 2.08s\tremaining: 17s\n",
      "109:\tlearn: 0.4480910\ttotal: 2.09s\tremaining: 16.9s\n",
      "110:\tlearn: 0.4468614\ttotal: 2.1s\tremaining: 16.9s\n",
      "111:\tlearn: 0.4466318\ttotal: 2.11s\tremaining: 16.7s\n",
      "112:\tlearn: 0.4458885\ttotal: 2.13s\tremaining: 16.7s\n",
      "113:\tlearn: 0.4449482\ttotal: 2.15s\tremaining: 16.7s\n",
      "114:\tlearn: 0.4442093\ttotal: 2.17s\tremaining: 16.7s\n",
      "115:\tlearn: 0.4435184\ttotal: 2.19s\tremaining: 16.7s\n",
      "116:\tlearn: 0.4427278\ttotal: 2.22s\tremaining: 16.7s\n",
      "117:\tlearn: 0.4419302\ttotal: 2.24s\tremaining: 16.7s\n",
      "118:\tlearn: 0.4410135\ttotal: 2.26s\tremaining: 16.7s\n",
      "119:\tlearn: 0.4400699\ttotal: 2.27s\tremaining: 16.7s\n",
      "120:\tlearn: 0.4392233\ttotal: 2.29s\tremaining: 16.7s\n",
      "121:\tlearn: 0.4381310\ttotal: 2.31s\tremaining: 16.6s\n",
      "122:\tlearn: 0.4378605\ttotal: 2.32s\tremaining: 16.6s\n",
      "123:\tlearn: 0.4374895\ttotal: 2.34s\tremaining: 16.5s\n",
      "124:\tlearn: 0.4366281\ttotal: 2.35s\tremaining: 16.5s\n",
      "125:\tlearn: 0.4359155\ttotal: 2.37s\tremaining: 16.5s\n",
      "126:\tlearn: 0.4351658\ttotal: 2.39s\tremaining: 16.4s\n",
      "127:\tlearn: 0.4347287\ttotal: 2.42s\tremaining: 16.5s\n",
      "128:\tlearn: 0.4339017\ttotal: 2.44s\tremaining: 16.5s\n",
      "129:\tlearn: 0.4332587\ttotal: 2.46s\tremaining: 16.4s\n",
      "130:\tlearn: 0.4321690\ttotal: 2.47s\tremaining: 16.4s\n",
      "131:\tlearn: 0.4316190\ttotal: 2.49s\tremaining: 16.4s\n",
      "132:\tlearn: 0.4312022\ttotal: 2.51s\tremaining: 16.4s\n",
      "133:\tlearn: 0.4303993\ttotal: 2.53s\tremaining: 16.4s\n",
      "134:\tlearn: 0.4296921\ttotal: 2.55s\tremaining: 16.3s\n",
      "135:\tlearn: 0.4290001\ttotal: 2.57s\tremaining: 16.3s\n",
      "136:\tlearn: 0.4282749\ttotal: 2.59s\tremaining: 16.3s\n",
      "137:\tlearn: 0.4282178\ttotal: 2.59s\tremaining: 16.2s\n",
      "138:\tlearn: 0.4276087\ttotal: 2.61s\tremaining: 16.2s\n",
      "139:\tlearn: 0.4268433\ttotal: 2.64s\tremaining: 16.2s\n",
      "140:\tlearn: 0.4260767\ttotal: 2.65s\tremaining: 16.2s\n",
      "141:\tlearn: 0.4255999\ttotal: 2.67s\tremaining: 16.2s\n",
      "142:\tlearn: 0.4250295\ttotal: 2.69s\tremaining: 16.1s\n",
      "143:\tlearn: 0.4245661\ttotal: 2.72s\tremaining: 16.1s\n",
      "144:\tlearn: 0.4240914\ttotal: 2.74s\tremaining: 16.1s\n",
      "145:\tlearn: 0.4236090\ttotal: 2.75s\tremaining: 16.1s\n",
      "146:\tlearn: 0.4230438\ttotal: 2.77s\tremaining: 16.1s\n",
      "147:\tlearn: 0.4224992\ttotal: 2.79s\tremaining: 16.1s\n",
      "148:\tlearn: 0.4217223\ttotal: 2.82s\tremaining: 16.1s\n",
      "149:\tlearn: 0.4215846\ttotal: 2.83s\tremaining: 16.1s\n",
      "150:\tlearn: 0.4209144\ttotal: 2.87s\tremaining: 16.1s\n",
      "151:\tlearn: 0.4203749\ttotal: 2.89s\tremaining: 16.1s\n",
      "152:\tlearn: 0.4196394\ttotal: 2.91s\tremaining: 16.1s\n",
      "153:\tlearn: 0.4193035\ttotal: 2.93s\tremaining: 16.1s\n",
      "154:\tlearn: 0.4189304\ttotal: 2.96s\tremaining: 16.1s\n",
      "155:\tlearn: 0.4184921\ttotal: 2.98s\tremaining: 16.1s\n",
      "156:\tlearn: 0.4184583\ttotal: 2.99s\tremaining: 16s\n",
      "157:\tlearn: 0.4177457\ttotal: 3.01s\tremaining: 16.1s\n",
      "158:\tlearn: 0.4174109\ttotal: 3.04s\tremaining: 16.1s\n",
      "159:\tlearn: 0.4168502\ttotal: 3.06s\tremaining: 16s\n",
      "160:\tlearn: 0.4165068\ttotal: 3.08s\tremaining: 16s\n",
      "161:\tlearn: 0.4157321\ttotal: 3.09s\tremaining: 16s\n",
      "162:\tlearn: 0.4153628\ttotal: 3.11s\tremaining: 16s\n",
      "163:\tlearn: 0.4144815\ttotal: 3.13s\tremaining: 16s\n",
      "164:\tlearn: 0.4138675\ttotal: 3.16s\tremaining: 16s\n",
      "165:\tlearn: 0.4135941\ttotal: 3.18s\tremaining: 16s\n",
      "166:\tlearn: 0.4130501\ttotal: 3.2s\tremaining: 15.9s\n",
      "167:\tlearn: 0.4122527\ttotal: 3.21s\tremaining: 15.9s\n",
      "168:\tlearn: 0.4118961\ttotal: 3.23s\tremaining: 15.9s\n"
     ]
    },
    {
     "name": "stdout",
     "output_type": "stream",
     "text": [
      "169:\tlearn: 0.4113647\ttotal: 3.25s\tremaining: 15.9s\n",
      "170:\tlearn: 0.4109022\ttotal: 3.27s\tremaining: 15.9s\n",
      "171:\tlearn: 0.4105490\ttotal: 3.29s\tremaining: 15.9s\n",
      "172:\tlearn: 0.4101866\ttotal: 3.31s\tremaining: 15.8s\n",
      "173:\tlearn: 0.4097486\ttotal: 3.34s\tremaining: 15.8s\n",
      "174:\tlearn: 0.4092196\ttotal: 3.35s\tremaining: 15.8s\n",
      "175:\tlearn: 0.4088209\ttotal: 3.37s\tremaining: 15.8s\n",
      "176:\tlearn: 0.4082646\ttotal: 3.39s\tremaining: 15.8s\n",
      "177:\tlearn: 0.4078618\ttotal: 3.41s\tremaining: 15.8s\n",
      "178:\tlearn: 0.4078388\ttotal: 3.42s\tremaining: 15.7s\n",
      "179:\tlearn: 0.4075339\ttotal: 3.44s\tremaining: 15.7s\n",
      "180:\tlearn: 0.4069485\ttotal: 3.46s\tremaining: 15.6s\n",
      "181:\tlearn: 0.4067599\ttotal: 3.48s\tremaining: 15.6s\n",
      "182:\tlearn: 0.4063006\ttotal: 3.5s\tremaining: 15.6s\n",
      "183:\tlearn: 0.4055123\ttotal: 3.51s\tremaining: 15.6s\n",
      "184:\tlearn: 0.4052764\ttotal: 3.53s\tremaining: 15.6s\n",
      "185:\tlearn: 0.4047556\ttotal: 3.55s\tremaining: 15.5s\n",
      "186:\tlearn: 0.4046725\ttotal: 3.56s\tremaining: 15.5s\n",
      "187:\tlearn: 0.4042032\ttotal: 3.58s\tremaining: 15.5s\n",
      "188:\tlearn: 0.4040808\ttotal: 3.59s\tremaining: 15.4s\n",
      "189:\tlearn: 0.4037464\ttotal: 3.61s\tremaining: 15.4s\n",
      "190:\tlearn: 0.4032610\ttotal: 3.63s\tremaining: 15.4s\n",
      "191:\tlearn: 0.4026070\ttotal: 3.65s\tremaining: 15.3s\n",
      "192:\tlearn: 0.4022442\ttotal: 3.67s\tremaining: 15.3s\n",
      "193:\tlearn: 0.4017428\ttotal: 3.69s\tremaining: 15.3s\n",
      "194:\tlearn: 0.4014377\ttotal: 3.71s\tremaining: 15.3s\n",
      "195:\tlearn: 0.4006991\ttotal: 3.73s\tremaining: 15.3s\n",
      "196:\tlearn: 0.4001395\ttotal: 3.75s\tremaining: 15.3s\n",
      "197:\tlearn: 0.3997763\ttotal: 3.77s\tremaining: 15.3s\n",
      "198:\tlearn: 0.3994967\ttotal: 3.79s\tremaining: 15.3s\n",
      "199:\tlearn: 0.3991572\ttotal: 3.81s\tremaining: 15.2s\n",
      "200:\tlearn: 0.3988987\ttotal: 3.83s\tremaining: 15.2s\n",
      "201:\tlearn: 0.3987407\ttotal: 3.85s\tremaining: 15.2s\n",
      "202:\tlearn: 0.3984843\ttotal: 3.86s\tremaining: 15.2s\n",
      "203:\tlearn: 0.3981282\ttotal: 3.88s\tremaining: 15.2s\n",
      "204:\tlearn: 0.3975415\ttotal: 3.91s\tremaining: 15.2s\n",
      "205:\tlearn: 0.3971963\ttotal: 3.93s\tremaining: 15.1s\n",
      "206:\tlearn: 0.3967329\ttotal: 3.95s\tremaining: 15.1s\n",
      "207:\tlearn: 0.3964125\ttotal: 3.97s\tremaining: 15.1s\n",
      "208:\tlearn: 0.3961337\ttotal: 3.99s\tremaining: 15.1s\n",
      "209:\tlearn: 0.3957120\ttotal: 4.01s\tremaining: 15.1s\n",
      "210:\tlearn: 0.3954286\ttotal: 4.03s\tremaining: 15.1s\n",
      "211:\tlearn: 0.3951853\ttotal: 4.05s\tremaining: 15.1s\n",
      "212:\tlearn: 0.3948882\ttotal: 4.07s\tremaining: 15s\n",
      "213:\tlearn: 0.3945175\ttotal: 4.09s\tremaining: 15s\n",
      "214:\tlearn: 0.3941729\ttotal: 4.11s\tremaining: 15s\n",
      "215:\tlearn: 0.3938820\ttotal: 4.13s\tremaining: 15s\n",
      "216:\tlearn: 0.3935838\ttotal: 4.16s\tremaining: 15s\n",
      "217:\tlearn: 0.3934400\ttotal: 4.18s\tremaining: 15s\n",
      "218:\tlearn: 0.3932477\ttotal: 4.2s\tremaining: 15s\n",
      "219:\tlearn: 0.3927056\ttotal: 4.21s\tremaining: 14.9s\n",
      "220:\tlearn: 0.3923910\ttotal: 4.23s\tremaining: 14.9s\n",
      "221:\tlearn: 0.3918417\ttotal: 4.25s\tremaining: 14.9s\n",
      "222:\tlearn: 0.3917181\ttotal: 4.26s\tremaining: 14.9s\n",
      "223:\tlearn: 0.3916056\ttotal: 4.28s\tremaining: 14.8s\n",
      "224:\tlearn: 0.3910487\ttotal: 4.3s\tremaining: 14.8s\n",
      "225:\tlearn: 0.3909175\ttotal: 4.32s\tremaining: 14.8s\n",
      "226:\tlearn: 0.3904726\ttotal: 4.34s\tremaining: 14.8s\n",
      "227:\tlearn: 0.3901345\ttotal: 4.36s\tremaining: 14.8s\n",
      "228:\tlearn: 0.3900491\ttotal: 4.38s\tremaining: 14.8s\n",
      "229:\tlearn: 0.3899824\ttotal: 4.39s\tremaining: 14.7s\n",
      "230:\tlearn: 0.3898944\ttotal: 4.41s\tremaining: 14.7s\n",
      "231:\tlearn: 0.3894526\ttotal: 4.42s\tremaining: 14.6s\n",
      "232:\tlearn: 0.3893306\ttotal: 4.44s\tremaining: 14.6s\n",
      "233:\tlearn: 0.3891510\ttotal: 4.46s\tremaining: 14.6s\n",
      "234:\tlearn: 0.3888778\ttotal: 4.48s\tremaining: 14.6s\n",
      "235:\tlearn: 0.3888507\ttotal: 4.49s\tremaining: 14.5s\n",
      "236:\tlearn: 0.3885394\ttotal: 4.51s\tremaining: 14.5s\n",
      "237:\tlearn: 0.3882003\ttotal: 4.53s\tremaining: 14.5s\n",
      "238:\tlearn: 0.3877702\ttotal: 4.55s\tremaining: 14.5s\n",
      "239:\tlearn: 0.3876447\ttotal: 4.56s\tremaining: 14.5s\n",
      "240:\tlearn: 0.3874651\ttotal: 4.58s\tremaining: 14.4s\n",
      "241:\tlearn: 0.3872943\ttotal: 4.6s\tremaining: 14.4s\n",
      "242:\tlearn: 0.3868938\ttotal: 4.62s\tremaining: 14.4s\n",
      "243:\tlearn: 0.3863488\ttotal: 4.64s\tremaining: 14.4s\n",
      "244:\tlearn: 0.3857893\ttotal: 4.66s\tremaining: 14.4s\n",
      "245:\tlearn: 0.3855649\ttotal: 4.68s\tremaining: 14.3s\n",
      "246:\tlearn: 0.3851199\ttotal: 4.7s\tremaining: 14.3s\n",
      "247:\tlearn: 0.3846959\ttotal: 4.72s\tremaining: 14.3s\n",
      "248:\tlearn: 0.3841234\ttotal: 4.75s\tremaining: 14.3s\n",
      "249:\tlearn: 0.3839242\ttotal: 4.78s\tremaining: 14.3s\n",
      "250:\tlearn: 0.3835584\ttotal: 4.81s\tremaining: 14.3s\n",
      "251:\tlearn: 0.3834278\ttotal: 4.83s\tremaining: 14.3s\n",
      "252:\tlearn: 0.3833528\ttotal: 4.85s\tremaining: 14.3s\n",
      "253:\tlearn: 0.3831239\ttotal: 4.88s\tremaining: 14.3s\n",
      "254:\tlearn: 0.3829700\ttotal: 4.9s\tremaining: 14.3s\n",
      "255:\tlearn: 0.3827772\ttotal: 4.92s\tremaining: 14.3s\n",
      "256:\tlearn: 0.3826429\ttotal: 4.95s\tremaining: 14.3s\n",
      "257:\tlearn: 0.3823080\ttotal: 4.97s\tremaining: 14.3s\n",
      "258:\tlearn: 0.3819405\ttotal: 4.99s\tremaining: 14.3s\n",
      "259:\tlearn: 0.3818756\ttotal: 5.01s\tremaining: 14.3s\n",
      "260:\tlearn: 0.3816802\ttotal: 5.03s\tremaining: 14.2s\n",
      "261:\tlearn: 0.3814153\ttotal: 5.05s\tremaining: 14.2s\n",
      "262:\tlearn: 0.3810354\ttotal: 5.07s\tremaining: 14.2s\n",
      "263:\tlearn: 0.3806286\ttotal: 5.09s\tremaining: 14.2s\n",
      "264:\tlearn: 0.3804568\ttotal: 5.12s\tremaining: 14.2s\n",
      "265:\tlearn: 0.3802630\ttotal: 5.14s\tremaining: 14.2s\n",
      "266:\tlearn: 0.3799436\ttotal: 5.17s\tremaining: 14.2s\n",
      "267:\tlearn: 0.3796896\ttotal: 5.23s\tremaining: 14.3s\n",
      "268:\tlearn: 0.3794657\ttotal: 5.26s\tremaining: 14.3s\n",
      "269:\tlearn: 0.3790829\ttotal: 5.28s\tremaining: 14.3s\n",
      "270:\tlearn: 0.3789365\ttotal: 5.3s\tremaining: 14.3s\n",
      "271:\tlearn: 0.3785673\ttotal: 5.33s\tremaining: 14.3s\n",
      "272:\tlearn: 0.3780342\ttotal: 5.35s\tremaining: 14.2s\n",
      "273:\tlearn: 0.3778628\ttotal: 5.38s\tremaining: 14.2s\n",
      "274:\tlearn: 0.3778202\ttotal: 5.38s\tremaining: 14.2s\n",
      "275:\tlearn: 0.3774950\ttotal: 5.41s\tremaining: 14.2s\n",
      "276:\tlearn: 0.3773897\ttotal: 5.44s\tremaining: 14.2s\n",
      "277:\tlearn: 0.3770197\ttotal: 5.46s\tremaining: 14.2s\n",
      "278:\tlearn: 0.3767855\ttotal: 5.49s\tremaining: 14.2s\n",
      "279:\tlearn: 0.3766123\ttotal: 5.51s\tremaining: 14.2s\n",
      "280:\tlearn: 0.3762649\ttotal: 5.53s\tremaining: 14.2s\n",
      "281:\tlearn: 0.3760435\ttotal: 5.55s\tremaining: 14.1s\n",
      "282:\tlearn: 0.3758919\ttotal: 5.58s\tremaining: 14.1s\n",
      "283:\tlearn: 0.3756773\ttotal: 5.6s\tremaining: 14.1s\n",
      "284:\tlearn: 0.3755182\ttotal: 5.63s\tremaining: 14.1s\n",
      "285:\tlearn: 0.3750890\ttotal: 5.65s\tremaining: 14.1s\n",
      "286:\tlearn: 0.3747417\ttotal: 5.67s\tremaining: 14.1s\n",
      "287:\tlearn: 0.3745661\ttotal: 5.7s\tremaining: 14.1s\n",
      "288:\tlearn: 0.3744025\ttotal: 5.72s\tremaining: 14.1s\n",
      "289:\tlearn: 0.3741445\ttotal: 5.74s\tremaining: 14.1s\n",
      "290:\tlearn: 0.3738426\ttotal: 5.78s\tremaining: 14.1s\n",
      "291:\tlearn: 0.3737087\ttotal: 5.8s\tremaining: 14.1s\n",
      "292:\tlearn: 0.3730943\ttotal: 5.83s\tremaining: 14.1s\n",
      "293:\tlearn: 0.3729455\ttotal: 5.86s\tremaining: 14.1s\n",
      "294:\tlearn: 0.3727464\ttotal: 5.87s\tremaining: 14s\n",
      "295:\tlearn: 0.3725556\ttotal: 5.89s\tremaining: 14s\n",
      "296:\tlearn: 0.3724261\ttotal: 5.91s\tremaining: 14s\n",
      "297:\tlearn: 0.3720481\ttotal: 5.93s\tremaining: 14s\n",
      "298:\tlearn: 0.3717549\ttotal: 5.95s\tremaining: 13.9s\n",
      "299:\tlearn: 0.3715535\ttotal: 5.97s\tremaining: 13.9s\n",
      "300:\tlearn: 0.3712790\ttotal: 5.98s\tremaining: 13.9s\n",
      "301:\tlearn: 0.3711673\ttotal: 6s\tremaining: 13.9s\n",
      "302:\tlearn: 0.3707334\ttotal: 6.02s\tremaining: 13.9s\n",
      "303:\tlearn: 0.3704502\ttotal: 6.04s\tremaining: 13.8s\n",
      "304:\tlearn: 0.3701612\ttotal: 6.06s\tremaining: 13.8s\n",
      "305:\tlearn: 0.3698399\ttotal: 6.08s\tremaining: 13.8s\n",
      "306:\tlearn: 0.3696666\ttotal: 6.1s\tremaining: 13.8s\n",
      "307:\tlearn: 0.3693271\ttotal: 6.12s\tremaining: 13.7s\n",
      "308:\tlearn: 0.3691793\ttotal: 6.14s\tremaining: 13.7s\n",
      "309:\tlearn: 0.3689606\ttotal: 6.16s\tremaining: 13.7s\n",
      "310:\tlearn: 0.3683642\ttotal: 6.18s\tremaining: 13.7s\n",
      "311:\tlearn: 0.3680629\ttotal: 6.21s\tremaining: 13.7s\n",
      "312:\tlearn: 0.3680292\ttotal: 6.23s\tremaining: 13.7s\n",
      "313:\tlearn: 0.3678372\ttotal: 6.26s\tremaining: 13.7s\n",
      "314:\tlearn: 0.3676902\ttotal: 6.28s\tremaining: 13.7s\n",
      "315:\tlearn: 0.3674622\ttotal: 6.3s\tremaining: 13.6s\n",
      "316:\tlearn: 0.3670380\ttotal: 6.33s\tremaining: 13.6s\n",
      "317:\tlearn: 0.3668104\ttotal: 6.36s\tremaining: 13.6s\n",
      "318:\tlearn: 0.3668063\ttotal: 6.36s\tremaining: 13.6s\n",
      "319:\tlearn: 0.3664340\ttotal: 6.38s\tremaining: 13.6s\n",
      "320:\tlearn: 0.3661497\ttotal: 6.41s\tremaining: 13.6s\n",
      "321:\tlearn: 0.3659095\ttotal: 6.43s\tremaining: 13.5s\n",
      "322:\tlearn: 0.3658486\ttotal: 6.45s\tremaining: 13.5s\n",
      "323:\tlearn: 0.3656175\ttotal: 6.47s\tremaining: 13.5s\n",
      "324:\tlearn: 0.3655721\ttotal: 6.49s\tremaining: 13.5s\n",
      "325:\tlearn: 0.3654034\ttotal: 6.51s\tremaining: 13.5s\n",
      "326:\tlearn: 0.3652565\ttotal: 6.53s\tremaining: 13.4s\n",
      "327:\tlearn: 0.3652472\ttotal: 6.54s\tremaining: 13.4s\n",
      "328:\tlearn: 0.3651304\ttotal: 6.56s\tremaining: 13.4s\n",
      "329:\tlearn: 0.3650277\ttotal: 6.58s\tremaining: 13.4s\n",
      "330:\tlearn: 0.3647596\ttotal: 6.6s\tremaining: 13.3s\n",
      "331:\tlearn: 0.3644573\ttotal: 6.62s\tremaining: 13.3s\n",
      "332:\tlearn: 0.3643876\ttotal: 6.64s\tremaining: 13.3s\n"
     ]
    },
    {
     "name": "stdout",
     "output_type": "stream",
     "text": [
      "333:\tlearn: 0.3642573\ttotal: 6.66s\tremaining: 13.3s\n",
      "334:\tlearn: 0.3639627\ttotal: 6.68s\tremaining: 13.3s\n",
      "335:\tlearn: 0.3638779\ttotal: 6.7s\tremaining: 13.2s\n",
      "336:\tlearn: 0.3634803\ttotal: 6.72s\tremaining: 13.2s\n",
      "337:\tlearn: 0.3631156\ttotal: 6.74s\tremaining: 13.2s\n",
      "338:\tlearn: 0.3628860\ttotal: 6.76s\tremaining: 13.2s\n",
      "339:\tlearn: 0.3626213\ttotal: 6.79s\tremaining: 13.2s\n",
      "340:\tlearn: 0.3626178\ttotal: 6.8s\tremaining: 13.1s\n",
      "341:\tlearn: 0.3624828\ttotal: 6.82s\tremaining: 13.1s\n",
      "342:\tlearn: 0.3624648\ttotal: 6.83s\tremaining: 13.1s\n",
      "343:\tlearn: 0.3624644\ttotal: 6.83s\tremaining: 13s\n",
      "344:\tlearn: 0.3623175\ttotal: 6.85s\tremaining: 13s\n",
      "345:\tlearn: 0.3622487\ttotal: 6.87s\tremaining: 13s\n",
      "346:\tlearn: 0.3621298\ttotal: 6.89s\tremaining: 13s\n",
      "347:\tlearn: 0.3618087\ttotal: 6.91s\tremaining: 12.9s\n",
      "348:\tlearn: 0.3616852\ttotal: 6.92s\tremaining: 12.9s\n",
      "349:\tlearn: 0.3613124\ttotal: 6.94s\tremaining: 12.9s\n",
      "350:\tlearn: 0.3611286\ttotal: 6.96s\tremaining: 12.9s\n",
      "351:\tlearn: 0.3609974\ttotal: 6.98s\tremaining: 12.8s\n",
      "352:\tlearn: 0.3609901\ttotal: 6.98s\tremaining: 12.8s\n",
      "353:\tlearn: 0.3606632\ttotal: 7s\tremaining: 12.8s\n",
      "354:\tlearn: 0.3604298\ttotal: 7.02s\tremaining: 12.8s\n",
      "355:\tlearn: 0.3601646\ttotal: 7.04s\tremaining: 12.7s\n",
      "356:\tlearn: 0.3597779\ttotal: 7.07s\tremaining: 12.7s\n",
      "357:\tlearn: 0.3596934\ttotal: 7.09s\tremaining: 12.7s\n",
      "358:\tlearn: 0.3594875\ttotal: 7.11s\tremaining: 12.7s\n",
      "359:\tlearn: 0.3593744\ttotal: 7.13s\tremaining: 12.7s\n",
      "360:\tlearn: 0.3593672\ttotal: 7.13s\tremaining: 12.6s\n",
      "361:\tlearn: 0.3592545\ttotal: 7.15s\tremaining: 12.6s\n",
      "362:\tlearn: 0.3591076\ttotal: 7.17s\tremaining: 12.6s\n",
      "363:\tlearn: 0.3589021\ttotal: 7.19s\tremaining: 12.6s\n",
      "364:\tlearn: 0.3588604\ttotal: 7.22s\tremaining: 12.6s\n",
      "365:\tlearn: 0.3585077\ttotal: 7.24s\tremaining: 12.5s\n",
      "366:\tlearn: 0.3582129\ttotal: 7.26s\tremaining: 12.5s\n",
      "367:\tlearn: 0.3580847\ttotal: 7.28s\tremaining: 12.5s\n",
      "368:\tlearn: 0.3579531\ttotal: 7.3s\tremaining: 12.5s\n",
      "369:\tlearn: 0.3578769\ttotal: 7.32s\tremaining: 12.5s\n",
      "370:\tlearn: 0.3577872\ttotal: 7.34s\tremaining: 12.4s\n",
      "371:\tlearn: 0.3577871\ttotal: 7.34s\tremaining: 12.4s\n",
      "372:\tlearn: 0.3575034\ttotal: 7.38s\tremaining: 12.4s\n",
      "373:\tlearn: 0.3574852\ttotal: 7.39s\tremaining: 12.4s\n",
      "374:\tlearn: 0.3572186\ttotal: 7.41s\tremaining: 12.4s\n",
      "375:\tlearn: 0.3571650\ttotal: 7.43s\tremaining: 12.3s\n",
      "376:\tlearn: 0.3569084\ttotal: 7.46s\tremaining: 12.3s\n",
      "377:\tlearn: 0.3568240\ttotal: 7.48s\tremaining: 12.3s\n",
      "378:\tlearn: 0.3566851\ttotal: 7.5s\tremaining: 12.3s\n",
      "379:\tlearn: 0.3563741\ttotal: 7.52s\tremaining: 12.3s\n",
      "380:\tlearn: 0.3562229\ttotal: 7.54s\tremaining: 12.2s\n",
      "381:\tlearn: 0.3559507\ttotal: 7.56s\tremaining: 12.2s\n",
      "382:\tlearn: 0.3558139\ttotal: 7.58s\tremaining: 12.2s\n",
      "383:\tlearn: 0.3555809\ttotal: 7.6s\tremaining: 12.2s\n",
      "384:\tlearn: 0.3554515\ttotal: 7.62s\tremaining: 12.2s\n",
      "385:\tlearn: 0.3553000\ttotal: 7.63s\tremaining: 12.1s\n",
      "386:\tlearn: 0.3550733\ttotal: 7.65s\tremaining: 12.1s\n",
      "387:\tlearn: 0.3549134\ttotal: 7.67s\tremaining: 12.1s\n",
      "388:\tlearn: 0.3547512\ttotal: 7.69s\tremaining: 12.1s\n",
      "389:\tlearn: 0.3547510\ttotal: 7.7s\tremaining: 12s\n",
      "390:\tlearn: 0.3544666\ttotal: 7.72s\tremaining: 12s\n",
      "391:\tlearn: 0.3541033\ttotal: 7.74s\tremaining: 12s\n",
      "392:\tlearn: 0.3539115\ttotal: 7.76s\tremaining: 12s\n",
      "393:\tlearn: 0.3537702\ttotal: 7.78s\tremaining: 12s\n",
      "394:\tlearn: 0.3535915\ttotal: 7.82s\tremaining: 12s\n",
      "395:\tlearn: 0.3534108\ttotal: 7.84s\tremaining: 12s\n",
      "396:\tlearn: 0.3532511\ttotal: 7.86s\tremaining: 11.9s\n",
      "397:\tlearn: 0.3530997\ttotal: 7.88s\tremaining: 11.9s\n",
      "398:\tlearn: 0.3528093\ttotal: 7.9s\tremaining: 11.9s\n",
      "399:\tlearn: 0.3526917\ttotal: 7.91s\tremaining: 11.9s\n",
      "400:\tlearn: 0.3526917\ttotal: 7.92s\tremaining: 11.8s\n",
      "401:\tlearn: 0.3526523\ttotal: 7.94s\tremaining: 11.8s\n",
      "402:\tlearn: 0.3525242\ttotal: 7.96s\tremaining: 11.8s\n",
      "403:\tlearn: 0.3523570\ttotal: 7.97s\tremaining: 11.8s\n",
      "404:\tlearn: 0.3522024\ttotal: 7.99s\tremaining: 11.7s\n",
      "405:\tlearn: 0.3520256\ttotal: 8.01s\tremaining: 11.7s\n",
      "406:\tlearn: 0.3517393\ttotal: 8.03s\tremaining: 11.7s\n",
      "407:\tlearn: 0.3516823\ttotal: 8.05s\tremaining: 11.7s\n",
      "408:\tlearn: 0.3516175\ttotal: 8.07s\tremaining: 11.7s\n",
      "409:\tlearn: 0.3515441\ttotal: 8.09s\tremaining: 11.6s\n",
      "410:\tlearn: 0.3513302\ttotal: 8.11s\tremaining: 11.6s\n",
      "411:\tlearn: 0.3512078\ttotal: 8.13s\tremaining: 11.6s\n",
      "412:\tlearn: 0.3510909\ttotal: 8.14s\tremaining: 11.6s\n",
      "413:\tlearn: 0.3509278\ttotal: 8.16s\tremaining: 11.6s\n",
      "414:\tlearn: 0.3506691\ttotal: 8.18s\tremaining: 11.5s\n",
      "415:\tlearn: 0.3505557\ttotal: 8.2s\tremaining: 11.5s\n",
      "416:\tlearn: 0.3502266\ttotal: 8.23s\tremaining: 11.5s\n",
      "417:\tlearn: 0.3498735\ttotal: 8.25s\tremaining: 11.5s\n",
      "418:\tlearn: 0.3497100\ttotal: 8.28s\tremaining: 11.5s\n",
      "419:\tlearn: 0.3495911\ttotal: 8.3s\tremaining: 11.5s\n",
      "420:\tlearn: 0.3493216\ttotal: 8.32s\tremaining: 11.4s\n",
      "421:\tlearn: 0.3491140\ttotal: 8.34s\tremaining: 11.4s\n",
      "422:\tlearn: 0.3490242\ttotal: 8.36s\tremaining: 11.4s\n",
      "423:\tlearn: 0.3489638\ttotal: 8.38s\tremaining: 11.4s\n",
      "424:\tlearn: 0.3487027\ttotal: 8.4s\tremaining: 11.4s\n",
      "425:\tlearn: 0.3484074\ttotal: 8.42s\tremaining: 11.3s\n",
      "426:\tlearn: 0.3482494\ttotal: 8.44s\tremaining: 11.3s\n",
      "427:\tlearn: 0.3479113\ttotal: 8.46s\tremaining: 11.3s\n",
      "428:\tlearn: 0.3477767\ttotal: 8.47s\tremaining: 11.3s\n",
      "429:\tlearn: 0.3477281\ttotal: 8.49s\tremaining: 11.3s\n",
      "430:\tlearn: 0.3474980\ttotal: 8.51s\tremaining: 11.2s\n",
      "431:\tlearn: 0.3474849\ttotal: 8.52s\tremaining: 11.2s\n",
      "432:\tlearn: 0.3471813\ttotal: 8.54s\tremaining: 11.2s\n",
      "433:\tlearn: 0.3469525\ttotal: 8.55s\tremaining: 11.2s\n",
      "434:\tlearn: 0.3467412\ttotal: 8.57s\tremaining: 11.1s\n",
      "435:\tlearn: 0.3465779\ttotal: 8.59s\tremaining: 11.1s\n",
      "436:\tlearn: 0.3465205\ttotal: 8.61s\tremaining: 11.1s\n",
      "437:\tlearn: 0.3464696\ttotal: 8.63s\tremaining: 11.1s\n",
      "438:\tlearn: 0.3464653\ttotal: 8.63s\tremaining: 11s\n",
      "439:\tlearn: 0.3461564\ttotal: 8.65s\tremaining: 11s\n",
      "440:\tlearn: 0.3458397\ttotal: 8.67s\tremaining: 11s\n",
      "441:\tlearn: 0.3456205\ttotal: 8.69s\tremaining: 11s\n",
      "442:\tlearn: 0.3455879\ttotal: 8.7s\tremaining: 10.9s\n",
      "443:\tlearn: 0.3454382\ttotal: 8.72s\tremaining: 10.9s\n",
      "444:\tlearn: 0.3453752\ttotal: 8.74s\tremaining: 10.9s\n",
      "445:\tlearn: 0.3452983\ttotal: 8.76s\tremaining: 10.9s\n",
      "446:\tlearn: 0.3451994\ttotal: 8.78s\tremaining: 10.9s\n",
      "447:\tlearn: 0.3451989\ttotal: 8.79s\tremaining: 10.8s\n",
      "448:\tlearn: 0.3450107\ttotal: 8.82s\tremaining: 10.8s\n",
      "449:\tlearn: 0.3448572\ttotal: 8.84s\tremaining: 10.8s\n",
      "450:\tlearn: 0.3446215\ttotal: 8.86s\tremaining: 10.8s\n",
      "451:\tlearn: 0.3445768\ttotal: 8.88s\tremaining: 10.8s\n",
      "452:\tlearn: 0.3445235\ttotal: 8.9s\tremaining: 10.7s\n",
      "453:\tlearn: 0.3444954\ttotal: 8.92s\tremaining: 10.7s\n",
      "454:\tlearn: 0.3443951\ttotal: 8.94s\tremaining: 10.7s\n",
      "455:\tlearn: 0.3442488\ttotal: 8.96s\tremaining: 10.7s\n",
      "456:\tlearn: 0.3442202\ttotal: 8.98s\tremaining: 10.7s\n",
      "457:\tlearn: 0.3442162\ttotal: 8.98s\tremaining: 10.6s\n",
      "458:\tlearn: 0.3440217\ttotal: 9.01s\tremaining: 10.6s\n",
      "459:\tlearn: 0.3438434\ttotal: 9.03s\tremaining: 10.6s\n",
      "460:\tlearn: 0.3437204\ttotal: 9.05s\tremaining: 10.6s\n",
      "461:\tlearn: 0.3436239\ttotal: 9.07s\tremaining: 10.6s\n",
      "462:\tlearn: 0.3435975\ttotal: 9.08s\tremaining: 10.5s\n",
      "463:\tlearn: 0.3435488\ttotal: 9.1s\tremaining: 10.5s\n",
      "464:\tlearn: 0.3434798\ttotal: 9.12s\tremaining: 10.5s\n",
      "465:\tlearn: 0.3434767\ttotal: 9.13s\tremaining: 10.5s\n",
      "466:\tlearn: 0.3433564\ttotal: 9.15s\tremaining: 10.4s\n",
      "467:\tlearn: 0.3433274\ttotal: 9.16s\tremaining: 10.4s\n",
      "468:\tlearn: 0.3432315\ttotal: 9.18s\tremaining: 10.4s\n",
      "469:\tlearn: 0.3431982\ttotal: 9.2s\tremaining: 10.4s\n",
      "470:\tlearn: 0.3428707\ttotal: 9.22s\tremaining: 10.4s\n",
      "471:\tlearn: 0.3428604\ttotal: 9.24s\tremaining: 10.3s\n",
      "472:\tlearn: 0.3427280\ttotal: 9.26s\tremaining: 10.3s\n",
      "473:\tlearn: 0.3425504\ttotal: 9.28s\tremaining: 10.3s\n",
      "474:\tlearn: 0.3424592\ttotal: 9.3s\tremaining: 10.3s\n",
      "475:\tlearn: 0.3424588\ttotal: 9.3s\tremaining: 10.2s\n",
      "476:\tlearn: 0.3423535\ttotal: 9.32s\tremaining: 10.2s\n",
      "477:\tlearn: 0.3422742\ttotal: 9.34s\tremaining: 10.2s\n",
      "478:\tlearn: 0.3422478\ttotal: 9.36s\tremaining: 10.2s\n",
      "479:\tlearn: 0.3420444\ttotal: 9.38s\tremaining: 10.2s\n",
      "480:\tlearn: 0.3417926\ttotal: 9.4s\tremaining: 10.1s\n",
      "481:\tlearn: 0.3416659\ttotal: 9.42s\tremaining: 10.1s\n",
      "482:\tlearn: 0.3414786\ttotal: 9.44s\tremaining: 10.1s\n",
      "483:\tlearn: 0.3411406\ttotal: 9.45s\tremaining: 10.1s\n",
      "484:\tlearn: 0.3410501\ttotal: 9.47s\tremaining: 10.1s\n",
      "485:\tlearn: 0.3407831\ttotal: 9.49s\tremaining: 10s\n",
      "486:\tlearn: 0.3405556\ttotal: 9.51s\tremaining: 10s\n",
      "487:\tlearn: 0.3404290\ttotal: 9.53s\tremaining: 10s\n",
      "488:\tlearn: 0.3402906\ttotal: 9.55s\tremaining: 9.98s\n",
      "489:\tlearn: 0.3399114\ttotal: 9.57s\tremaining: 9.96s\n",
      "490:\tlearn: 0.3396761\ttotal: 9.6s\tremaining: 9.95s\n",
      "491:\tlearn: 0.3396111\ttotal: 9.62s\tremaining: 9.93s\n",
      "492:\tlearn: 0.3395296\ttotal: 9.64s\tremaining: 9.91s\n",
      "493:\tlearn: 0.3395274\ttotal: 9.65s\tremaining: 9.88s\n",
      "494:\tlearn: 0.3394706\ttotal: 9.67s\tremaining: 9.86s\n",
      "495:\tlearn: 0.3394497\ttotal: 9.68s\tremaining: 9.84s\n",
      "496:\tlearn: 0.3392533\ttotal: 9.7s\tremaining: 9.82s\n"
     ]
    },
    {
     "name": "stdout",
     "output_type": "stream",
     "text": [
      "497:\tlearn: 0.3390261\ttotal: 9.72s\tremaining: 9.8s\n",
      "498:\tlearn: 0.3388096\ttotal: 9.74s\tremaining: 9.78s\n",
      "499:\tlearn: 0.3386472\ttotal: 9.77s\tremaining: 9.77s\n",
      "500:\tlearn: 0.3383821\ttotal: 9.79s\tremaining: 9.75s\n",
      "501:\tlearn: 0.3383280\ttotal: 9.81s\tremaining: 9.74s\n",
      "502:\tlearn: 0.3380282\ttotal: 9.85s\tremaining: 9.73s\n",
      "503:\tlearn: 0.3379252\ttotal: 9.87s\tremaining: 9.71s\n",
      "504:\tlearn: 0.3378266\ttotal: 9.89s\tremaining: 9.69s\n",
      "505:\tlearn: 0.3376945\ttotal: 9.9s\tremaining: 9.67s\n",
      "506:\tlearn: 0.3376478\ttotal: 9.93s\tremaining: 9.65s\n",
      "507:\tlearn: 0.3374514\ttotal: 9.95s\tremaining: 9.63s\n",
      "508:\tlearn: 0.3372623\ttotal: 9.96s\tremaining: 9.61s\n",
      "509:\tlearn: 0.3370987\ttotal: 9.98s\tremaining: 9.59s\n",
      "510:\tlearn: 0.3370613\ttotal: 10s\tremaining: 9.57s\n",
      "511:\tlearn: 0.3368726\ttotal: 10s\tremaining: 9.55s\n",
      "512:\tlearn: 0.3368037\ttotal: 10s\tremaining: 9.53s\n",
      "513:\tlearn: 0.3366377\ttotal: 10.1s\tremaining: 9.51s\n",
      "514:\tlearn: 0.3363701\ttotal: 10.1s\tremaining: 9.49s\n",
      "515:\tlearn: 0.3361686\ttotal: 10.1s\tremaining: 9.46s\n",
      "516:\tlearn: 0.3359388\ttotal: 10.1s\tremaining: 9.45s\n",
      "517:\tlearn: 0.3359009\ttotal: 10.1s\tremaining: 9.43s\n",
      "518:\tlearn: 0.3357827\ttotal: 10.1s\tremaining: 9.41s\n",
      "519:\tlearn: 0.3356480\ttotal: 10.2s\tremaining: 9.39s\n",
      "520:\tlearn: 0.3354459\ttotal: 10.2s\tremaining: 9.37s\n",
      "521:\tlearn: 0.3352855\ttotal: 10.2s\tremaining: 9.35s\n",
      "522:\tlearn: 0.3350553\ttotal: 10.2s\tremaining: 9.33s\n",
      "523:\tlearn: 0.3350122\ttotal: 10.3s\tremaining: 9.31s\n",
      "524:\tlearn: 0.3349443\ttotal: 10.3s\tremaining: 9.3s\n",
      "525:\tlearn: 0.3348820\ttotal: 10.3s\tremaining: 9.28s\n",
      "526:\tlearn: 0.3344848\ttotal: 10.3s\tremaining: 9.27s\n",
      "527:\tlearn: 0.3341578\ttotal: 10.3s\tremaining: 9.25s\n",
      "528:\tlearn: 0.3339424\ttotal: 10.4s\tremaining: 9.23s\n",
      "529:\tlearn: 0.3338760\ttotal: 10.4s\tremaining: 9.21s\n",
      "530:\tlearn: 0.3337310\ttotal: 10.4s\tremaining: 9.19s\n",
      "531:\tlearn: 0.3337292\ttotal: 10.4s\tremaining: 9.16s\n",
      "532:\tlearn: 0.3335315\ttotal: 10.4s\tremaining: 9.14s\n",
      "533:\tlearn: 0.3334107\ttotal: 10.5s\tremaining: 9.12s\n",
      "534:\tlearn: 0.3332664\ttotal: 10.5s\tremaining: 9.1s\n",
      "535:\tlearn: 0.3332286\ttotal: 10.5s\tremaining: 9.07s\n",
      "536:\tlearn: 0.3329629\ttotal: 10.5s\tremaining: 9.05s\n",
      "537:\tlearn: 0.3328675\ttotal: 10.5s\tremaining: 9.03s\n",
      "538:\tlearn: 0.3323553\ttotal: 10.5s\tremaining: 9.01s\n",
      "539:\tlearn: 0.3321982\ttotal: 10.6s\tremaining: 8.99s\n",
      "540:\tlearn: 0.3321860\ttotal: 10.6s\tremaining: 8.96s\n",
      "541:\tlearn: 0.3320523\ttotal: 10.6s\tremaining: 8.94s\n",
      "542:\tlearn: 0.3319175\ttotal: 10.6s\tremaining: 8.92s\n",
      "543:\tlearn: 0.3317987\ttotal: 10.6s\tremaining: 8.9s\n",
      "544:\tlearn: 0.3315954\ttotal: 10.6s\tremaining: 8.88s\n",
      "545:\tlearn: 0.3314291\ttotal: 10.7s\tremaining: 8.86s\n",
      "546:\tlearn: 0.3310917\ttotal: 10.7s\tremaining: 8.84s\n",
      "547:\tlearn: 0.3310757\ttotal: 10.7s\tremaining: 8.81s\n",
      "548:\tlearn: 0.3310703\ttotal: 10.7s\tremaining: 8.78s\n",
      "549:\tlearn: 0.3309728\ttotal: 10.7s\tremaining: 8.76s\n",
      "550:\tlearn: 0.3308688\ttotal: 10.7s\tremaining: 8.74s\n",
      "551:\tlearn: 0.3306543\ttotal: 10.7s\tremaining: 8.72s\n",
      "552:\tlearn: 0.3304502\ttotal: 10.8s\tremaining: 8.7s\n",
      "553:\tlearn: 0.3300987\ttotal: 10.8s\tremaining: 8.68s\n",
      "554:\tlearn: 0.3298840\ttotal: 10.8s\tremaining: 8.66s\n",
      "555:\tlearn: 0.3298806\ttotal: 10.8s\tremaining: 8.64s\n",
      "556:\tlearn: 0.3296788\ttotal: 10.8s\tremaining: 8.62s\n",
      "557:\tlearn: 0.3296084\ttotal: 10.9s\tremaining: 8.61s\n",
      "558:\tlearn: 0.3295229\ttotal: 10.9s\tremaining: 8.59s\n",
      "559:\tlearn: 0.3294375\ttotal: 10.9s\tremaining: 8.57s\n",
      "560:\tlearn: 0.3293145\ttotal: 10.9s\tremaining: 8.56s\n",
      "561:\tlearn: 0.3291138\ttotal: 11s\tremaining: 8.54s\n",
      "562:\tlearn: 0.3290378\ttotal: 11s\tremaining: 8.52s\n",
      "563:\tlearn: 0.3290031\ttotal: 11s\tremaining: 8.5s\n",
      "564:\tlearn: 0.3288640\ttotal: 11s\tremaining: 8.48s\n",
      "565:\tlearn: 0.3288424\ttotal: 11s\tremaining: 8.45s\n",
      "566:\tlearn: 0.3284647\ttotal: 11s\tremaining: 8.43s\n",
      "567:\tlearn: 0.3281391\ttotal: 11.1s\tremaining: 8.41s\n",
      "568:\tlearn: 0.3280135\ttotal: 11.1s\tremaining: 8.39s\n",
      "569:\tlearn: 0.3279244\ttotal: 11.1s\tremaining: 8.38s\n",
      "570:\tlearn: 0.3278452\ttotal: 11.1s\tremaining: 8.35s\n",
      "571:\tlearn: 0.3277244\ttotal: 11.1s\tremaining: 8.33s\n",
      "572:\tlearn: 0.3276714\ttotal: 11.1s\tremaining: 8.31s\n",
      "573:\tlearn: 0.3274881\ttotal: 11.2s\tremaining: 8.29s\n",
      "574:\tlearn: 0.3272080\ttotal: 11.2s\tremaining: 8.27s\n",
      "575:\tlearn: 0.3271642\ttotal: 11.2s\tremaining: 8.25s\n",
      "576:\tlearn: 0.3269345\ttotal: 11.2s\tremaining: 8.23s\n",
      "577:\tlearn: 0.3267557\ttotal: 11.2s\tremaining: 8.21s\n",
      "578:\tlearn: 0.3266166\ttotal: 11.3s\tremaining: 8.19s\n",
      "579:\tlearn: 0.3265963\ttotal: 11.3s\tremaining: 8.16s\n",
      "580:\tlearn: 0.3265959\ttotal: 11.3s\tremaining: 8.14s\n",
      "581:\tlearn: 0.3265865\ttotal: 11.3s\tremaining: 8.12s\n",
      "582:\tlearn: 0.3264793\ttotal: 11.3s\tremaining: 8.1s\n",
      "583:\tlearn: 0.3264672\ttotal: 11.3s\tremaining: 8.07s\n",
      "584:\tlearn: 0.3264065\ttotal: 11.3s\tremaining: 8.05s\n",
      "585:\tlearn: 0.3261369\ttotal: 11.4s\tremaining: 8.03s\n",
      "586:\tlearn: 0.3261017\ttotal: 11.4s\tremaining: 8.01s\n",
      "587:\tlearn: 0.3258470\ttotal: 11.4s\tremaining: 7.99s\n",
      "588:\tlearn: 0.3253525\ttotal: 11.4s\tremaining: 7.97s\n",
      "589:\tlearn: 0.3253281\ttotal: 11.4s\tremaining: 7.95s\n",
      "590:\tlearn: 0.3250767\ttotal: 11.5s\tremaining: 7.93s\n",
      "591:\tlearn: 0.3249074\ttotal: 11.5s\tremaining: 7.91s\n",
      "592:\tlearn: 0.3245885\ttotal: 11.5s\tremaining: 7.89s\n",
      "593:\tlearn: 0.3242437\ttotal: 11.5s\tremaining: 7.87s\n",
      "594:\tlearn: 0.3241026\ttotal: 11.5s\tremaining: 7.85s\n",
      "595:\tlearn: 0.3238118\ttotal: 11.6s\tremaining: 7.83s\n",
      "596:\tlearn: 0.3237637\ttotal: 11.6s\tremaining: 7.81s\n",
      "597:\tlearn: 0.3235711\ttotal: 11.6s\tremaining: 7.79s\n",
      "598:\tlearn: 0.3234652\ttotal: 11.6s\tremaining: 7.77s\n",
      "599:\tlearn: 0.3232787\ttotal: 11.6s\tremaining: 7.75s\n",
      "600:\tlearn: 0.3230058\ttotal: 11.6s\tremaining: 7.73s\n",
      "601:\tlearn: 0.3229405\ttotal: 11.7s\tremaining: 7.71s\n",
      "602:\tlearn: 0.3228948\ttotal: 11.7s\tremaining: 7.69s\n",
      "603:\tlearn: 0.3227797\ttotal: 11.7s\tremaining: 7.67s\n",
      "604:\tlearn: 0.3226377\ttotal: 11.7s\tremaining: 7.65s\n",
      "605:\tlearn: 0.3225689\ttotal: 11.7s\tremaining: 7.63s\n",
      "606:\tlearn: 0.3225616\ttotal: 11.8s\tremaining: 7.61s\n",
      "607:\tlearn: 0.3223301\ttotal: 11.8s\tremaining: 7.59s\n",
      "608:\tlearn: 0.3220850\ttotal: 11.8s\tremaining: 7.57s\n",
      "609:\tlearn: 0.3217698\ttotal: 11.8s\tremaining: 7.56s\n",
      "610:\tlearn: 0.3217353\ttotal: 11.8s\tremaining: 7.54s\n",
      "611:\tlearn: 0.3216749\ttotal: 11.9s\tremaining: 7.52s\n",
      "612:\tlearn: 0.3215999\ttotal: 11.9s\tremaining: 7.52s\n",
      "613:\tlearn: 0.3215663\ttotal: 11.9s\tremaining: 7.5s\n",
      "614:\tlearn: 0.3214847\ttotal: 11.9s\tremaining: 7.48s\n",
      "615:\tlearn: 0.3213416\ttotal: 12s\tremaining: 7.46s\n",
      "616:\tlearn: 0.3211100\ttotal: 12s\tremaining: 7.44s\n",
      "617:\tlearn: 0.3207440\ttotal: 12s\tremaining: 7.42s\n",
      "618:\tlearn: 0.3206123\ttotal: 12s\tremaining: 7.4s\n",
      "619:\tlearn: 0.3205391\ttotal: 12s\tremaining: 7.38s\n",
      "620:\tlearn: 0.3204849\ttotal: 12.1s\tremaining: 7.36s\n",
      "621:\tlearn: 0.3203982\ttotal: 12.1s\tremaining: 7.34s\n",
      "622:\tlearn: 0.3203345\ttotal: 12.1s\tremaining: 7.32s\n",
      "623:\tlearn: 0.3202357\ttotal: 12.1s\tremaining: 7.3s\n",
      "624:\tlearn: 0.3199456\ttotal: 12.1s\tremaining: 7.28s\n",
      "625:\tlearn: 0.3197394\ttotal: 12.2s\tremaining: 7.26s\n",
      "626:\tlearn: 0.3196500\ttotal: 12.2s\tremaining: 7.25s\n",
      "627:\tlearn: 0.3195383\ttotal: 12.2s\tremaining: 7.22s\n",
      "628:\tlearn: 0.3193958\ttotal: 12.2s\tremaining: 7.21s\n",
      "629:\tlearn: 0.3192972\ttotal: 12.2s\tremaining: 7.19s\n",
      "630:\tlearn: 0.3188077\ttotal: 12.3s\tremaining: 7.17s\n",
      "631:\tlearn: 0.3185790\ttotal: 12.3s\tremaining: 7.15s\n",
      "632:\tlearn: 0.3184824\ttotal: 12.3s\tremaining: 7.13s\n",
      "633:\tlearn: 0.3183454\ttotal: 12.3s\tremaining: 7.11s\n",
      "634:\tlearn: 0.3182222\ttotal: 12.3s\tremaining: 7.09s\n",
      "635:\tlearn: 0.3181214\ttotal: 12.4s\tremaining: 7.07s\n",
      "636:\tlearn: 0.3180584\ttotal: 12.4s\tremaining: 7.05s\n",
      "637:\tlearn: 0.3179572\ttotal: 12.4s\tremaining: 7.03s\n",
      "638:\tlearn: 0.3179216\ttotal: 12.4s\tremaining: 7.01s\n",
      "639:\tlearn: 0.3178392\ttotal: 12.4s\tremaining: 6.99s\n",
      "640:\tlearn: 0.3176565\ttotal: 12.5s\tremaining: 6.97s\n",
      "641:\tlearn: 0.3175830\ttotal: 12.5s\tremaining: 6.95s\n",
      "642:\tlearn: 0.3173892\ttotal: 12.5s\tremaining: 6.94s\n",
      "643:\tlearn: 0.3172532\ttotal: 12.5s\tremaining: 6.92s\n",
      "644:\tlearn: 0.3172528\ttotal: 12.5s\tremaining: 6.89s\n",
      "645:\tlearn: 0.3168690\ttotal: 12.6s\tremaining: 6.88s\n",
      "646:\tlearn: 0.3167056\ttotal: 12.6s\tremaining: 6.86s\n",
      "647:\tlearn: 0.3165812\ttotal: 12.6s\tremaining: 6.84s\n",
      "648:\tlearn: 0.3164663\ttotal: 12.6s\tremaining: 6.82s\n",
      "649:\tlearn: 0.3163287\ttotal: 12.6s\tremaining: 6.8s\n",
      "650:\tlearn: 0.3161835\ttotal: 12.6s\tremaining: 6.78s\n",
      "651:\tlearn: 0.3160103\ttotal: 12.7s\tremaining: 6.77s\n",
      "652:\tlearn: 0.3159039\ttotal: 12.7s\tremaining: 6.75s\n",
      "653:\tlearn: 0.3157034\ttotal: 12.7s\tremaining: 6.73s\n",
      "654:\tlearn: 0.3155631\ttotal: 12.7s\tremaining: 6.71s\n",
      "655:\tlearn: 0.3152614\ttotal: 12.8s\tremaining: 6.69s\n",
      "656:\tlearn: 0.3150977\ttotal: 12.8s\tremaining: 6.67s\n",
      "657:\tlearn: 0.3149918\ttotal: 12.8s\tremaining: 6.65s\n",
      "658:\tlearn: 0.3149868\ttotal: 12.8s\tremaining: 6.63s\n",
      "659:\tlearn: 0.3149174\ttotal: 12.8s\tremaining: 6.61s\n",
      "660:\tlearn: 0.3146161\ttotal: 12.9s\tremaining: 6.59s\n"
     ]
    },
    {
     "name": "stdout",
     "output_type": "stream",
     "text": [
      "661:\tlearn: 0.3146061\ttotal: 12.9s\tremaining: 6.57s\n",
      "662:\tlearn: 0.3145049\ttotal: 12.9s\tremaining: 6.55s\n",
      "663:\tlearn: 0.3144201\ttotal: 12.9s\tremaining: 6.53s\n",
      "664:\tlearn: 0.3142628\ttotal: 12.9s\tremaining: 6.52s\n",
      "665:\tlearn: 0.3140649\ttotal: 13s\tremaining: 6.5s\n",
      "666:\tlearn: 0.3138415\ttotal: 13s\tremaining: 6.48s\n",
      "667:\tlearn: 0.3137161\ttotal: 13s\tremaining: 6.46s\n",
      "668:\tlearn: 0.3136473\ttotal: 13s\tremaining: 6.44s\n",
      "669:\tlearn: 0.3134872\ttotal: 13s\tremaining: 6.42s\n",
      "670:\tlearn: 0.3132807\ttotal: 13.1s\tremaining: 6.41s\n",
      "671:\tlearn: 0.3131345\ttotal: 13.1s\tremaining: 6.39s\n",
      "672:\tlearn: 0.3128586\ttotal: 13.1s\tremaining: 6.37s\n",
      "673:\tlearn: 0.3128491\ttotal: 13.1s\tremaining: 6.34s\n",
      "674:\tlearn: 0.3126430\ttotal: 13.1s\tremaining: 6.32s\n",
      "675:\tlearn: 0.3124673\ttotal: 13.2s\tremaining: 6.3s\n",
      "676:\tlearn: 0.3123104\ttotal: 13.2s\tremaining: 6.28s\n",
      "677:\tlearn: 0.3122720\ttotal: 13.2s\tremaining: 6.26s\n",
      "678:\tlearn: 0.3122193\ttotal: 13.2s\tremaining: 6.25s\n",
      "679:\tlearn: 0.3119440\ttotal: 13.2s\tremaining: 6.23s\n",
      "680:\tlearn: 0.3119308\ttotal: 13.3s\tremaining: 6.21s\n",
      "681:\tlearn: 0.3118817\ttotal: 13.3s\tremaining: 6.19s\n",
      "682:\tlearn: 0.3118450\ttotal: 13.3s\tremaining: 6.17s\n",
      "683:\tlearn: 0.3117096\ttotal: 13.3s\tremaining: 6.15s\n",
      "684:\tlearn: 0.3114788\ttotal: 13.3s\tremaining: 6.13s\n",
      "685:\tlearn: 0.3114125\ttotal: 13.4s\tremaining: 6.11s\n",
      "686:\tlearn: 0.3112799\ttotal: 13.4s\tremaining: 6.09s\n",
      "687:\tlearn: 0.3110847\ttotal: 13.4s\tremaining: 6.07s\n",
      "688:\tlearn: 0.3109804\ttotal: 13.4s\tremaining: 6.05s\n",
      "689:\tlearn: 0.3107433\ttotal: 13.4s\tremaining: 6.03s\n",
      "690:\tlearn: 0.3106516\ttotal: 13.4s\tremaining: 6.01s\n",
      "691:\tlearn: 0.3105812\ttotal: 13.5s\tremaining: 5.99s\n",
      "692:\tlearn: 0.3101741\ttotal: 13.5s\tremaining: 5.97s\n",
      "693:\tlearn: 0.3100363\ttotal: 13.5s\tremaining: 5.95s\n",
      "694:\tlearn: 0.3099930\ttotal: 13.5s\tremaining: 5.93s\n",
      "695:\tlearn: 0.3098977\ttotal: 13.5s\tremaining: 5.91s\n",
      "696:\tlearn: 0.3097922\ttotal: 13.6s\tremaining: 5.89s\n",
      "697:\tlearn: 0.3096631\ttotal: 13.6s\tremaining: 5.87s\n",
      "698:\tlearn: 0.3096104\ttotal: 13.6s\tremaining: 5.85s\n",
      "699:\tlearn: 0.3094977\ttotal: 13.6s\tremaining: 5.83s\n",
      "700:\tlearn: 0.3093766\ttotal: 13.6s\tremaining: 5.81s\n",
      "701:\tlearn: 0.3091671\ttotal: 13.7s\tremaining: 5.79s\n",
      "702:\tlearn: 0.3090180\ttotal: 13.7s\tremaining: 5.77s\n",
      "703:\tlearn: 0.3089113\ttotal: 13.7s\tremaining: 5.75s\n",
      "704:\tlearn: 0.3087427\ttotal: 13.7s\tremaining: 5.74s\n",
      "705:\tlearn: 0.3085169\ttotal: 13.7s\tremaining: 5.72s\n",
      "706:\tlearn: 0.3084023\ttotal: 13.7s\tremaining: 5.7s\n",
      "707:\tlearn: 0.3083416\ttotal: 13.8s\tremaining: 5.68s\n",
      "708:\tlearn: 0.3082769\ttotal: 13.8s\tremaining: 5.66s\n",
      "709:\tlearn: 0.3080014\ttotal: 13.8s\tremaining: 5.64s\n",
      "710:\tlearn: 0.3078567\ttotal: 13.8s\tremaining: 5.62s\n",
      "711:\tlearn: 0.3075876\ttotal: 13.8s\tremaining: 5.6s\n",
      "712:\tlearn: 0.3075369\ttotal: 13.9s\tremaining: 5.58s\n",
      "713:\tlearn: 0.3074290\ttotal: 13.9s\tremaining: 5.56s\n",
      "714:\tlearn: 0.3073890\ttotal: 13.9s\tremaining: 5.54s\n",
      "715:\tlearn: 0.3073463\ttotal: 13.9s\tremaining: 5.52s\n",
      "716:\tlearn: 0.3073174\ttotal: 14s\tremaining: 5.51s\n",
      "717:\tlearn: 0.3073083\ttotal: 14s\tremaining: 5.49s\n",
      "718:\tlearn: 0.3072497\ttotal: 14s\tremaining: 5.47s\n",
      "719:\tlearn: 0.3070269\ttotal: 14s\tremaining: 5.45s\n",
      "720:\tlearn: 0.3067974\ttotal: 14s\tremaining: 5.43s\n",
      "721:\tlearn: 0.3065562\ttotal: 14.1s\tremaining: 5.41s\n",
      "722:\tlearn: 0.3065062\ttotal: 14.1s\tremaining: 5.39s\n",
      "723:\tlearn: 0.3064945\ttotal: 14.1s\tremaining: 5.37s\n",
      "724:\tlearn: 0.3063186\ttotal: 14.1s\tremaining: 5.35s\n",
      "725:\tlearn: 0.3060878\ttotal: 14.1s\tremaining: 5.33s\n",
      "726:\tlearn: 0.3058907\ttotal: 14.2s\tremaining: 5.32s\n",
      "727:\tlearn: 0.3058483\ttotal: 14.2s\tremaining: 5.3s\n",
      "728:\tlearn: 0.3056854\ttotal: 14.2s\tremaining: 5.28s\n",
      "729:\tlearn: 0.3053777\ttotal: 14.2s\tremaining: 5.26s\n",
      "730:\tlearn: 0.3053215\ttotal: 14.2s\tremaining: 5.24s\n",
      "731:\tlearn: 0.3051613\ttotal: 14.3s\tremaining: 5.22s\n",
      "732:\tlearn: 0.3051202\ttotal: 14.3s\tremaining: 5.2s\n",
      "733:\tlearn: 0.3049614\ttotal: 14.3s\tremaining: 5.18s\n",
      "734:\tlearn: 0.3048649\ttotal: 14.3s\tremaining: 5.16s\n",
      "735:\tlearn: 0.3047705\ttotal: 14.3s\tremaining: 5.14s\n",
      "736:\tlearn: 0.3046913\ttotal: 14.4s\tremaining: 5.12s\n",
      "737:\tlearn: 0.3046722\ttotal: 14.4s\tremaining: 5.1s\n",
      "738:\tlearn: 0.3045082\ttotal: 14.4s\tremaining: 5.08s\n",
      "739:\tlearn: 0.3044398\ttotal: 14.4s\tremaining: 5.07s\n",
      "740:\tlearn: 0.3042592\ttotal: 14.4s\tremaining: 5.05s\n",
      "741:\tlearn: 0.3041732\ttotal: 14.5s\tremaining: 5.03s\n",
      "742:\tlearn: 0.3040087\ttotal: 14.5s\tremaining: 5.01s\n",
      "743:\tlearn: 0.3037419\ttotal: 14.5s\tremaining: 4.99s\n",
      "744:\tlearn: 0.3036408\ttotal: 14.5s\tremaining: 4.97s\n",
      "745:\tlearn: 0.3036321\ttotal: 14.5s\tremaining: 4.95s\n",
      "746:\tlearn: 0.3034563\ttotal: 14.5s\tremaining: 4.92s\n",
      "747:\tlearn: 0.3032181\ttotal: 14.6s\tremaining: 4.91s\n",
      "748:\tlearn: 0.3030143\ttotal: 14.6s\tremaining: 4.89s\n",
      "749:\tlearn: 0.3030091\ttotal: 14.6s\tremaining: 4.86s\n",
      "750:\tlearn: 0.3029562\ttotal: 14.6s\tremaining: 4.84s\n",
      "751:\tlearn: 0.3028842\ttotal: 14.6s\tremaining: 4.82s\n",
      "752:\tlearn: 0.3028133\ttotal: 14.7s\tremaining: 4.8s\n",
      "753:\tlearn: 0.3028013\ttotal: 14.7s\tremaining: 4.78s\n",
      "754:\tlearn: 0.3027940\ttotal: 14.7s\tremaining: 4.76s\n",
      "755:\tlearn: 0.3026947\ttotal: 14.7s\tremaining: 4.75s\n",
      "756:\tlearn: 0.3025231\ttotal: 14.7s\tremaining: 4.73s\n",
      "757:\tlearn: 0.3024344\ttotal: 14.8s\tremaining: 4.71s\n",
      "758:\tlearn: 0.3022836\ttotal: 14.8s\tremaining: 4.69s\n",
      "759:\tlearn: 0.3022589\ttotal: 14.8s\tremaining: 4.67s\n",
      "760:\tlearn: 0.3021648\ttotal: 14.8s\tremaining: 4.65s\n",
      "761:\tlearn: 0.3020955\ttotal: 14.8s\tremaining: 4.63s\n",
      "762:\tlearn: 0.3019213\ttotal: 14.9s\tremaining: 4.61s\n",
      "763:\tlearn: 0.3017407\ttotal: 14.9s\tremaining: 4.59s\n",
      "764:\tlearn: 0.3015841\ttotal: 14.9s\tremaining: 4.57s\n",
      "765:\tlearn: 0.3014932\ttotal: 14.9s\tremaining: 4.55s\n",
      "766:\tlearn: 0.3014323\ttotal: 14.9s\tremaining: 4.54s\n",
      "767:\tlearn: 0.3013942\ttotal: 15s\tremaining: 4.52s\n",
      "768:\tlearn: 0.3012997\ttotal: 15s\tremaining: 4.5s\n",
      "769:\tlearn: 0.3011739\ttotal: 15s\tremaining: 4.48s\n",
      "770:\tlearn: 0.3007716\ttotal: 15s\tremaining: 4.46s\n",
      "771:\tlearn: 0.3006668\ttotal: 15s\tremaining: 4.44s\n",
      "772:\tlearn: 0.3006237\ttotal: 15.1s\tremaining: 4.42s\n",
      "773:\tlearn: 0.3005026\ttotal: 15.1s\tremaining: 4.4s\n",
      "774:\tlearn: 0.3004610\ttotal: 15.1s\tremaining: 4.38s\n",
      "775:\tlearn: 0.3001566\ttotal: 15.1s\tremaining: 4.37s\n",
      "776:\tlearn: 0.2997797\ttotal: 15.1s\tremaining: 4.35s\n",
      "777:\tlearn: 0.2996683\ttotal: 15.2s\tremaining: 4.33s\n",
      "778:\tlearn: 0.2994990\ttotal: 15.2s\tremaining: 4.31s\n",
      "779:\tlearn: 0.2994634\ttotal: 15.2s\tremaining: 4.29s\n",
      "780:\tlearn: 0.2993976\ttotal: 15.2s\tremaining: 4.27s\n",
      "781:\tlearn: 0.2990824\ttotal: 15.2s\tremaining: 4.25s\n",
      "782:\tlearn: 0.2989363\ttotal: 15.3s\tremaining: 4.23s\n",
      "783:\tlearn: 0.2988023\ttotal: 15.3s\tremaining: 4.21s\n",
      "784:\tlearn: 0.2986236\ttotal: 15.3s\tremaining: 4.19s\n",
      "785:\tlearn: 0.2985142\ttotal: 15.3s\tremaining: 4.17s\n",
      "786:\tlearn: 0.2984921\ttotal: 15.4s\tremaining: 4.16s\n",
      "787:\tlearn: 0.2984621\ttotal: 15.4s\tremaining: 4.14s\n",
      "788:\tlearn: 0.2984369\ttotal: 15.4s\tremaining: 4.12s\n",
      "789:\tlearn: 0.2983805\ttotal: 15.4s\tremaining: 4.1s\n",
      "790:\tlearn: 0.2982776\ttotal: 15.4s\tremaining: 4.08s\n",
      "791:\tlearn: 0.2982749\ttotal: 15.4s\tremaining: 4.05s\n",
      "792:\tlearn: 0.2981799\ttotal: 15.5s\tremaining: 4.04s\n",
      "793:\tlearn: 0.2980257\ttotal: 15.5s\tremaining: 4.01s\n",
      "794:\tlearn: 0.2979781\ttotal: 15.5s\tremaining: 4s\n",
      "795:\tlearn: 0.2978764\ttotal: 15.5s\tremaining: 3.98s\n",
      "796:\tlearn: 0.2977777\ttotal: 15.5s\tremaining: 3.96s\n",
      "797:\tlearn: 0.2977250\ttotal: 15.6s\tremaining: 3.94s\n",
      "798:\tlearn: 0.2976908\ttotal: 15.6s\tremaining: 3.92s\n",
      "799:\tlearn: 0.2974861\ttotal: 15.6s\tremaining: 3.9s\n",
      "800:\tlearn: 0.2973530\ttotal: 15.6s\tremaining: 3.88s\n",
      "801:\tlearn: 0.2972604\ttotal: 15.6s\tremaining: 3.86s\n",
      "802:\tlearn: 0.2971722\ttotal: 15.6s\tremaining: 3.84s\n",
      "803:\tlearn: 0.2971647\ttotal: 15.7s\tremaining: 3.82s\n",
      "804:\tlearn: 0.2969641\ttotal: 15.7s\tremaining: 3.8s\n",
      "805:\tlearn: 0.2969217\ttotal: 15.7s\tremaining: 3.78s\n",
      "806:\tlearn: 0.2967355\ttotal: 15.7s\tremaining: 3.76s\n",
      "807:\tlearn: 0.2965171\ttotal: 15.7s\tremaining: 3.74s\n",
      "808:\tlearn: 0.2964223\ttotal: 15.8s\tremaining: 3.72s\n",
      "809:\tlearn: 0.2963615\ttotal: 15.8s\tremaining: 3.7s\n",
      "810:\tlearn: 0.2961854\ttotal: 15.8s\tremaining: 3.68s\n",
      "811:\tlearn: 0.2960535\ttotal: 15.8s\tremaining: 3.66s\n",
      "812:\tlearn: 0.2958446\ttotal: 15.8s\tremaining: 3.64s\n",
      "813:\tlearn: 0.2958168\ttotal: 15.9s\tremaining: 3.62s\n",
      "814:\tlearn: 0.2957126\ttotal: 15.9s\tremaining: 3.6s\n",
      "815:\tlearn: 0.2956726\ttotal: 15.9s\tremaining: 3.58s\n",
      "816:\tlearn: 0.2955156\ttotal: 15.9s\tremaining: 3.56s\n",
      "817:\tlearn: 0.2954888\ttotal: 15.9s\tremaining: 3.54s\n",
      "818:\tlearn: 0.2953576\ttotal: 15.9s\tremaining: 3.52s\n",
      "819:\tlearn: 0.2952138\ttotal: 16s\tremaining: 3.5s\n",
      "820:\tlearn: 0.2950549\ttotal: 16s\tremaining: 3.49s\n",
      "821:\tlearn: 0.2950272\ttotal: 16s\tremaining: 3.47s\n",
      "822:\tlearn: 0.2947330\ttotal: 16.1s\tremaining: 3.45s\n",
      "823:\tlearn: 0.2946882\ttotal: 16.1s\tremaining: 3.43s\n",
      "824:\tlearn: 0.2945296\ttotal: 16.1s\tremaining: 3.41s\n",
      "825:\tlearn: 0.2944647\ttotal: 16.1s\tremaining: 3.39s\n",
      "826:\tlearn: 0.2943482\ttotal: 16.1s\tremaining: 3.37s\n",
      "827:\tlearn: 0.2940768\ttotal: 16.1s\tremaining: 3.35s\n",
      "828:\tlearn: 0.2938855\ttotal: 16.2s\tremaining: 3.33s\n"
     ]
    },
    {
     "name": "stdout",
     "output_type": "stream",
     "text": [
      "829:\tlearn: 0.2937219\ttotal: 16.2s\tremaining: 3.31s\n",
      "830:\tlearn: 0.2935648\ttotal: 16.2s\tremaining: 3.29s\n",
      "831:\tlearn: 0.2933919\ttotal: 16.2s\tremaining: 3.27s\n",
      "832:\tlearn: 0.2932507\ttotal: 16.2s\tremaining: 3.26s\n",
      "833:\tlearn: 0.2931575\ttotal: 16.3s\tremaining: 3.24s\n",
      "834:\tlearn: 0.2930148\ttotal: 16.3s\tremaining: 3.22s\n",
      "835:\tlearn: 0.2929561\ttotal: 16.3s\tremaining: 3.2s\n",
      "836:\tlearn: 0.2928512\ttotal: 16.3s\tremaining: 3.18s\n",
      "837:\tlearn: 0.2928097\ttotal: 16.3s\tremaining: 3.16s\n",
      "838:\tlearn: 0.2927437\ttotal: 16.4s\tremaining: 3.14s\n",
      "839:\tlearn: 0.2926677\ttotal: 16.4s\tremaining: 3.12s\n",
      "840:\tlearn: 0.2925868\ttotal: 16.4s\tremaining: 3.1s\n",
      "841:\tlearn: 0.2924585\ttotal: 16.4s\tremaining: 3.08s\n",
      "842:\tlearn: 0.2924364\ttotal: 16.4s\tremaining: 3.06s\n",
      "843:\tlearn: 0.2923926\ttotal: 16.5s\tremaining: 3.04s\n",
      "844:\tlearn: 0.2921014\ttotal: 16.5s\tremaining: 3.02s\n",
      "845:\tlearn: 0.2919984\ttotal: 16.5s\tremaining: 3s\n",
      "846:\tlearn: 0.2919552\ttotal: 16.5s\tremaining: 2.98s\n",
      "847:\tlearn: 0.2918567\ttotal: 16.5s\tremaining: 2.96s\n",
      "848:\tlearn: 0.2917225\ttotal: 16.5s\tremaining: 2.94s\n",
      "849:\tlearn: 0.2916829\ttotal: 16.6s\tremaining: 2.92s\n",
      "850:\tlearn: 0.2916545\ttotal: 16.6s\tremaining: 2.9s\n",
      "851:\tlearn: 0.2914487\ttotal: 16.6s\tremaining: 2.88s\n",
      "852:\tlearn: 0.2913612\ttotal: 16.6s\tremaining: 2.86s\n",
      "853:\tlearn: 0.2912065\ttotal: 16.6s\tremaining: 2.85s\n",
      "854:\tlearn: 0.2910840\ttotal: 16.7s\tremaining: 2.83s\n",
      "855:\tlearn: 0.2910242\ttotal: 16.7s\tremaining: 2.81s\n",
      "856:\tlearn: 0.2909005\ttotal: 16.7s\tremaining: 2.79s\n",
      "857:\tlearn: 0.2907778\ttotal: 16.7s\tremaining: 2.77s\n",
      "858:\tlearn: 0.2907696\ttotal: 16.7s\tremaining: 2.75s\n",
      "859:\tlearn: 0.2904990\ttotal: 16.8s\tremaining: 2.73s\n",
      "860:\tlearn: 0.2903842\ttotal: 16.8s\tremaining: 2.71s\n",
      "861:\tlearn: 0.2902667\ttotal: 16.8s\tremaining: 2.69s\n",
      "862:\tlearn: 0.2902450\ttotal: 16.8s\tremaining: 2.67s\n",
      "863:\tlearn: 0.2901481\ttotal: 16.8s\tremaining: 2.65s\n",
      "864:\tlearn: 0.2900750\ttotal: 16.9s\tremaining: 2.63s\n",
      "865:\tlearn: 0.2900620\ttotal: 16.9s\tremaining: 2.61s\n",
      "866:\tlearn: 0.2900091\ttotal: 16.9s\tremaining: 2.59s\n",
      "867:\tlearn: 0.2899866\ttotal: 16.9s\tremaining: 2.57s\n",
      "868:\tlearn: 0.2899156\ttotal: 16.9s\tremaining: 2.55s\n",
      "869:\tlearn: 0.2898278\ttotal: 16.9s\tremaining: 2.53s\n",
      "870:\tlearn: 0.2895881\ttotal: 17s\tremaining: 2.51s\n",
      "871:\tlearn: 0.2895209\ttotal: 17s\tremaining: 2.49s\n",
      "872:\tlearn: 0.2893793\ttotal: 17s\tremaining: 2.47s\n",
      "873:\tlearn: 0.2892532\ttotal: 17s\tremaining: 2.46s\n",
      "874:\tlearn: 0.2892270\ttotal: 17.1s\tremaining: 2.44s\n",
      "875:\tlearn: 0.2891648\ttotal: 17.1s\tremaining: 2.42s\n",
      "876:\tlearn: 0.2888818\ttotal: 17.1s\tremaining: 2.4s\n",
      "877:\tlearn: 0.2887936\ttotal: 17.1s\tremaining: 2.38s\n",
      "878:\tlearn: 0.2887533\ttotal: 17.1s\tremaining: 2.36s\n",
      "879:\tlearn: 0.2886379\ttotal: 17.2s\tremaining: 2.34s\n",
      "880:\tlearn: 0.2885617\ttotal: 17.2s\tremaining: 2.32s\n",
      "881:\tlearn: 0.2885325\ttotal: 17.2s\tremaining: 2.3s\n",
      "882:\tlearn: 0.2884327\ttotal: 17.2s\tremaining: 2.28s\n",
      "883:\tlearn: 0.2882213\ttotal: 17.2s\tremaining: 2.26s\n",
      "884:\tlearn: 0.2882180\ttotal: 17.2s\tremaining: 2.24s\n",
      "885:\tlearn: 0.2881768\ttotal: 17.3s\tremaining: 2.22s\n",
      "886:\tlearn: 0.2880313\ttotal: 17.3s\tremaining: 2.2s\n",
      "887:\tlearn: 0.2878919\ttotal: 17.3s\tremaining: 2.18s\n",
      "888:\tlearn: 0.2877572\ttotal: 17.3s\tremaining: 2.16s\n",
      "889:\tlearn: 0.2876636\ttotal: 17.3s\tremaining: 2.14s\n",
      "890:\tlearn: 0.2875765\ttotal: 17.4s\tremaining: 2.12s\n",
      "891:\tlearn: 0.2874933\ttotal: 17.4s\tremaining: 2.1s\n",
      "892:\tlearn: 0.2871904\ttotal: 17.4s\tremaining: 2.08s\n",
      "893:\tlearn: 0.2869702\ttotal: 17.4s\tremaining: 2.06s\n",
      "894:\tlearn: 0.2868219\ttotal: 17.4s\tremaining: 2.04s\n",
      "895:\tlearn: 0.2867065\ttotal: 17.5s\tremaining: 2.03s\n",
      "896:\tlearn: 0.2866910\ttotal: 17.5s\tremaining: 2.01s\n",
      "897:\tlearn: 0.2864921\ttotal: 17.5s\tremaining: 1.99s\n",
      "898:\tlearn: 0.2864563\ttotal: 17.5s\tremaining: 1.97s\n",
      "899:\tlearn: 0.2863175\ttotal: 17.5s\tremaining: 1.95s\n",
      "900:\tlearn: 0.2862810\ttotal: 17.6s\tremaining: 1.93s\n",
      "901:\tlearn: 0.2862023\ttotal: 17.6s\tremaining: 1.91s\n",
      "902:\tlearn: 0.2861837\ttotal: 17.6s\tremaining: 1.89s\n",
      "903:\tlearn: 0.2861596\ttotal: 17.6s\tremaining: 1.87s\n",
      "904:\tlearn: 0.2859297\ttotal: 17.6s\tremaining: 1.85s\n",
      "905:\tlearn: 0.2856613\ttotal: 17.7s\tremaining: 1.83s\n",
      "906:\tlearn: 0.2856000\ttotal: 17.7s\tremaining: 1.81s\n",
      "907:\tlearn: 0.2855813\ttotal: 17.7s\tremaining: 1.79s\n",
      "908:\tlearn: 0.2854721\ttotal: 17.7s\tremaining: 1.77s\n",
      "909:\tlearn: 0.2852121\ttotal: 17.7s\tremaining: 1.75s\n",
      "910:\tlearn: 0.2851900\ttotal: 17.8s\tremaining: 1.73s\n",
      "911:\tlearn: 0.2850864\ttotal: 17.8s\tremaining: 1.72s\n",
      "912:\tlearn: 0.2848835\ttotal: 17.8s\tremaining: 1.7s\n",
      "913:\tlearn: 0.2848205\ttotal: 17.8s\tremaining: 1.68s\n",
      "914:\tlearn: 0.2846932\ttotal: 17.8s\tremaining: 1.66s\n",
      "915:\tlearn: 0.2845785\ttotal: 17.9s\tremaining: 1.64s\n",
      "916:\tlearn: 0.2845540\ttotal: 17.9s\tremaining: 1.62s\n",
      "917:\tlearn: 0.2845273\ttotal: 17.9s\tremaining: 1.6s\n",
      "918:\tlearn: 0.2844588\ttotal: 17.9s\tremaining: 1.58s\n",
      "919:\tlearn: 0.2844497\ttotal: 17.9s\tremaining: 1.56s\n",
      "920:\tlearn: 0.2843815\ttotal: 18s\tremaining: 1.54s\n",
      "921:\tlearn: 0.2842999\ttotal: 18s\tremaining: 1.52s\n",
      "922:\tlearn: 0.2840966\ttotal: 18s\tremaining: 1.5s\n",
      "923:\tlearn: 0.2838481\ttotal: 18s\tremaining: 1.48s\n",
      "924:\tlearn: 0.2837364\ttotal: 18s\tremaining: 1.46s\n",
      "925:\tlearn: 0.2836821\ttotal: 18.1s\tremaining: 1.44s\n",
      "926:\tlearn: 0.2836366\ttotal: 18.2s\tremaining: 1.43s\n",
      "927:\tlearn: 0.2836089\ttotal: 18.2s\tremaining: 1.41s\n",
      "928:\tlearn: 0.2834921\ttotal: 18.2s\tremaining: 1.39s\n",
      "929:\tlearn: 0.2834304\ttotal: 18.2s\tremaining: 1.37s\n",
      "930:\tlearn: 0.2833991\ttotal: 18.2s\tremaining: 1.35s\n",
      "931:\tlearn: 0.2833340\ttotal: 18.2s\tremaining: 1.33s\n",
      "932:\tlearn: 0.2832490\ttotal: 18.3s\tremaining: 1.31s\n",
      "933:\tlearn: 0.2831998\ttotal: 18.3s\tremaining: 1.29s\n",
      "934:\tlearn: 0.2831826\ttotal: 18.3s\tremaining: 1.27s\n",
      "935:\tlearn: 0.2829305\ttotal: 18.3s\tremaining: 1.25s\n",
      "936:\tlearn: 0.2828657\ttotal: 18.3s\tremaining: 1.23s\n",
      "937:\tlearn: 0.2828064\ttotal: 18.4s\tremaining: 1.21s\n",
      "938:\tlearn: 0.2827872\ttotal: 18.4s\tremaining: 1.19s\n",
      "939:\tlearn: 0.2825715\ttotal: 18.4s\tremaining: 1.17s\n",
      "940:\tlearn: 0.2825315\ttotal: 18.4s\tremaining: 1.15s\n",
      "941:\tlearn: 0.2824192\ttotal: 18.4s\tremaining: 1.13s\n",
      "942:\tlearn: 0.2822307\ttotal: 18.4s\tremaining: 1.11s\n",
      "943:\tlearn: 0.2821046\ttotal: 18.5s\tremaining: 1.09s\n",
      "944:\tlearn: 0.2820723\ttotal: 18.5s\tremaining: 1.07s\n",
      "945:\tlearn: 0.2820139\ttotal: 18.5s\tremaining: 1.06s\n",
      "946:\tlearn: 0.2818598\ttotal: 18.5s\tremaining: 1.04s\n",
      "947:\tlearn: 0.2818035\ttotal: 18.5s\tremaining: 1.02s\n",
      "948:\tlearn: 0.2817247\ttotal: 18.6s\tremaining: 998ms\n",
      "949:\tlearn: 0.2817082\ttotal: 18.6s\tremaining: 978ms\n",
      "950:\tlearn: 0.2814413\ttotal: 18.6s\tremaining: 959ms\n",
      "951:\tlearn: 0.2813879\ttotal: 18.6s\tremaining: 939ms\n",
      "952:\tlearn: 0.2812356\ttotal: 18.6s\tremaining: 919ms\n",
      "953:\tlearn: 0.2811847\ttotal: 18.7s\tremaining: 900ms\n",
      "954:\tlearn: 0.2807989\ttotal: 18.7s\tremaining: 880ms\n",
      "955:\tlearn: 0.2807170\ttotal: 18.7s\tremaining: 861ms\n",
      "956:\tlearn: 0.2806411\ttotal: 18.7s\tremaining: 841ms\n",
      "957:\tlearn: 0.2806092\ttotal: 18.7s\tremaining: 821ms\n",
      "958:\tlearn: 0.2806003\ttotal: 18.8s\tremaining: 802ms\n",
      "959:\tlearn: 0.2805038\ttotal: 18.8s\tremaining: 782ms\n",
      "960:\tlearn: 0.2804758\ttotal: 18.8s\tremaining: 763ms\n",
      "961:\tlearn: 0.2803423\ttotal: 18.8s\tremaining: 743ms\n",
      "962:\tlearn: 0.2800977\ttotal: 18.8s\tremaining: 724ms\n",
      "963:\tlearn: 0.2800898\ttotal: 18.9s\tremaining: 704ms\n",
      "964:\tlearn: 0.2799852\ttotal: 18.9s\tremaining: 684ms\n",
      "965:\tlearn: 0.2799191\ttotal: 18.9s\tremaining: 665ms\n",
      "966:\tlearn: 0.2799038\ttotal: 18.9s\tremaining: 645ms\n",
      "967:\tlearn: 0.2797878\ttotal: 18.9s\tremaining: 626ms\n",
      "968:\tlearn: 0.2796590\ttotal: 18.9s\tremaining: 606ms\n",
      "969:\tlearn: 0.2795606\ttotal: 19s\tremaining: 586ms\n",
      "970:\tlearn: 0.2795237\ttotal: 19s\tremaining: 567ms\n",
      "971:\tlearn: 0.2795155\ttotal: 19s\tremaining: 547ms\n",
      "972:\tlearn: 0.2792875\ttotal: 19s\tremaining: 528ms\n",
      "973:\tlearn: 0.2792163\ttotal: 19s\tremaining: 508ms\n",
      "974:\tlearn: 0.2790529\ttotal: 19.1s\tremaining: 489ms\n",
      "975:\tlearn: 0.2790311\ttotal: 19.1s\tremaining: 469ms\n",
      "976:\tlearn: 0.2789199\ttotal: 19.1s\tremaining: 449ms\n",
      "977:\tlearn: 0.2788490\ttotal: 19.1s\tremaining: 430ms\n",
      "978:\tlearn: 0.2788003\ttotal: 19.1s\tremaining: 410ms\n",
      "979:\tlearn: 0.2787528\ttotal: 19.2s\tremaining: 391ms\n",
      "980:\tlearn: 0.2787236\ttotal: 19.2s\tremaining: 372ms\n",
      "981:\tlearn: 0.2786067\ttotal: 19.2s\tremaining: 352ms\n",
      "982:\tlearn: 0.2785336\ttotal: 19.2s\tremaining: 333ms\n",
      "983:\tlearn: 0.2784831\ttotal: 19.3s\tremaining: 313ms\n",
      "984:\tlearn: 0.2782672\ttotal: 19.3s\tremaining: 294ms\n",
      "985:\tlearn: 0.2781978\ttotal: 19.3s\tremaining: 274ms\n",
      "986:\tlearn: 0.2781803\ttotal: 19.3s\tremaining: 254ms\n",
      "987:\tlearn: 0.2781556\ttotal: 19.3s\tremaining: 235ms\n",
      "988:\tlearn: 0.2780649\ttotal: 19.3s\tremaining: 215ms\n",
      "989:\tlearn: 0.2778823\ttotal: 19.4s\tremaining: 196ms\n"
     ]
    },
    {
     "name": "stdout",
     "output_type": "stream",
     "text": [
      "990:\tlearn: 0.2777976\ttotal: 19.4s\tremaining: 176ms\n",
      "991:\tlearn: 0.2776618\ttotal: 19.4s\tremaining: 157ms\n",
      "992:\tlearn: 0.2776331\ttotal: 19.4s\tremaining: 137ms\n",
      "993:\tlearn: 0.2775441\ttotal: 19.4s\tremaining: 117ms\n",
      "994:\tlearn: 0.2774287\ttotal: 19.5s\tremaining: 97.8ms\n",
      "995:\tlearn: 0.2773968\ttotal: 19.5s\tremaining: 78.2ms\n",
      "996:\tlearn: 0.2772523\ttotal: 19.5s\tremaining: 58.7ms\n",
      "997:\tlearn: 0.2771508\ttotal: 19.5s\tremaining: 39.1ms\n",
      "998:\tlearn: 0.2771198\ttotal: 19.5s\tremaining: 19.6ms\n",
      "999:\tlearn: 0.2770948\ttotal: 19.6s\tremaining: 0us\n"
     ]
    }
   ],
   "source": [
    "# CatBoost model definition\n",
    "catboost_model = CatBoostClassifier(iterations=1000,\n",
    "                                    custom_loss=['Accuracy'],\n",
    "                                    loss_function='Logloss')\n",
    "\n",
    "# Fit CatBoost model\n",
    "catboost_model.fit(train_pool,\n",
    "                   plot=True)\n",
    "\n",
    "# CatBoost accuracy\n",
    "acc_catboost = round(catboost_model.score(X_train, y_train) * 100, 2)"
   ]
  },
  {
   "cell_type": "markdown",
   "metadata": {},
   "source": [
    "### Perform CatBoost cross-validation"
   ]
  },
  {
   "cell_type": "code",
   "execution_count": 108,
   "metadata": {},
   "outputs": [
    {
     "data": {
      "application/vnd.jupyter.widget-view+json": {
       "model_id": "6cf3e1ef834e48d088d58b41cbcc51ff",
       "version_major": 2,
       "version_minor": 0
      },
      "text/plain": [
       "MetricVisualizer(layout=Layout(align_self='stretch', height='500px'))"
      ]
     },
     "metadata": {},
     "output_type": "display_data"
    },
    {
     "name": "stdout",
     "output_type": "stream",
     "text": [
      "0:\tlearn: 0.6777899\ttest: 0.6784206\tbest: 0.6784206 (0)\n",
      "1:\tlearn: 0.6618660\ttest: 0.6624649\tbest: 0.6624649 (1)\n",
      "2:\tlearn: 0.6461428\ttest: 0.6470117\tbest: 0.6470117 (2)\n",
      "3:\tlearn: 0.6316887\ttest: 0.6329300\tbest: 0.6329300 (3)\n",
      "4:\tlearn: 0.6192054\ttest: 0.6202433\tbest: 0.6202433 (4)\n",
      "5:\tlearn: 0.6072418\ttest: 0.6090065\tbest: 0.6090065 (5)\n",
      "6:\tlearn: 0.5958459\ttest: 0.5982172\tbest: 0.5982172 (6)\n",
      "7:\tlearn: 0.5854390\ttest: 0.5879246\tbest: 0.5879246 (7)\n",
      "8:\tlearn: 0.5756524\ttest: 0.5787947\tbest: 0.5787947 (8)\n",
      "9:\tlearn: 0.5662456\ttest: 0.5701226\tbest: 0.5701226 (9)\n",
      "10:\tlearn: 0.5570692\ttest: 0.5611165\tbest: 0.5611165 (10)\n",
      "11:\tlearn: 0.5494391\ttest: 0.5538867\tbest: 0.5538867 (11)\n",
      "12:\tlearn: 0.5427907\ttest: 0.5478450\tbest: 0.5478450 (12)\n",
      "13:\tlearn: 0.5357096\ttest: 0.5413268\tbest: 0.5413268 (13)\n",
      "14:\tlearn: 0.5290751\ttest: 0.5353098\tbest: 0.5353098 (14)\n",
      "15:\tlearn: 0.5228197\ttest: 0.5293404\tbest: 0.5293404 (15)\n",
      "16:\tlearn: 0.5172597\ttest: 0.5243761\tbest: 0.5243761 (16)\n",
      "17:\tlearn: 0.5115340\ttest: 0.5190462\tbest: 0.5190462 (17)\n",
      "18:\tlearn: 0.5060171\ttest: 0.5143495\tbest: 0.5143495 (18)\n",
      "19:\tlearn: 0.5007759\ttest: 0.5096591\tbest: 0.5096591 (19)\n",
      "20:\tlearn: 0.4957494\ttest: 0.5051178\tbest: 0.5051178 (20)\n",
      "21:\tlearn: 0.4910450\ttest: 0.5010793\tbest: 0.5010793 (21)\n",
      "22:\tlearn: 0.4865571\ttest: 0.4972573\tbest: 0.4972573 (22)\n",
      "23:\tlearn: 0.4829239\ttest: 0.4940699\tbest: 0.4940699 (23)\n",
      "24:\tlearn: 0.4793082\ttest: 0.4909404\tbest: 0.4909404 (24)\n",
      "25:\tlearn: 0.4756509\ttest: 0.4885151\tbest: 0.4885151 (25)\n",
      "26:\tlearn: 0.4725062\ttest: 0.4859761\tbest: 0.4859761 (26)\n",
      "27:\tlearn: 0.4691344\ttest: 0.4832860\tbest: 0.4832860 (27)\ttotal: 7.03s\tremaining: 4m 3s\n",
      "28:\tlearn: 0.4661200\ttest: 0.4809850\tbest: 0.4809850 (28)\n",
      "29:\tlearn: 0.4628981\ttest: 0.4787480\tbest: 0.4787480 (29)\n",
      "30:\tlearn: 0.4604181\ttest: 0.4770353\tbest: 0.4770353 (30)\n",
      "31:\tlearn: 0.4580980\ttest: 0.4753849\tbest: 0.4753849 (31)\n",
      "32:\tlearn: 0.4549286\ttest: 0.4735233\tbest: 0.4735233 (32)\n",
      "33:\tlearn: 0.4526722\ttest: 0.4715678\tbest: 0.4715678 (33)\n",
      "34:\tlearn: 0.4500435\ttest: 0.4698331\tbest: 0.4698331 (34)\n",
      "35:\tlearn: 0.4478358\ttest: 0.4684413\tbest: 0.4684413 (35)\n",
      "36:\tlearn: 0.4452816\ttest: 0.4666332\tbest: 0.4666332 (36)\n",
      "37:\tlearn: 0.4430569\ttest: 0.4652527\tbest: 0.4652527 (37)\n",
      "38:\tlearn: 0.4413231\ttest: 0.4638756\tbest: 0.4638756 (38)\n",
      "39:\tlearn: 0.4392765\ttest: 0.4629257\tbest: 0.4629257 (39)\n",
      "40:\tlearn: 0.4373864\ttest: 0.4617333\tbest: 0.4617333 (40)\n",
      "41:\tlearn: 0.4353064\ttest: 0.4602938\tbest: 0.4602938 (41)\n",
      "42:\tlearn: 0.4333916\ttest: 0.4592897\tbest: 0.4592897 (42)\n",
      "43:\tlearn: 0.4319104\ttest: 0.4584060\tbest: 0.4584060 (43)\n",
      "44:\tlearn: 0.4302853\ttest: 0.4575112\tbest: 0.4575112 (44)\n",
      "45:\tlearn: 0.4280238\ttest: 0.4558738\tbest: 0.4558738 (45)\n",
      "46:\tlearn: 0.4268052\ttest: 0.4550238\tbest: 0.4550238 (46)\n",
      "47:\tlearn: 0.4255646\ttest: 0.4544004\tbest: 0.4544004 (47)\n",
      "48:\tlearn: 0.4237491\ttest: 0.4532319\tbest: 0.4532319 (48)\n",
      "49:\tlearn: 0.4221750\ttest: 0.4524853\tbest: 0.4524853 (49)\n",
      "50:\tlearn: 0.4207737\ttest: 0.4516956\tbest: 0.4516956 (50)\n",
      "51:\tlearn: 0.4192987\ttest: 0.4507431\tbest: 0.4507431 (51)\n",
      "52:\tlearn: 0.4178486\ttest: 0.4496913\tbest: 0.4496913 (52)\n",
      "53:\tlearn: 0.4163038\ttest: 0.4491005\tbest: 0.4491005 (53)\n",
      "54:\tlearn: 0.4152133\ttest: 0.4484416\tbest: 0.4484416 (54)\ttotal: 13.3s\tremaining: 3m 48s\n",
      "55:\tlearn: 0.4137437\ttest: 0.4477680\tbest: 0.4477680 (55)\n",
      "56:\tlearn: 0.4123502\ttest: 0.4475222\tbest: 0.4475222 (56)\n",
      "57:\tlearn: 0.4107445\ttest: 0.4465952\tbest: 0.4465952 (57)\n",
      "58:\tlearn: 0.4094606\ttest: 0.4462101\tbest: 0.4462101 (58)\n",
      "59:\tlearn: 0.4082939\ttest: 0.4454964\tbest: 0.4454964 (59)\n",
      "60:\tlearn: 0.4069580\ttest: 0.4452041\tbest: 0.4452041 (60)\n",
      "61:\tlearn: 0.4060108\ttest: 0.4446653\tbest: 0.4446653 (61)\n",
      "62:\tlearn: 0.4047160\ttest: 0.4441743\tbest: 0.4441743 (62)\n",
      "63:\tlearn: 0.4034962\ttest: 0.4435090\tbest: 0.4435090 (63)\n",
      "64:\tlearn: 0.4023257\ttest: 0.4428626\tbest: 0.4428626 (64)\n",
      "65:\tlearn: 0.4011588\ttest: 0.4423490\tbest: 0.4423490 (65)\n",
      "66:\tlearn: 0.4002286\ttest: 0.4420749\tbest: 0.4420749 (66)\n",
      "67:\tlearn: 0.3988847\ttest: 0.4414664\tbest: 0.4414664 (67)\n",
      "68:\tlearn: 0.3973442\ttest: 0.4405502\tbest: 0.4405502 (68)\n",
      "69:\tlearn: 0.3963531\ttest: 0.4399915\tbest: 0.4399915 (69)\n",
      "70:\tlearn: 0.3953603\ttest: 0.4397494\tbest: 0.4397494 (70)\n",
      "71:\tlearn: 0.3943913\ttest: 0.4395152\tbest: 0.4395152 (71)\n",
      "72:\tlearn: 0.3935342\ttest: 0.4392837\tbest: 0.4392837 (72)\n",
      "73:\tlearn: 0.3926365\ttest: 0.4389627\tbest: 0.4389627 (73)\n",
      "74:\tlearn: 0.3916706\ttest: 0.4388475\tbest: 0.4388475 (74)\n",
      "75:\tlearn: 0.3906641\ttest: 0.4384716\tbest: 0.4384716 (75)\n",
      "76:\tlearn: 0.3896832\ttest: 0.4381119\tbest: 0.4381119 (76)\n",
      "77:\tlearn: 0.3890211\ttest: 0.4379581\tbest: 0.4379581 (77)\n",
      "78:\tlearn: 0.3882295\ttest: 0.4376107\tbest: 0.4376107 (78)\n",
      "79:\tlearn: 0.3872236\ttest: 0.4370047\tbest: 0.4370047 (79)\n",
      "80:\tlearn: 0.3862953\ttest: 0.4369968\tbest: 0.4369968 (80)\n",
      "81:\tlearn: 0.3856186\ttest: 0.4369743\tbest: 0.4369743 (81)\n",
      "82:\tlearn: 0.3843843\ttest: 0.4365623\tbest: 0.4365623 (82)\n",
      "83:\tlearn: 0.3837636\ttest: 0.4364286\tbest: 0.4364286 (83)\n",
      "84:\tlearn: 0.3831512\ttest: 0.4363528\tbest: 0.4363528 (84)\n",
      "85:\tlearn: 0.3824561\ttest: 0.4358399\tbest: 0.4358399 (85)\n",
      "86:\tlearn: 0.3818757\ttest: 0.4355173\tbest: 0.4355173 (86)\n",
      "87:\tlearn: 0.3809999\ttest: 0.4351782\tbest: 0.4351782 (87)\n",
      "88:\tlearn: 0.3801026\ttest: 0.4345906\tbest: 0.4345906 (88)\n",
      "89:\tlearn: 0.3794133\ttest: 0.4346767\tbest: 0.4345906 (88)\n",
      "90:\tlearn: 0.3784949\ttest: 0.4344185\tbest: 0.4344185 (90)\n",
      "91:\tlearn: 0.3778451\ttest: 0.4342606\tbest: 0.4342606 (91)\n",
      "92:\tlearn: 0.3772390\ttest: 0.4339777\tbest: 0.4339777 (92)\n",
      "93:\tlearn: 0.3764281\ttest: 0.4338472\tbest: 0.4338472 (93)\n",
      "94:\tlearn: 0.3757932\ttest: 0.4336978\tbest: 0.4336978 (94)\n",
      "95:\tlearn: 0.3752402\ttest: 0.4333899\tbest: 0.4333899 (95)\n",
      "96:\tlearn: 0.3744449\ttest: 0.4332312\tbest: 0.4332312 (96)\n",
      "97:\tlearn: 0.3736801\ttest: 0.4327237\tbest: 0.4327237 (97)\n",
      "98:\tlearn: 0.3730498\ttest: 0.4325930\tbest: 0.4325930 (98)\n",
      "99:\tlearn: 0.3723550\ttest: 0.4320778\tbest: 0.4320778 (99)\n",
      "100:\tlearn: 0.3718710\ttest: 0.4318849\tbest: 0.4318849 (100)\n",
      "101:\tlearn: 0.3713873\ttest: 0.4316518\tbest: 0.4316518 (101)\n",
      "102:\tlearn: 0.3706404\ttest: 0.4314549\tbest: 0.4314549 (102)\n",
      "103:\tlearn: 0.3699629\ttest: 0.4315182\tbest: 0.4314549 (102)\n",
      "104:\tlearn: 0.3693718\ttest: 0.4314906\tbest: 0.4314549 (102)\n",
      "105:\tlearn: 0.3687600\ttest: 0.4311907\tbest: 0.4311907 (105)\n",
      "106:\tlearn: 0.3679367\ttest: 0.4309547\tbest: 0.4309547 (106)\n",
      "107:\tlearn: 0.3673022\ttest: 0.4306784\tbest: 0.4306784 (107)\n",
      "108:\tlearn: 0.3665819\ttest: 0.4304446\tbest: 0.4304446 (108)\n",
      "109:\tlearn: 0.3658428\ttest: 0.4302188\tbest: 0.4302188 (109)\n",
      "110:\tlearn: 0.3650772\ttest: 0.4299492\tbest: 0.4299492 (110)\n",
      "111:\tlearn: 0.3644597\ttest: 0.4298665\tbest: 0.4298665 (111)\n",
      "112:\tlearn: 0.3637804\ttest: 0.4296935\tbest: 0.4296935 (112)\n",
      "113:\tlearn: 0.3632338\ttest: 0.4298030\tbest: 0.4296935 (112)\n",
      "114:\tlearn: 0.3626572\ttest: 0.4297630\tbest: 0.4296935 (112)\n",
      "115:\tlearn: 0.3621246\ttest: 0.4295339\tbest: 0.4295339 (115)\n",
      "116:\tlearn: 0.3613711\ttest: 0.4295235\tbest: 0.4295235 (116)\n",
      "117:\tlearn: 0.3608124\ttest: 0.4292673\tbest: 0.4292673 (117)\n",
      "118:\tlearn: 0.3600136\ttest: 0.4293491\tbest: 0.4292673 (117)\n",
      "119:\tlearn: 0.3593979\ttest: 0.4291510\tbest: 0.4291510 (119)\n",
      "120:\tlearn: 0.3588750\ttest: 0.4291963\tbest: 0.4291510 (119)\n",
      "121:\tlearn: 0.3582481\ttest: 0.4293590\tbest: 0.4291510 (119)\n",
      "122:\tlearn: 0.3577319\ttest: 0.4291518\tbest: 0.4291510 (119)\n",
      "123:\tlearn: 0.3570974\ttest: 0.4291362\tbest: 0.4291362 (123)\n",
      "124:\tlearn: 0.3565676\ttest: 0.4289420\tbest: 0.4289420 (124)\n",
      "125:\tlearn: 0.3560349\ttest: 0.4290388\tbest: 0.4289420 (124)\n",
      "126:\tlearn: 0.3555393\ttest: 0.4290134\tbest: 0.4289420 (124)\n",
      "127:\tlearn: 0.3547957\ttest: 0.4291480\tbest: 0.4289420 (124)\n",
      "128:\tlearn: 0.3542538\ttest: 0.4292283\tbest: 0.4289420 (124)\n",
      "129:\tlearn: 0.3536263\ttest: 0.4293334\tbest: 0.4289420 (124)\n",
      "130:\tlearn: 0.3533362\ttest: 0.4291863\tbest: 0.4289420 (124)\n",
      "131:\tlearn: 0.3528860\ttest: 0.4291760\tbest: 0.4289420 (124)\n",
      "132:\tlearn: 0.3521856\ttest: 0.4289873\tbest: 0.4289420 (124)\n",
      "133:\tlearn: 0.3515717\ttest: 0.4290018\tbest: 0.4289420 (124)\n",
      "134:\tlearn: 0.3507145\ttest: 0.4287651\tbest: 0.4287651 (134)\n",
      "135:\tlearn: 0.3502393\ttest: 0.4289790\tbest: 0.4287651 (134)\n",
      "136:\tlearn: 0.3495978\ttest: 0.4289795\tbest: 0.4287651 (134)\n",
      "137:\tlearn: 0.3487775\ttest: 0.4286509\tbest: 0.4286509 (137)\n",
      "138:\tlearn: 0.3481973\ttest: 0.4281229\tbest: 0.4281229 (138)\n",
      "139:\tlearn: 0.3476971\ttest: 0.4280571\tbest: 0.4280571 (139)\n",
      "140:\tlearn: 0.3470796\ttest: 0.4278881\tbest: 0.4278881 (140)\ttotal: 29.7s\tremaining: 3m 1s\n"
     ]
    },
    {
     "name": "stdout",
     "output_type": "stream",
     "text": [
      "141:\tlearn: 0.3463941\ttest: 0.4276980\tbest: 0.4276980 (141)\n",
      "142:\tlearn: 0.3459138\ttest: 0.4273547\tbest: 0.4273547 (142)\n",
      "143:\tlearn: 0.3456021\ttest: 0.4272181\tbest: 0.4272181 (143)\n",
      "144:\tlearn: 0.3450572\ttest: 0.4271744\tbest: 0.4271744 (144)\n",
      "145:\tlearn: 0.3443989\ttest: 0.4269172\tbest: 0.4269172 (145)\n",
      "146:\tlearn: 0.3441014\ttest: 0.4267604\tbest: 0.4267604 (146)\n",
      "147:\tlearn: 0.3436796\ttest: 0.4266612\tbest: 0.4266612 (147)\n",
      "148:\tlearn: 0.3430600\ttest: 0.4264621\tbest: 0.4264621 (148)\n",
      "149:\tlearn: 0.3425919\ttest: 0.4264261\tbest: 0.4264261 (149)\n",
      "150:\tlearn: 0.3422274\ttest: 0.4263105\tbest: 0.4263105 (150)\n",
      "151:\tlearn: 0.3417945\ttest: 0.4263001\tbest: 0.4263001 (151)\n",
      "152:\tlearn: 0.3415115\ttest: 0.4262260\tbest: 0.4262260 (152)\n",
      "153:\tlearn: 0.3408572\ttest: 0.4261510\tbest: 0.4261510 (153)\n",
      "154:\tlearn: 0.3402408\ttest: 0.4260037\tbest: 0.4260037 (154)\n",
      "155:\tlearn: 0.3396629\ttest: 0.4261251\tbest: 0.4260037 (154)\n",
      "156:\tlearn: 0.3391489\ttest: 0.4260797\tbest: 0.4260037 (154)\n",
      "157:\tlearn: 0.3387854\ttest: 0.4259328\tbest: 0.4259328 (157)\n",
      "158:\tlearn: 0.3381500\ttest: 0.4258772\tbest: 0.4258772 (158)\n",
      "159:\tlearn: 0.3376540\ttest: 0.4256633\tbest: 0.4256633 (159)\n",
      "160:\tlearn: 0.3370090\ttest: 0.4255830\tbest: 0.4255830 (160)\n",
      "161:\tlearn: 0.3366815\ttest: 0.4253520\tbest: 0.4253520 (161)\n",
      "162:\tlearn: 0.3361939\ttest: 0.4254574\tbest: 0.4253520 (161)\n",
      "163:\tlearn: 0.3358111\ttest: 0.4254707\tbest: 0.4253520 (161)\n",
      "164:\tlearn: 0.3353618\ttest: 0.4254039\tbest: 0.4253520 (161)\n",
      "165:\tlearn: 0.3348877\ttest: 0.4252065\tbest: 0.4252065 (165)\n",
      "166:\tlearn: 0.3344012\ttest: 0.4251230\tbest: 0.4251230 (166)\n",
      "167:\tlearn: 0.3339525\ttest: 0.4250670\tbest: 0.4250670 (167)\n",
      "168:\tlearn: 0.3334290\ttest: 0.4250046\tbest: 0.4250046 (168)\ttotal: 36.4s\tremaining: 2m 59s\n",
      "169:\tlearn: 0.3329158\ttest: 0.4249236\tbest: 0.4249236 (169)\n",
      "170:\tlearn: 0.3322754\ttest: 0.4247194\tbest: 0.4247194 (170)\n",
      "171:\tlearn: 0.3318447\ttest: 0.4246276\tbest: 0.4246276 (171)\n",
      "172:\tlearn: 0.3313842\ttest: 0.4245461\tbest: 0.4245461 (172)\n",
      "173:\tlearn: 0.3307015\ttest: 0.4245288\tbest: 0.4245288 (173)\n",
      "174:\tlearn: 0.3302851\ttest: 0.4245357\tbest: 0.4245288 (173)\n",
      "175:\tlearn: 0.3298633\ttest: 0.4243844\tbest: 0.4243844 (175)\n",
      "176:\tlearn: 0.3294807\ttest: 0.4242534\tbest: 0.4242534 (176)\n",
      "177:\tlearn: 0.3291784\ttest: 0.4241349\tbest: 0.4241349 (177)\n",
      "178:\tlearn: 0.3286532\ttest: 0.4240917\tbest: 0.4240917 (178)\n",
      "179:\tlearn: 0.3282102\ttest: 0.4242947\tbest: 0.4240917 (178)\n",
      "180:\tlearn: 0.3278915\ttest: 0.4243183\tbest: 0.4240917 (178)\n",
      "181:\tlearn: 0.3273174\ttest: 0.4243006\tbest: 0.4240917 (178)\n",
      "182:\tlearn: 0.3268544\ttest: 0.4243002\tbest: 0.4240917 (178)\n",
      "183:\tlearn: 0.3264089\ttest: 0.4242324\tbest: 0.4240917 (178)\n",
      "184:\tlearn: 0.3260176\ttest: 0.4244136\tbest: 0.4240917 (178)\n",
      "185:\tlearn: 0.3256797\ttest: 0.4242997\tbest: 0.4240917 (178)\n",
      "186:\tlearn: 0.3252283\ttest: 0.4240920\tbest: 0.4240917 (178)\n",
      "187:\tlearn: 0.3245972\ttest: 0.4241345\tbest: 0.4240917 (178)\ttotal: 41.6s\tremaining: 2m 59s\n",
      "188:\tlearn: 0.3241164\ttest: 0.4241953\tbest: 0.4240917 (178)\n",
      "189:\tlearn: 0.3236887\ttest: 0.4243405\tbest: 0.4240917 (178)\n",
      "190:\tlearn: 0.3233144\ttest: 0.4244476\tbest: 0.4240917 (178)\n",
      "191:\tlearn: 0.3228602\ttest: 0.4244239\tbest: 0.4240917 (178)\ttotal: 43.5s\tremaining: 3m 2s\n",
      "192:\tlearn: 0.3223413\ttest: 0.4242861\tbest: 0.4240917 (178)\n",
      "193:\tlearn: 0.3219022\ttest: 0.4243971\tbest: 0.4240917 (178)\n",
      "194:\tlearn: 0.3213440\ttest: 0.4244860\tbest: 0.4240917 (178)\n",
      "195:\tlearn: 0.3208290\ttest: 0.4242937\tbest: 0.4240917 (178)\n",
      "196:\tlearn: 0.3204712\ttest: 0.4243437\tbest: 0.4240917 (178)\n",
      "197:\tlearn: 0.3199742\ttest: 0.4243868\tbest: 0.4240917 (178)\n",
      "198:\tlearn: 0.3197160\ttest: 0.4242964\tbest: 0.4240917 (178)\n",
      "199:\tlearn: 0.3191797\ttest: 0.4242747\tbest: 0.4240917 (178)\n",
      "200:\tlearn: 0.3187916\ttest: 0.4241570\tbest: 0.4240917 (178)\n",
      "201:\tlearn: 0.3185653\ttest: 0.4242422\tbest: 0.4240917 (178)\n",
      "202:\tlearn: 0.3183198\ttest: 0.4242423\tbest: 0.4240917 (178)\n",
      "203:\tlearn: 0.3177622\ttest: 0.4242427\tbest: 0.4240917 (178)\n",
      "204:\tlearn: 0.3171051\ttest: 0.4243137\tbest: 0.4240917 (178)\n",
      "205:\tlearn: 0.3167111\ttest: 0.4243385\tbest: 0.4240917 (178)\n",
      "206:\tlearn: 0.3160767\ttest: 0.4245165\tbest: 0.4240917 (178)\ttotal: 47.3s\tremaining: 3m 1s\n",
      "207:\tlearn: 0.3156550\ttest: 0.4246406\tbest: 0.4240917 (178)\n",
      "208:\tlearn: 0.3153785\ttest: 0.4245733\tbest: 0.4240917 (178)\n",
      "209:\tlearn: 0.3149963\ttest: 0.4245286\tbest: 0.4240917 (178)\n",
      "210:\tlearn: 0.3145849\ttest: 0.4243430\tbest: 0.4240917 (178)\n",
      "211:\tlearn: 0.3143034\ttest: 0.4242461\tbest: 0.4240917 (178)\n",
      "212:\tlearn: 0.3138963\ttest: 0.4242229\tbest: 0.4240917 (178)\n",
      "213:\tlearn: 0.3133069\ttest: 0.4240094\tbest: 0.4240094 (213)\n",
      "214:\tlearn: 0.3128456\ttest: 0.4241224\tbest: 0.4240094 (213)\n",
      "215:\tlearn: 0.3124823\ttest: 0.4241334\tbest: 0.4240094 (213)\n",
      "216:\tlearn: 0.3120693\ttest: 0.4242005\tbest: 0.4240094 (213)\n",
      "217:\tlearn: 0.3118136\ttest: 0.4241974\tbest: 0.4240094 (213)\n",
      "218:\tlearn: 0.3113686\ttest: 0.4242836\tbest: 0.4240094 (213)\n",
      "219:\tlearn: 0.3109024\ttest: 0.4241414\tbest: 0.4240094 (213)\n",
      "220:\tlearn: 0.3103539\ttest: 0.4240154\tbest: 0.4240094 (213)\n",
      "221:\tlearn: 0.3099246\ttest: 0.4239213\tbest: 0.4239213 (221)\n",
      "222:\tlearn: 0.3095948\ttest: 0.4238538\tbest: 0.4238538 (222)\n",
      "223:\tlearn: 0.3089662\ttest: 0.4238341\tbest: 0.4238341 (223)\n",
      "224:\tlearn: 0.3084960\ttest: 0.4237101\tbest: 0.4237101 (224)\n",
      "225:\tlearn: 0.3081826\ttest: 0.4238332\tbest: 0.4237101 (224)\n",
      "226:\tlearn: 0.3078999\ttest: 0.4237374\tbest: 0.4237101 (224)\n",
      "227:\tlearn: 0.3074351\ttest: 0.4236128\tbest: 0.4236128 (227)\n",
      "228:\tlearn: 0.3070190\ttest: 0.4235232\tbest: 0.4235232 (228)\n",
      "229:\tlearn: 0.3066532\ttest: 0.4235167\tbest: 0.4235167 (229)\n",
      "230:\tlearn: 0.3063248\ttest: 0.4236095\tbest: 0.4235167 (229)\n",
      "231:\tlearn: 0.3059783\ttest: 0.4234779\tbest: 0.4234779 (231)\n",
      "232:\tlearn: 0.3056814\ttest: 0.4233985\tbest: 0.4233985 (232)\n",
      "233:\tlearn: 0.3052315\ttest: 0.4232021\tbest: 0.4232021 (233)\n",
      "234:\tlearn: 0.3049576\ttest: 0.4231490\tbest: 0.4231490 (234)\ttotal: 53.8s\tremaining: 2m 55s\n",
      "235:\tlearn: 0.3044935\ttest: 0.4230874\tbest: 0.4230874 (235)\n",
      "236:\tlearn: 0.3040930\ttest: 0.4229177\tbest: 0.4229177 (236)\n",
      "237:\tlearn: 0.3036985\ttest: 0.4229865\tbest: 0.4229177 (236)\n",
      "238:\tlearn: 0.3032771\ttest: 0.4229918\tbest: 0.4229177 (236)\n",
      "239:\tlearn: 0.3029590\ttest: 0.4231486\tbest: 0.4229177 (236)\n",
      "240:\tlearn: 0.3024429\ttest: 0.4232369\tbest: 0.4229177 (236)\n",
      "241:\tlearn: 0.3019704\ttest: 0.4229431\tbest: 0.4229177 (236)\n",
      "242:\tlearn: 0.3014616\ttest: 0.4229352\tbest: 0.4229177 (236)\n",
      "243:\tlearn: 0.3011341\ttest: 0.4228551\tbest: 0.4228551 (243)\n",
      "244:\tlearn: 0.3007393\ttest: 0.4227992\tbest: 0.4227992 (244)\n",
      "245:\tlearn: 0.3003113\ttest: 0.4226271\tbest: 0.4226271 (245)\n",
      "246:\tlearn: 0.2998602\ttest: 0.4226063\tbest: 0.4226063 (246)\n",
      "247:\tlearn: 0.2994730\ttest: 0.4226102\tbest: 0.4226063 (246)\n",
      "248:\tlearn: 0.2990159\ttest: 0.4226258\tbest: 0.4226063 (246)\n",
      "249:\tlearn: 0.2986429\ttest: 0.4226881\tbest: 0.4226063 (246)\n",
      "250:\tlearn: 0.2981625\ttest: 0.4226875\tbest: 0.4226063 (246)\n",
      "251:\tlearn: 0.2977907\ttest: 0.4227468\tbest: 0.4226063 (246)\n",
      "252:\tlearn: 0.2975067\ttest: 0.4228004\tbest: 0.4226063 (246)\n",
      "253:\tlearn: 0.2971884\ttest: 0.4228233\tbest: 0.4226063 (246)\n",
      "254:\tlearn: 0.2967563\ttest: 0.4229015\tbest: 0.4226063 (246)\n",
      "255:\tlearn: 0.2964516\ttest: 0.4230537\tbest: 0.4226063 (246)\ttotal: 58.9s\tremaining: 2m 51s\n",
      "256:\tlearn: 0.2959857\ttest: 0.4229157\tbest: 0.4226063 (246)\n",
      "257:\tlearn: 0.2955704\ttest: 0.4230226\tbest: 0.4226063 (246)\n",
      "258:\tlearn: 0.2952493\ttest: 0.4229560\tbest: 0.4226063 (246)\n",
      "259:\tlearn: 0.2948668\ttest: 0.4230901\tbest: 0.4226063 (246)\n",
      "260:\tlearn: 0.2943598\ttest: 0.4230779\tbest: 0.4226063 (246)\n",
      "261:\tlearn: 0.2939899\ttest: 0.4230663\tbest: 0.4226063 (246)\n",
      "262:\tlearn: 0.2937258\ttest: 0.4231040\tbest: 0.4226063 (246)\n",
      "263:\tlearn: 0.2933781\ttest: 0.4230492\tbest: 0.4226063 (246)\n",
      "264:\tlearn: 0.2928898\ttest: 0.4229602\tbest: 0.4226063 (246)\n",
      "265:\tlearn: 0.2924648\ttest: 0.4232220\tbest: 0.4226063 (246)\n",
      "266:\tlearn: 0.2922453\ttest: 0.4232780\tbest: 0.4226063 (246)\n",
      "267:\tlearn: 0.2919645\ttest: 0.4232682\tbest: 0.4226063 (246)\n",
      "268:\tlearn: 0.2914318\ttest: 0.4232198\tbest: 0.4226063 (246)\n",
      "269:\tlearn: 0.2909545\ttest: 0.4232423\tbest: 0.4226063 (246)\n",
      "270:\tlearn: 0.2904656\ttest: 0.4232417\tbest: 0.4226063 (246)\n",
      "271:\tlearn: 0.2901867\ttest: 0.4233296\tbest: 0.4226063 (246)\n",
      "272:\tlearn: 0.2899165\ttest: 0.4232704\tbest: 0.4226063 (246)\n",
      "273:\tlearn: 0.2896986\ttest: 0.4233401\tbest: 0.4226063 (246)\n",
      "274:\tlearn: 0.2891986\ttest: 0.4235336\tbest: 0.4226063 (246)\n",
      "275:\tlearn: 0.2888375\ttest: 0.4236080\tbest: 0.4226063 (246)\n",
      "276:\tlearn: 0.2885094\ttest: 0.4236917\tbest: 0.4226063 (246)\n",
      "277:\tlearn: 0.2882997\ttest: 0.4236141\tbest: 0.4226063 (246)\n",
      "278:\tlearn: 0.2879194\ttest: 0.4236777\tbest: 0.4226063 (246)\n",
      "279:\tlearn: 0.2874872\ttest: 0.4236028\tbest: 0.4226063 (246)\n",
      "280:\tlearn: 0.2871129\ttest: 0.4236116\tbest: 0.4226063 (246)\n",
      "281:\tlearn: 0.2866683\ttest: 0.4236227\tbest: 0.4226063 (246)\ttotal: 1m 5s\tremaining: 2m 45s\n"
     ]
    },
    {
     "name": "stdout",
     "output_type": "stream",
     "text": [
      "282:\tlearn: 0.2863380\ttest: 0.4238346\tbest: 0.4226063 (246)\n",
      "283:\tlearn: 0.2861022\ttest: 0.4238399\tbest: 0.4226063 (246)\n",
      "284:\tlearn: 0.2857806\ttest: 0.4238246\tbest: 0.4226063 (246)\n",
      "285:\tlearn: 0.2852758\ttest: 0.4235449\tbest: 0.4226063 (246)\n",
      "286:\tlearn: 0.2849790\ttest: 0.4236731\tbest: 0.4226063 (246)\n",
      "287:\tlearn: 0.2846213\ttest: 0.4237201\tbest: 0.4226063 (246)\n",
      "288:\tlearn: 0.2843133\ttest: 0.4236171\tbest: 0.4226063 (246)\n",
      "289:\tlearn: 0.2839348\ttest: 0.4235571\tbest: 0.4226063 (246)\n",
      "290:\tlearn: 0.2836591\ttest: 0.4234593\tbest: 0.4226063 (246)\n",
      "291:\tlearn: 0.2832598\ttest: 0.4234353\tbest: 0.4226063 (246)\n",
      "292:\tlearn: 0.2828052\ttest: 0.4234407\tbest: 0.4226063 (246)\n",
      "293:\tlearn: 0.2824122\ttest: 0.4232987\tbest: 0.4226063 (246)\n",
      "294:\tlearn: 0.2819736\ttest: 0.4232977\tbest: 0.4226063 (246)\n",
      "295:\tlearn: 0.2814926\ttest: 0.4231116\tbest: 0.4226063 (246)\n",
      "296:\tlearn: 0.2811851\ttest: 0.4231065\tbest: 0.4226063 (246)\n",
      "297:\tlearn: 0.2808421\ttest: 0.4230216\tbest: 0.4226063 (246)\n",
      "298:\tlearn: 0.2804970\ttest: 0.4230318\tbest: 0.4226063 (246)\n",
      "299:\tlearn: 0.2802257\ttest: 0.4229719\tbest: 0.4226063 (246)\n",
      "300:\tlearn: 0.2799407\ttest: 0.4228761\tbest: 0.4226063 (246)\n",
      "301:\tlearn: 0.2796351\ttest: 0.4229225\tbest: 0.4226063 (246)\n",
      "302:\tlearn: 0.2793245\ttest: 0.4229561\tbest: 0.4226063 (246)\n",
      "303:\tlearn: 0.2788766\ttest: 0.4231632\tbest: 0.4226063 (246)\ttotal: 1m 10s\tremaining: 2m 41s\n",
      "304:\tlearn: 0.2785600\ttest: 0.4232707\tbest: 0.4226063 (246)\n",
      "305:\tlearn: 0.2783214\ttest: 0.4233516\tbest: 0.4226063 (246)\n",
      "306:\tlearn: 0.2780131\ttest: 0.4232559\tbest: 0.4226063 (246)\n",
      "307:\tlearn: 0.2776477\ttest: 0.4234395\tbest: 0.4226063 (246)\n",
      "308:\tlearn: 0.2773618\ttest: 0.4234443\tbest: 0.4226063 (246)\n",
      "309:\tlearn: 0.2771291\ttest: 0.4234200\tbest: 0.4226063 (246)\n",
      "310:\tlearn: 0.2768556\ttest: 0.4233626\tbest: 0.4226063 (246)\n",
      "311:\tlearn: 0.2765347\ttest: 0.4233957\tbest: 0.4226063 (246)\n",
      "312:\tlearn: 0.2761479\ttest: 0.4231770\tbest: 0.4226063 (246)\n",
      "313:\tlearn: 0.2759066\ttest: 0.4231634\tbest: 0.4226063 (246)\n",
      "314:\tlearn: 0.2755053\ttest: 0.4231061\tbest: 0.4226063 (246)\n",
      "315:\tlearn: 0.2752003\ttest: 0.4232511\tbest: 0.4226063 (246)\n",
      "316:\tlearn: 0.2748695\ttest: 0.4232372\tbest: 0.4226063 (246)\n",
      "317:\tlearn: 0.2746036\ttest: 0.4233799\tbest: 0.4226063 (246)\n",
      "318:\tlearn: 0.2742412\ttest: 0.4234097\tbest: 0.4226063 (246)\n",
      "319:\tlearn: 0.2739769\ttest: 0.4233748\tbest: 0.4226063 (246)\n",
      "320:\tlearn: 0.2736802\ttest: 0.4234246\tbest: 0.4226063 (246)\n",
      "321:\tlearn: 0.2734090\ttest: 0.4233691\tbest: 0.4226063 (246)\n",
      "322:\tlearn: 0.2731529\ttest: 0.4233903\tbest: 0.4226063 (246)\n",
      "323:\tlearn: 0.2728703\ttest: 0.4233565\tbest: 0.4226063 (246)\n",
      "324:\tlearn: 0.2725413\ttest: 0.4234083\tbest: 0.4226063 (246)\n",
      "325:\tlearn: 0.2722523\ttest: 0.4235087\tbest: 0.4226063 (246)\n",
      "326:\tlearn: 0.2718697\ttest: 0.4235177\tbest: 0.4226063 (246)\n",
      "327:\tlearn: 0.2715898\ttest: 0.4236366\tbest: 0.4226063 (246)\n",
      "328:\tlearn: 0.2711871\ttest: 0.4236788\tbest: 0.4226063 (246)\n",
      "329:\tlearn: 0.2708414\ttest: 0.4236880\tbest: 0.4226063 (246)\n",
      "330:\tlearn: 0.2705500\ttest: 0.4236312\tbest: 0.4226063 (246)\ttotal: 1m 16s\tremaining: 2m 35s\n",
      "331:\tlearn: 0.2701932\ttest: 0.4237202\tbest: 0.4226063 (246)\n",
      "332:\tlearn: 0.2698046\ttest: 0.4236489\tbest: 0.4226063 (246)\n",
      "333:\tlearn: 0.2695132\ttest: 0.4236960\tbest: 0.4226063 (246)\n",
      "334:\tlearn: 0.2691465\ttest: 0.4236518\tbest: 0.4226063 (246)\n",
      "335:\tlearn: 0.2687133\ttest: 0.4235894\tbest: 0.4226063 (246)\n",
      "336:\tlearn: 0.2683677\ttest: 0.4235750\tbest: 0.4226063 (246)\n",
      "337:\tlearn: 0.2680184\ttest: 0.4236343\tbest: 0.4226063 (246)\n",
      "338:\tlearn: 0.2678438\ttest: 0.4236205\tbest: 0.4226063 (246)\n",
      "339:\tlearn: 0.2676040\ttest: 0.4235732\tbest: 0.4226063 (246)\n",
      "340:\tlearn: 0.2671415\ttest: 0.4235710\tbest: 0.4226063 (246)\n",
      "341:\tlearn: 0.2669309\ttest: 0.4236877\tbest: 0.4226063 (246)\n",
      "342:\tlearn: 0.2665588\ttest: 0.4237096\tbest: 0.4226063 (246)\n",
      "343:\tlearn: 0.2663873\ttest: 0.4237504\tbest: 0.4226063 (246)\n",
      "344:\tlearn: 0.2659747\ttest: 0.4235555\tbest: 0.4226063 (246)\n",
      "345:\tlearn: 0.2657399\ttest: 0.4234837\tbest: 0.4226063 (246)\n",
      "346:\tlearn: 0.2654510\ttest: 0.4234160\tbest: 0.4226063 (246)\n",
      "347:\tlearn: 0.2651785\ttest: 0.4234520\tbest: 0.4226063 (246)\n",
      "348:\tlearn: 0.2649069\ttest: 0.4233665\tbest: 0.4226063 (246)\n",
      "349:\tlearn: 0.2646667\ttest: 0.4233391\tbest: 0.4226063 (246)\n",
      "350:\tlearn: 0.2643044\ttest: 0.4231251\tbest: 0.4226063 (246)\n",
      "351:\tlearn: 0.2639879\ttest: 0.4232867\tbest: 0.4226063 (246)\n",
      "352:\tlearn: 0.2636730\ttest: 0.4232721\tbest: 0.4226063 (246)\n",
      "353:\tlearn: 0.2631966\ttest: 0.4233485\tbest: 0.4226063 (246)\n",
      "354:\tlearn: 0.2629028\ttest: 0.4232617\tbest: 0.4226063 (246)\n",
      "355:\tlearn: 0.2626634\ttest: 0.4233488\tbest: 0.4226063 (246)\n",
      "356:\tlearn: 0.2622976\ttest: 0.4234063\tbest: 0.4226063 (246)\n",
      "357:\tlearn: 0.2620757\ttest: 0.4235349\tbest: 0.4226063 (246)\ttotal: 1m 23s\tremaining: 2m 29s\n",
      "358:\tlearn: 0.2618151\ttest: 0.4234844\tbest: 0.4226063 (246)\n",
      "359:\tlearn: 0.2615671\ttest: 0.4235457\tbest: 0.4226063 (246)\n",
      "360:\tlearn: 0.2613325\ttest: 0.4235729\tbest: 0.4226063 (246)\n",
      "361:\tlearn: 0.2610364\ttest: 0.4234298\tbest: 0.4226063 (246)\n",
      "362:\tlearn: 0.2606465\ttest: 0.4236492\tbest: 0.4226063 (246)\n",
      "363:\tlearn: 0.2603939\ttest: 0.4238263\tbest: 0.4226063 (246)\n",
      "364:\tlearn: 0.2600305\ttest: 0.4236972\tbest: 0.4226063 (246)\n",
      "365:\tlearn: 0.2597849\ttest: 0.4236028\tbest: 0.4226063 (246)\n",
      "366:\tlearn: 0.2593829\ttest: 0.4236933\tbest: 0.4226063 (246)\n",
      "367:\tlearn: 0.2591195\ttest: 0.4238857\tbest: 0.4226063 (246)\n",
      "368:\tlearn: 0.2588574\ttest: 0.4238372\tbest: 0.4226063 (246)\n",
      "369:\tlearn: 0.2585922\ttest: 0.4239305\tbest: 0.4226063 (246)\n",
      "370:\tlearn: 0.2584215\ttest: 0.4239683\tbest: 0.4226063 (246)\n",
      "371:\tlearn: 0.2581985\ttest: 0.4241252\tbest: 0.4226063 (246)\n",
      "372:\tlearn: 0.2577349\ttest: 0.4241524\tbest: 0.4226063 (246)\n",
      "373:\tlearn: 0.2573796\ttest: 0.4241221\tbest: 0.4226063 (246)\n",
      "374:\tlearn: 0.2571749\ttest: 0.4242510\tbest: 0.4226063 (246)\n",
      "375:\tlearn: 0.2569153\ttest: 0.4242790\tbest: 0.4226063 (246)\n",
      "376:\tlearn: 0.2565985\ttest: 0.4243643\tbest: 0.4226063 (246)\n",
      "377:\tlearn: 0.2562999\ttest: 0.4243759\tbest: 0.4226063 (246)\n",
      "378:\tlearn: 0.2559710\ttest: 0.4244071\tbest: 0.4226063 (246)\n",
      "379:\tlearn: 0.2557124\ttest: 0.4245942\tbest: 0.4226063 (246)\n",
      "380:\tlearn: 0.2553840\ttest: 0.4247491\tbest: 0.4226063 (246)\n",
      "381:\tlearn: 0.2550799\ttest: 0.4246742\tbest: 0.4226063 (246)\n",
      "382:\tlearn: 0.2547855\ttest: 0.4247631\tbest: 0.4226063 (246)\n",
      "383:\tlearn: 0.2545306\ttest: 0.4248681\tbest: 0.4226063 (246)\n",
      "384:\tlearn: 0.2542516\ttest: 0.4247726\tbest: 0.4226063 (246)\n",
      "385:\tlearn: 0.2539549\ttest: 0.4246548\tbest: 0.4226063 (246)\n",
      "386:\tlearn: 0.2536294\ttest: 0.4245673\tbest: 0.4226063 (246)\ttotal: 1m 29s\tremaining: 2m 22s\n",
      "387:\tlearn: 0.2532048\ttest: 0.4245197\tbest: 0.4226063 (246)\n",
      "388:\tlearn: 0.2529273\ttest: 0.4245257\tbest: 0.4226063 (246)\n",
      "389:\tlearn: 0.2526327\ttest: 0.4247346\tbest: 0.4226063 (246)\n",
      "390:\tlearn: 0.2522738\ttest: 0.4247981\tbest: 0.4226063 (246)\n",
      "391:\tlearn: 0.2519337\ttest: 0.4247835\tbest: 0.4226063 (246)\n",
      "392:\tlearn: 0.2516279\ttest: 0.4246934\tbest: 0.4226063 (246)\n",
      "393:\tlearn: 0.2513589\ttest: 0.4244784\tbest: 0.4226063 (246)\n",
      "394:\tlearn: 0.2509656\ttest: 0.4245060\tbest: 0.4226063 (246)\n",
      "395:\tlearn: 0.2506860\ttest: 0.4243550\tbest: 0.4226063 (246)\n",
      "396:\tlearn: 0.2503965\ttest: 0.4242487\tbest: 0.4226063 (246)\n",
      "397:\tlearn: 0.2501795\ttest: 0.4243776\tbest: 0.4226063 (246)\n",
      "398:\tlearn: 0.2498420\ttest: 0.4244873\tbest: 0.4226063 (246)\n",
      "399:\tlearn: 0.2495285\ttest: 0.4245123\tbest: 0.4226063 (246)\n",
      "400:\tlearn: 0.2492457\ttest: 0.4243753\tbest: 0.4226063 (246)\n",
      "401:\tlearn: 0.2488793\ttest: 0.4243723\tbest: 0.4226063 (246)\n",
      "402:\tlearn: 0.2485747\ttest: 0.4244325\tbest: 0.4226063 (246)\n",
      "403:\tlearn: 0.2482249\ttest: 0.4247220\tbest: 0.4226063 (246)\n",
      "404:\tlearn: 0.2478732\ttest: 0.4248195\tbest: 0.4226063 (246)\n",
      "405:\tlearn: 0.2476339\ttest: 0.4247307\tbest: 0.4226063 (246)\n",
      "406:\tlearn: 0.2473004\ttest: 0.4245750\tbest: 0.4226063 (246)\n",
      "407:\tlearn: 0.2469792\ttest: 0.4244830\tbest: 0.4226063 (246)\n",
      "408:\tlearn: 0.2466814\ttest: 0.4245656\tbest: 0.4226063 (246)\n",
      "409:\tlearn: 0.2464133\ttest: 0.4245867\tbest: 0.4226063 (246)\n",
      "410:\tlearn: 0.2461204\ttest: 0.4244882\tbest: 0.4226063 (246)\n",
      "411:\tlearn: 0.2457873\ttest: 0.4244895\tbest: 0.4226063 (246)\n",
      "412:\tlearn: 0.2455908\ttest: 0.4244543\tbest: 0.4226063 (246)\n",
      "413:\tlearn: 0.2452033\ttest: 0.4246120\tbest: 0.4226063 (246)\ttotal: 1m 36s\tremaining: 2m 15s\n",
      "414:\tlearn: 0.2450663\ttest: 0.4246723\tbest: 0.4226063 (246)\n",
      "415:\tlearn: 0.2449149\ttest: 0.4246672\tbest: 0.4226063 (246)\n",
      "416:\tlearn: 0.2447639\ttest: 0.4246738\tbest: 0.4226063 (246)\n",
      "417:\tlearn: 0.2445432\ttest: 0.4247028\tbest: 0.4226063 (246)\n",
      "418:\tlearn: 0.2443003\ttest: 0.4246273\tbest: 0.4226063 (246)\n",
      "419:\tlearn: 0.2440915\ttest: 0.4245775\tbest: 0.4226063 (246)\n",
      "420:\tlearn: 0.2438607\ttest: 0.4246073\tbest: 0.4226063 (246)\n",
      "421:\tlearn: 0.2435264\ttest: 0.4246509\tbest: 0.4226063 (246)\n",
      "422:\tlearn: 0.2432120\ttest: 0.4247126\tbest: 0.4226063 (246)\n",
      "423:\tlearn: 0.2428258\ttest: 0.4246539\tbest: 0.4226063 (246)\n",
      "424:\tlearn: 0.2426108\ttest: 0.4244720\tbest: 0.4226063 (246)\n",
      "425:\tlearn: 0.2423777\ttest: 0.4245161\tbest: 0.4226063 (246)\n",
      "426:\tlearn: 0.2420143\ttest: 0.4247042\tbest: 0.4226063 (246)\n",
      "427:\tlearn: 0.2416758\ttest: 0.4247167\tbest: 0.4226063 (246)\n",
      "428:\tlearn: 0.2413461\ttest: 0.4246798\tbest: 0.4226063 (246)\n",
      "429:\tlearn: 0.2410650\ttest: 0.4246858\tbest: 0.4226063 (246)\n",
      "430:\tlearn: 0.2409087\ttest: 0.4246267\tbest: 0.4226063 (246)\n",
      "431:\tlearn: 0.2406013\ttest: 0.4246956\tbest: 0.4226063 (246)\n",
      "432:\tlearn: 0.2402079\ttest: 0.4248609\tbest: 0.4226063 (246)\n",
      "433:\tlearn: 0.2398866\ttest: 0.4249788\tbest: 0.4226063 (246)\n",
      "434:\tlearn: 0.2395829\ttest: 0.4251527\tbest: 0.4226063 (246)\n",
      "435:\tlearn: 0.2391973\ttest: 0.4250871\tbest: 0.4226063 (246)\n",
      "436:\tlearn: 0.2389522\ttest: 0.4250385\tbest: 0.4226063 (246)\n",
      "437:\tlearn: 0.2386746\ttest: 0.4250704\tbest: 0.4226063 (246)\n",
      "438:\tlearn: 0.2383560\ttest: 0.4248835\tbest: 0.4226063 (246)\n",
      "439:\tlearn: 0.2381282\ttest: 0.4249040\tbest: 0.4226063 (246)\n",
      "440:\tlearn: 0.2378047\ttest: 0.4247538\tbest: 0.4226063 (246)\n",
      "441:\tlearn: 0.2375851\ttest: 0.4246619\tbest: 0.4226063 (246)\ttotal: 1m 42s\tremaining: 2m 9s\n"
     ]
    },
    {
     "name": "stdout",
     "output_type": "stream",
     "text": [
      "442:\tlearn: 0.2373494\ttest: 0.4246396\tbest: 0.4226063 (246)\n",
      "443:\tlearn: 0.2371197\ttest: 0.4246987\tbest: 0.4226063 (246)\n",
      "444:\tlearn: 0.2368732\ttest: 0.4248625\tbest: 0.4226063 (246)\n",
      "445:\tlearn: 0.2364673\ttest: 0.4248005\tbest: 0.4226063 (246)\n",
      "446:\tlearn: 0.2362116\ttest: 0.4249849\tbest: 0.4226063 (246)\n",
      "447:\tlearn: 0.2359521\ttest: 0.4247975\tbest: 0.4226063 (246)\n",
      "448:\tlearn: 0.2356744\ttest: 0.4248215\tbest: 0.4226063 (246)\n",
      "449:\tlearn: 0.2354229\ttest: 0.4247650\tbest: 0.4226063 (246)\n",
      "450:\tlearn: 0.2351873\ttest: 0.4247019\tbest: 0.4226063 (246)\n",
      "451:\tlearn: 0.2347997\ttest: 0.4245662\tbest: 0.4226063 (246)\n",
      "452:\tlearn: 0.2344567\ttest: 0.4246321\tbest: 0.4226063 (246)\n",
      "453:\tlearn: 0.2341316\ttest: 0.4247439\tbest: 0.4226063 (246)\n",
      "454:\tlearn: 0.2338254\ttest: 0.4247711\tbest: 0.4226063 (246)\n",
      "455:\tlearn: 0.2334897\ttest: 0.4248980\tbest: 0.4226063 (246)\n",
      "456:\tlearn: 0.2332519\ttest: 0.4250783\tbest: 0.4226063 (246)\n",
      "457:\tlearn: 0.2330220\ttest: 0.4248064\tbest: 0.4226063 (246)\n",
      "458:\tlearn: 0.2329015\ttest: 0.4248424\tbest: 0.4226063 (246)\n",
      "459:\tlearn: 0.2326081\ttest: 0.4246565\tbest: 0.4226063 (246)\n",
      "460:\tlearn: 0.2323451\ttest: 0.4245718\tbest: 0.4226063 (246)\n",
      "461:\tlearn: 0.2321062\ttest: 0.4248192\tbest: 0.4226063 (246)\n",
      "462:\tlearn: 0.2319098\ttest: 0.4249707\tbest: 0.4226063 (246)\n",
      "463:\tlearn: 0.2316369\ttest: 0.4250809\tbest: 0.4226063 (246)\n",
      "464:\tlearn: 0.2313691\ttest: 0.4252559\tbest: 0.4226063 (246)\n",
      "465:\tlearn: 0.2310746\ttest: 0.4252270\tbest: 0.4226063 (246)\n",
      "466:\tlearn: 0.2308990\ttest: 0.4253711\tbest: 0.4226063 (246)\n",
      "467:\tlearn: 0.2307180\ttest: 0.4253565\tbest: 0.4226063 (246)\ttotal: 1m 48s\tremaining: 2m 3s\n",
      "468:\tlearn: 0.2304422\ttest: 0.4253360\tbest: 0.4226063 (246)\n",
      "469:\tlearn: 0.2302615\ttest: 0.4253631\tbest: 0.4226063 (246)\n",
      "470:\tlearn: 0.2300203\ttest: 0.4254375\tbest: 0.4226063 (246)\n",
      "471:\tlearn: 0.2298158\ttest: 0.4254132\tbest: 0.4226063 (246)\n",
      "472:\tlearn: 0.2296573\ttest: 0.4254417\tbest: 0.4226063 (246)\n",
      "473:\tlearn: 0.2293926\ttest: 0.4254781\tbest: 0.4226063 (246)\n",
      "474:\tlearn: 0.2290405\ttest: 0.4254404\tbest: 0.4226063 (246)\n",
      "475:\tlearn: 0.2286651\ttest: 0.4255071\tbest: 0.4226063 (246)\n",
      "476:\tlearn: 0.2284082\ttest: 0.4255426\tbest: 0.4226063 (246)\n",
      "477:\tlearn: 0.2281528\ttest: 0.4257250\tbest: 0.4226063 (246)\n",
      "478:\tlearn: 0.2279362\ttest: 0.4255399\tbest: 0.4226063 (246)\n",
      "479:\tlearn: 0.2276668\ttest: 0.4255072\tbest: 0.4226063 (246)\n",
      "480:\tlearn: 0.2273368\ttest: 0.4255094\tbest: 0.4226063 (246)\n",
      "481:\tlearn: 0.2270880\ttest: 0.4255503\tbest: 0.4226063 (246)\n",
      "482:\tlearn: 0.2268716\ttest: 0.4255126\tbest: 0.4226063 (246)\n",
      "483:\tlearn: 0.2266534\ttest: 0.4255837\tbest: 0.4226063 (246)\n",
      "484:\tlearn: 0.2264091\ttest: 0.4257689\tbest: 0.4226063 (246)\n",
      "485:\tlearn: 0.2261222\ttest: 0.4258176\tbest: 0.4226063 (246)\n",
      "486:\tlearn: 0.2258136\ttest: 0.4258575\tbest: 0.4226063 (246)\n",
      "487:\tlearn: 0.2255196\ttest: 0.4259956\tbest: 0.4226063 (246)\n",
      "488:\tlearn: 0.2253077\ttest: 0.4258920\tbest: 0.4226063 (246)\n",
      "489:\tlearn: 0.2250843\ttest: 0.4260017\tbest: 0.4226063 (246)\n",
      "490:\tlearn: 0.2248210\ttest: 0.4260761\tbest: 0.4226063 (246)\n",
      "491:\tlearn: 0.2246771\ttest: 0.4260481\tbest: 0.4226063 (246)\n",
      "492:\tlearn: 0.2244310\ttest: 0.4259478\tbest: 0.4226063 (246)\n",
      "493:\tlearn: 0.2242509\ttest: 0.4259339\tbest: 0.4226063 (246)\n",
      "494:\tlearn: 0.2239420\ttest: 0.4259269\tbest: 0.4226063 (246)\n",
      "495:\tlearn: 0.2236626\ttest: 0.4257838\tbest: 0.4226063 (246)\ttotal: 1m 55s\tremaining: 1m 57s\n",
      "496:\tlearn: 0.2234629\ttest: 0.4257380\tbest: 0.4226063 (246)\n",
      "497:\tlearn: 0.2232251\ttest: 0.4257514\tbest: 0.4226063 (246)\n",
      "498:\tlearn: 0.2230764\ttest: 0.4258769\tbest: 0.4226063 (246)\n",
      "499:\tlearn: 0.2227870\ttest: 0.4259665\tbest: 0.4226063 (246)\n",
      "500:\tlearn: 0.2226096\ttest: 0.4260631\tbest: 0.4226063 (246)\n",
      "501:\tlearn: 0.2222876\ttest: 0.4262503\tbest: 0.4226063 (246)\n",
      "502:\tlearn: 0.2220564\ttest: 0.4263375\tbest: 0.4226063 (246)\n",
      "503:\tlearn: 0.2217484\ttest: 0.4263648\tbest: 0.4226063 (246)\n",
      "504:\tlearn: 0.2215730\ttest: 0.4262600\tbest: 0.4226063 (246)\n",
      "505:\tlearn: 0.2213029\ttest: 0.4263385\tbest: 0.4226063 (246)\n",
      "506:\tlearn: 0.2211006\ttest: 0.4263497\tbest: 0.4226063 (246)\n",
      "507:\tlearn: 0.2208595\ttest: 0.4264474\tbest: 0.4226063 (246)\n",
      "508:\tlearn: 0.2205741\ttest: 0.4263935\tbest: 0.4226063 (246)\n",
      "509:\tlearn: 0.2201528\ttest: 0.4266138\tbest: 0.4226063 (246)\n",
      "510:\tlearn: 0.2198899\ttest: 0.4267862\tbest: 0.4226063 (246)\n",
      "511:\tlearn: 0.2197536\ttest: 0.4268572\tbest: 0.4226063 (246)\n",
      "512:\tlearn: 0.2195020\ttest: 0.4268287\tbest: 0.4226063 (246)\n",
      "513:\tlearn: 0.2192498\ttest: 0.4268417\tbest: 0.4226063 (246)\n",
      "514:\tlearn: 0.2188574\ttest: 0.4267201\tbest: 0.4226063 (246)\n",
      "515:\tlearn: 0.2186604\ttest: 0.4265327\tbest: 0.4226063 (246)\n",
      "516:\tlearn: 0.2183353\ttest: 0.4265155\tbest: 0.4226063 (246)\n",
      "517:\tlearn: 0.2182003\ttest: 0.4265357\tbest: 0.4226063 (246)\n",
      "518:\tlearn: 0.2179055\ttest: 0.4269275\tbest: 0.4226063 (246)\n",
      "519:\tlearn: 0.2176771\ttest: 0.4269991\tbest: 0.4226063 (246)\n",
      "520:\tlearn: 0.2174476\ttest: 0.4270728\tbest: 0.4226063 (246)\ttotal: 2m 3s\tremaining: 1m 53s\n",
      "521:\tlearn: 0.2172739\ttest: 0.4272015\tbest: 0.4226063 (246)\n",
      "522:\tlearn: 0.2169360\ttest: 0.4272459\tbest: 0.4226063 (246)\n",
      "523:\tlearn: 0.2167439\ttest: 0.4272546\tbest: 0.4226063 (246)\n",
      "524:\tlearn: 0.2165851\ttest: 0.4273057\tbest: 0.4226063 (246)\n",
      "525:\tlearn: 0.2163256\ttest: 0.4272367\tbest: 0.4226063 (246)\n",
      "526:\tlearn: 0.2161323\ttest: 0.4271333\tbest: 0.4226063 (246)\n",
      "527:\tlearn: 0.2158185\ttest: 0.4270739\tbest: 0.4226063 (246)\n",
      "528:\tlearn: 0.2155921\ttest: 0.4271540\tbest: 0.4226063 (246)\n",
      "529:\tlearn: 0.2153680\ttest: 0.4270808\tbest: 0.4226063 (246)\n",
      "530:\tlearn: 0.2150939\ttest: 0.4271068\tbest: 0.4226063 (246)\n",
      "531:\tlearn: 0.2148496\ttest: 0.4272156\tbest: 0.4226063 (246)\n",
      "532:\tlearn: 0.2146189\ttest: 0.4271060\tbest: 0.4226063 (246)\n",
      "533:\tlearn: 0.2143632\ttest: 0.4272055\tbest: 0.4226063 (246)\n",
      "534:\tlearn: 0.2141633\ttest: 0.4272822\tbest: 0.4226063 (246)\n",
      "535:\tlearn: 0.2140005\ttest: 0.4273704\tbest: 0.4226063 (246)\n",
      "536:\tlearn: 0.2138026\ttest: 0.4275179\tbest: 0.4226063 (246)\n",
      "537:\tlearn: 0.2135664\ttest: 0.4274447\tbest: 0.4226063 (246)\n",
      "538:\tlearn: 0.2132525\ttest: 0.4275875\tbest: 0.4226063 (246)\n",
      "539:\tlearn: 0.2131060\ttest: 0.4276128\tbest: 0.4226063 (246)\n",
      "540:\tlearn: 0.2128191\ttest: 0.4274501\tbest: 0.4226063 (246)\n",
      "541:\tlearn: 0.2125560\ttest: 0.4276351\tbest: 0.4226063 (246)\n",
      "542:\tlearn: 0.2124092\ttest: 0.4277253\tbest: 0.4226063 (246)\n",
      "543:\tlearn: 0.2121743\ttest: 0.4276335\tbest: 0.4226063 (246)\n",
      "544:\tlearn: 0.2118888\ttest: 0.4275925\tbest: 0.4226063 (246)\n",
      "545:\tlearn: 0.2116659\ttest: 0.4275116\tbest: 0.4226063 (246)\n",
      "546:\tlearn: 0.2114540\ttest: 0.4274139\tbest: 0.4226063 (246)\ttotal: 2m 11s\tremaining: 1m 48s\n",
      "547:\tlearn: 0.2112431\ttest: 0.4275899\tbest: 0.4226063 (246)\n",
      "548:\tlearn: 0.2110326\ttest: 0.4273828\tbest: 0.4226063 (246)\n",
      "549:\tlearn: 0.2109270\ttest: 0.4274203\tbest: 0.4226063 (246)\n",
      "550:\tlearn: 0.2106431\ttest: 0.4275872\tbest: 0.4226063 (246)\n",
      "551:\tlearn: 0.2104836\ttest: 0.4277493\tbest: 0.4226063 (246)\n",
      "552:\tlearn: 0.2103109\ttest: 0.4277911\tbest: 0.4226063 (246)\n",
      "553:\tlearn: 0.2101760\ttest: 0.4277538\tbest: 0.4226063 (246)\n",
      "554:\tlearn: 0.2100638\ttest: 0.4278097\tbest: 0.4226063 (246)\n",
      "555:\tlearn: 0.2097913\ttest: 0.4276877\tbest: 0.4226063 (246)\n",
      "556:\tlearn: 0.2096028\ttest: 0.4274919\tbest: 0.4226063 (246)\n",
      "557:\tlearn: 0.2094202\ttest: 0.4276432\tbest: 0.4226063 (246)\n",
      "558:\tlearn: 0.2092359\ttest: 0.4276644\tbest: 0.4226063 (246)\n",
      "559:\tlearn: 0.2090212\ttest: 0.4277437\tbest: 0.4226063 (246)\n",
      "560:\tlearn: 0.2087148\ttest: 0.4279577\tbest: 0.4226063 (246)\ttotal: 2m 17s\tremaining: 1m 47s\n",
      "561:\tlearn: 0.2084680\ttest: 0.4281125\tbest: 0.4226063 (246)\n",
      "562:\tlearn: 0.2083080\ttest: 0.4281084\tbest: 0.4226063 (246)\n",
      "563:\tlearn: 0.2080099\ttest: 0.4279730\tbest: 0.4226063 (246)\n",
      "564:\tlearn: 0.2077860\ttest: 0.4280432\tbest: 0.4226063 (246)\n",
      "565:\tlearn: 0.2074542\ttest: 0.4282389\tbest: 0.4226063 (246)\n",
      "566:\tlearn: 0.2073151\ttest: 0.4282326\tbest: 0.4226063 (246)\n",
      "567:\tlearn: 0.2071471\ttest: 0.4284158\tbest: 0.4226063 (246)\n",
      "568:\tlearn: 0.2069164\ttest: 0.4283416\tbest: 0.4226063 (246)\n",
      "569:\tlearn: 0.2066861\ttest: 0.4283724\tbest: 0.4226063 (246)\n",
      "570:\tlearn: 0.2065792\ttest: 0.4284368\tbest: 0.4226063 (246)\n",
      "571:\tlearn: 0.2064167\ttest: 0.4283881\tbest: 0.4226063 (246)\n",
      "572:\tlearn: 0.2062005\ttest: 0.4286177\tbest: 0.4226063 (246)\n",
      "573:\tlearn: 0.2059713\ttest: 0.4287756\tbest: 0.4226063 (246)\n",
      "574:\tlearn: 0.2057905\ttest: 0.4288069\tbest: 0.4226063 (246)\n",
      "575:\tlearn: 0.2055325\ttest: 0.4287200\tbest: 0.4226063 (246)\n",
      "576:\tlearn: 0.2052685\ttest: 0.4287191\tbest: 0.4226063 (246)\n",
      "577:\tlearn: 0.2049957\ttest: 0.4287607\tbest: 0.4226063 (246)\n",
      "578:\tlearn: 0.2047857\ttest: 0.4287444\tbest: 0.4226063 (246)\n",
      "579:\tlearn: 0.2046411\ttest: 0.4288556\tbest: 0.4226063 (246)\n",
      "580:\tlearn: 0.2044581\ttest: 0.4290856\tbest: 0.4226063 (246)\n",
      "581:\tlearn: 0.2043020\ttest: 0.4290828\tbest: 0.4226063 (246)\n",
      "582:\tlearn: 0.2040589\ttest: 0.4291059\tbest: 0.4226063 (246)\ttotal: 2m 24s\tremaining: 1m 43s\n"
     ]
    },
    {
     "name": "stdout",
     "output_type": "stream",
     "text": [
      "583:\tlearn: 0.2036842\ttest: 0.4290294\tbest: 0.4226063 (246)\n",
      "584:\tlearn: 0.2034020\ttest: 0.4289478\tbest: 0.4226063 (246)\n",
      "585:\tlearn: 0.2032459\ttest: 0.4290067\tbest: 0.4226063 (246)\n",
      "586:\tlearn: 0.2029464\ttest: 0.4291388\tbest: 0.4226063 (246)\n",
      "587:\tlearn: 0.2027742\ttest: 0.4291560\tbest: 0.4226063 (246)\n",
      "588:\tlearn: 0.2025862\ttest: 0.4290022\tbest: 0.4226063 (246)\n",
      "589:\tlearn: 0.2023769\ttest: 0.4288560\tbest: 0.4226063 (246)\n",
      "590:\tlearn: 0.2020925\ttest: 0.4288383\tbest: 0.4226063 (246)\n",
      "591:\tlearn: 0.2018746\ttest: 0.4288678\tbest: 0.4226063 (246)\n",
      "592:\tlearn: 0.2016353\ttest: 0.4289704\tbest: 0.4226063 (246)\n",
      "593:\tlearn: 0.2014253\ttest: 0.4289186\tbest: 0.4226063 (246)\n",
      "594:\tlearn: 0.2011555\ttest: 0.4290004\tbest: 0.4226063 (246)\n",
      "595:\tlearn: 0.2008924\ttest: 0.4288126\tbest: 0.4226063 (246)\n",
      "596:\tlearn: 0.2006529\ttest: 0.4287774\tbest: 0.4226063 (246)\n",
      "597:\tlearn: 0.2004520\ttest: 0.4286760\tbest: 0.4226063 (246)\n",
      "598:\tlearn: 0.2002799\ttest: 0.4287622\tbest: 0.4226063 (246)\n",
      "599:\tlearn: 0.1999976\ttest: 0.4286860\tbest: 0.4226063 (246)\n",
      "600:\tlearn: 0.1997655\ttest: 0.4287813\tbest: 0.4226063 (246)\n",
      "601:\tlearn: 0.1995402\ttest: 0.4287136\tbest: 0.4226063 (246)\n",
      "602:\tlearn: 0.1992944\ttest: 0.4288118\tbest: 0.4226063 (246)\n",
      "603:\tlearn: 0.1991061\ttest: 0.4288681\tbest: 0.4226063 (246)\n",
      "604:\tlearn: 0.1988165\ttest: 0.4289843\tbest: 0.4226063 (246)\n",
      "605:\tlearn: 0.1986313\ttest: 0.4289995\tbest: 0.4226063 (246)\n",
      "606:\tlearn: 0.1984195\ttest: 0.4290123\tbest: 0.4226063 (246)\n",
      "607:\tlearn: 0.1982610\ttest: 0.4290802\tbest: 0.4226063 (246)\n",
      "608:\tlearn: 0.1980317\ttest: 0.4290427\tbest: 0.4226063 (246)\ttotal: 2m 31s\tremaining: 1m 37s\n",
      "609:\tlearn: 0.1978395\ttest: 0.4290301\tbest: 0.4226063 (246)\n",
      "610:\tlearn: 0.1976148\ttest: 0.4291300\tbest: 0.4226063 (246)\n",
      "611:\tlearn: 0.1974241\ttest: 0.4291034\tbest: 0.4226063 (246)\n",
      "612:\tlearn: 0.1972845\ttest: 0.4290623\tbest: 0.4226063 (246)\n",
      "613:\tlearn: 0.1970452\ttest: 0.4288735\tbest: 0.4226063 (246)\n",
      "614:\tlearn: 0.1968039\ttest: 0.4288298\tbest: 0.4226063 (246)\n",
      "615:\tlearn: 0.1965709\ttest: 0.4288687\tbest: 0.4226063 (246)\n",
      "616:\tlearn: 0.1962077\ttest: 0.4288777\tbest: 0.4226063 (246)\n",
      "617:\tlearn: 0.1959697\ttest: 0.4289309\tbest: 0.4226063 (246)\n",
      "618:\tlearn: 0.1958048\ttest: 0.4287385\tbest: 0.4226063 (246)\n",
      "619:\tlearn: 0.1955939\ttest: 0.4287919\tbest: 0.4226063 (246)\n",
      "620:\tlearn: 0.1953713\ttest: 0.4287436\tbest: 0.4226063 (246)\n",
      "621:\tlearn: 0.1950731\ttest: 0.4288076\tbest: 0.4226063 (246)\n",
      "622:\tlearn: 0.1948478\ttest: 0.4290482\tbest: 0.4226063 (246)\n",
      "623:\tlearn: 0.1947301\ttest: 0.4291235\tbest: 0.4226063 (246)\n",
      "624:\tlearn: 0.1945892\ttest: 0.4291581\tbest: 0.4226063 (246)\n",
      "625:\tlearn: 0.1944085\ttest: 0.4290800\tbest: 0.4226063 (246)\n",
      "626:\tlearn: 0.1942264\ttest: 0.4291752\tbest: 0.4226063 (246)\n",
      "627:\tlearn: 0.1940371\ttest: 0.4291472\tbest: 0.4226063 (246)\n",
      "628:\tlearn: 0.1938276\ttest: 0.4290939\tbest: 0.4226063 (246)\n",
      "629:\tlearn: 0.1936918\ttest: 0.4291953\tbest: 0.4226063 (246)\n",
      "630:\tlearn: 0.1935161\ttest: 0.4291239\tbest: 0.4226063 (246)\n",
      "631:\tlearn: 0.1932713\ttest: 0.4293074\tbest: 0.4226063 (246)\n",
      "632:\tlearn: 0.1930914\ttest: 0.4292504\tbest: 0.4226063 (246)\ttotal: 2m 38s\tremaining: 1m 32s\n",
      "633:\tlearn: 0.1929760\ttest: 0.4292046\tbest: 0.4226063 (246)\n",
      "634:\tlearn: 0.1927604\ttest: 0.4292475\tbest: 0.4226063 (246)\n",
      "635:\tlearn: 0.1925737\ttest: 0.4292178\tbest: 0.4226063 (246)\n",
      "636:\tlearn: 0.1923242\ttest: 0.4295296\tbest: 0.4226063 (246)\n",
      "637:\tlearn: 0.1921295\ttest: 0.4295354\tbest: 0.4226063 (246)\n",
      "638:\tlearn: 0.1919353\ttest: 0.4294786\tbest: 0.4226063 (246)\n",
      "639:\tlearn: 0.1917480\ttest: 0.4293515\tbest: 0.4226063 (246)\n",
      "640:\tlearn: 0.1915380\ttest: 0.4292795\tbest: 0.4226063 (246)\n",
      "641:\tlearn: 0.1913311\ttest: 0.4294508\tbest: 0.4226063 (246)\n",
      "642:\tlearn: 0.1911313\ttest: 0.4293540\tbest: 0.4226063 (246)\n",
      "643:\tlearn: 0.1909600\ttest: 0.4294985\tbest: 0.4226063 (246)\n",
      "644:\tlearn: 0.1906969\ttest: 0.4297601\tbest: 0.4226063 (246)\n",
      "645:\tlearn: 0.1904851\ttest: 0.4297958\tbest: 0.4226063 (246)\n",
      "646:\tlearn: 0.1902774\ttest: 0.4296460\tbest: 0.4226063 (246)\n",
      "647:\tlearn: 0.1900666\ttest: 0.4297586\tbest: 0.4226063 (246)\n",
      "648:\tlearn: 0.1898711\ttest: 0.4297607\tbest: 0.4226063 (246)\n",
      "649:\tlearn: 0.1896452\ttest: 0.4297561\tbest: 0.4226063 (246)\n",
      "650:\tlearn: 0.1894507\ttest: 0.4298392\tbest: 0.4226063 (246)\n",
      "651:\tlearn: 0.1891865\ttest: 0.4299630\tbest: 0.4226063 (246)\n",
      "652:\tlearn: 0.1890076\ttest: 0.4299423\tbest: 0.4226063 (246)\n",
      "653:\tlearn: 0.1888339\ttest: 0.4300945\tbest: 0.4226063 (246)\n",
      "654:\tlearn: 0.1886150\ttest: 0.4300914\tbest: 0.4226063 (246)\n",
      "655:\tlearn: 0.1884223\ttest: 0.4300555\tbest: 0.4226063 (246)\ttotal: 2m 46s\tremaining: 1m 27s\n",
      "656:\tlearn: 0.1882528\ttest: 0.4300105\tbest: 0.4226063 (246)\n",
      "657:\tlearn: 0.1880861\ttest: 0.4300435\tbest: 0.4226063 (246)\n",
      "658:\tlearn: 0.1879392\ttest: 0.4299891\tbest: 0.4226063 (246)\n",
      "659:\tlearn: 0.1876261\ttest: 0.4300747\tbest: 0.4226063 (246)\n",
      "660:\tlearn: 0.1875147\ttest: 0.4301579\tbest: 0.4226063 (246)\n",
      "661:\tlearn: 0.1873429\ttest: 0.4301982\tbest: 0.4226063 (246)\n",
      "662:\tlearn: 0.1870295\ttest: 0.4301146\tbest: 0.4226063 (246)\n",
      "663:\tlearn: 0.1868096\ttest: 0.4302437\tbest: 0.4226063 (246)\n",
      "664:\tlearn: 0.1866093\ttest: 0.4302310\tbest: 0.4226063 (246)\n",
      "665:\tlearn: 0.1864322\ttest: 0.4303057\tbest: 0.4226063 (246)\n",
      "666:\tlearn: 0.1863117\ttest: 0.4303186\tbest: 0.4226063 (246)\n",
      "667:\tlearn: 0.1861583\ttest: 0.4304306\tbest: 0.4226063 (246)\n",
      "668:\tlearn: 0.1859753\ttest: 0.4305992\tbest: 0.4226063 (246)\n",
      "669:\tlearn: 0.1858059\ttest: 0.4305806\tbest: 0.4226063 (246)\n",
      "670:\tlearn: 0.1855704\ttest: 0.4306951\tbest: 0.4226063 (246)\n",
      "671:\tlearn: 0.1854039\ttest: 0.4307538\tbest: 0.4226063 (246)\n",
      "672:\tlearn: 0.1851598\ttest: 0.4309108\tbest: 0.4226063 (246)\n",
      "673:\tlearn: 0.1849794\ttest: 0.4307349\tbest: 0.4226063 (246)\ttotal: 2m 51s\tremaining: 1m 23s\n",
      "674:\tlearn: 0.1848264\ttest: 0.4307762\tbest: 0.4226063 (246)\n",
      "675:\tlearn: 0.1846445\ttest: 0.4309231\tbest: 0.4226063 (246)\n",
      "676:\tlearn: 0.1845178\ttest: 0.4312217\tbest: 0.4226063 (246)\n",
      "677:\tlearn: 0.1842756\ttest: 0.4312707\tbest: 0.4226063 (246)\n",
      "678:\tlearn: 0.1840798\ttest: 0.4313073\tbest: 0.4226063 (246)\n",
      "679:\tlearn: 0.1839244\ttest: 0.4313624\tbest: 0.4226063 (246)\n",
      "680:\tlearn: 0.1837871\ttest: 0.4314802\tbest: 0.4226063 (246)\n",
      "681:\tlearn: 0.1836267\ttest: 0.4315006\tbest: 0.4226063 (246)\n",
      "682:\tlearn: 0.1834656\ttest: 0.4315957\tbest: 0.4226063 (246)\n",
      "683:\tlearn: 0.1832699\ttest: 0.4317343\tbest: 0.4226063 (246)\n",
      "684:\tlearn: 0.1831371\ttest: 0.4316763\tbest: 0.4226063 (246)\n",
      "685:\tlearn: 0.1829457\ttest: 0.4316159\tbest: 0.4226063 (246)\n",
      "686:\tlearn: 0.1827731\ttest: 0.4314946\tbest: 0.4226063 (246)\n",
      "687:\tlearn: 0.1825062\ttest: 0.4317496\tbest: 0.4226063 (246)\n",
      "688:\tlearn: 0.1823230\ttest: 0.4319194\tbest: 0.4226063 (246)\n",
      "689:\tlearn: 0.1820626\ttest: 0.4318263\tbest: 0.4226063 (246)\n",
      "690:\tlearn: 0.1818100\ttest: 0.4316414\tbest: 0.4226063 (246)\n",
      "691:\tlearn: 0.1815939\ttest: 0.4317869\tbest: 0.4226063 (246)\n",
      "692:\tlearn: 0.1814092\ttest: 0.4317003\tbest: 0.4226063 (246)\n",
      "693:\tlearn: 0.1812155\ttest: 0.4318017\tbest: 0.4226063 (246)\n",
      "694:\tlearn: 0.1810824\ttest: 0.4317876\tbest: 0.4226063 (246)\n",
      "695:\tlearn: 0.1808502\ttest: 0.4318561\tbest: 0.4226063 (246)\n",
      "696:\tlearn: 0.1806914\ttest: 0.4319734\tbest: 0.4226063 (246)\n",
      "697:\tlearn: 0.1804259\ttest: 0.4319288\tbest: 0.4226063 (246)\ttotal: 2m 58s\tremaining: 1m 17s\n",
      "698:\tlearn: 0.1802857\ttest: 0.4318786\tbest: 0.4226063 (246)\n",
      "699:\tlearn: 0.1801346\ttest: 0.4319115\tbest: 0.4226063 (246)\n",
      "700:\tlearn: 0.1799104\ttest: 0.4319026\tbest: 0.4226063 (246)\n",
      "701:\tlearn: 0.1797046\ttest: 0.4319213\tbest: 0.4226063 (246)\n",
      "702:\tlearn: 0.1794675\ttest: 0.4320097\tbest: 0.4226063 (246)\n",
      "703:\tlearn: 0.1792700\ttest: 0.4318435\tbest: 0.4226063 (246)\n",
      "704:\tlearn: 0.1790989\ttest: 0.4317096\tbest: 0.4226063 (246)\n",
      "705:\tlearn: 0.1789121\ttest: 0.4319097\tbest: 0.4226063 (246)\n",
      "706:\tlearn: 0.1786825\ttest: 0.4320260\tbest: 0.4226063 (246)\n",
      "707:\tlearn: 0.1785188\ttest: 0.4322278\tbest: 0.4226063 (246)\n",
      "708:\tlearn: 0.1783900\ttest: 0.4322936\tbest: 0.4226063 (246)\n",
      "709:\tlearn: 0.1782887\ttest: 0.4323618\tbest: 0.4226063 (246)\n",
      "710:\tlearn: 0.1781331\ttest: 0.4323668\tbest: 0.4226063 (246)\n",
      "711:\tlearn: 0.1779458\ttest: 0.4324135\tbest: 0.4226063 (246)\n",
      "712:\tlearn: 0.1777865\ttest: 0.4324709\tbest: 0.4226063 (246)\n",
      "713:\tlearn: 0.1776007\ttest: 0.4324636\tbest: 0.4226063 (246)\n",
      "714:\tlearn: 0.1773868\ttest: 0.4327326\tbest: 0.4226063 (246)\n",
      "715:\tlearn: 0.1772474\ttest: 0.4326935\tbest: 0.4226063 (246)\n",
      "716:\tlearn: 0.1771067\ttest: 0.4327915\tbest: 0.4226063 (246)\n",
      "717:\tlearn: 0.1769432\ttest: 0.4326871\tbest: 0.4226063 (246)\ttotal: 3m 4s\tremaining: 1m 12s\n"
     ]
    },
    {
     "name": "stdout",
     "output_type": "stream",
     "text": [
      "718:\tlearn: 0.1767859\ttest: 0.4328109\tbest: 0.4226063 (246)\n",
      "719:\tlearn: 0.1766675\ttest: 0.4328003\tbest: 0.4226063 (246)\n",
      "720:\tlearn: 0.1765303\ttest: 0.4329658\tbest: 0.4226063 (246)\n",
      "721:\tlearn: 0.1763607\ttest: 0.4330526\tbest: 0.4226063 (246)\n",
      "722:\tlearn: 0.1762165\ttest: 0.4330859\tbest: 0.4226063 (246)\n",
      "723:\tlearn: 0.1760766\ttest: 0.4332049\tbest: 0.4226063 (246)\n",
      "724:\tlearn: 0.1759289\ttest: 0.4331846\tbest: 0.4226063 (246)\n",
      "725:\tlearn: 0.1757716\ttest: 0.4333630\tbest: 0.4226063 (246)\n",
      "726:\tlearn: 0.1755374\ttest: 0.4335194\tbest: 0.4226063 (246)\n",
      "727:\tlearn: 0.1753477\ttest: 0.4338035\tbest: 0.4226063 (246)\n",
      "728:\tlearn: 0.1751556\ttest: 0.4337822\tbest: 0.4226063 (246)\n",
      "729:\tlearn: 0.1750086\ttest: 0.4337471\tbest: 0.4226063 (246)\n",
      "730:\tlearn: 0.1748349\ttest: 0.4336919\tbest: 0.4226063 (246)\n",
      "731:\tlearn: 0.1746357\ttest: 0.4338168\tbest: 0.4226063 (246)\n",
      "732:\tlearn: 0.1744475\ttest: 0.4336955\tbest: 0.4226063 (246)\n",
      "733:\tlearn: 0.1742954\ttest: 0.4336646\tbest: 0.4226063 (246)\n",
      "734:\tlearn: 0.1741819\ttest: 0.4337296\tbest: 0.4226063 (246)\n",
      "735:\tlearn: 0.1740332\ttest: 0.4337174\tbest: 0.4226063 (246)\n",
      "736:\tlearn: 0.1738761\ttest: 0.4336814\tbest: 0.4226063 (246)\n",
      "737:\tlearn: 0.1737583\ttest: 0.4337658\tbest: 0.4226063 (246)\n",
      "738:\tlearn: 0.1735955\ttest: 0.4337877\tbest: 0.4226063 (246)\n",
      "739:\tlearn: 0.1734341\ttest: 0.4336537\tbest: 0.4226063 (246)\n",
      "740:\tlearn: 0.1732813\ttest: 0.4336394\tbest: 0.4226063 (246)\n",
      "741:\tlearn: 0.1730995\ttest: 0.4336740\tbest: 0.4226063 (246)\ttotal: 3m 11s\tremaining: 1m 6s\n",
      "742:\tlearn: 0.1728880\ttest: 0.4337734\tbest: 0.4226063 (246)\n",
      "743:\tlearn: 0.1727454\ttest: 0.4336691\tbest: 0.4226063 (246)\n",
      "744:\tlearn: 0.1725669\ttest: 0.4336878\tbest: 0.4226063 (246)\n",
      "745:\tlearn: 0.1722994\ttest: 0.4338157\tbest: 0.4226063 (246)\n",
      "746:\tlearn: 0.1721252\ttest: 0.4338326\tbest: 0.4226063 (246)\n",
      "747:\tlearn: 0.1720082\ttest: 0.4339611\tbest: 0.4226063 (246)\n",
      "748:\tlearn: 0.1718028\ttest: 0.4338810\tbest: 0.4226063 (246)\n",
      "749:\tlearn: 0.1717143\ttest: 0.4339991\tbest: 0.4226063 (246)\n",
      "750:\tlearn: 0.1715287\ttest: 0.4340288\tbest: 0.4226063 (246)\n",
      "751:\tlearn: 0.1713667\ttest: 0.4340658\tbest: 0.4226063 (246)\n",
      "752:\tlearn: 0.1712695\ttest: 0.4341441\tbest: 0.4226063 (246)\n",
      "753:\tlearn: 0.1710638\ttest: 0.4341597\tbest: 0.4226063 (246)\n",
      "754:\tlearn: 0.1708930\ttest: 0.4342063\tbest: 0.4226063 (246)\n",
      "755:\tlearn: 0.1707732\ttest: 0.4342627\tbest: 0.4226063 (246)\n",
      "756:\tlearn: 0.1705986\ttest: 0.4342446\tbest: 0.4226063 (246)\n",
      "757:\tlearn: 0.1704646\ttest: 0.4343001\tbest: 0.4226063 (246)\n",
      "758:\tlearn: 0.1703030\ttest: 0.4342633\tbest: 0.4226063 (246)\n",
      "759:\tlearn: 0.1701339\ttest: 0.4343728\tbest: 0.4226063 (246)\n",
      "760:\tlearn: 0.1700284\ttest: 0.4345163\tbest: 0.4226063 (246)\n",
      "761:\tlearn: 0.1699311\ttest: 0.4344326\tbest: 0.4226063 (246)\n",
      "762:\tlearn: 0.1697620\ttest: 0.4344905\tbest: 0.4226063 (246)\n",
      "763:\tlearn: 0.1695709\ttest: 0.4345017\tbest: 0.4226063 (246)\n",
      "764:\tlearn: 0.1693172\ttest: 0.4346513\tbest: 0.4226063 (246)\n",
      "765:\tlearn: 0.1690693\ttest: 0.4346297\tbest: 0.4226063 (246)\ttotal: 3m 18s\tremaining: 1m\n",
      "766:\tlearn: 0.1688824\ttest: 0.4345401\tbest: 0.4226063 (246)\n",
      "767:\tlearn: 0.1687385\ttest: 0.4345599\tbest: 0.4226063 (246)\n",
      "768:\tlearn: 0.1685250\ttest: 0.4345774\tbest: 0.4226063 (246)\n",
      "769:\tlearn: 0.1684576\ttest: 0.4346231\tbest: 0.4226063 (246)\n",
      "770:\tlearn: 0.1682905\ttest: 0.4345127\tbest: 0.4226063 (246)\n",
      "771:\tlearn: 0.1680973\ttest: 0.4344586\tbest: 0.4226063 (246)\n",
      "772:\tlearn: 0.1679298\ttest: 0.4346223\tbest: 0.4226063 (246)\n",
      "773:\tlearn: 0.1677375\ttest: 0.4345493\tbest: 0.4226063 (246)\n",
      "774:\tlearn: 0.1676254\ttest: 0.4345408\tbest: 0.4226063 (246)\n",
      "775:\tlearn: 0.1675097\ttest: 0.4345387\tbest: 0.4226063 (246)\n",
      "776:\tlearn: 0.1674007\ttest: 0.4345149\tbest: 0.4226063 (246)\n",
      "777:\tlearn: 0.1672604\ttest: 0.4344627\tbest: 0.4226063 (246)\n",
      "778:\tlearn: 0.1670882\ttest: 0.4345331\tbest: 0.4226063 (246)\n",
      "779:\tlearn: 0.1669541\ttest: 0.4345483\tbest: 0.4226063 (246)\n",
      "780:\tlearn: 0.1667311\ttest: 0.4347087\tbest: 0.4226063 (246)\n",
      "781:\tlearn: 0.1665722\ttest: 0.4347579\tbest: 0.4226063 (246)\n",
      "782:\tlearn: 0.1663701\ttest: 0.4350186\tbest: 0.4226063 (246)\n",
      "783:\tlearn: 0.1662681\ttest: 0.4350157\tbest: 0.4226063 (246)\n",
      "784:\tlearn: 0.1661308\ttest: 0.4350131\tbest: 0.4226063 (246)\n",
      "785:\tlearn: 0.1659430\ttest: 0.4349790\tbest: 0.4226063 (246)\n",
      "786:\tlearn: 0.1658037\ttest: 0.4350148\tbest: 0.4226063 (246)\ttotal: 3m 24s\tremaining: 55.4s\n",
      "787:\tlearn: 0.1656496\ttest: 0.4350829\tbest: 0.4226063 (246)\n",
      "788:\tlearn: 0.1655000\ttest: 0.4351057\tbest: 0.4226063 (246)\n",
      "789:\tlearn: 0.1653907\ttest: 0.4351250\tbest: 0.4226063 (246)\n",
      "790:\tlearn: 0.1651831\ttest: 0.4352536\tbest: 0.4226063 (246)\n",
      "791:\tlearn: 0.1650081\ttest: 0.4354797\tbest: 0.4226063 (246)\n",
      "792:\tlearn: 0.1648457\ttest: 0.4356290\tbest: 0.4226063 (246)\n",
      "793:\tlearn: 0.1646996\ttest: 0.4357779\tbest: 0.4226063 (246)\n",
      "794:\tlearn: 0.1645755\ttest: 0.4356740\tbest: 0.4226063 (246)\n",
      "795:\tlearn: 0.1643977\ttest: 0.4356454\tbest: 0.4226063 (246)\n",
      "796:\tlearn: 0.1642509\ttest: 0.4356202\tbest: 0.4226063 (246)\n",
      "797:\tlearn: 0.1640545\ttest: 0.4356672\tbest: 0.4226063 (246)\n",
      "798:\tlearn: 0.1639256\ttest: 0.4357089\tbest: 0.4226063 (246)\n",
      "799:\tlearn: 0.1638178\ttest: 0.4356475\tbest: 0.4226063 (246)\n",
      "800:\tlearn: 0.1636606\ttest: 0.4358044\tbest: 0.4226063 (246)\n",
      "801:\tlearn: 0.1634840\ttest: 0.4356743\tbest: 0.4226063 (246)\n",
      "802:\tlearn: 0.1633386\ttest: 0.4358040\tbest: 0.4226063 (246)\n",
      "803:\tlearn: 0.1632266\ttest: 0.4357603\tbest: 0.4226063 (246)\n",
      "804:\tlearn: 0.1630210\ttest: 0.4357284\tbest: 0.4226063 (246)\n",
      "805:\tlearn: 0.1628032\ttest: 0.4357459\tbest: 0.4226063 (246)\n",
      "806:\tlearn: 0.1626327\ttest: 0.4358522\tbest: 0.4226063 (246)\n",
      "807:\tlearn: 0.1624576\ttest: 0.4359244\tbest: 0.4226063 (246)\n",
      "808:\tlearn: 0.1622971\ttest: 0.4359313\tbest: 0.4226063 (246)\n",
      "809:\tlearn: 0.1621371\ttest: 0.4359539\tbest: 0.4226063 (246)\n",
      "810:\tlearn: 0.1620363\ttest: 0.4358964\tbest: 0.4226063 (246)\ttotal: 3m 31s\tremaining: 49.3s\n",
      "811:\tlearn: 0.1618642\ttest: 0.4357875\tbest: 0.4226063 (246)\n",
      "812:\tlearn: 0.1617028\ttest: 0.4357217\tbest: 0.4226063 (246)\n",
      "813:\tlearn: 0.1615514\ttest: 0.4357761\tbest: 0.4226063 (246)\n",
      "814:\tlearn: 0.1614340\ttest: 0.4358290\tbest: 0.4226063 (246)\n",
      "815:\tlearn: 0.1613226\ttest: 0.4358520\tbest: 0.4226063 (246)\n",
      "816:\tlearn: 0.1611273\ttest: 0.4359554\tbest: 0.4226063 (246)\n",
      "817:\tlearn: 0.1609712\ttest: 0.4359440\tbest: 0.4226063 (246)\n",
      "818:\tlearn: 0.1607942\ttest: 0.4360075\tbest: 0.4226063 (246)\n",
      "819:\tlearn: 0.1606643\ttest: 0.4359870\tbest: 0.4226063 (246)\n",
      "820:\tlearn: 0.1605002\ttest: 0.4359290\tbest: 0.4226063 (246)\n",
      "821:\tlearn: 0.1603482\ttest: 0.4360400\tbest: 0.4226063 (246)\n",
      "822:\tlearn: 0.1601958\ttest: 0.4361372\tbest: 0.4226063 (246)\n",
      "823:\tlearn: 0.1600820\ttest: 0.4360978\tbest: 0.4226063 (246)\n",
      "824:\tlearn: 0.1598903\ttest: 0.4360770\tbest: 0.4226063 (246)\n",
      "825:\tlearn: 0.1597396\ttest: 0.4362114\tbest: 0.4226063 (246)\n",
      "826:\tlearn: 0.1595728\ttest: 0.4363727\tbest: 0.4226063 (246)\n",
      "827:\tlearn: 0.1593792\ttest: 0.4364858\tbest: 0.4226063 (246)\n",
      "828:\tlearn: 0.1592020\ttest: 0.4366798\tbest: 0.4226063 (246)\n",
      "829:\tlearn: 0.1590479\ttest: 0.4366759\tbest: 0.4226063 (246)\n",
      "830:\tlearn: 0.1589089\ttest: 0.4367804\tbest: 0.4226063 (246)\n",
      "831:\tlearn: 0.1587791\ttest: 0.4367546\tbest: 0.4226063 (246)\n",
      "832:\tlearn: 0.1586564\ttest: 0.4366858\tbest: 0.4226063 (246)\n",
      "833:\tlearn: 0.1584947\ttest: 0.4367432\tbest: 0.4226063 (246)\n",
      "834:\tlearn: 0.1583317\ttest: 0.4367462\tbest: 0.4226063 (246)\n",
      "835:\tlearn: 0.1582214\ttest: 0.4368080\tbest: 0.4226063 (246)\n",
      "836:\tlearn: 0.1580290\ttest: 0.4367449\tbest: 0.4226063 (246)\ttotal: 3m 38s\tremaining: 42.6s\n",
      "837:\tlearn: 0.1578167\ttest: 0.4369451\tbest: 0.4226063 (246)\n",
      "838:\tlearn: 0.1576338\ttest: 0.4369145\tbest: 0.4226063 (246)\n",
      "839:\tlearn: 0.1575436\ttest: 0.4370004\tbest: 0.4226063 (246)\n",
      "840:\tlearn: 0.1573433\ttest: 0.4371658\tbest: 0.4226063 (246)\n",
      "841:\tlearn: 0.1572583\ttest: 0.4370422\tbest: 0.4226063 (246)\n",
      "842:\tlearn: 0.1570999\ttest: 0.4371446\tbest: 0.4226063 (246)\n",
      "843:\tlearn: 0.1570124\ttest: 0.4371968\tbest: 0.4226063 (246)\n",
      "844:\tlearn: 0.1568856\ttest: 0.4372111\tbest: 0.4226063 (246)\n",
      "845:\tlearn: 0.1567306\ttest: 0.4373408\tbest: 0.4226063 (246)\n",
      "846:\tlearn: 0.1565221\ttest: 0.4374682\tbest: 0.4226063 (246)\n",
      "847:\tlearn: 0.1563848\ttest: 0.4375310\tbest: 0.4226063 (246)\n",
      "848:\tlearn: 0.1562482\ttest: 0.4376849\tbest: 0.4226063 (246)\n",
      "849:\tlearn: 0.1560763\ttest: 0.4376807\tbest: 0.4226063 (246)\n",
      "850:\tlearn: 0.1559126\ttest: 0.4375096\tbest: 0.4226063 (246)\n",
      "851:\tlearn: 0.1557980\ttest: 0.4375567\tbest: 0.4226063 (246)\n",
      "852:\tlearn: 0.1556608\ttest: 0.4377032\tbest: 0.4226063 (246)\n",
      "853:\tlearn: 0.1555378\ttest: 0.4377245\tbest: 0.4226063 (246)\n",
      "854:\tlearn: 0.1553685\ttest: 0.4377983\tbest: 0.4226063 (246)\n",
      "855:\tlearn: 0.1552229\ttest: 0.4378125\tbest: 0.4226063 (246)\n",
      "856:\tlearn: 0.1550587\ttest: 0.4379932\tbest: 0.4226063 (246)\n",
      "857:\tlearn: 0.1549233\ttest: 0.4380877\tbest: 0.4226063 (246)\n",
      "858:\tlearn: 0.1547985\ttest: 0.4381803\tbest: 0.4226063 (246)\n",
      "859:\tlearn: 0.1546794\ttest: 0.4382446\tbest: 0.4226063 (246)\ttotal: 3m 44s\tremaining: 36.6s\n"
     ]
    },
    {
     "name": "stdout",
     "output_type": "stream",
     "text": [
      "860:\tlearn: 0.1544858\ttest: 0.4381643\tbest: 0.4226063 (246)\n",
      "861:\tlearn: 0.1543147\ttest: 0.4381437\tbest: 0.4226063 (246)\n",
      "862:\tlearn: 0.1541637\ttest: 0.4381211\tbest: 0.4226063 (246)\n",
      "863:\tlearn: 0.1540111\ttest: 0.4382182\tbest: 0.4226063 (246)\n",
      "864:\tlearn: 0.1539069\ttest: 0.4383012\tbest: 0.4226063 (246)\n",
      "865:\tlearn: 0.1537823\ttest: 0.4384139\tbest: 0.4226063 (246)\n",
      "866:\tlearn: 0.1536404\ttest: 0.4384234\tbest: 0.4226063 (246)\n",
      "867:\tlearn: 0.1534620\ttest: 0.4383928\tbest: 0.4226063 (246)\n",
      "868:\tlearn: 0.1533354\ttest: 0.4383495\tbest: 0.4226063 (246)\n",
      "869:\tlearn: 0.1532295\ttest: 0.4382602\tbest: 0.4226063 (246)\n",
      "870:\tlearn: 0.1531165\ttest: 0.4382420\tbest: 0.4226063 (246)\n",
      "871:\tlearn: 0.1530304\ttest: 0.4383334\tbest: 0.4226063 (246)\n",
      "872:\tlearn: 0.1528939\ttest: 0.4383025\tbest: 0.4226063 (246)\n",
      "873:\tlearn: 0.1527520\ttest: 0.4383424\tbest: 0.4226063 (246)\n",
      "874:\tlearn: 0.1526596\ttest: 0.4384030\tbest: 0.4226063 (246)\n",
      "875:\tlearn: 0.1525120\ttest: 0.4385340\tbest: 0.4226063 (246)\n",
      "876:\tlearn: 0.1523642\ttest: 0.4384669\tbest: 0.4226063 (246)\n",
      "877:\tlearn: 0.1521842\ttest: 0.4385826\tbest: 0.4226063 (246)\n",
      "878:\tlearn: 0.1520226\ttest: 0.4386000\tbest: 0.4226063 (246)\n",
      "879:\tlearn: 0.1518949\ttest: 0.4386094\tbest: 0.4226063 (246)\n",
      "880:\tlearn: 0.1517422\ttest: 0.4386770\tbest: 0.4226063 (246)\n",
      "881:\tlearn: 0.1515615\ttest: 0.4387803\tbest: 0.4226063 (246)\n",
      "882:\tlearn: 0.1514111\ttest: 0.4388357\tbest: 0.4226063 (246)\n",
      "883:\tlearn: 0.1512694\ttest: 0.4388703\tbest: 0.4226063 (246)\n",
      "884:\tlearn: 0.1511552\ttest: 0.4389191\tbest: 0.4226063 (246)\n",
      "885:\tlearn: 0.1510400\ttest: 0.4390655\tbest: 0.4226063 (246)\ttotal: 3m 52s\tremaining: 29.9s\n",
      "886:\tlearn: 0.1508959\ttest: 0.4389602\tbest: 0.4226063 (246)\n",
      "887:\tlearn: 0.1507414\ttest: 0.4389778\tbest: 0.4226063 (246)\n",
      "888:\tlearn: 0.1505949\ttest: 0.4388485\tbest: 0.4226063 (246)\n",
      "889:\tlearn: 0.1503997\ttest: 0.4387030\tbest: 0.4226063 (246)\n",
      "890:\tlearn: 0.1502247\ttest: 0.4387013\tbest: 0.4226063 (246)\n",
      "891:\tlearn: 0.1500589\ttest: 0.4386319\tbest: 0.4226063 (246)\n",
      "892:\tlearn: 0.1499348\ttest: 0.4386694\tbest: 0.4226063 (246)\n",
      "893:\tlearn: 0.1498363\ttest: 0.4388153\tbest: 0.4226063 (246)\n",
      "894:\tlearn: 0.1496453\ttest: 0.4389665\tbest: 0.4226063 (246)\n",
      "895:\tlearn: 0.1495259\ttest: 0.4389008\tbest: 0.4226063 (246)\n",
      "896:\tlearn: 0.1494145\ttest: 0.4389758\tbest: 0.4226063 (246)\n",
      "897:\tlearn: 0.1492921\ttest: 0.4390296\tbest: 0.4226063 (246)\n",
      "898:\tlearn: 0.1491362\ttest: 0.4390950\tbest: 0.4226063 (246)\n",
      "899:\tlearn: 0.1489603\ttest: 0.4390723\tbest: 0.4226063 (246)\n",
      "900:\tlearn: 0.1488206\ttest: 0.4391074\tbest: 0.4226063 (246)\n",
      "901:\tlearn: 0.1486729\ttest: 0.4389346\tbest: 0.4226063 (246)\n",
      "902:\tlearn: 0.1486055\ttest: 0.4390013\tbest: 0.4226063 (246)\n",
      "903:\tlearn: 0.1484771\ttest: 0.4391497\tbest: 0.4226063 (246)\n",
      "904:\tlearn: 0.1483420\ttest: 0.4392318\tbest: 0.4226063 (246)\n",
      "905:\tlearn: 0.1482305\ttest: 0.4392633\tbest: 0.4226063 (246)\n",
      "906:\tlearn: 0.1480816\ttest: 0.4393783\tbest: 0.4226063 (246)\n",
      "907:\tlearn: 0.1479709\ttest: 0.4393791\tbest: 0.4226063 (246)\n",
      "908:\tlearn: 0.1478030\ttest: 0.4395692\tbest: 0.4226063 (246)\n",
      "909:\tlearn: 0.1476330\ttest: 0.4396524\tbest: 0.4226063 (246)\n",
      "910:\tlearn: 0.1475218\ttest: 0.4396718\tbest: 0.4226063 (246)\n",
      "911:\tlearn: 0.1473920\ttest: 0.4397957\tbest: 0.4226063 (246)\ttotal: 3m 59s\tremaining: 23.1s\n",
      "912:\tlearn: 0.1472782\ttest: 0.4397085\tbest: 0.4226063 (246)\n",
      "913:\tlearn: 0.1471615\ttest: 0.4396730\tbest: 0.4226063 (246)\n",
      "914:\tlearn: 0.1470021\ttest: 0.4396575\tbest: 0.4226063 (246)\n",
      "915:\tlearn: 0.1468421\ttest: 0.4396467\tbest: 0.4226063 (246)\n",
      "916:\tlearn: 0.1467145\ttest: 0.4394831\tbest: 0.4226063 (246)\n",
      "917:\tlearn: 0.1465845\ttest: 0.4395166\tbest: 0.4226063 (246)\n",
      "918:\tlearn: 0.1464302\ttest: 0.4395376\tbest: 0.4226063 (246)\n",
      "919:\tlearn: 0.1462495\ttest: 0.4394152\tbest: 0.4226063 (246)\n",
      "920:\tlearn: 0.1461258\ttest: 0.4393243\tbest: 0.4226063 (246)\n",
      "921:\tlearn: 0.1459829\ttest: 0.4393273\tbest: 0.4226063 (246)\n",
      "922:\tlearn: 0.1458867\ttest: 0.4395007\tbest: 0.4226063 (246)\n",
      "923:\tlearn: 0.1457741\ttest: 0.4395579\tbest: 0.4226063 (246)\n",
      "924:\tlearn: 0.1456311\ttest: 0.4393812\tbest: 0.4226063 (246)\n",
      "925:\tlearn: 0.1455424\ttest: 0.4395420\tbest: 0.4226063 (246)\n",
      "926:\tlearn: 0.1454236\ttest: 0.4395672\tbest: 0.4226063 (246)\n",
      "927:\tlearn: 0.1453322\ttest: 0.4396162\tbest: 0.4226063 (246)\n",
      "928:\tlearn: 0.1452216\ttest: 0.4397518\tbest: 0.4226063 (246)\n",
      "929:\tlearn: 0.1450897\ttest: 0.4398138\tbest: 0.4226063 (246)\n",
      "930:\tlearn: 0.1449559\ttest: 0.4398149\tbest: 0.4226063 (246)\n",
      "931:\tlearn: 0.1448438\ttest: 0.4398378\tbest: 0.4226063 (246)\n",
      "932:\tlearn: 0.1447363\ttest: 0.4400075\tbest: 0.4226063 (246)\n",
      "933:\tlearn: 0.1446232\ttest: 0.4400507\tbest: 0.4226063 (246)\n",
      "934:\tlearn: 0.1445097\ttest: 0.4400952\tbest: 0.4226063 (246)\n",
      "935:\tlearn: 0.1443765\ttest: 0.4399987\tbest: 0.4226063 (246)\n",
      "936:\tlearn: 0.1442565\ttest: 0.4399795\tbest: 0.4226063 (246)\n",
      "937:\tlearn: 0.1440623\ttest: 0.4399861\tbest: 0.4226063 (246)\ttotal: 4m 8s\tremaining: 16.4s\n",
      "938:\tlearn: 0.1439477\ttest: 0.4400667\tbest: 0.4226063 (246)\n",
      "939:\tlearn: 0.1438444\ttest: 0.4400346\tbest: 0.4226063 (246)\n",
      "940:\tlearn: 0.1436719\ttest: 0.4401477\tbest: 0.4226063 (246)\n",
      "941:\tlearn: 0.1435296\ttest: 0.4402789\tbest: 0.4226063 (246)\n",
      "942:\tlearn: 0.1433887\ttest: 0.4403864\tbest: 0.4226063 (246)\n",
      "943:\tlearn: 0.1432612\ttest: 0.4403566\tbest: 0.4226063 (246)\n",
      "944:\tlearn: 0.1430993\ttest: 0.4403728\tbest: 0.4226063 (246)\n",
      "945:\tlearn: 0.1429878\ttest: 0.4404028\tbest: 0.4226063 (246)\n",
      "946:\tlearn: 0.1428290\ttest: 0.4405228\tbest: 0.4226063 (246)\n",
      "947:\tlearn: 0.1427361\ttest: 0.4405802\tbest: 0.4226063 (246)\n",
      "948:\tlearn: 0.1426245\ttest: 0.4405999\tbest: 0.4226063 (246)\n",
      "949:\tlearn: 0.1424645\ttest: 0.4406543\tbest: 0.4226063 (246)\n",
      "950:\tlearn: 0.1423257\ttest: 0.4405037\tbest: 0.4226063 (246)\n",
      "951:\tlearn: 0.1421977\ttest: 0.4405188\tbest: 0.4226063 (246)\n",
      "952:\tlearn: 0.1420913\ttest: 0.4405886\tbest: 0.4226063 (246)\n",
      "953:\tlearn: 0.1419703\ttest: 0.4407074\tbest: 0.4226063 (246)\n",
      "954:\tlearn: 0.1418193\ttest: 0.4407437\tbest: 0.4226063 (246)\n",
      "955:\tlearn: 0.1417142\ttest: 0.4408273\tbest: 0.4226063 (246)\n",
      "956:\tlearn: 0.1416231\ttest: 0.4407703\tbest: 0.4226063 (246)\n",
      "957:\tlearn: 0.1414653\ttest: 0.4409465\tbest: 0.4226063 (246)\n",
      "958:\tlearn: 0.1413643\ttest: 0.4408735\tbest: 0.4226063 (246)\n",
      "959:\tlearn: 0.1411889\ttest: 0.4410292\tbest: 0.4226063 (246)\n",
      "960:\tlearn: 0.1410852\ttest: 0.4410832\tbest: 0.4226063 (246)\n",
      "961:\tlearn: 0.1409854\ttest: 0.4410674\tbest: 0.4226063 (246)\n",
      "962:\tlearn: 0.1409012\ttest: 0.4411312\tbest: 0.4226063 (246)\ttotal: 4m 15s\tremaining: 9.81s\n",
      "963:\tlearn: 0.1407923\ttest: 0.4411464\tbest: 0.4226063 (246)\n",
      "964:\tlearn: 0.1406854\ttest: 0.4412299\tbest: 0.4226063 (246)\n",
      "965:\tlearn: 0.1405726\ttest: 0.4411901\tbest: 0.4226063 (246)\n",
      "966:\tlearn: 0.1404791\ttest: 0.4412053\tbest: 0.4226063 (246)\n",
      "967:\tlearn: 0.1403709\ttest: 0.4412645\tbest: 0.4226063 (246)\n",
      "968:\tlearn: 0.1402132\ttest: 0.4411654\tbest: 0.4226063 (246)\n",
      "969:\tlearn: 0.1401203\ttest: 0.4411908\tbest: 0.4226063 (246)\n",
      "970:\tlearn: 0.1399906\ttest: 0.4412814\tbest: 0.4226063 (246)\n",
      "971:\tlearn: 0.1398575\ttest: 0.4414386\tbest: 0.4226063 (246)\n",
      "972:\tlearn: 0.1397388\ttest: 0.4415785\tbest: 0.4226063 (246)\n",
      "973:\tlearn: 0.1395965\ttest: 0.4415489\tbest: 0.4226063 (246)\n",
      "974:\tlearn: 0.1395077\ttest: 0.4415173\tbest: 0.4226063 (246)\n",
      "975:\tlearn: 0.1394520\ttest: 0.4415235\tbest: 0.4226063 (246)\n",
      "976:\tlearn: 0.1393085\ttest: 0.4414972\tbest: 0.4226063 (246)\n",
      "977:\tlearn: 0.1391428\ttest: 0.4415212\tbest: 0.4226063 (246)\n",
      "978:\tlearn: 0.1390001\ttest: 0.4416720\tbest: 0.4226063 (246)\n",
      "979:\tlearn: 0.1388623\ttest: 0.4418420\tbest: 0.4226063 (246)\n",
      "980:\tlearn: 0.1387686\ttest: 0.4418022\tbest: 0.4226063 (246)\n",
      "981:\tlearn: 0.1385926\ttest: 0.4418593\tbest: 0.4226063 (246)\n",
      "982:\tlearn: 0.1385090\ttest: 0.4418723\tbest: 0.4226063 (246)\n",
      "983:\tlearn: 0.1384109\ttest: 0.4418211\tbest: 0.4226063 (246)\n",
      "984:\tlearn: 0.1383135\ttest: 0.4418344\tbest: 0.4226063 (246)\n",
      "985:\tlearn: 0.1381525\ttest: 0.4418154\tbest: 0.4226063 (246)\ttotal: 4m 21s\tremaining: 3.72s\n",
      "986:\tlearn: 0.1380652\ttest: 0.4419235\tbest: 0.4226063 (246)\n",
      "987:\tlearn: 0.1379269\ttest: 0.4421098\tbest: 0.4226063 (246)\n",
      "988:\tlearn: 0.1378116\ttest: 0.4420898\tbest: 0.4226063 (246)\n",
      "989:\tlearn: 0.1376806\ttest: 0.4420788\tbest: 0.4226063 (246)\n",
      "990:\tlearn: 0.1375753\ttest: 0.4420088\tbest: 0.4226063 (246)\n",
      "991:\tlearn: 0.1374721\ttest: 0.4420508\tbest: 0.4226063 (246)\n",
      "992:\tlearn: 0.1373255\ttest: 0.4421123\tbest: 0.4226063 (246)\n",
      "993:\tlearn: 0.1371834\ttest: 0.4421113\tbest: 0.4226063 (246)\n",
      "994:\tlearn: 0.1370893\ttest: 0.4422562\tbest: 0.4226063 (246)\n",
      "995:\tlearn: 0.1369734\ttest: 0.4422884\tbest: 0.4226063 (246)\n",
      "996:\tlearn: 0.1368539\ttest: 0.4424158\tbest: 0.4226063 (246)\n",
      "997:\tlearn: 0.1367568\ttest: 0.4425183\tbest: 0.4226063 (246)\n",
      "998:\tlearn: 0.1366793\ttest: 0.4425138\tbest: 0.4226063 (246)\n",
      "999:\tlearn: 0.1365608\ttest: 0.4425002\tbest: 0.4226063 (246)\ttotal: 4m 26s\tremaining: 0us\n"
     ]
    }
   ],
   "source": [
    "# How long will this take?\n",
    "start_time = time.time()\n",
    "\n",
    "# Set params for cross-validation as same as initial model\n",
    "cv_params = catboost_model.get_params()\n",
    "\n",
    "# Run the cross-validation for 10-folds (same as the other models)\n",
    "cv_data = cv(train_pool,\n",
    "             cv_params,\n",
    "             fold_count=10,\n",
    "             plot=True)\n",
    "\n",
    "# How long did it take?\n",
    "catboost_time = (time.time() - start_time)\n",
    "\n",
    "# CatBoost CV results save into a dataframe (cv_data), let's withdraw the maximum accuracy score\n",
    "acc_cv_catboost = round(np.max(cv_data['test-Accuracy-mean']) * 100, 2)"
   ]
  },
  {
   "cell_type": "code",
   "execution_count": 109,
   "metadata": {},
   "outputs": [
    {
     "name": "stdout",
     "output_type": "stream",
     "text": [
      "---CatBoost Metrics---\n",
      "Accuracy: 89.43\n",
      "Accuracy cross-validation 10-Fold: 81.66\n",
      "Running Time: 0:04:27.581427\n"
     ]
    }
   ],
   "source": [
    "# Print out the CatBoost model metrics\n",
    "print(\"---CatBoost Metrics---\")\n",
    "print(\"Accuracy: {}\".format(acc_catboost))\n",
    "print(\"Accuracy cross-validation 10-Fold: {}\".format(acc_cv_catboost))\n",
    "print(\"Running Time: {}\".format(datetime.timedelta(seconds=catboost_time)))"
   ]
  },
  {
   "cell_type": "markdown",
   "metadata": {},
   "source": [
    "## Model Results\n",
    "Which model had the best cross-validation accuracy?\n",
    "\n",
    "**Note:** We care most about cross-validation metrics because the metrics we get from `.fit()` can randomly score higher than usual."
   ]
  },
  {
   "cell_type": "markdown",
   "metadata": {},
   "source": [
    "### Regular accuracy scores"
   ]
  },
  {
   "cell_type": "code",
   "execution_count": 110,
   "metadata": {},
   "outputs": [
    {
     "name": "stdout",
     "output_type": "stream",
     "text": [
      "---Reuglar Accuracy Scores---\n"
     ]
    },
    {
     "data": {
      "text/html": [
       "<div>\n",
       "<style scoped>\n",
       "    .dataframe tbody tr th:only-of-type {\n",
       "        vertical-align: middle;\n",
       "    }\n",
       "\n",
       "    .dataframe tbody tr th {\n",
       "        vertical-align: top;\n",
       "    }\n",
       "\n",
       "    .dataframe thead th {\n",
       "        text-align: right;\n",
       "    }\n",
       "</style>\n",
       "<table border=\"1\" class=\"dataframe\">\n",
       "  <thead>\n",
       "    <tr style=\"text-align: right;\">\n",
       "      <th></th>\n",
       "      <th>Model</th>\n",
       "      <th>Score</th>\n",
       "    </tr>\n",
       "  </thead>\n",
       "  <tbody>\n",
       "    <tr>\n",
       "      <th>5</th>\n",
       "      <td>Decision Tree</td>\n",
       "      <td>98.20</td>\n",
       "    </tr>\n",
       "    <tr>\n",
       "      <th>6</th>\n",
       "      <td>Gradient Boosting Trees</td>\n",
       "      <td>89.54</td>\n",
       "    </tr>\n",
       "    <tr>\n",
       "      <th>7</th>\n",
       "      <td>CatBoost</td>\n",
       "      <td>89.43</td>\n",
       "    </tr>\n",
       "    <tr>\n",
       "      <th>1</th>\n",
       "      <td>Logistic Regression</td>\n",
       "      <td>79.98</td>\n",
       "    </tr>\n",
       "    <tr>\n",
       "      <th>0</th>\n",
       "      <td>KNN</td>\n",
       "      <td>78.63</td>\n",
       "    </tr>\n",
       "    <tr>\n",
       "      <th>2</th>\n",
       "      <td>Naive Bayes</td>\n",
       "      <td>77.28</td>\n",
       "    </tr>\n",
       "    <tr>\n",
       "      <th>4</th>\n",
       "      <td>Linear SVC</td>\n",
       "      <td>75.48</td>\n",
       "    </tr>\n",
       "    <tr>\n",
       "      <th>3</th>\n",
       "      <td>Stochastic Gradient Decent</td>\n",
       "      <td>66.70</td>\n",
       "    </tr>\n",
       "  </tbody>\n",
       "</table>\n",
       "</div>"
      ],
      "text/plain": [
       "                        Model  Score\n",
       "5               Decision Tree  98.20\n",
       "6     Gradient Boosting Trees  89.54\n",
       "7                    CatBoost  89.43\n",
       "1         Logistic Regression  79.98\n",
       "0                         KNN  78.63\n",
       "2                 Naive Bayes  77.28\n",
       "4                  Linear SVC  75.48\n",
       "3  Stochastic Gradient Decent  66.70"
      ]
     },
     "execution_count": 110,
     "metadata": {},
     "output_type": "execute_result"
    }
   ],
   "source": [
    "models = pd.DataFrame({\n",
    "    'Model': ['KNN', 'Logistic Regression', 'Naive Bayes', \n",
    "              'Stochastic Gradient Decent', 'Linear SVC', \n",
    "              'Decision Tree', 'Gradient Boosting Trees',\n",
    "              'CatBoost'],\n",
    "    'Score': [\n",
    "        acc_knn, \n",
    "        acc_log,  \n",
    "        acc_gaussian, \n",
    "        acc_sgd, \n",
    "        acc_linear_svc, \n",
    "        acc_dt,\n",
    "        acc_gbt,\n",
    "        acc_catboost\n",
    "    ]})\n",
    "print(\"---Reuglar Accuracy Scores---\")\n",
    "models.sort_values(by='Score', ascending=False)"
   ]
  },
  {
   "cell_type": "code",
   "execution_count": 111,
   "metadata": {},
   "outputs": [
    {
     "name": "stdout",
     "output_type": "stream",
     "text": [
      "---Cross-validation Accuracy Scores---\n"
     ]
    },
    {
     "data": {
      "text/html": [
       "<div>\n",
       "<style scoped>\n",
       "    .dataframe tbody tr th:only-of-type {\n",
       "        vertical-align: middle;\n",
       "    }\n",
       "\n",
       "    .dataframe tbody tr th {\n",
       "        vertical-align: top;\n",
       "    }\n",
       "\n",
       "    .dataframe thead th {\n",
       "        text-align: right;\n",
       "    }\n",
       "</style>\n",
       "<table border=\"1\" class=\"dataframe\">\n",
       "  <thead>\n",
       "    <tr style=\"text-align: right;\">\n",
       "      <th></th>\n",
       "      <th>Model</th>\n",
       "      <th>Score</th>\n",
       "    </tr>\n",
       "  </thead>\n",
       "  <tbody>\n",
       "    <tr>\n",
       "      <th>6</th>\n",
       "      <td>Gradient Boosting Trees</td>\n",
       "      <td>83.01</td>\n",
       "    </tr>\n",
       "    <tr>\n",
       "      <th>7</th>\n",
       "      <td>CatBoost</td>\n",
       "      <td>81.66</td>\n",
       "    </tr>\n",
       "    <tr>\n",
       "      <th>1</th>\n",
       "      <td>Logistic Regression</td>\n",
       "      <td>79.19</td>\n",
       "    </tr>\n",
       "    <tr>\n",
       "      <th>5</th>\n",
       "      <td>Decision Tree</td>\n",
       "      <td>77.62</td>\n",
       "    </tr>\n",
       "    <tr>\n",
       "      <th>2</th>\n",
       "      <td>Naive Bayes</td>\n",
       "      <td>76.72</td>\n",
       "    </tr>\n",
       "    <tr>\n",
       "      <th>0</th>\n",
       "      <td>KNN</td>\n",
       "      <td>69.63</td>\n",
       "    </tr>\n",
       "    <tr>\n",
       "      <th>4</th>\n",
       "      <td>Linear SVC</td>\n",
       "      <td>68.62</td>\n",
       "    </tr>\n",
       "    <tr>\n",
       "      <th>3</th>\n",
       "      <td>Stochastic Gradient Decent</td>\n",
       "      <td>68.28</td>\n",
       "    </tr>\n",
       "  </tbody>\n",
       "</table>\n",
       "</div>"
      ],
      "text/plain": [
       "                        Model  Score\n",
       "6     Gradient Boosting Trees  83.01\n",
       "7                    CatBoost  81.66\n",
       "1         Logistic Regression  79.19\n",
       "5               Decision Tree  77.62\n",
       "2                 Naive Bayes  76.72\n",
       "0                         KNN  69.63\n",
       "4                  Linear SVC  68.62\n",
       "3  Stochastic Gradient Decent  68.28"
      ]
     },
     "execution_count": 111,
     "metadata": {},
     "output_type": "execute_result"
    }
   ],
   "source": [
    "cv_models = pd.DataFrame({\n",
    "    'Model': ['KNN', 'Logistic Regression', 'Naive Bayes', \n",
    "              'Stochastic Gradient Decent', 'Linear SVC', \n",
    "              'Decision Tree', 'Gradient Boosting Trees',\n",
    "              'CatBoost'],\n",
    "    'Score': [\n",
    "        acc_cv_knn, \n",
    "        acc_cv_log,      \n",
    "        acc_cv_gaussian, \n",
    "        acc_cv_sgd, \n",
    "        acc_cv_linear_svc, \n",
    "        acc_cv_dt,\n",
    "        acc_cv_gbt,\n",
    "        acc_cv_catboost\n",
    "    ]})\n",
    "print('---Cross-validation Accuracy Scores---')\n",
    "cv_models.sort_values(by='Score', ascending=False)"
   ]
  },
  {
   "cell_type": "markdown",
   "metadata": {},
   "source": [
    "We can see from the tables, the CatBoost model had the best results. Getting just under 82% is pretty good considering guessing would result in about 50% accuracy (0 or 1).\n",
    "\n",
    "We'll pay more attention to the cross-validation figure.\n",
    "\n",
    "Cross-validation is more robust than just the `.fit()` models as it does multiple passes over the data instead of one.\n",
    "\n",
    "Because the CatBoost model got the best results, we'll use it for the next steps.\n",
    "\n",
    "**Challenge:** How could you improve the CatBoost model?"
   ]
  },
  {
   "cell_type": "markdown",
   "metadata": {},
   "source": [
    "## Feature Importance\n",
    "Which features of the best model were most important for making predictions?"
   ]
  },
  {
   "cell_type": "code",
   "execution_count": 112,
   "metadata": {},
   "outputs": [],
   "source": [
    "# Feature Importance\n",
    "def feature_importance(model, data):\n",
    "    \"\"\"\n",
    "    Function to show which features are most important in the model.\n",
    "    ::param_model:: Which model to use?\n",
    "    ::param_data:: What data to use?\n",
    "    \"\"\"\n",
    "    fea_imp = pd.DataFrame({'imp': model.feature_importances_, 'col': data.columns})\n",
    "    fea_imp = fea_imp.sort_values(['imp', 'col'], ascending=[True, False]).iloc[-30:]\n",
    "    _ = fea_imp.plot(kind='barh', x='col', y='imp', figsize=(20, 10))\n",
    "    return fea_imp\n",
    "    #plt.savefig('catboost_feature_importance.png') "
   ]
  },
  {
   "cell_type": "code",
   "execution_count": 113,
   "metadata": {},
   "outputs": [
    {
     "data": {
      "text/html": [
       "<div>\n",
       "<style scoped>\n",
       "    .dataframe tbody tr th:only-of-type {\n",
       "        vertical-align: middle;\n",
       "    }\n",
       "\n",
       "    .dataframe tbody tr th {\n",
       "        vertical-align: top;\n",
       "    }\n",
       "\n",
       "    .dataframe thead th {\n",
       "        text-align: right;\n",
       "    }\n",
       "</style>\n",
       "<table border=\"1\" class=\"dataframe\">\n",
       "  <thead>\n",
       "    <tr style=\"text-align: right;\">\n",
       "      <th></th>\n",
       "      <th>imp</th>\n",
       "      <th>col</th>\n",
       "    </tr>\n",
       "  </thead>\n",
       "  <tbody>\n",
       "    <tr>\n",
       "      <th>3</th>\n",
       "      <td>9.278278</td>\n",
       "      <td>SibSp</td>\n",
       "    </tr>\n",
       "    <tr>\n",
       "      <th>6</th>\n",
       "      <td>9.935787</td>\n",
       "      <td>Embarked</td>\n",
       "    </tr>\n",
       "    <tr>\n",
       "      <th>4</th>\n",
       "      <td>12.284400</td>\n",
       "      <td>Parch</td>\n",
       "    </tr>\n",
       "    <tr>\n",
       "      <th>5</th>\n",
       "      <td>13.635463</td>\n",
       "      <td>Fare</td>\n",
       "    </tr>\n",
       "    <tr>\n",
       "      <th>2</th>\n",
       "      <td>14.660274</td>\n",
       "      <td>Age</td>\n",
       "    </tr>\n",
       "    <tr>\n",
       "      <th>0</th>\n",
       "      <td>18.600437</td>\n",
       "      <td>Pclass</td>\n",
       "    </tr>\n",
       "    <tr>\n",
       "      <th>1</th>\n",
       "      <td>21.605360</td>\n",
       "      <td>Sex</td>\n",
       "    </tr>\n",
       "  </tbody>\n",
       "</table>\n",
       "</div>"
      ],
      "text/plain": [
       "         imp       col\n",
       "3   9.278278     SibSp\n",
       "6   9.935787  Embarked\n",
       "4  12.284400     Parch\n",
       "5  13.635463      Fare\n",
       "2  14.660274       Age\n",
       "0  18.600437    Pclass\n",
       "1  21.605360       Sex"
      ]
     },
     "execution_count": 113,
     "metadata": {},
     "output_type": "execute_result"
    },
    {
     "data": {
      "image/png": "[encoded data removed]",
      "text/plain": [
       "<Figure size 1440x720 with 1 Axes>"
      ]
     },
     "metadata": {},
     "output_type": "display_data"
    }
   ],
   "source": [
    "# Plot the feature importance scores\n",
    "feature_importance(catboost_model, X_train)"
   ]
  },
  {
   "cell_type": "markdown",
   "metadata": {},
   "source": [
    "## Precision and Recall\n",
    "\n",
    "Precision and recall are two metrics which are used for cases where you have have an imbalanced classification problem.\n",
    "\n",
    "For example, you may have 100,000 people and only 1 of them gets a certain disease. If your model predicts that all people don't have the disease, it only misses 1 in 100,000 so its accuracy is 99.999%. But this isn't really helpful.\n",
    "\n",
    "This is where precision an recall come in.\n",
    "\n",
    "**Recall** = a metric which measures a models ability to find all the relevant cases in a dataset.\n",
    "\n",
    "Recall would be the models ability to find the 1 person in 100,000 who has the disease.\n",
    "\n",
    "**Precision** = a metric which measures a models ability to correctly identify only relevant instances.\n",
    "\n",
    "In our example, Precision would be if the model found the 1 person who had the disease, did they actually have the disease.\n",
    "\n",
    "Combining the precision and recall, gives an **F1 score.**\n",
    "\n",
    "These metrics will all fall between 0 and 1, with a higher value being better.\n",
    "\n",
    "Although, they don't necessarily need to come into play for our Titantic problem, they're worth remembering for your future work."
   ]
  },
  {
   "cell_type": "code",
   "execution_count": 114,
   "metadata": {},
   "outputs": [
    {
     "data": {
      "application/vnd.jupyter.widget-view+json": {
       "model_id": "b9b961ea30a04aadb7f9e3c11a4f3b76",
       "version_major": 2,
       "version_minor": 0
      },
      "text/plain": [
       "MetricVisualizer(layout=Layout(align_self='stretch', height='500px'))"
      ]
     },
     "metadata": {},
     "output_type": "display_data"
    },
    {
     "name": "stdout",
     "output_type": "stream",
     "text": [
      "Precision: 0.8952062999285215\n",
      "Recall: 0.735614705882353\n",
      "F1: 0.8068634290824425\n",
      "AUC: 0.9187733311903996\n"
     ]
    }
   ],
   "source": [
    "metrics = ['Precision', 'Recall', 'F1', 'AUC']\n",
    "\n",
    "eval_metrics = catboost_model.eval_metrics(train_pool,\n",
    "                                           metrics=metrics,\n",
    "                                           plot=True)\n",
    "\n",
    "for metric in metrics:\n",
    "    print(str(metric)+\": {}\".format(np.mean(eval_metrics[metric])))"
   ]
  },
  {
   "cell_type": "markdown",
   "metadata": {},
   "source": [
    "Recall is low, this means there's a higher amount of false negatives (predicting Did not survive when it was actually Survived).\n",
    "\n",
    "Precision is higher therefore there's less false positives (predicting Survived, when it was actually Did not survive).\n",
    "\n",
    "**Challenge:** What are some ways to visualise precision and recall? \n",
    "*Hint:* You may want to look into what a confusion matrix is, you can find much more information in this blog post: [Beyond Accuracy: Precision and Recall](https://towardsdatascience.com/beyond-accuracy-precision-and-recall-3da06bea9f6c)"
   ]
  },
  {
   "cell_type": "markdown",
   "metadata": {},
   "source": [
    "## Submission\n",
    "Let's use the model with the highest cross-validation accuracy score to make a prediction on the test dataset and then submit our predictions to Kaggle."
   ]
  },
  {
   "cell_type": "markdown",
   "metadata": {},
   "source": [
    "We want to make predictions on the same kind of columnns our model is trained on.\n",
    "\n",
    "So we have to select the subset of right columns of the `test` dateframe, encode them and make a prediciton with our model."
   ]
  },
  {
   "cell_type": "code",
   "execution_count": 115,
   "metadata": {},
   "outputs": [
    {
     "data": {
      "text/html": [
       "<div>\n",
       "<style scoped>\n",
       "    .dataframe tbody tr th:only-of-type {\n",
       "        vertical-align: middle;\n",
       "    }\n",
       "\n",
       "    .dataframe tbody tr th {\n",
       "        vertical-align: top;\n",
       "    }\n",
       "\n",
       "    .dataframe thead th {\n",
       "        text-align: right;\n",
       "    }\n",
       "</style>\n",
       "<table border=\"1\" class=\"dataframe\">\n",
       "  <thead>\n",
       "    <tr style=\"text-align: right;\">\n",
       "      <th></th>\n",
       "      <th>Pclass</th>\n",
       "      <th>Sex</th>\n",
       "      <th>Age</th>\n",
       "      <th>SibSp</th>\n",
       "      <th>Parch</th>\n",
       "      <th>Fare</th>\n",
       "      <th>Embarked</th>\n",
       "    </tr>\n",
       "  </thead>\n",
       "  <tbody>\n",
       "    <tr>\n",
       "      <th>0</th>\n",
       "      <td>2</td>\n",
       "      <td>1</td>\n",
       "      <td>28</td>\n",
       "      <td>1</td>\n",
       "      <td>0</td>\n",
       "      <td>18</td>\n",
       "      <td>2</td>\n",
       "    </tr>\n",
       "    <tr>\n",
       "      <th>1</th>\n",
       "      <td>0</td>\n",
       "      <td>0</td>\n",
       "      <td>51</td>\n",
       "      <td>1</td>\n",
       "      <td>0</td>\n",
       "      <td>207</td>\n",
       "      <td>0</td>\n",
       "    </tr>\n",
       "    <tr>\n",
       "      <th>2</th>\n",
       "      <td>2</td>\n",
       "      <td>0</td>\n",
       "      <td>34</td>\n",
       "      <td>0</td>\n",
       "      <td>0</td>\n",
       "      <td>41</td>\n",
       "      <td>2</td>\n",
       "    </tr>\n",
       "    <tr>\n",
       "      <th>3</th>\n",
       "      <td>0</td>\n",
       "      <td>0</td>\n",
       "      <td>47</td>\n",
       "      <td>1</td>\n",
       "      <td>0</td>\n",
       "      <td>189</td>\n",
       "      <td>2</td>\n",
       "    </tr>\n",
       "    <tr>\n",
       "      <th>4</th>\n",
       "      <td>2</td>\n",
       "      <td>1</td>\n",
       "      <td>47</td>\n",
       "      <td>0</td>\n",
       "      <td>0</td>\n",
       "      <td>43</td>\n",
       "      <td>2</td>\n",
       "    </tr>\n",
       "  </tbody>\n",
       "</table>\n",
       "</div>"
      ],
      "text/plain": [
       "   Pclass  Sex  Age  SibSp  Parch  Fare  Embarked\n",
       "0       2    1   28      1      0    18         2\n",
       "1       0    0   51      1      0   207         0\n",
       "2       2    0   34      0      0    41         2\n",
       "3       0    0   47      1      0   189         2\n",
       "4       2    1   47      0      0    43         2"
      ]
     },
     "execution_count": 115,
     "metadata": {},
     "output_type": "execute_result"
    }
   ],
   "source": [
    "# We need our test dataframe to look like this one\n",
    "X_train.head()"
   ]
  },
  {
   "cell_type": "code",
   "execution_count": 116,
   "metadata": {},
   "outputs": [
    {
     "data": {
      "text/html": [
       "<div>\n",
       "<style scoped>\n",
       "    .dataframe tbody tr th:only-of-type {\n",
       "        vertical-align: middle;\n",
       "    }\n",
       "\n",
       "    .dataframe tbody tr th {\n",
       "        vertical-align: top;\n",
       "    }\n",
       "\n",
       "    .dataframe thead th {\n",
       "        text-align: right;\n",
       "    }\n",
       "</style>\n",
       "<table border=\"1\" class=\"dataframe\">\n",
       "  <thead>\n",
       "    <tr style=\"text-align: right;\">\n",
       "      <th></th>\n",
       "      <th>PassengerId</th>\n",
       "      <th>Pclass</th>\n",
       "      <th>Name</th>\n",
       "      <th>Sex</th>\n",
       "      <th>Age</th>\n",
       "      <th>SibSp</th>\n",
       "      <th>Parch</th>\n",
       "      <th>Ticket</th>\n",
       "      <th>Fare</th>\n",
       "      <th>Cabin</th>\n",
       "      <th>Embarked</th>\n",
       "    </tr>\n",
       "  </thead>\n",
       "  <tbody>\n",
       "    <tr>\n",
       "      <th>0</th>\n",
       "      <td>892</td>\n",
       "      <td>3</td>\n",
       "      <td>Kelly, Mr. James</td>\n",
       "      <td>male</td>\n",
       "      <td>34.5</td>\n",
       "      <td>0</td>\n",
       "      <td>0</td>\n",
       "      <td>330911</td>\n",
       "      <td>7.8292</td>\n",
       "      <td>NaN</td>\n",
       "      <td>Q</td>\n",
       "    </tr>\n",
       "    <tr>\n",
       "      <th>1</th>\n",
       "      <td>893</td>\n",
       "      <td>3</td>\n",
       "      <td>Wilkes, Mrs. James (Ellen Needs)</td>\n",
       "      <td>female</td>\n",
       "      <td>47.0</td>\n",
       "      <td>1</td>\n",
       "      <td>0</td>\n",
       "      <td>363272</td>\n",
       "      <td>7.0000</td>\n",
       "      <td>NaN</td>\n",
       "      <td>S</td>\n",
       "    </tr>\n",
       "    <tr>\n",
       "      <th>2</th>\n",
       "      <td>894</td>\n",
       "      <td>2</td>\n",
       "      <td>Myles, Mr. Thomas Francis</td>\n",
       "      <td>male</td>\n",
       "      <td>62.0</td>\n",
       "      <td>0</td>\n",
       "      <td>0</td>\n",
       "      <td>240276</td>\n",
       "      <td>9.6875</td>\n",
       "      <td>NaN</td>\n",
       "      <td>Q</td>\n",
       "    </tr>\n",
       "    <tr>\n",
       "      <th>3</th>\n",
       "      <td>895</td>\n",
       "      <td>3</td>\n",
       "      <td>Wirz, Mr. Albert</td>\n",
       "      <td>male</td>\n",
       "      <td>27.0</td>\n",
       "      <td>0</td>\n",
       "      <td>0</td>\n",
       "      <td>315154</td>\n",
       "      <td>8.6625</td>\n",
       "      <td>NaN</td>\n",
       "      <td>S</td>\n",
       "    </tr>\n",
       "    <tr>\n",
       "      <th>4</th>\n",
       "      <td>896</td>\n",
       "      <td>3</td>\n",
       "      <td>Hirvonen, Mrs. Alexander (Helga E Lindqvist)</td>\n",
       "      <td>female</td>\n",
       "      <td>22.0</td>\n",
       "      <td>1</td>\n",
       "      <td>1</td>\n",
       "      <td>3101298</td>\n",
       "      <td>12.2875</td>\n",
       "      <td>NaN</td>\n",
       "      <td>S</td>\n",
       "    </tr>\n",
       "  </tbody>\n",
       "</table>\n",
       "</div>"
      ],
      "text/plain": [
       "   PassengerId  Pclass                                          Name     Sex  \\\n",
       "0          892       3                              Kelly, Mr. James    male   \n",
       "1          893       3              Wilkes, Mrs. James (Ellen Needs)  female   \n",
       "2          894       2                     Myles, Mr. Thomas Francis    male   \n",
       "3          895       3                              Wirz, Mr. Albert    male   \n",
       "4          896       3  Hirvonen, Mrs. Alexander (Helga E Lindqvist)  female   \n",
       "\n",
       "    Age  SibSp  Parch   Ticket     Fare Cabin Embarked  \n",
       "0  34.5      0      0   330911   7.8292   NaN        Q  \n",
       "1  47.0      1      0   363272   7.0000   NaN        S  \n",
       "2  62.0      0      0   240276   9.6875   NaN        Q  \n",
       "3  27.0      0      0   315154   8.6625   NaN        S  \n",
       "4  22.0      1      1  3101298  12.2875   NaN        S  "
      ]
     },
     "execution_count": 116,
     "metadata": {},
     "output_type": "execute_result"
    }
   ],
   "source": [
    "# Our test dataframe has some columns our model hasn't been trained on\n",
    "test.head()"
   ]
  },
  {
   "cell_type": "code",
   "execution_count": 117,
   "metadata": {},
   "outputs": [],
   "source": [
    "# One hot encode the columns in the test data frame (like X_train)\n",
    "test_embarked_one_hot = pd.get_dummies(test['Embarked'], \n",
    "                                       prefix='embarked')\n",
    "\n",
    "test_sex_one_hot = pd.get_dummies(test['Sex'], \n",
    "                                prefix='sex')\n",
    "\n",
    "test_plcass_one_hot = pd.get_dummies(test['Pclass'], \n",
    "                                   prefix='pclass')"
   ]
  },
  {
   "cell_type": "code",
   "execution_count": 118,
   "metadata": {},
   "outputs": [],
   "source": [
    "# Combine the test one hot encoded columns with test\n",
    "test = pd.concat([test, \n",
    "                  test_embarked_one_hot, \n",
    "                  test_sex_one_hot, \n",
    "                  test_plcass_one_hot], axis=1)"
   ]
  },
  {
   "cell_type": "code",
   "execution_count": 119,
   "metadata": {},
   "outputs": [
    {
     "data": {
      "text/html": [
       "<div>\n",
       "<style scoped>\n",
       "    .dataframe tbody tr th:only-of-type {\n",
       "        vertical-align: middle;\n",
       "    }\n",
       "\n",
       "    .dataframe tbody tr th {\n",
       "        vertical-align: top;\n",
       "    }\n",
       "\n",
       "    .dataframe thead th {\n",
       "        text-align: right;\n",
       "    }\n",
       "</style>\n",
       "<table border=\"1\" class=\"dataframe\">\n",
       "  <thead>\n",
       "    <tr style=\"text-align: right;\">\n",
       "      <th></th>\n",
       "      <th>PassengerId</th>\n",
       "      <th>Pclass</th>\n",
       "      <th>Name</th>\n",
       "      <th>Sex</th>\n",
       "      <th>Age</th>\n",
       "      <th>SibSp</th>\n",
       "      <th>Parch</th>\n",
       "      <th>Ticket</th>\n",
       "      <th>Fare</th>\n",
       "      <th>Cabin</th>\n",
       "      <th>Embarked</th>\n",
       "      <th>embarked_C</th>\n",
       "      <th>embarked_Q</th>\n",
       "      <th>embarked_S</th>\n",
       "      <th>sex_female</th>\n",
       "      <th>sex_male</th>\n",
       "      <th>pclass_1</th>\n",
       "      <th>pclass_2</th>\n",
       "      <th>pclass_3</th>\n",
       "    </tr>\n",
       "  </thead>\n",
       "  <tbody>\n",
       "    <tr>\n",
       "      <th>0</th>\n",
       "      <td>892</td>\n",
       "      <td>3</td>\n",
       "      <td>Kelly, Mr. James</td>\n",
       "      <td>male</td>\n",
       "      <td>34.5</td>\n",
       "      <td>0</td>\n",
       "      <td>0</td>\n",
       "      <td>330911</td>\n",
       "      <td>7.8292</td>\n",
       "      <td>NaN</td>\n",
       "      <td>Q</td>\n",
       "      <td>0</td>\n",
       "      <td>1</td>\n",
       "      <td>0</td>\n",
       "      <td>0</td>\n",
       "      <td>1</td>\n",
       "      <td>0</td>\n",
       "      <td>0</td>\n",
       "      <td>1</td>\n",
       "    </tr>\n",
       "    <tr>\n",
       "      <th>1</th>\n",
       "      <td>893</td>\n",
       "      <td>3</td>\n",
       "      <td>Wilkes, Mrs. James (Ellen Needs)</td>\n",
       "      <td>female</td>\n",
       "      <td>47.0</td>\n",
       "      <td>1</td>\n",
       "      <td>0</td>\n",
       "      <td>363272</td>\n",
       "      <td>7.0000</td>\n",
       "      <td>NaN</td>\n",
       "      <td>S</td>\n",
       "      <td>0</td>\n",
       "      <td>0</td>\n",
       "      <td>1</td>\n",
       "      <td>1</td>\n",
       "      <td>0</td>\n",
       "      <td>0</td>\n",
       "      <td>0</td>\n",
       "      <td>1</td>\n",
       "    </tr>\n",
       "    <tr>\n",
       "      <th>2</th>\n",
       "      <td>894</td>\n",
       "      <td>2</td>\n",
       "      <td>Myles, Mr. Thomas Francis</td>\n",
       "      <td>male</td>\n",
       "      <td>62.0</td>\n",
       "      <td>0</td>\n",
       "      <td>0</td>\n",
       "      <td>240276</td>\n",
       "      <td>9.6875</td>\n",
       "      <td>NaN</td>\n",
       "      <td>Q</td>\n",
       "      <td>0</td>\n",
       "      <td>1</td>\n",
       "      <td>0</td>\n",
       "      <td>0</td>\n",
       "      <td>1</td>\n",
       "      <td>0</td>\n",
       "      <td>1</td>\n",
       "      <td>0</td>\n",
       "    </tr>\n",
       "    <tr>\n",
       "      <th>3</th>\n",
       "      <td>895</td>\n",
       "      <td>3</td>\n",
       "      <td>Wirz, Mr. Albert</td>\n",
       "      <td>male</td>\n",
       "      <td>27.0</td>\n",
       "      <td>0</td>\n",
       "      <td>0</td>\n",
       "      <td>315154</td>\n",
       "      <td>8.6625</td>\n",
       "      <td>NaN</td>\n",
       "      <td>S</td>\n",
       "      <td>0</td>\n",
       "      <td>0</td>\n",
       "      <td>1</td>\n",
       "      <td>0</td>\n",
       "      <td>1</td>\n",
       "      <td>0</td>\n",
       "      <td>0</td>\n",
       "      <td>1</td>\n",
       "    </tr>\n",
       "    <tr>\n",
       "      <th>4</th>\n",
       "      <td>896</td>\n",
       "      <td>3</td>\n",
       "      <td>Hirvonen, Mrs. Alexander (Helga E Lindqvist)</td>\n",
       "      <td>female</td>\n",
       "      <td>22.0</td>\n",
       "      <td>1</td>\n",
       "      <td>1</td>\n",
       "      <td>3101298</td>\n",
       "      <td>12.2875</td>\n",
       "      <td>NaN</td>\n",
       "      <td>S</td>\n",
       "      <td>0</td>\n",
       "      <td>0</td>\n",
       "      <td>1</td>\n",
       "      <td>1</td>\n",
       "      <td>0</td>\n",
       "      <td>0</td>\n",
       "      <td>0</td>\n",
       "      <td>1</td>\n",
       "    </tr>\n",
       "  </tbody>\n",
       "</table>\n",
       "</div>"
      ],
      "text/plain": [
       "   PassengerId  Pclass                                          Name     Sex  \\\n",
       "0          892       3                              Kelly, Mr. James    male   \n",
       "1          893       3              Wilkes, Mrs. James (Ellen Needs)  female   \n",
       "2          894       2                     Myles, Mr. Thomas Francis    male   \n",
       "3          895       3                              Wirz, Mr. Albert    male   \n",
       "4          896       3  Hirvonen, Mrs. Alexander (Helga E Lindqvist)  female   \n",
       "\n",
       "    Age  SibSp  Parch   Ticket     Fare Cabin Embarked  embarked_C  \\\n",
       "0  34.5      0      0   330911   7.8292   NaN        Q           0   \n",
       "1  47.0      1      0   363272   7.0000   NaN        S           0   \n",
       "2  62.0      0      0   240276   9.6875   NaN        Q           0   \n",
       "3  27.0      0      0   315154   8.6625   NaN        S           0   \n",
       "4  22.0      1      1  3101298  12.2875   NaN        S           0   \n",
       "\n",
       "   embarked_Q  embarked_S  sex_female  sex_male  pclass_1  pclass_2  pclass_3  \n",
       "0           1           0           0         1         0         0         1  \n",
       "1           0           1           1         0         0         0         1  \n",
       "2           1           0           0         1         0         1         0  \n",
       "3           0           1           0         1         0         0         1  \n",
       "4           0           1           1         0         0         0         1  "
      ]
     },
     "execution_count": 119,
     "metadata": {},
     "output_type": "execute_result"
    }
   ],
   "source": [
    "# Let's look at test, it should have one hot encoded columns now\n",
    "test.head()"
   ]
  },
  {
   "cell_type": "markdown",
   "metadata": {},
   "source": [
    "The columns in `test` have been converted to the same format at `df_con_enc`. Now we can make predictions on the `test` dataframe columns we built a model on.\n",
    "\n",
    "We can find the columns we made predictions on with `X_train.columns`."
   ]
  },
  {
   "cell_type": "code",
   "execution_count": 120,
   "metadata": {},
   "outputs": [
    {
     "data": {
      "text/plain": [
       "Index(['Pclass', 'Sex', 'Age', 'SibSp', 'Parch', 'Fare', 'Embarked'], dtype='object')"
      ]
     },
     "execution_count": 120,
     "metadata": {},
     "output_type": "execute_result"
    }
   ],
   "source": [
    "# Create a list of columns to be used for the predictions\n",
    "wanted_test_columns = X_train.columns\n",
    "wanted_test_columns"
   ]
  },
  {
   "cell_type": "code",
   "execution_count": 121,
   "metadata": {},
   "outputs": [],
   "source": [
    "# Make a prediction using the CatBoost model on the wanted columns\n",
    "predictions = catboost_model.predict(test[wanted_test_columns].apply(LabelEncoder().fit_transform))"
   ]
  },
  {
   "cell_type": "code",
   "execution_count": 122,
   "metadata": {},
   "outputs": [
    {
     "data": {
      "text/plain": [
       "array([0, 0, 0, 0, 0, 0, 1, 0, 1, 0, 0, 0, 1, 0, 1, 1, 0, 0, 0, 0],\n",
       "      dtype=int64)"
      ]
     },
     "execution_count": 122,
     "metadata": {},
     "output_type": "execute_result"
    }
   ],
   "source": [
    "# Our predictions array is comprised of 0's and 1's (Survived or Did Not Survive)\n",
    "predictions[:20]"
   ]
  },
  {
   "cell_type": "code",
   "execution_count": 123,
   "metadata": {},
   "outputs": [
    {
     "data": {
      "text/plain": [
       "0    0\n",
       "1    1\n",
       "2    1\n",
       "3    1\n",
       "4    0\n",
       "Name: Survived, dtype: int64"
      ]
     },
     "execution_count": 123,
     "metadata": {},
     "output_type": "execute_result"
    }
   ],
   "source": [
    "y_train.head()"
   ]
  },
  {
   "cell_type": "code",
   "execution_count": 124,
   "metadata": {},
   "outputs": [
    {
     "data": {
      "text/html": [
       "<div>\n",
       "<style scoped>\n",
       "    .dataframe tbody tr th:only-of-type {\n",
       "        vertical-align: middle;\n",
       "    }\n",
       "\n",
       "    .dataframe tbody tr th {\n",
       "        vertical-align: top;\n",
       "    }\n",
       "\n",
       "    .dataframe thead th {\n",
       "        text-align: right;\n",
       "    }\n",
       "</style>\n",
       "<table border=\"1\" class=\"dataframe\">\n",
       "  <thead>\n",
       "    <tr style=\"text-align: right;\">\n",
       "      <th></th>\n",
       "      <th>PassengerId</th>\n",
       "      <th>Survived</th>\n",
       "    </tr>\n",
       "  </thead>\n",
       "  <tbody>\n",
       "    <tr>\n",
       "      <th>0</th>\n",
       "      <td>892</td>\n",
       "      <td>0</td>\n",
       "    </tr>\n",
       "    <tr>\n",
       "      <th>1</th>\n",
       "      <td>893</td>\n",
       "      <td>0</td>\n",
       "    </tr>\n",
       "    <tr>\n",
       "      <th>2</th>\n",
       "      <td>894</td>\n",
       "      <td>0</td>\n",
       "    </tr>\n",
       "    <tr>\n",
       "      <th>3</th>\n",
       "      <td>895</td>\n",
       "      <td>0</td>\n",
       "    </tr>\n",
       "    <tr>\n",
       "      <th>4</th>\n",
       "      <td>896</td>\n",
       "      <td>0</td>\n",
       "    </tr>\n",
       "  </tbody>\n",
       "</table>\n",
       "</div>"
      ],
      "text/plain": [
       "   PassengerId  Survived\n",
       "0          892         0\n",
       "1          893         0\n",
       "2          894         0\n",
       "3          895         0\n",
       "4          896         0"
      ]
     },
     "execution_count": 124,
     "metadata": {},
     "output_type": "execute_result"
    }
   ],
   "source": [
    "# Create a submisison dataframe and append the relevant columns\n",
    "submission = pd.DataFrame()\n",
    "submission['PassengerId'] = test['PassengerId']\n",
    "submission['Survived'] = predictions # our model predictions on the test dataset\n",
    "submission.head()"
   ]
  },
  {
   "cell_type": "code",
   "execution_count": 125,
   "metadata": {},
   "outputs": [
    {
     "data": {
      "text/html": [
       "<div>\n",
       "<style scoped>\n",
       "    .dataframe tbody tr th:only-of-type {\n",
       "        vertical-align: middle;\n",
       "    }\n",
       "\n",
       "    .dataframe tbody tr th {\n",
       "        vertical-align: top;\n",
       "    }\n",
       "\n",
       "    .dataframe thead th {\n",
       "        text-align: right;\n",
       "    }\n",
       "</style>\n",
       "<table border=\"1\" class=\"dataframe\">\n",
       "  <thead>\n",
       "    <tr style=\"text-align: right;\">\n",
       "      <th></th>\n",
       "      <th>PassengerId</th>\n",
       "      <th>Survived</th>\n",
       "    </tr>\n",
       "  </thead>\n",
       "  <tbody>\n",
       "    <tr>\n",
       "      <th>0</th>\n",
       "      <td>892</td>\n",
       "      <td>0</td>\n",
       "    </tr>\n",
       "    <tr>\n",
       "      <th>1</th>\n",
       "      <td>893</td>\n",
       "      <td>1</td>\n",
       "    </tr>\n",
       "    <tr>\n",
       "      <th>2</th>\n",
       "      <td>894</td>\n",
       "      <td>0</td>\n",
       "    </tr>\n",
       "    <tr>\n",
       "      <th>3</th>\n",
       "      <td>895</td>\n",
       "      <td>0</td>\n",
       "    </tr>\n",
       "    <tr>\n",
       "      <th>4</th>\n",
       "      <td>896</td>\n",
       "      <td>1</td>\n",
       "    </tr>\n",
       "  </tbody>\n",
       "</table>\n",
       "</div>"
      ],
      "text/plain": [
       "   PassengerId  Survived\n",
       "0          892         0\n",
       "1          893         1\n",
       "2          894         0\n",
       "3          895         0\n",
       "4          896         1"
      ]
     },
     "execution_count": 125,
     "metadata": {},
     "output_type": "execute_result"
    }
   ],
   "source": [
    "# What does our submission have to look like?\n",
    "gender_submission.head()"
   ]
  },
  {
   "cell_type": "markdown",
   "metadata": {},
   "source": [
    "We need our `submission` dataframe to look like the `gender_submisison` dataframe, so we'll turn the `Survived` column into integers."
   ]
  },
  {
   "cell_type": "code",
   "execution_count": 126,
   "metadata": {},
   "outputs": [
    {
     "name": "stdout",
     "output_type": "stream",
     "text": [
      "Converted Survived column to integers.\n"
     ]
    }
   ],
   "source": [
    "# Let's convert our submission dataframe 'Survived' column to ints\n",
    "submission['Survived'] = submission['Survived'].astype(int)\n",
    "print('Converted Survived column to integers.')"
   ]
  },
  {
   "cell_type": "code",
   "execution_count": 127,
   "metadata": {},
   "outputs": [
    {
     "data": {
      "text/html": [
       "<div>\n",
       "<style scoped>\n",
       "    .dataframe tbody tr th:only-of-type {\n",
       "        vertical-align: middle;\n",
       "    }\n",
       "\n",
       "    .dataframe tbody tr th {\n",
       "        vertical-align: top;\n",
       "    }\n",
       "\n",
       "    .dataframe thead th {\n",
       "        text-align: right;\n",
       "    }\n",
       "</style>\n",
       "<table border=\"1\" class=\"dataframe\">\n",
       "  <thead>\n",
       "    <tr style=\"text-align: right;\">\n",
       "      <th></th>\n",
       "      <th>PassengerId</th>\n",
       "      <th>Survived</th>\n",
       "    </tr>\n",
       "  </thead>\n",
       "  <tbody>\n",
       "    <tr>\n",
       "      <th>0</th>\n",
       "      <td>892</td>\n",
       "      <td>0</td>\n",
       "    </tr>\n",
       "    <tr>\n",
       "      <th>1</th>\n",
       "      <td>893</td>\n",
       "      <td>0</td>\n",
       "    </tr>\n",
       "    <tr>\n",
       "      <th>2</th>\n",
       "      <td>894</td>\n",
       "      <td>0</td>\n",
       "    </tr>\n",
       "    <tr>\n",
       "      <th>3</th>\n",
       "      <td>895</td>\n",
       "      <td>0</td>\n",
       "    </tr>\n",
       "    <tr>\n",
       "      <th>4</th>\n",
       "      <td>896</td>\n",
       "      <td>0</td>\n",
       "    </tr>\n",
       "  </tbody>\n",
       "</table>\n",
       "</div>"
      ],
      "text/plain": [
       "   PassengerId  Survived\n",
       "0          892         0\n",
       "1          893         0\n",
       "2          894         0\n",
       "3          895         0\n",
       "4          896         0"
      ]
     },
     "execution_count": 127,
     "metadata": {},
     "output_type": "execute_result"
    }
   ],
   "source": [
    "# How does our submission dataframe look?\n",
    "submission.head()"
   ]
  },
  {
   "cell_type": "code",
   "execution_count": 128,
   "metadata": {},
   "outputs": [
    {
     "name": "stdout",
     "output_type": "stream",
     "text": [
      "Submission dataframe is the same length as test (418 rows).\n"
     ]
    }
   ],
   "source": [
    "# Are our test and submission dataframes the same length?\n",
    "if len(submission) == len(test):\n",
    "    print(\"Submission dataframe is the same length as test ({} rows).\".format(len(submission)))\n",
    "else:\n",
    "    print(\"Dataframes mismatched, won't be able to submit to Kaggle.\")"
   ]
  },
  {
   "cell_type": "code",
   "execution_count": 129,
   "metadata": {},
   "outputs": [
    {
     "name": "stdout",
     "output_type": "stream",
     "text": [
      "Submission CSV is ready!\n"
     ]
    }
   ],
   "source": [
    "# Convert submisison dataframe to csv for submission to csv \n",
    "# for Kaggle submisison\n",
    "submission.to_csv('catboost_submission.csv', index=False)\n",
    "print('Submission CSV is ready!')"
   ]
  },
  {
   "cell_type": "code",
   "execution_count": 130,
   "metadata": {},
   "outputs": [
    {
     "data": {
      "text/html": [
       "<div>\n",
       "<style scoped>\n",
       "    .dataframe tbody tr th:only-of-type {\n",
       "        vertical-align: middle;\n",
       "    }\n",
       "\n",
       "    .dataframe tbody tr th {\n",
       "        vertical-align: top;\n",
       "    }\n",
       "\n",
       "    .dataframe thead th {\n",
       "        text-align: right;\n",
       "    }\n",
       "</style>\n",
       "<table border=\"1\" class=\"dataframe\">\n",
       "  <thead>\n",
       "    <tr style=\"text-align: right;\">\n",
       "      <th></th>\n",
       "      <th>PassengerId</th>\n",
       "      <th>Survived</th>\n",
       "    </tr>\n",
       "  </thead>\n",
       "  <tbody>\n",
       "    <tr>\n",
       "      <th>0</th>\n",
       "      <td>892</td>\n",
       "      <td>0</td>\n",
       "    </tr>\n",
       "    <tr>\n",
       "      <th>1</th>\n",
       "      <td>893</td>\n",
       "      <td>0</td>\n",
       "    </tr>\n",
       "    <tr>\n",
       "      <th>2</th>\n",
       "      <td>894</td>\n",
       "      <td>0</td>\n",
       "    </tr>\n",
       "    <tr>\n",
       "      <th>3</th>\n",
       "      <td>895</td>\n",
       "      <td>0</td>\n",
       "    </tr>\n",
       "    <tr>\n",
       "      <th>4</th>\n",
       "      <td>896</td>\n",
       "      <td>0</td>\n",
       "    </tr>\n",
       "  </tbody>\n",
       "</table>\n",
       "</div>"
      ],
      "text/plain": [
       "   PassengerId  Survived\n",
       "0          892         0\n",
       "1          893         0\n",
       "2          894         0\n",
       "3          895         0\n",
       "4          896         0"
      ]
     },
     "execution_count": 130,
     "metadata": {},
     "output_type": "execute_result"
    }
   ],
   "source": [
    "# Check the submission csv to make sure it's in the right format\n",
    "submissions_check = pd.read_csv(\"catboost_submission.csv\")\n",
    "submissions_check.head()"
   ]
  },
  {
   "cell_type": "markdown",
   "metadata": {},
   "source": [
    "## Possible Extensions\n",
    "\n",
    "These are all possible options to improve this pipeline. I'd suggest starting with the feature engineering (improving and manipulating the existing data) first.\n",
    "\n",
    "* What can you do with the `Age` feature?\n",
    "    * How would fill up all the missing values?\n",
    "    * You may want to look into the `interpolate()` function of Pandas for this\n",
    "<br>\n",
    "<br>\n",
    "2. What can you do with the `Name` feature?\n",
    "    * What titles did the passengers have? Did this influence their survival?\n",
    "<br>\n",
    "<br>\n",
    "3. What can you do with the `Cabin` feature?\n",
    "    * Is there a way to see whether they had a cabin or not?\n",
    "<br>\n",
    "<br>\n",
    "4. Can you combine the `SibSp` and `Parch` features to see if the person was alone or not?\n",
    "<br>\n",
    "<br>\n",
    "5. Could you do a PCA/feature analysis to see what features are more important than others?\n",
    "    * Does removing the less important model features improve the model?\n",
    "<br>\n",
    "<br>\n",
    "7. The models take a bunch of hyperparameters but we've mostly used the default settings, is there a way to find which hyperparameters are best to use?\n",
    "    * Tip: Check out the `CatBoost` with Python tutorial and the [hyperopt library](https://github.com/hyperopt/hyperopt) to see if you can improve the CatBoost model"
   ]
  },
  {
   "cell_type": "markdown",
   "metadata": {},
   "source": [
    "## References and Learn More\n",
    "\n",
    "* [Sklearn Classification Notebook by Daniel Furasso](https://github.com/dformoso/sklearn-classification/blob/master/Data%20Science%20Workbook%20-%20Census%20Income%20Dataset.ipynb) - Daniel has done some epic work showing how you can take a bigger dataset, clean it up and perform some similar classification work from scratch. It would be a great next step after going through this one.\n",
    "<br>\n",
    "\n",
    "* [Encoding categorical features in Python blog post by Practical Python Business](http://pbpython.com/categorical-encoding.html) - this blog post sheds some great light on how to deal with categorical features in Python. The rest of the website contains plenty more great information for using Python in a business environment.\n",
    "<br>\n",
    "\n",
    "* [CatBoost Python tutorial on GitHub](https://github.com/catboost/tutorials/blob/master/python_tutorial.ipynb) - the tutorial is based on the Titanic Dataset and has some great tricks to improve the results in this notebook.\n",
    "<br>\n",
    "\n",
    "* [Shap library](https://github.com/slundberg/shap) - a great (and beautiful) alternative to viewing feature importance. Can you use this to improve on the feature importance graphics?"
   ]
  },
  {
   "cell_type": "code",
   "execution_count": null,
   "metadata": {},
   "outputs": [],
   "source": []
  }
 ],
 "metadata": {
  "kernelspec": {
   "display_name": "Python 3",
   "language": "python",
   "name": "python3"
  },
  "language_info": {
   "codemirror_mode": {
    "name": "ipython",
    "version": 3
   },
   "file_extension": ".py",
   "mimetype": "text/x-python",
   "name": "python",
   "nbconvert_exporter": "python",
   "pygments_lexer": "ipython3",
   "version": "3.8.8"
  }
 },
 "nbformat": 4,
 "nbformat_minor": 2
}
